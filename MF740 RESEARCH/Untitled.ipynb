{
 "cells": [
  {
   "cell_type": "code",
   "execution_count": 1,
   "metadata": {},
   "outputs": [
    {
     "name": "stderr",
     "output_type": "stream",
     "text": [
      "E:\\anaconda3\\lib\\site-packages\\pandas_datareader\\compat\\__init__.py:7: FutureWarning: pandas.util.testing is deprecated. Use the functions in the public API at pandas.testing instead.\n",
      "  from pandas.util.testing import assert_frame_equal\n"
     ]
    }
   ],
   "source": [
    "import numpy as np\n",
    "import pandas as pd\n",
    "import matplotlib as mql\n",
    "from pandas_datareader import data as pdr\n",
    "import matplotlib.pyplot as plt\n",
    "from numpy.random import standard_normal as stn\n",
    "from datetime import datetime\n",
    "from sklearn import linear_model\n",
    "import statsmodels.api as sm\n",
    "import scipy.stats as scs\n",
    "from scipy.stats import norm\n",
    "import math\n",
    "from cvxopt import matrix, solvers\n",
    "import scipy.optimize as sco\n",
    "from scipy.fftpack import fft,ifft\n",
    "from sympy import *\n",
    "from sklearn.decomposition import PCA\n",
    "import json\n",
    "from cvxopt import matrix, solvers"
   ]
  },
  {
   "cell_type": "code",
   "execution_count": 2,
   "metadata": {},
   "outputs": [
    {
     "name": "stdout",
     "output_type": "stream",
     "text": [
      "1.0.3\n"
     ]
    }
   ],
   "source": [
    "import pandas as pd\n",
    "print(pd.__version__)"
   ]
  },
  {
   "cell_type": "code",
   "execution_count": 3,
   "metadata": {},
   "outputs": [],
   "source": [
    "delta=1.25\n",
    "P=np.array([-0.1,0,0,-0.2,0.4,-0.1,0.3,0,-0.4,0.1])\n",
    "mm=1\n",
    "r0=1/24\n",
    "r1=0.02*r0\n",
    "rr=[r1]\n",
    "q=np.array([-1])"
   ]
  },
  {
   "cell_type": "code",
   "execution_count": 4,
   "metadata": {},
   "outputs": [
    {
     "data": {
      "text/plain": [
       "array([-0.1,  0. ,  0. , -0.2,  0.4, -0.1,  0.3,  0. , -0.4,  0.1])"
      ]
     },
     "execution_count": 4,
     "metadata": {},
     "output_type": "execute_result"
    }
   ],
   "source": [
    "P"
   ]
  },
  {
   "cell_type": "markdown",
   "metadata": {},
   "source": [
    "Data"
   ]
  },
  {
   "cell_type": "code",
   "execution_count": 5,
   "metadata": {},
   "outputs": [],
   "source": [
    "icode=['AAPL','BA','TSLA','BABA','GS','GOOG','AMZN','TM','F','JPM']\n",
    "data=pdr.get_data_yahoo(icode,start='2017-01-01',end='2019-01-01')   # For data\n",
    "data_close=data['Adj Close']\n",
    "\n",
    "icode2=['^IRX']\n",
    "risk_free=pdr.get_data_yahoo(icode2,start='2017-01-01',end='2019-01-01')\n",
    "risk_free=risk_free['Adj Close']\n",
    "\n",
    "data_close.head()\n",
    "returns = np.log(data_close.shift(-1)/data_close)\n",
    "returns=returns.dropna(axis=0,how='all')     #kill nan\n",
    "Cov=returns.cov()*252\n",
    "annual_returns=returns*252\n",
    "mu=np.mean(annual_returns)\n",
    "risk_free=risk_free/100\n",
    "rf=risk_free.mean()[0]"
   ]
  },
  {
   "cell_type": "code",
   "execution_count": null,
   "metadata": {},
   "outputs": [],
   "source": []
  },
  {
   "cell_type": "markdown",
   "metadata": {},
   "source": [
    "#### $x_{mkt}$"
   ]
  },
  {
   "cell_type": "code",
   "execution_count": 6,
   "metadata": {},
   "outputs": [],
   "source": [
    "mkt=pdr.get_quote_yahoo(icode)['marketCap']\n",
    "mkt=mkt/(np.sum(mkt))\n",
    "mkt_return=np.dot(returns,mkt)\n",
    "L=mkt_return.std()*np.sqrt(252)"
   ]
  },
  {
   "cell_type": "markdown",
   "metadata": {},
   "source": [
    "#### $x_{bl}$"
   ]
  },
  {
   "cell_type": "code",
   "execution_count": 7,
   "metadata": {},
   "outputs": [
    {
     "name": "stdout",
     "output_type": "stream",
     "text": [
      "     fun: -0.018990460326145615\n",
      "     jac: array([ 0.01370596,  0.10075245, -0.09492975, -0.30301301,  0.31420483,\n",
      "        0.01559894,  0.25276179, -0.02000621, -0.39138404,  0.17109764])\n",
      " message: 'Optimization terminated successfully.'\n",
      "    nfev: 411\n",
      "     nit: 32\n",
      "    njev: 32\n",
      "  status: 0\n",
      " success: True\n",
      "       x: array([-0.00193052, -0.0027887 ,  0.0065353 ,  0.00331359, -0.00275684,\n",
      "       -0.00139502, -0.00238371, -0.00053544,  0.00260381, -0.0020984 ])\n"
     ]
    }
   ],
   "source": [
    "P=np.array([-0.1,0,0,-0.2,0.4,-0.1,0.3,0,-0.4,0.1])\n",
    "num=len(icode)\n",
    "e=np.zeros(num)+1\n",
    "r_hat=rf*e+2*delta*np.dot(Cov,mkt)\n",
    "\n",
    "\n",
    "\n",
    "A1=Cov*r0\n",
    "A2=np.zeros((num,mm))\n",
    "A3=np.zeros((mm,num))\n",
    "A4=np.diag(rr)\n",
    "\n",
    "Omega1=np.concatenate((A1,A2),axis=1)\n",
    "Omega2=np.concatenate((A3,A4),axis=1)\n",
    "Omega=np.concatenate((Omega1,Omega2),axis=0)\n",
    "\n",
    "B1=np.eye(num,num)\n",
    "P=P.reshape(1,num)\n",
    "B=np.concatenate((B1,P),axis=0)\n",
    "\n",
    "Cov1=Cov\n",
    "Cov2=np.dot(np.dot(B.T,np.linalg.inv(Omega)),B)\n",
    "Cov_BL=Cov1+Cov2\n",
    "\n",
    "C3=np.concatenate((r_hat,q),axis=0)\n",
    "C1=np.dot(np.linalg.inv(Cov2),B.T)\n",
    "C2=np.dot(np.linalg.inv(Omega),C3)\n",
    "mu_BL=np.dot(C1,C2)\n",
    "\n",
    "num=len(icode)\n",
    "e=np.zeros(num)+1\n",
    "\n",
    "def statistics2(weights):\n",
    "    \n",
    "    weights=np.array(weights)\n",
    "    \n",
    "    Mark1=np.dot(mu_BL.T,weights)\n",
    "    Mark2=(1-np.dot(e.T,weights))*rf\n",
    "\n",
    "    \n",
    "    \n",
    "    return [Mark1+Mark2]\n",
    "\n",
    "def max_Mark1(weights):\n",
    "    \n",
    "    return -1*statistics2(weights)[0]\n",
    "\n",
    "cons = (\n",
    "       {'type':'ineq', 'fun':lambda x: -np.sqrt(np.dot(np.dot(x.T,Cov_BL),x))+L}\n",
    "       )\n",
    "bnds = tuple((0,20) for x in range(num))\n",
    "bl = sco.minimize(max_Mark1, num*[1./num,], method = 'SLSQP',  constraints = cons)\n",
    "print(bl)\n",
    "x_bl=bl.x/np.sum(bl.x)*100"
   ]
  },
  {
   "cell_type": "markdown",
   "metadata": {},
   "source": [
    "#### $x_{mvio}$"
   ]
  },
  {
   "cell_type": "code",
   "execution_count": 8,
   "metadata": {},
   "outputs": [
    {
     "name": "stdout",
     "output_type": "stream",
     "text": [
      "status: optimal\n",
      "optimal value 788.410546189143\n",
      "     fun: -6602245.146787043\n",
      "     jac: array([0., 0., 0., 0., 0., 0., 0., 0., 0., 0.])\n",
      " message: 'Optimization terminated successfully.'\n",
      "    nfev: 240\n",
      "     nit: 20\n",
      "    njev: 20\n",
      "  status: 0\n",
      " success: True\n",
      "       x: array([ 1.11675270e+08,  1.18785032e+08,  5.89310222e+07,  6.71577366e+07,\n",
      "       -3.05714706e+08, -1.93478581e+08, -3.22040531e+08, -1.76934740e+08,\n",
      "       -7.03428224e+07, -2.67409023e+08])\n"
     ]
    }
   ],
   "source": [
    "##### general case with sigma as vriable.\n",
    "C_new=2*delta*Cov\n",
    "alpha=0.87\n",
    "ee=10**(-8)\n",
    "value,vector=np.linalg.eig(C_new)\n",
    "\n",
    "\n",
    "import cvxpy as cvx\n",
    "mu_io = cvx.Variable((10,1))\n",
    "sigma_bar = cvx.Variable((10,10))\n",
    "t = cvx.Variable((1,1))\n",
    "u = cvx.Variable((11,1))\n",
    "rf = rf\n",
    "Omega = Omega \n",
    "x_mkt = np.array(mkt).reshape(-1,1)\n",
    "e = e.reshape(-1,1)\n",
    "I = np.identity(11)\n",
    "q = q.reshape(-1,1)\n",
    "\n",
    "# sigma_bar.dot(x_mkt)\n",
    "Cons = [\n",
    "    u - np.linalg.inv(np.sqrt(Omega)) @ cvx.vstack([mu_io - rf*e - sigma_bar@x_mkt, \\\n",
    "                                                          P @ mu_io - q]) == 0,\n",
    "    cvx.vstack([ cvx.hstack([t, u.T]), cvx.hstack([u, I])]) >> 0,\n",
    "    value[0:3].sum()>=alpha*cvx.trace(sigma_bar),\n",
    "    cvx.norm(sigma_bar@vector[:,0]-value[0]*vector[:,0],p=2)<=ee,\n",
    "    cvx.norm(sigma_bar@vector[:,1]-value[1]*vector[:,1],p=2)<=ee,\n",
    "    cvx.norm(sigma_bar@vector[:,2]-value[2]*vector[:,2],p=2)<=ee,\n",
    "    sigma_bar >= 0\n",
    "]\n",
    "\n",
    "objective = cvx.Minimize(t)\n",
    "prob = cvx.Problem(objective, Cons)\n",
    "prob.solve(solver='CVXOPT')  # Returns the optimal value.\n",
    "print(\"status:\", prob.status)\n",
    "print(\"optimal value\", prob.value)\n",
    "# print(\"optimal var\", x.value, y.value)\n",
    "\n",
    "\n",
    "num=len(icode)\n",
    "e=np.zeros(num)+1\n",
    "\n",
    "def statistics2(weights):\n",
    "    \n",
    "    weights=np.array(weights)\n",
    "    \n",
    "    Mark1=np.dot(mu_io.value.T,weights)\n",
    "    Mark2=(1-np.dot(e.T,weights))*rf\n",
    "\n",
    "    \n",
    "    \n",
    "    return [Mark1+Mark2]\n",
    "\n",
    "def max_Mark1(weights):\n",
    "    \n",
    "    return -1/100*statistics2(weights)[0]\n",
    "\n",
    "cons = (\n",
    "       {'type':'ineq', 'fun':lambda x: -np.dot(np.dot(x.T,sigma_bar.value/2.5),x)+L**2}\n",
    "       )\n",
    "bnds = tuple((0,1) for x in range(num))\n",
    "mvio = sco.minimize(max_Mark1, num*[1./num,], method = 'SLSQP',  constraints = cons)\n",
    "print(mvio)\n",
    "x_mvio=mvio.x/np.sum(mvio.x)*100"
   ]
  },
  {
   "cell_type": "code",
   "execution_count": 9,
   "metadata": {},
   "outputs": [
    {
     "data": {
      "text/plain": [
       "AAPL    0.268531\n",
       "BA      0.016321\n",
       "TSLA    0.031243\n",
       "BABA    0.121390\n",
       "GS      0.014167\n",
       "GOOG    0.186748\n",
       "AMZN    0.254146\n",
       "TM      0.038786\n",
       "F       0.004713\n",
       "JPM     0.063955\n",
       "Name: marketCap, dtype: float64"
      ]
     },
     "execution_count": 9,
     "metadata": {},
     "output_type": "execute_result"
    }
   ],
   "source": [
    "mkt"
   ]
  },
  {
   "cell_type": "code",
   "execution_count": 10,
   "metadata": {},
   "outputs": [
    {
     "data": {
      "text/plain": [
       "array([[0.26853077],\n",
       "       [0.01632061],\n",
       "       [0.03124263],\n",
       "       [0.12138998],\n",
       "       [0.01416715],\n",
       "       [0.18674846],\n",
       "       [0.25414631],\n",
       "       [0.03878609],\n",
       "       [0.00471327],\n",
       "       [0.06395473]])"
      ]
     },
     "execution_count": 10,
     "metadata": {},
     "output_type": "execute_result"
    }
   ],
   "source": [
    "x_mkt"
   ]
  },
  {
   "cell_type": "code",
   "execution_count": 11,
   "metadata": {},
   "outputs": [
    {
     "data": {
      "text/html": [
       "<div>\n",
       "<style scoped>\n",
       "    .dataframe tbody tr th:only-of-type {\n",
       "        vertical-align: middle;\n",
       "    }\n",
       "\n",
       "    .dataframe tbody tr th {\n",
       "        vertical-align: top;\n",
       "    }\n",
       "\n",
       "    .dataframe thead th {\n",
       "        text-align: right;\n",
       "    }\n",
       "</style>\n",
       "<table border=\"1\" class=\"dataframe\">\n",
       "  <thead>\n",
       "    <tr style=\"text-align: right;\">\n",
       "      <th></th>\n",
       "      <th>mean</th>\n",
       "      <th>std</th>\n",
       "      <th>SR</th>\n",
       "    </tr>\n",
       "  </thead>\n",
       "  <tbody>\n",
       "    <tr>\n",
       "      <th>mkt</th>\n",
       "      <td>0.201940</td>\n",
       "      <td>0.205281</td>\n",
       "      <td>0.983721</td>\n",
       "    </tr>\n",
       "    <tr>\n",
       "      <th>BL</th>\n",
       "      <td>0.354702</td>\n",
       "      <td>2.294016</td>\n",
       "      <td>0.154621</td>\n",
       "    </tr>\n",
       "    <tr>\n",
       "      <th>MVIO</th>\n",
       "      <td>0.005800</td>\n",
       "      <td>0.189096</td>\n",
       "      <td>0.030674</td>\n",
       "    </tr>\n",
       "  </tbody>\n",
       "</table>\n",
       "</div>"
      ],
      "text/plain": [
       "          mean       std        SR\n",
       "mkt   0.201940  0.205281  0.983721\n",
       "BL    0.354702  2.294016  0.154621\n",
       "MVIO  0.005800  0.189096  0.030674"
      ]
     },
     "execution_count": 11,
     "metadata": {},
     "output_type": "execute_result"
    },
    {
     "data": {
      "image/png": "[encoded data removed]",
      "text/plain": [
       "<Figure size 432x288 with 1 Axes>"
      ]
     },
     "metadata": {
      "needs_background": "light"
     },
     "output_type": "display_data"
    }
   ],
   "source": [
    "mvio_return=np.dot(returns,x_mvio/100)\n",
    "mkt_return=np.dot(returns,x_mkt)\n",
    "bl_return=np.dot(returns,x_bl/100)\n",
    "plt.plot(np.cumprod(1+mvio_return), color='red')\n",
    "plt.plot(np.cumprod(1+mkt_return), color='blue')\n",
    "plt.plot(np.cumprod(1+bl_return), color='green')\n",
    "\n",
    "result = pd.DataFrame([[0,0,0] for i in range(3)], columns = ['mean','std','SR'], index=['mkt','BL','MVIO'])\n",
    "\n",
    "result.iloc[2,0]=mvio_return.mean()*252\n",
    "result.iloc[2,1]=mvio_return.std()*np.sqrt(252)\n",
    "result.iloc[2,2]=mvio_return.mean()/mvio_return.std()*np.sqrt(252)\n",
    "\n",
    "result.iloc[0,0]=mkt_return.mean()*252\n",
    "result.iloc[0,1]=mkt_return.std()*np.sqrt(252)\n",
    "result.iloc[0,2]=mkt_return.mean()/mkt_return.std()*np.sqrt(252)\n",
    "\n",
    "result.iloc[1,0]=bl_return.mean()*252\n",
    "result.iloc[1,1]=bl_return.std()*np.sqrt(252)\n",
    "result.iloc[1,2]=bl_return.mean()/bl_return.std()*np.sqrt(252)\n",
    "\n",
    "result"
   ]
  },
  {
   "cell_type": "code",
   "execution_count": 12,
   "metadata": {},
   "outputs": [
    {
     "data": {
      "text/plain": [
       "2.2940159055928047"
      ]
     },
     "execution_count": 12,
     "metadata": {},
     "output_type": "execute_result"
    }
   ],
   "source": [
    "bl_return.std()*np.sqrt(252)"
   ]
  },
  {
   "cell_type": "code",
   "execution_count": 13,
   "metadata": {},
   "outputs": [
    {
     "data": {
      "text/plain": [
       "array([ 6.13086417e-03,  6.22212813e-03,  1.79980072e-02,  1.31584621e-02,\n",
       "        1.21568803e-02,  1.85845420e-02,  2.03112847e-02,  2.20423387e-02,\n",
       "       -4.60262291e-03, -6.62941257e-03, -1.37869248e-02, -1.28728571e-02,\n",
       "       -7.48680449e-03, -4.59443054e-03,  7.34308121e-03,  1.03571634e-02,\n",
       "        2.58664629e-03, -1.00707936e-02, -2.40504494e-02, -2.56227198e-02,\n",
       "       -2.34182342e-02, -1.00326812e-02, -2.08568497e-02, -2.24124930e-02,\n",
       "       -2.58469591e-02, -2.08060199e-02, -1.47077630e-02, -4.69172413e-03,\n",
       "        4.06635835e-03,  8.47952698e-03,  9.72804725e-03,  9.90077126e-03,\n",
       "        1.57738054e-02,  1.46602431e-02,  1.72802627e-02,  3.84722471e-03,\n",
       "        1.05082648e-02,  3.94297223e-03,  2.24654739e-02,  1.28543895e-02,\n",
       "        1.64665748e-02,  1.17183766e-02,  8.35479951e-03,  9.16228787e-03,\n",
       "        1.38812987e-02,  1.36374794e-02,  1.41236699e-02,  9.37460166e-03,\n",
       "        1.15110932e-02,  1.13109601e-02, -1.36882713e-04, -6.84839303e-03,\n",
       "       -3.31840887e-02, -3.79275116e-02, -4.26408949e-02, -4.86594160e-02,\n",
       "       -5.35498342e-02, -4.24939379e-02, -3.68753434e-02, -3.00944990e-02,\n",
       "       -3.35392064e-02, -3.72869208e-02, -3.55167715e-02, -3.98788882e-02,\n",
       "       -4.45375464e-02, -5.02173234e-02, -4.76881362e-02, -4.88276005e-02,\n",
       "       -5.27570649e-02, -6.70180055e-02, -4.76184200e-02, -6.37989983e-02,\n",
       "       -7.11683112e-02, -5.87168036e-02, -6.58024099e-02, -4.20369446e-02,\n",
       "       -3.26335240e-02, -2.66422382e-02, -2.85819423e-02, -2.80362075e-02,\n",
       "       -1.98808460e-02, -2.40363512e-02, -1.74633549e-02, -1.28511730e-02,\n",
       "       -1.86144030e-02, -1.77009130e-02, -2.81963563e-02, -3.04731857e-02,\n",
       "       -3.11974424e-02, -3.23617281e-02, -2.59851693e-02, -2.13173599e-02,\n",
       "       -5.37425369e-02, -4.62215579e-02, -4.34376575e-02, -3.94188506e-02,\n",
       "       -2.58992721e-02, -1.97750197e-02, -1.94879233e-02, -1.79143064e-02,\n",
       "       -2.73102903e-02, -4.67650699e-02, -3.49496465e-02, -3.58251525e-02,\n",
       "       -3.45701212e-02, -3.76501389e-02, -3.35711192e-02, -3.92943211e-02,\n",
       "       -3.70547223e-02, -3.88773797e-02, -2.87982461e-02, -3.01616609e-02,\n",
       "       -4.33040072e-02, -3.90288947e-02, -2.80390204e-02, -3.40786013e-02,\n",
       "       -3.74491678e-02, -4.06827137e-02, -4.60166476e-02, -4.28942107e-02,\n",
       "       -4.76364736e-02, -3.40750603e-02, -3.29502850e-02, -3.96886777e-02,\n",
       "       -2.83748042e-02, -1.28902791e-02, -1.53977995e-02, -9.21891516e-03,\n",
       "       -5.04448829e-03, -9.60535598e-03, -1.83052681e-03,  2.97292336e-03,\n",
       "       -2.84244104e-03, -6.44269377e-04, -5.86338058e-03, -5.62243006e-03,\n",
       "       -5.56995785e-03, -1.20528124e-02, -1.34422327e-02, -9.03454479e-03,\n",
       "       -2.17102820e-02, -2.59900381e-02, -3.05578939e-02, -3.50010442e-02,\n",
       "       -2.44967830e-02, -2.95255724e-02, -4.51101899e-02, -3.30114577e-02,\n",
       "       -3.04617426e-02, -3.56646739e-02, -4.10059988e-02, -5.81890156e-02,\n",
       "       -6.04360691e-02, -4.86531523e-02, -5.13821376e-02, -5.77970770e-02,\n",
       "       -7.67388133e-02, -7.68624425e-02, -7.88729323e-02, -6.94554130e-02,\n",
       "       -7.42836088e-02, -7.80632800e-02, -7.64497963e-02, -8.16029840e-02,\n",
       "       -8.07917787e-02, -7.21430357e-02, -6.41105609e-02, -5.77992479e-02,\n",
       "       -7.65573019e-02, -6.85094027e-02, -7.41349701e-02, -7.57945080e-02,\n",
       "       -6.76355797e-02, -5.35683373e-02, -4.71756735e-02, -5.32764110e-02,\n",
       "       -5.83238574e-02, -5.99306686e-02, -4.89653003e-02, -4.07372160e-02,\n",
       "       -3.74842100e-02, -3.76933129e-02, -4.01540784e-02, -4.15637990e-02,\n",
       "       -2.44527601e-02, -1.83356400e-02, -1.44432031e-02, -8.21316508e-03,\n",
       "       -5.60858341e-03, -8.42958223e-03,  8.07028980e-03,  1.39803713e-02,\n",
       "        9.38553971e-03,  9.04534448e-03,  1.19670320e-02,  7.36011823e-03,\n",
       "        6.85905194e-03,  1.83312693e-02,  1.20088261e-02,  1.53915651e-02,\n",
       "        1.16334841e-02,  2.07313985e-02,  9.84506148e-03,  2.11706995e-02,\n",
       "        2.13168906e-02,  2.52994446e-02,  7.07504607e-02,  6.59329690e-02,\n",
       "        6.01807890e-02,  6.83365461e-02,  7.42889736e-02,  7.39642770e-02,\n",
       "        6.90658803e-02,  6.03340263e-02,  6.39416491e-02,  5.83396001e-02,\n",
       "        5.46396431e-02,  5.70437722e-02,  5.60837287e-02,  5.39480825e-02,\n",
       "        6.01625614e-02,  5.19146421e-02,  5.46491898e-02,  5.73350162e-02,\n",
       "        6.06536564e-02,  6.71401813e-02,  7.17949112e-02,  8.68749277e-02,\n",
       "        9.04586991e-02,  1.00241532e-01,  9.81952925e-02,  9.53334944e-02,\n",
       "        9.29738236e-02,  8.81539489e-02,  9.45093736e-02,  1.00257821e-01,\n",
       "        9.67287077e-02,  1.05950089e-01,  9.92933096e-02,  1.01842940e-01,\n",
       "        1.08768080e-01,  1.22987963e-01,  1.18209508e-01,  1.12651784e-01,\n",
       "        1.22578445e-01,  1.17263770e-01,  1.21881048e-01,  1.20870673e-01,\n",
       "        1.23270231e-01,  1.14489790e-01,  1.20880654e-01,  1.28771534e-01,\n",
       "        1.42994003e-01,  1.42926518e-01,  1.41655343e-01,  1.42418354e-01,\n",
       "        1.48465369e-01,  1.54845131e-01,  1.69162344e-01,  1.72325310e-01,\n",
       "        1.56588684e-01,  1.53705035e-01,  1.62838565e-01,  1.84009534e-01,\n",
       "        1.90136816e-01,  2.00466626e-01,  2.05890798e-01,  2.11660266e-01,\n",
       "        2.20357214e-01,  2.19628937e-01,  2.11781168e-01,  2.09887333e-01,\n",
       "        1.95404743e-01,  1.53976204e-01,  1.92564595e-01,  1.77874068e-01,\n",
       "        1.39049161e-01,  1.53293579e-01,  1.70473830e-01,  1.72983288e-01,\n",
       "        1.95727497e-01,  1.98602981e-01,  1.96773669e-01,  1.98918927e-01,\n",
       "        2.02050934e-01,  1.95265465e-01,  2.11850068e-01,  2.25506914e-01,\n",
       "        2.09954034e-01,  1.99504943e-01,  1.78676324e-01,  1.85355684e-01,\n",
       "        2.00959586e-01,  2.10492338e-01,  2.10057551e-01,  2.14531626e-01,\n",
       "        2.35178343e-01,  2.41933493e-01,  2.31022417e-01,  2.32537109e-01,\n",
       "        2.32753157e-01,  2.30215833e-01,  2.11040009e-01,  2.19242181e-01,\n",
       "        2.19371487e-01,  1.88884854e-01,  1.56380146e-01,  1.89332081e-01,\n",
       "        1.67857639e-01,  1.68028796e-01,  1.80317919e-01,  1.48316970e-01,\n",
       "        1.59990892e-01,  1.69473081e-01,  1.78469101e-01,  1.55669115e-01,\n",
       "        1.66378410e-01,  1.78667102e-01,  1.69176389e-01,  1.88054616e-01,\n",
       "        1.73976561e-01,  1.80475863e-01,  1.92528826e-01,  1.90943153e-01,\n",
       "        2.06423065e-01,  2.02578383e-01,  1.95834164e-01,  1.73613794e-01,\n",
       "        1.68094017e-01,  1.85749877e-01,  1.91852443e-01,  1.83035985e-01,\n",
       "        1.85443281e-01,  1.69354673e-01,  1.67429665e-01,  1.71557573e-01,\n",
       "        1.75206066e-01,  1.75923794e-01,  1.98829396e-01,  2.07877529e-01,\n",
       "        2.06847146e-01,  2.08172945e-01,  1.95967551e-01,  1.99702081e-01,\n",
       "        1.94856594e-01,  1.82151276e-01,  1.84308033e-01,  1.89198750e-01,\n",
       "        1.88673784e-01,  1.81665148e-01,  1.74035279e-01,  1.46380328e-01,\n",
       "        1.58472659e-01,  1.59625133e-01,  1.73532651e-01,  1.83321522e-01,\n",
       "        1.85930882e-01,  1.91622396e-01,  1.95049098e-01,  1.94207534e-01,\n",
       "        1.94803061e-01,  1.88240820e-01,  1.93946625e-01,  1.91551830e-01,\n",
       "        1.91418360e-01,  1.96964091e-01,  2.02309597e-01,  1.99006944e-01,\n",
       "        1.94944235e-01,  1.85726118e-01,  1.65500261e-01,  1.68014231e-01,\n",
       "        1.52226811e-01,  1.68194362e-01,  1.62659419e-01,  1.72087776e-01,\n",
       "        1.62798380e-01,  1.71271401e-01,  1.75272781e-01,  1.96291865e-01,\n",
       "        1.89552971e-01,  1.93201849e-01,  2.06293991e-01,  2.05609750e-01,\n",
       "        2.23117376e-01,  2.27619024e-01,  2.30677850e-01,  2.19521933e-01,\n",
       "        2.26533783e-01,  2.37466828e-01,  2.53753495e-01,  2.59308158e-01,\n",
       "        2.47869875e-01,  2.55206001e-01,  2.57325429e-01,  2.41396207e-01,\n",
       "        2.38887066e-01,  2.34115309e-01,  2.36298135e-01,  2.41315673e-01,\n",
       "        2.43527214e-01,  2.48041880e-01,  2.44808634e-01,  2.29804463e-01,\n",
       "        2.20193019e-01,  2.33861994e-01,  2.22622103e-01,  2.24399042e-01,\n",
       "        2.27226379e-01,  2.29119614e-01,  2.30700038e-01,  2.37263273e-01,\n",
       "        2.32614976e-01,  2.32694900e-01,  2.57766515e-01,  2.57182481e-01,\n",
       "        2.71483412e-01,  2.63464376e-01,  2.55174647e-01,  2.56921804e-01,\n",
       "        2.49162227e-01,  2.36617253e-01,  2.36057622e-01,  2.32189050e-01,\n",
       "        2.39172409e-01,  2.25886094e-01,  2.27671779e-01,  2.25186234e-01,\n",
       "        2.18803967e-01,  2.32010452e-01,  2.43827315e-01,  2.51109071e-01,\n",
       "        2.38100215e-01,  2.34044200e-01,  2.39961417e-01,  2.30106104e-01,\n",
       "        2.34399523e-01,  2.31253213e-01,  2.23535447e-01,  2.21725835e-01,\n",
       "        2.16180704e-01,  2.12570601e-01,  2.10109024e-01,  2.11563578e-01,\n",
       "        1.98010801e-01,  1.60495985e-01,  1.44051726e-01,  1.50747116e-01,\n",
       "        1.46633273e-01,  1.69382489e-01,  1.84998339e-01,  1.65644437e-01,\n",
       "        1.67414045e-01,  1.59668334e-01,  1.46757240e-01,  9.63271026e-02,\n",
       "        1.35180465e-01,  9.99047577e-02,  8.92686900e-02,  9.88162152e-02,\n",
       "        1.28065558e-01,  1.31621074e-01,  1.39711072e-01,  1.34485134e-01,\n",
       "        1.40494076e-01,  1.72351885e-01,  1.70089257e-01,  1.48099310e-01,\n",
       "        1.10715017e-01,  1.09238039e-01,  9.96980931e-02,  1.10030757e-01,\n",
       "        1.00005341e-01,  8.51524544e-02,  7.38586055e-02,  8.44767688e-02,\n",
       "        7.79341306e-02,  1.09880023e-01,  1.07590527e-01,  1.35157002e-01,\n",
       "        1.28361937e-01,  1.24168874e-01,  1.39443535e-01,  9.09094780e-02,\n",
       "        1.00423005e-01,  7.30242013e-02,  6.59606724e-02,  6.36640644e-02,\n",
       "        7.26742560e-02,  6.49573434e-02,  4.82129433e-02,  2.24076542e-02,\n",
       "        3.44196689e-02,  2.06495597e-02,  1.42270453e-02, -3.36613136e-02,\n",
       "       -5.09380190e-02, -4.50285122e-03,  5.95668265e-03,  8.19002433e-04,\n",
       "        1.15316008e-02])"
      ]
     },
     "execution_count": 13,
     "metadata": {},
     "output_type": "execute_result"
    }
   ],
   "source": []
  },
  {
   "cell_type": "code",
   "execution_count": 14,
   "metadata": {},
   "outputs": [
    {
     "data": {
      "text/plain": [
       "array([  1.00613086,   2.00622213,   3.01799801,   4.01315846,\n",
       "         5.01215688,   6.01858454,   7.02031128,   8.02204234,\n",
       "         8.99539738,   9.99337059,  10.98621308,  11.98712714,\n",
       "        12.9925132 ,  13.99540557,  15.00734308,  16.01035716,\n",
       "        17.00258665,  17.98992921,  18.97594955,  19.97437728,\n",
       "        20.97658177,  21.98996732,  22.97914315,  23.97758751,\n",
       "        24.97415304,  25.97919398,  26.98529224,  27.99530828,\n",
       "        29.00406636,  30.00847953,  31.00972805,  32.00990077,\n",
       "        33.01577381,  34.01466024,  35.01728026,  36.00384722,\n",
       "        37.01050826,  38.00394297,  39.02246547,  40.01285439,\n",
       "        41.01646657,  42.01171838,  43.0083548 ,  44.00916229,\n",
       "        45.0138813 ,  46.01363748,  47.01412367,  48.0093746 ,\n",
       "        49.01151109,  50.01131096,  50.99986312,  51.99315161,\n",
       "        52.96681591,  53.96207249,  54.95735911,  55.95134058,\n",
       "        56.94645017,  57.95750606,  58.96312466,  59.9699055 ,\n",
       "        60.96646079,  61.96271308,  62.96448323,  63.96012111,\n",
       "        64.95546245,  65.94978268,  66.95231186,  67.9511724 ,\n",
       "        68.94724294,  69.93298199,  70.95238158,  71.936201  ,\n",
       "        72.92883169,  73.9412832 ,  74.93419759,  75.95796306,\n",
       "        76.96736648,  77.97335776,  78.97141806,  79.97196379,\n",
       "        80.98011915,  81.97596365,  82.98253665,  83.98714883,\n",
       "        84.9813856 ,  85.98229909,  86.97180364,  87.96952681,\n",
       "        88.96880256,  89.96763827,  90.97401483,  91.97868264,\n",
       "        92.94625746,  93.95377844,  94.95656234,  95.96058115,\n",
       "        96.97410073,  97.98022498,  98.98051208,  99.98208569,\n",
       "       100.97268971, 101.95323493, 102.96505035, 103.96417485,\n",
       "       104.96542988, 105.96234986, 106.96642888, 107.96070568,\n",
       "       108.96294528, 109.96112262, 110.97120175, 111.96983834,\n",
       "       112.95669599, 113.96097111, 114.97196098, 115.9659214 ,\n",
       "       116.96255083, 117.95931729, 118.95398335, 119.95710579,\n",
       "       120.95236353, 121.96592494, 122.96704971, 123.96031132,\n",
       "       124.9716252 , 125.98710972, 126.9846022 , 127.99078108,\n",
       "       128.99495551, 129.99039464, 130.99816947, 132.00297292,\n",
       "       132.99715756, 133.99935573, 134.99413662, 135.99437757,\n",
       "       136.99443004, 137.98794719, 138.98655777, 139.99096546,\n",
       "       140.97828972, 141.97400996, 142.96944211, 143.96499896,\n",
       "       144.97550322, 145.97047443, 146.95488981, 147.96698854,\n",
       "       148.96953826, 149.96433533, 150.958994  , 151.94181098,\n",
       "       152.93956393, 153.95134685, 154.94861786, 155.94220292,\n",
       "       156.92326119, 157.92313756, 158.92112707, 159.93054459,\n",
       "       160.92571639, 161.92193672, 162.9235502 , 163.91839702,\n",
       "       164.91920822, 165.92785696, 166.93588944, 167.94220075,\n",
       "       168.9234427 , 169.9314906 , 170.92586503, 171.92420549,\n",
       "       172.93236442, 173.94643166, 174.95282433, 175.94672359,\n",
       "       176.94167614, 177.94006933, 178.9510347 , 179.95926278,\n",
       "       180.96251579, 181.96230669, 182.95984592, 183.9584362 ,\n",
       "       184.97554724, 185.98166436, 186.9855568 , 187.99178683,\n",
       "       188.99439142, 189.99157042, 191.00807029, 192.01398037,\n",
       "       193.00938554, 194.00904534, 195.01196703, 196.00736012,\n",
       "       197.00685905, 198.01833127, 199.01200883, 200.01539157,\n",
       "       201.01163348, 202.0207314 , 203.00984506, 204.0211707 ,\n",
       "       205.02131689, 206.02529944, 207.07075046, 208.06593297,\n",
       "       209.06018079, 210.06833655, 211.07428897, 212.07396428,\n",
       "       213.06906588, 214.06033403, 215.06394165, 216.0583396 ,\n",
       "       217.05463964, 218.05704377, 219.05608373, 220.05394808,\n",
       "       221.06016256, 222.05191464, 223.05464919, 224.05733502,\n",
       "       225.06065366, 226.06714018, 227.07179491, 228.08687493,\n",
       "       229.0904587 , 230.10024153, 231.09819529, 232.09533349,\n",
       "       233.09297382, 234.08815395, 235.09450937, 236.10025782,\n",
       "       237.09672871, 238.10595009, 239.09929331, 240.10184294,\n",
       "       241.10876808, 242.12298796, 243.11820951, 244.11265178,\n",
       "       245.12257845, 246.11726377, 247.12188105, 248.12087067,\n",
       "       249.12327023, 250.11448979, 251.12088065, 252.12877153,\n",
       "       253.142994  , 254.14292652, 255.14165534, 256.14241835,\n",
       "       257.14846537, 258.15484513, 259.16916234, 260.17232531,\n",
       "       261.15658868, 262.15370503, 263.16283856, 264.18400953,\n",
       "       265.19013682, 266.20046663, 267.2058908 , 268.21166027,\n",
       "       269.22035721, 270.21962894, 271.21178117, 272.20988733,\n",
       "       273.19540474, 274.1539762 , 275.19256459, 276.17787407,\n",
       "       277.13904916, 278.15329358, 279.17047383, 280.17298329,\n",
       "       281.1957275 , 282.19860298, 283.19677367, 284.19891893,\n",
       "       285.20205093, 286.19526547, 287.21185007, 288.22550691,\n",
       "       289.20995403, 290.19950494, 291.17867632, 292.18535568,\n",
       "       293.20095959, 294.21049234, 295.21005755, 296.21453163,\n",
       "       297.23517834, 298.24193349, 299.23102242, 300.23253711,\n",
       "       301.23275316, 302.23021583, 303.21104001, 304.21924218,\n",
       "       305.21937149, 306.18888485, 307.15638015, 308.18933208,\n",
       "       309.16785764, 310.1680288 , 311.18031792, 312.14831697,\n",
       "       313.15999089, 314.16947308, 315.1784691 , 316.15566912,\n",
       "       317.16637841, 318.1786671 , 319.16917639, 320.18805462,\n",
       "       321.17397656, 322.18047586, 323.19252883, 324.19094315,\n",
       "       325.20642307, 326.20257838, 327.19583416, 328.17361379,\n",
       "       329.16809402, 330.18574988, 331.19185244, 332.18303598,\n",
       "       333.18544328, 334.16935467, 335.16742966, 336.17155757,\n",
       "       337.17520607, 338.17592379, 339.1988294 , 340.20787753,\n",
       "       341.20684715, 342.20817294, 343.19596755, 344.19970208,\n",
       "       345.19485659, 346.18215128, 347.18430803, 348.18919875,\n",
       "       349.18867378, 350.18166515, 351.17403528, 352.14638033,\n",
       "       353.15847266, 354.15962513, 355.17353265, 356.18332152,\n",
       "       357.18593088, 358.1916224 , 359.1950491 , 360.19420753,\n",
       "       361.19480306, 362.18824082, 363.19394662, 364.19155183,\n",
       "       365.19141836, 366.19696409, 367.2023096 , 368.19900694,\n",
       "       369.19494423, 370.18572612, 371.16550026, 372.16801423,\n",
       "       373.15222681, 374.16819436, 375.16265942, 376.17208778,\n",
       "       377.16279838, 378.1712714 , 379.17527278, 380.19629186,\n",
       "       381.18955297, 382.19320185, 383.20629399, 384.20560975,\n",
       "       385.22311738, 386.22761902, 387.23067785, 388.21952193,\n",
       "       389.22653378, 390.23746683, 391.25375349, 392.25930816,\n",
       "       393.24786988, 394.255206  , 395.25732543, 396.24139621,\n",
       "       397.23888707, 398.23411531, 399.23629814, 400.24131567,\n",
       "       401.24352721, 402.24804188, 403.24480863, 404.22980446,\n",
       "       405.22019302, 406.23386199, 407.2226221 , 408.22439904,\n",
       "       409.22722638, 410.22911961, 411.23070004, 412.23726327,\n",
       "       413.23261498, 414.2326949 , 415.25776652, 416.25718248,\n",
       "       417.27148341, 418.26346438, 419.25517465, 420.2569218 ,\n",
       "       421.24916223, 422.23661725, 423.23605762, 424.23218905,\n",
       "       425.23917241, 426.22588609, 427.22767178, 428.22518623,\n",
       "       429.21880397, 430.23201045, 431.24382732, 432.25110907,\n",
       "       433.23810021, 434.2340442 , 435.23996142, 436.2301061 ,\n",
       "       437.23439952, 438.23125321, 439.22353545, 440.22172583,\n",
       "       441.2161807 , 442.2125706 , 443.21010902, 444.21156358,\n",
       "       445.1980108 , 446.16049599, 447.14405173, 448.15074712,\n",
       "       449.14663327, 450.16938249, 451.18499834, 452.16564444,\n",
       "       453.16741405, 454.15966833, 455.14675724, 456.0963271 ,\n",
       "       457.13518046, 458.09990476, 459.08926869, 460.09881622,\n",
       "       461.12806556, 462.13162107, 463.13971107, 464.13448513,\n",
       "       465.14049408, 466.17235189, 467.17008926, 468.14809931,\n",
       "       469.11071502, 470.10923804, 471.09969809, 472.11003076,\n",
       "       473.10000534, 474.08515245, 475.07385861, 476.08447677,\n",
       "       477.07793413, 478.10988002, 479.10759053, 480.135157  ,\n",
       "       481.12836194, 482.12416887, 483.13944354, 484.09090948,\n",
       "       485.100423  , 486.0730242 , 487.06596067, 488.06366406,\n",
       "       489.07267426, 490.06495734, 491.04821294, 492.02240765,\n",
       "       493.03441967, 494.02064956, 495.01422705, 495.96633869,\n",
       "       496.94906198, 497.99549715, 499.00595668, 500.000819  ,\n",
       "       501.0115316 ])"
      ]
     },
     "execution_count": 14,
     "metadata": {},
     "output_type": "execute_result"
    }
   ],
   "source": []
  },
  {
   "cell_type": "code",
   "execution_count": null,
   "metadata": {},
   "outputs": [],
   "source": []
  },
  {
   "cell_type": "code",
   "execution_count": null,
   "metadata": {},
   "outputs": [],
   "source": []
  },
  {
   "cell_type": "code",
   "execution_count": null,
   "metadata": {},
   "outputs": [],
   "source": []
  },
  {
   "cell_type": "code",
   "execution_count": null,
   "metadata": {},
   "outputs": [],
   "source": []
  },
  {
   "cell_type": "code",
   "execution_count": null,
   "metadata": {},
   "outputs": [],
   "source": []
  },
  {
   "cell_type": "code",
   "execution_count": null,
   "metadata": {},
   "outputs": [],
   "source": []
  },
  {
   "cell_type": "code",
   "execution_count": null,
   "metadata": {},
   "outputs": [],
   "source": []
  },
  {
   "cell_type": "code",
   "execution_count": null,
   "metadata": {},
   "outputs": [],
   "source": []
  },
  {
   "cell_type": "code",
   "execution_count": null,
   "metadata": {},
   "outputs": [],
   "source": []
  }
 ],
 "metadata": {
  "kernelspec": {
   "display_name": "Python 3",
   "language": "python",
   "name": "python3"
  },
  "language_info": {
   "codemirror_mode": {
    "name": "ipython",
    "version": 3
   },
   "file_extension": ".py",
   "mimetype": "text/x-python",
   "name": "python",
   "nbconvert_exporter": "python",
   "pygments_lexer": "ipython3",
   "version": "3.7.7"
  }
 },
 "nbformat": 4,
 "nbformat_minor": 4
}
