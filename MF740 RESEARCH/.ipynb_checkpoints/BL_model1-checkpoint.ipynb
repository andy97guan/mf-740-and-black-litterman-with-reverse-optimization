{
 "cells": [
  {
   "cell_type": "code",
   "execution_count": 1,
   "metadata": {},
   "outputs": [],
   "source": [
    "import numpy as np\n",
    "import pandas as pd\n",
    "import matplotlib as mql\n",
    "from pandas_datareader import data as pdr\n",
    "import matplotlib.pyplot as plt\n",
    "from numpy.random import standard_normal as stn\n",
    "from datetime import datetime\n",
    "from sklearn import linear_model\n",
    "import statsmodels.api as sm\n",
    "import scipy.stats as scs\n",
    "from scipy.stats import norm\n",
    "import math\n",
    "from cvxopt import matrix, solvers\n",
    "import scipy.optimize as sco\n",
    "from scipy.fftpack import fft,ifft\n",
    "from sympy import *\n",
    "from sklearn.decomposition import PCA\n",
    "import json\n",
    "from cvxopt import matrix, solvers\n",
    "import scipy.optimize"
   ]
  },
  {
   "cell_type": "markdown",
   "metadata": {},
   "source": [
    "## Bl model\n",
    "\n",
    "先随便用几个ETF数据来做,下面是数据处理得到年化log return"
   ]
  },
  {
   "cell_type": "code",
   "execution_count": 2,
   "metadata": {},
   "outputs": [],
   "source": [
    "icode=['AAPL','BA','TSLA','BABA','GS','GOOG','AMZN','TM','F','JPM']\n",
    "data=pdr.get_data_yahoo(icode,start='2017-01-01',end='2019-01-01')   # For data\n",
    "data_close=data['Adj Close']\n",
    "\n",
    "icode2=['^IRX']\n",
    "risk_free=pdr.get_data_yahoo(icode2,start='2017-01-01',end='2019-01-01')\n",
    "risk_free=risk_free['Adj Close']/100"
   ]
  },
  {
   "cell_type": "code",
   "execution_count": 3,
   "metadata": {},
   "outputs": [
    {
     "data": {
      "text/html": [
       "<div>\n",
       "<style scoped>\n",
       "    .dataframe tbody tr th:only-of-type {\n",
       "        vertical-align: middle;\n",
       "    }\n",
       "\n",
       "    .dataframe tbody tr th {\n",
       "        vertical-align: top;\n",
       "    }\n",
       "\n",
       "    .dataframe thead th {\n",
       "        text-align: right;\n",
       "    }\n",
       "</style>\n",
       "<table border=\"1\" class=\"dataframe\">\n",
       "  <thead>\n",
       "    <tr style=\"text-align: right;\">\n",
       "      <th>Symbols</th>\n",
       "      <th>AAPL</th>\n",
       "      <th>AMZN</th>\n",
       "      <th>BA</th>\n",
       "      <th>BABA</th>\n",
       "      <th>F</th>\n",
       "      <th>GOOG</th>\n",
       "      <th>GS</th>\n",
       "      <th>JPM</th>\n",
       "      <th>TM</th>\n",
       "      <th>TSLA</th>\n",
       "    </tr>\n",
       "    <tr>\n",
       "      <th>Date</th>\n",
       "      <th></th>\n",
       "      <th></th>\n",
       "      <th></th>\n",
       "      <th></th>\n",
       "      <th></th>\n",
       "      <th></th>\n",
       "      <th></th>\n",
       "      <th></th>\n",
       "      <th></th>\n",
       "      <th></th>\n",
       "    </tr>\n",
       "  </thead>\n",
       "  <tbody>\n",
       "    <tr>\n",
       "      <th>2017-01-03</th>\n",
       "      <td>110.691154</td>\n",
       "      <td>753.669983</td>\n",
       "      <td>145.533676</td>\n",
       "      <td>88.599998</td>\n",
       "      <td>10.415051</td>\n",
       "      <td>786.140015</td>\n",
       "      <td>229.168716</td>\n",
       "      <td>79.052376</td>\n",
       "      <td>109.734962</td>\n",
       "      <td>216.990005</td>\n",
       "    </tr>\n",
       "    <tr>\n",
       "      <th>2017-01-04</th>\n",
       "      <td>110.567276</td>\n",
       "      <td>757.179993</td>\n",
       "      <td>147.063477</td>\n",
       "      <td>90.510002</td>\n",
       "      <td>10.894855</td>\n",
       "      <td>786.900024</td>\n",
       "      <td>230.648605</td>\n",
       "      <td>79.198174</td>\n",
       "      <td>112.178650</td>\n",
       "      <td>226.990005</td>\n",
       "    </tr>\n",
       "    <tr>\n",
       "      <th>2017-01-05</th>\n",
       "      <td>111.129562</td>\n",
       "      <td>780.450012</td>\n",
       "      <td>147.146927</td>\n",
       "      <td>94.370003</td>\n",
       "      <td>10.563956</td>\n",
       "      <td>794.020020</td>\n",
       "      <td>228.931519</td>\n",
       "      <td>78.469170</td>\n",
       "      <td>111.484436</td>\n",
       "      <td>226.750000</td>\n",
       "    </tr>\n",
       "    <tr>\n",
       "      <th>2017-01-06</th>\n",
       "      <td>112.368469</td>\n",
       "      <td>795.989990</td>\n",
       "      <td>147.508514</td>\n",
       "      <td>93.889999</td>\n",
       "      <td>10.555683</td>\n",
       "      <td>806.150024</td>\n",
       "      <td>232.327744</td>\n",
       "      <td>78.478271</td>\n",
       "      <td>111.197479</td>\n",
       "      <td>229.009995</td>\n",
       "    </tr>\n",
       "    <tr>\n",
       "      <th>2017-01-09</th>\n",
       "      <td>113.397697</td>\n",
       "      <td>796.919983</td>\n",
       "      <td>146.785309</td>\n",
       "      <td>94.720001</td>\n",
       "      <td>10.448141</td>\n",
       "      <td>806.650024</td>\n",
       "      <td>230.420914</td>\n",
       "      <td>78.532944</td>\n",
       "      <td>110.836479</td>\n",
       "      <td>231.279999</td>\n",
       "    </tr>\n",
       "  </tbody>\n",
       "</table>\n",
       "</div>"
      ],
      "text/plain": [
       "Symbols           AAPL        AMZN          BA       BABA          F  \\\n",
       "Date                                                                   \n",
       "2017-01-03  110.691154  753.669983  145.533676  88.599998  10.415051   \n",
       "2017-01-04  110.567276  757.179993  147.063477  90.510002  10.894855   \n",
       "2017-01-05  111.129562  780.450012  147.146927  94.370003  10.563956   \n",
       "2017-01-06  112.368469  795.989990  147.508514  93.889999  10.555683   \n",
       "2017-01-09  113.397697  796.919983  146.785309  94.720001  10.448141   \n",
       "\n",
       "Symbols           GOOG          GS        JPM          TM        TSLA  \n",
       "Date                                                                   \n",
       "2017-01-03  786.140015  229.168716  79.052376  109.734962  216.990005  \n",
       "2017-01-04  786.900024  230.648605  79.198174  112.178650  226.990005  \n",
       "2017-01-05  794.020020  228.931519  78.469170  111.484436  226.750000  \n",
       "2017-01-06  806.150024  232.327744  78.478271  111.197479  229.009995  \n",
       "2017-01-09  806.650024  230.420914  78.532944  110.836479  231.279999  "
      ]
     },
     "execution_count": 3,
     "metadata": {},
     "output_type": "execute_result"
    }
   ],
   "source": [
    "data_close.head()"
   ]
  },
  {
   "cell_type": "code",
   "execution_count": 4,
   "metadata": {},
   "outputs": [],
   "source": [
    "returns = np.log(data_close.shift(-1)/data_close)\n",
    "returns=returns.dropna(axis=0,how='all')     #kill nan\n",
    "Cov=returns.cov()\n",
    "annual_returns=returns*252"
   ]
  },
  {
   "cell_type": "code",
   "execution_count": 5,
   "metadata": {},
   "outputs": [
    {
     "data": {
      "text/html": [
       "<div>\n",
       "<style scoped>\n",
       "    .dataframe tbody tr th:only-of-type {\n",
       "        vertical-align: middle;\n",
       "    }\n",
       "\n",
       "    .dataframe tbody tr th {\n",
       "        vertical-align: top;\n",
       "    }\n",
       "\n",
       "    .dataframe thead th {\n",
       "        text-align: right;\n",
       "    }\n",
       "</style>\n",
       "<table border=\"1\" class=\"dataframe\">\n",
       "  <thead>\n",
       "    <tr style=\"text-align: right;\">\n",
       "      <th>Symbols</th>\n",
       "      <th>AAPL</th>\n",
       "      <th>AMZN</th>\n",
       "      <th>BA</th>\n",
       "      <th>BABA</th>\n",
       "      <th>F</th>\n",
       "      <th>GOOG</th>\n",
       "      <th>GS</th>\n",
       "      <th>JPM</th>\n",
       "      <th>TM</th>\n",
       "      <th>TSLA</th>\n",
       "    </tr>\n",
       "    <tr>\n",
       "      <th>Date</th>\n",
       "      <th></th>\n",
       "      <th></th>\n",
       "      <th></th>\n",
       "      <th></th>\n",
       "      <th></th>\n",
       "      <th></th>\n",
       "      <th></th>\n",
       "      <th></th>\n",
       "      <th></th>\n",
       "      <th></th>\n",
       "    </tr>\n",
       "  </thead>\n",
       "  <tbody>\n",
       "    <tr>\n",
       "      <th>2017-01-03</th>\n",
       "      <td>-0.282180</td>\n",
       "      <td>1.170896</td>\n",
       "      <td>2.635113</td>\n",
       "      <td>5.374788</td>\n",
       "      <td>11.349750</td>\n",
       "      <td>0.243506</td>\n",
       "      <td>1.622093</td>\n",
       "      <td>0.464340</td>\n",
       "      <td>5.550215</td>\n",
       "      <td>11.353783</td>\n",
       "    </tr>\n",
       "    <tr>\n",
       "      <th>2017-01-04</th>\n",
       "      <td>1.278290</td>\n",
       "      <td>7.627963</td>\n",
       "      <td>0.142955</td>\n",
       "      <td>10.524248</td>\n",
       "      <td>-7.772399</td>\n",
       "      <td>2.269882</td>\n",
       "      <td>-1.883057</td>\n",
       "      <td>-2.330353</td>\n",
       "      <td>-1.564339</td>\n",
       "      <td>-0.266591</td>\n",
       "    </tr>\n",
       "    <tr>\n",
       "      <th>2017-01-05</th>\n",
       "      <td>2.793830</td>\n",
       "      <td>4.968411</td>\n",
       "      <td>0.618486</td>\n",
       "      <td>-1.285043</td>\n",
       "      <td>-0.197430</td>\n",
       "      <td>3.820619</td>\n",
       "      <td>3.710990</td>\n",
       "      <td>0.029229</td>\n",
       "      <td>-0.649475</td>\n",
       "      <td>2.499225</td>\n",
       "    </tr>\n",
       "    <tr>\n",
       "      <th>2017-01-06</th>\n",
       "      <td>2.297663</td>\n",
       "      <td>0.294252</td>\n",
       "      <td>-1.238546</td>\n",
       "      <td>2.217929</td>\n",
       "      <td>-2.580562</td>\n",
       "      <td>0.156250</td>\n",
       "      <td>-2.076824</td>\n",
       "      <td>0.175496</td>\n",
       "      <td>-0.819443</td>\n",
       "      <td>2.485588</td>\n",
       "    </tr>\n",
       "    <tr>\n",
       "      <th>2017-01-09</th>\n",
       "      <td>0.254038</td>\n",
       "      <td>-0.322735</td>\n",
       "      <td>1.190968</td>\n",
       "      <td>5.343697</td>\n",
       "      <td>4.351754</td>\n",
       "      <td>-0.581755</td>\n",
       "      <td>-0.332206</td>\n",
       "      <td>0.729936</td>\n",
       "      <td>0.042096</td>\n",
       "      <td>-1.541026</td>\n",
       "    </tr>\n",
       "  </tbody>\n",
       "</table>\n",
       "</div>"
      ],
      "text/plain": [
       "Symbols         AAPL      AMZN        BA       BABA          F      GOOG  \\\n",
       "Date                                                                       \n",
       "2017-01-03 -0.282180  1.170896  2.635113   5.374788  11.349750  0.243506   \n",
       "2017-01-04  1.278290  7.627963  0.142955  10.524248  -7.772399  2.269882   \n",
       "2017-01-05  2.793830  4.968411  0.618486  -1.285043  -0.197430  3.820619   \n",
       "2017-01-06  2.297663  0.294252 -1.238546   2.217929  -2.580562  0.156250   \n",
       "2017-01-09  0.254038 -0.322735  1.190968   5.343697   4.351754 -0.581755   \n",
       "\n",
       "Symbols           GS       JPM        TM       TSLA  \n",
       "Date                                                 \n",
       "2017-01-03  1.622093  0.464340  5.550215  11.353783  \n",
       "2017-01-04 -1.883057 -2.330353 -1.564339  -0.266591  \n",
       "2017-01-05  3.710990  0.029229 -0.649475   2.499225  \n",
       "2017-01-06 -2.076824  0.175496 -0.819443   2.485588  \n",
       "2017-01-09 -0.332206  0.729936  0.042096  -1.541026  "
      ]
     },
     "execution_count": 5,
     "metadata": {},
     "output_type": "execute_result"
    }
   ],
   "source": [
    "annual_returns.head()"
   ]
  },
  {
   "cell_type": "markdown",
   "metadata": {},
   "source": [
    "### BL model 建立\n",
    "#### $\\mu$"
   ]
  },
  {
   "cell_type": "code",
   "execution_count": 6,
   "metadata": {},
   "outputs": [
    {
     "data": {
      "text/plain": [
       "Symbols\n",
       "AAPL    0.169469\n",
       "AMZN    0.346854\n",
       "BA      0.385788\n",
       "BABA    0.219486\n",
       "F      -0.196012\n",
       "GOOG    0.138631\n",
       "GS     -0.172359\n",
       "JPM     0.082235\n",
       "TM      0.021575\n",
       "TSLA    0.215126\n",
       "dtype: float64"
      ]
     },
     "execution_count": 6,
     "metadata": {},
     "output_type": "execute_result"
    }
   ],
   "source": [
    "mu=np.mean(annual_returns)\n",
    "mu"
   ]
  },
  {
   "cell_type": "markdown",
   "metadata": {},
   "source": [
    "#### $r_f$"
   ]
  },
  {
   "cell_type": "code",
   "execution_count": 7,
   "metadata": {},
   "outputs": [
    {
     "data": {
      "text/plain": [
       "0.014200682729243259"
      ]
     },
     "execution_count": 7,
     "metadata": {},
     "output_type": "execute_result"
    }
   ],
   "source": [
    "rf=risk_free.mean()[0]\n",
    "rf"
   ]
  },
  {
   "cell_type": "markdown",
   "metadata": {},
   "source": [
    "#### $\\Sigma$"
   ]
  },
  {
   "cell_type": "code",
   "execution_count": 8,
   "metadata": {},
   "outputs": [],
   "source": [
    "Cov=Cov*252"
   ]
  },
  {
   "cell_type": "code",
   "execution_count": 9,
   "metadata": {},
   "outputs": [
    {
     "data": {
      "text/html": [
       "<div>\n",
       "<style scoped>\n",
       "    .dataframe tbody tr th:only-of-type {\n",
       "        vertical-align: middle;\n",
       "    }\n",
       "\n",
       "    .dataframe tbody tr th {\n",
       "        vertical-align: top;\n",
       "    }\n",
       "\n",
       "    .dataframe thead th {\n",
       "        text-align: right;\n",
       "    }\n",
       "</style>\n",
       "<table border=\"1\" class=\"dataframe\">\n",
       "  <thead>\n",
       "    <tr style=\"text-align: right;\">\n",
       "      <th>Symbols</th>\n",
       "      <th>AAPL</th>\n",
       "      <th>AMZN</th>\n",
       "      <th>BA</th>\n",
       "      <th>BABA</th>\n",
       "      <th>F</th>\n",
       "      <th>GOOG</th>\n",
       "      <th>GS</th>\n",
       "      <th>JPM</th>\n",
       "      <th>TM</th>\n",
       "      <th>TSLA</th>\n",
       "    </tr>\n",
       "    <tr>\n",
       "      <th>Symbols</th>\n",
       "      <th></th>\n",
       "      <th></th>\n",
       "      <th></th>\n",
       "      <th></th>\n",
       "      <th></th>\n",
       "      <th></th>\n",
       "      <th></th>\n",
       "      <th></th>\n",
       "      <th></th>\n",
       "      <th></th>\n",
       "    </tr>\n",
       "  </thead>\n",
       "  <tbody>\n",
       "    <tr>\n",
       "      <th>AAPL</th>\n",
       "      <td>0.056962</td>\n",
       "      <td>0.043662</td>\n",
       "      <td>0.026320</td>\n",
       "      <td>0.035597</td>\n",
       "      <td>0.012213</td>\n",
       "      <td>0.034471</td>\n",
       "      <td>0.025481</td>\n",
       "      <td>0.019482</td>\n",
       "      <td>0.015030</td>\n",
       "      <td>0.035018</td>\n",
       "    </tr>\n",
       "    <tr>\n",
       "      <th>AMZN</th>\n",
       "      <td>0.043662</td>\n",
       "      <td>0.086385</td>\n",
       "      <td>0.034109</td>\n",
       "      <td>0.051852</td>\n",
       "      <td>0.014872</td>\n",
       "      <td>0.048904</td>\n",
       "      <td>0.028061</td>\n",
       "      <td>0.020684</td>\n",
       "      <td>0.017119</td>\n",
       "      <td>0.045234</td>\n",
       "    </tr>\n",
       "    <tr>\n",
       "      <th>BA</th>\n",
       "      <td>0.026320</td>\n",
       "      <td>0.034109</td>\n",
       "      <td>0.064442</td>\n",
       "      <td>0.031532</td>\n",
       "      <td>0.014637</td>\n",
       "      <td>0.028681</td>\n",
       "      <td>0.028079</td>\n",
       "      <td>0.023519</td>\n",
       "      <td>0.017858</td>\n",
       "      <td>0.028154</td>\n",
       "    </tr>\n",
       "    <tr>\n",
       "      <th>BABA</th>\n",
       "      <td>0.035597</td>\n",
       "      <td>0.051852</td>\n",
       "      <td>0.031532</td>\n",
       "      <td>0.100194</td>\n",
       "      <td>0.018471</td>\n",
       "      <td>0.043376</td>\n",
       "      <td>0.027906</td>\n",
       "      <td>0.020923</td>\n",
       "      <td>0.017723</td>\n",
       "      <td>0.041285</td>\n",
       "    </tr>\n",
       "    <tr>\n",
       "      <th>F</th>\n",
       "      <td>0.012213</td>\n",
       "      <td>0.014872</td>\n",
       "      <td>0.014637</td>\n",
       "      <td>0.018471</td>\n",
       "      <td>0.053109</td>\n",
       "      <td>0.015602</td>\n",
       "      <td>0.022015</td>\n",
       "      <td>0.020259</td>\n",
       "      <td>0.014425</td>\n",
       "      <td>0.023461</td>\n",
       "    </tr>\n",
       "  </tbody>\n",
       "</table>\n",
       "</div>"
      ],
      "text/plain": [
       "Symbols      AAPL      AMZN        BA      BABA         F      GOOG        GS  \\\n",
       "Symbols                                                                         \n",
       "AAPL     0.056962  0.043662  0.026320  0.035597  0.012213  0.034471  0.025481   \n",
       "AMZN     0.043662  0.086385  0.034109  0.051852  0.014872  0.048904  0.028061   \n",
       "BA       0.026320  0.034109  0.064442  0.031532  0.014637  0.028681  0.028079   \n",
       "BABA     0.035597  0.051852  0.031532  0.100194  0.018471  0.043376  0.027906   \n",
       "F        0.012213  0.014872  0.014637  0.018471  0.053109  0.015602  0.022015   \n",
       "\n",
       "Symbols       JPM        TM      TSLA  \n",
       "Symbols                                \n",
       "AAPL     0.019482  0.015030  0.035018  \n",
       "AMZN     0.020684  0.017119  0.045234  \n",
       "BA       0.023519  0.017858  0.028154  \n",
       "BABA     0.020923  0.017723  0.041285  \n",
       "F        0.020259  0.014425  0.023461  "
      ]
     },
     "execution_count": 9,
     "metadata": {},
     "output_type": "execute_result"
    }
   ],
   "source": [
    "Cov.head()"
   ]
  },
  {
   "cell_type": "markdown",
   "metadata": {},
   "source": [
    "#### Investor-specific threshold level of risk L"
   ]
  },
  {
   "cell_type": "code",
   "execution_count": 10,
   "metadata": {},
   "outputs": [],
   "source": [
    "L=1"
   ]
  },
  {
   "cell_type": "markdown",
   "metadata": {},
   "source": [
    "#### $x_{mkt}$"
   ]
  },
  {
   "cell_type": "code",
   "execution_count": 11,
   "metadata": {},
   "outputs": [],
   "source": [
    "mkt=pdr.get_quote_yahoo(icode)['marketCap']\n",
    "mkt=mkt/(np.sum(mkt))"
   ]
  },
  {
   "cell_type": "code",
   "execution_count": 12,
   "metadata": {},
   "outputs": [
    {
     "data": {
      "text/plain": [
       "AAPL    0.268758\n",
       "AMZN    0.254362\n",
       "BA      0.016334\n",
       "BABA    0.120941\n",
       "F       0.004717\n",
       "GOOG    0.186618\n",
       "GS      0.014179\n",
       "JPM     0.064009\n",
       "TM      0.038812\n",
       "TSLA    0.031269\n",
       "Name: marketCap, dtype: float64"
      ]
     },
     "execution_count": 12,
     "metadata": {},
     "output_type": "execute_result"
    }
   ],
   "source": [
    "mkt"
   ]
  },
  {
   "cell_type": "markdown",
   "metadata": {},
   "source": [
    "#### Directly $x_{hist}$"
   ]
  },
  {
   "cell_type": "code",
   "execution_count": 13,
   "metadata": {},
   "outputs": [],
   "source": [
    "def opt1(mu,C,rf):\n",
    "    \n",
    "    e=np.zeros(num)+1\n",
    "    \n",
    "    def markowitz(weights,mu,C,rf):\n",
    "    \n",
    "        weights=np.array(weights)\n",
    "    \n",
    "        obj_func = np.dot(mu.T,weights) +  (1-np.dot(e.T,weights))*rf\n",
    "    \n",
    "        #print (-obj_func,weights)\n",
    "        return -obj_func\n",
    "\n",
    "        \n",
    "    cons = ({'type':'ineq', 'fun':lambda x: np.sum(x)-1},\n",
    "       {'type':'ineq', 'fun':lambda x: -np.sqrt(np.dot(np.dot(x.T,C),x))+L})\n",
    "\n",
    "    #No short constraint\n",
    "    #bnds = [(0,1)]*num\n",
    "    weights = np.ones(num)/num\n",
    "    res = scipy.optimize.minimize(markowitz, weights,(mu,C,rf), method = 'SLSQP',  constraints = cons)\n",
    "    print(res)\n",
    "    if not res.success: raise BaseException(res.message)\n",
    "    return res"
   ]
  },
  {
   "cell_type": "code",
   "execution_count": 16,
   "metadata": {},
   "outputs": [
    {
     "name": "stdout",
     "output_type": "stream",
     "text": [
      "     fun: -3.0311426024819577\n",
      "     jac: array([-0.15526834, -0.33265305, -0.37158775, -0.20528576,  0.21021265,\n",
      "       -0.12442997,  0.18656018, -0.06803393, -0.00737455, -0.20092502])\n",
      " message: 'Optimization terminated successfully.'\n",
      "    nfev: 324\n",
      "     nit: 27\n",
      "    njev: 27\n",
      "  status: 0\n",
      " success: True\n",
      "       x: array([ 0.18717661,  1.3455181 ,  2.34775318,  0.29287931, -1.73581471,\n",
      "       -0.49487347, -5.25925402,  4.48495222, -0.26857089,  0.10023366])\n",
      "[18.718, 134.552, 234.775, 29.288, -173.581, -49.487, -525.925, 448.495, -26.857, 10.023]\n"
     ]
    }
   ],
   "source": [
    "num = 10\n",
    "w = opt1(mu,Cov,rf).x *100\n",
    "w = list(map(lambda x:round(x, 3), w))\n",
    "print (w)"
   ]
  },
  {
   "cell_type": "code",
   "execution_count": 17,
   "metadata": {},
   "outputs": [
    {
     "data": {
      "text/plain": [
       "100.00100000000003"
      ]
     },
     "execution_count": 17,
     "metadata": {},
     "output_type": "execute_result"
    }
   ],
   "source": [
    "sum(w)"
   ]
  },
  {
   "cell_type": "markdown",
   "metadata": {},
   "source": [
    "#### BL model\n",
    "$\\delta$"
   ]
  },
  {
   "cell_type": "code",
   "execution_count": 18,
   "metadata": {},
   "outputs": [],
   "source": [
    "delta=1.25"
   ]
  },
  {
   "cell_type": "markdown",
   "metadata": {},
   "source": [
    "$P$"
   ]
  },
  {
   "cell_type": "code",
   "execution_count": 19,
   "metadata": {},
   "outputs": [],
   "source": [
    "P=[-0.1,0,0,-0.2,0.4,-0.1,0.3,0,-0.4,0.1]\n",
    "P=np.array(P)\n",
    "P.sum()\n",
    "P = -P"
   ]
  },
  {
   "cell_type": "markdown",
   "metadata": {},
   "source": [
    "$\\hat{\\Sigma}$"
   ]
  },
  {
   "cell_type": "code",
   "execution_count": 20,
   "metadata": {},
   "outputs": [],
   "source": [
    "Cov1=Cov"
   ]
  },
  {
   "cell_type": "code",
   "execution_count": 21,
   "metadata": {},
   "outputs": [
    {
     "data": {
      "text/html": [
       "<div>\n",
       "<style scoped>\n",
       "    .dataframe tbody tr th:only-of-type {\n",
       "        vertical-align: middle;\n",
       "    }\n",
       "\n",
       "    .dataframe tbody tr th {\n",
       "        vertical-align: top;\n",
       "    }\n",
       "\n",
       "    .dataframe thead th {\n",
       "        text-align: right;\n",
       "    }\n",
       "</style>\n",
       "<table border=\"1\" class=\"dataframe\">\n",
       "  <thead>\n",
       "    <tr style=\"text-align: right;\">\n",
       "      <th>Symbols</th>\n",
       "      <th>AAPL</th>\n",
       "      <th>AMZN</th>\n",
       "      <th>BA</th>\n",
       "      <th>BABA</th>\n",
       "      <th>F</th>\n",
       "      <th>GOOG</th>\n",
       "      <th>GS</th>\n",
       "      <th>JPM</th>\n",
       "      <th>TM</th>\n",
       "      <th>TSLA</th>\n",
       "    </tr>\n",
       "    <tr>\n",
       "      <th>Symbols</th>\n",
       "      <th></th>\n",
       "      <th></th>\n",
       "      <th></th>\n",
       "      <th></th>\n",
       "      <th></th>\n",
       "      <th></th>\n",
       "      <th></th>\n",
       "      <th></th>\n",
       "      <th></th>\n",
       "      <th></th>\n",
       "    </tr>\n",
       "  </thead>\n",
       "  <tbody>\n",
       "    <tr>\n",
       "      <th>AAPL</th>\n",
       "      <td>0.056962</td>\n",
       "      <td>0.043662</td>\n",
       "      <td>0.026320</td>\n",
       "      <td>0.035597</td>\n",
       "      <td>0.012213</td>\n",
       "      <td>0.034471</td>\n",
       "      <td>0.025481</td>\n",
       "      <td>0.019482</td>\n",
       "      <td>0.015030</td>\n",
       "      <td>0.035018</td>\n",
       "    </tr>\n",
       "    <tr>\n",
       "      <th>AMZN</th>\n",
       "      <td>0.043662</td>\n",
       "      <td>0.086385</td>\n",
       "      <td>0.034109</td>\n",
       "      <td>0.051852</td>\n",
       "      <td>0.014872</td>\n",
       "      <td>0.048904</td>\n",
       "      <td>0.028061</td>\n",
       "      <td>0.020684</td>\n",
       "      <td>0.017119</td>\n",
       "      <td>0.045234</td>\n",
       "    </tr>\n",
       "    <tr>\n",
       "      <th>BA</th>\n",
       "      <td>0.026320</td>\n",
       "      <td>0.034109</td>\n",
       "      <td>0.064442</td>\n",
       "      <td>0.031532</td>\n",
       "      <td>0.014637</td>\n",
       "      <td>0.028681</td>\n",
       "      <td>0.028079</td>\n",
       "      <td>0.023519</td>\n",
       "      <td>0.017858</td>\n",
       "      <td>0.028154</td>\n",
       "    </tr>\n",
       "    <tr>\n",
       "      <th>BABA</th>\n",
       "      <td>0.035597</td>\n",
       "      <td>0.051852</td>\n",
       "      <td>0.031532</td>\n",
       "      <td>0.100194</td>\n",
       "      <td>0.018471</td>\n",
       "      <td>0.043376</td>\n",
       "      <td>0.027906</td>\n",
       "      <td>0.020923</td>\n",
       "      <td>0.017723</td>\n",
       "      <td>0.041285</td>\n",
       "    </tr>\n",
       "    <tr>\n",
       "      <th>F</th>\n",
       "      <td>0.012213</td>\n",
       "      <td>0.014872</td>\n",
       "      <td>0.014637</td>\n",
       "      <td>0.018471</td>\n",
       "      <td>0.053109</td>\n",
       "      <td>0.015602</td>\n",
       "      <td>0.022015</td>\n",
       "      <td>0.020259</td>\n",
       "      <td>0.014425</td>\n",
       "      <td>0.023461</td>\n",
       "    </tr>\n",
       "    <tr>\n",
       "      <th>GOOG</th>\n",
       "      <td>0.034471</td>\n",
       "      <td>0.048904</td>\n",
       "      <td>0.028681</td>\n",
       "      <td>0.043376</td>\n",
       "      <td>0.015602</td>\n",
       "      <td>0.051729</td>\n",
       "      <td>0.027371</td>\n",
       "      <td>0.020515</td>\n",
       "      <td>0.018814</td>\n",
       "      <td>0.034706</td>\n",
       "    </tr>\n",
       "    <tr>\n",
       "      <th>GS</th>\n",
       "      <td>0.025481</td>\n",
       "      <td>0.028061</td>\n",
       "      <td>0.028079</td>\n",
       "      <td>0.027906</td>\n",
       "      <td>0.022015</td>\n",
       "      <td>0.027371</td>\n",
       "      <td>0.052992</td>\n",
       "      <td>0.035589</td>\n",
       "      <td>0.017244</td>\n",
       "      <td>0.023631</td>\n",
       "    </tr>\n",
       "    <tr>\n",
       "      <th>JPM</th>\n",
       "      <td>0.019482</td>\n",
       "      <td>0.020684</td>\n",
       "      <td>0.023519</td>\n",
       "      <td>0.020923</td>\n",
       "      <td>0.020259</td>\n",
       "      <td>0.020515</td>\n",
       "      <td>0.035589</td>\n",
       "      <td>0.037703</td>\n",
       "      <td>0.014592</td>\n",
       "      <td>0.019655</td>\n",
       "    </tr>\n",
       "    <tr>\n",
       "      <th>TM</th>\n",
       "      <td>0.015030</td>\n",
       "      <td>0.017119</td>\n",
       "      <td>0.017858</td>\n",
       "      <td>0.017723</td>\n",
       "      <td>0.014425</td>\n",
       "      <td>0.018814</td>\n",
       "      <td>0.017244</td>\n",
       "      <td>0.014592</td>\n",
       "      <td>0.026472</td>\n",
       "      <td>0.012347</td>\n",
       "    </tr>\n",
       "    <tr>\n",
       "      <th>TSLA</th>\n",
       "      <td>0.035018</td>\n",
       "      <td>0.045234</td>\n",
       "      <td>0.028154</td>\n",
       "      <td>0.041285</td>\n",
       "      <td>0.023461</td>\n",
       "      <td>0.034706</td>\n",
       "      <td>0.023631</td>\n",
       "      <td>0.019655</td>\n",
       "      <td>0.012347</td>\n",
       "      <td>0.229940</td>\n",
       "    </tr>\n",
       "  </tbody>\n",
       "</table>\n",
       "</div>"
      ],
      "text/plain": [
       "Symbols      AAPL      AMZN        BA      BABA         F      GOOG        GS  \\\n",
       "Symbols                                                                         \n",
       "AAPL     0.056962  0.043662  0.026320  0.035597  0.012213  0.034471  0.025481   \n",
       "AMZN     0.043662  0.086385  0.034109  0.051852  0.014872  0.048904  0.028061   \n",
       "BA       0.026320  0.034109  0.064442  0.031532  0.014637  0.028681  0.028079   \n",
       "BABA     0.035597  0.051852  0.031532  0.100194  0.018471  0.043376  0.027906   \n",
       "F        0.012213  0.014872  0.014637  0.018471  0.053109  0.015602  0.022015   \n",
       "GOOG     0.034471  0.048904  0.028681  0.043376  0.015602  0.051729  0.027371   \n",
       "GS       0.025481  0.028061  0.028079  0.027906  0.022015  0.027371  0.052992   \n",
       "JPM      0.019482  0.020684  0.023519  0.020923  0.020259  0.020515  0.035589   \n",
       "TM       0.015030  0.017119  0.017858  0.017723  0.014425  0.018814  0.017244   \n",
       "TSLA     0.035018  0.045234  0.028154  0.041285  0.023461  0.034706  0.023631   \n",
       "\n",
       "Symbols       JPM        TM      TSLA  \n",
       "Symbols                                \n",
       "AAPL     0.019482  0.015030  0.035018  \n",
       "AMZN     0.020684  0.017119  0.045234  \n",
       "BA       0.023519  0.017858  0.028154  \n",
       "BABA     0.020923  0.017723  0.041285  \n",
       "F        0.020259  0.014425  0.023461  \n",
       "GOOG     0.020515  0.018814  0.034706  \n",
       "GS       0.035589  0.017244  0.023631  \n",
       "JPM      0.037703  0.014592  0.019655  \n",
       "TM       0.014592  0.026472  0.012347  \n",
       "TSLA     0.019655  0.012347  0.229940  "
      ]
     },
     "execution_count": 21,
     "metadata": {},
     "output_type": "execute_result"
    }
   ],
   "source": [
    "Cov1"
   ]
  },
  {
   "cell_type": "markdown",
   "metadata": {},
   "source": [
    "$\\hat{r}$"
   ]
  },
  {
   "cell_type": "code",
   "execution_count": 22,
   "metadata": {},
   "outputs": [
    {
     "data": {
      "text/plain": [
       "AAPL    0.268758\n",
       "AMZN    0.254362\n",
       "BA      0.016334\n",
       "BABA    0.120941\n",
       "F       0.004717\n",
       "GOOG    0.186618\n",
       "GS      0.014179\n",
       "JPM     0.064009\n",
       "TM      0.038812\n",
       "TSLA    0.031269\n",
       "Name: marketCap, dtype: float64"
      ]
     },
     "execution_count": 22,
     "metadata": {},
     "output_type": "execute_result"
    }
   ],
   "source": [
    "mkt"
   ]
  },
  {
   "cell_type": "code",
   "execution_count": 23,
   "metadata": {},
   "outputs": [
    {
     "data": {
      "text/plain": [
       "(10,)"
      ]
     },
     "execution_count": 23,
     "metadata": {},
     "output_type": "execute_result"
    }
   ],
   "source": [
    "(2*delta*np.dot(Cov,mkt)).shape"
   ]
  },
  {
   "cell_type": "code",
   "execution_count": 24,
   "metadata": {},
   "outputs": [],
   "source": [
    "e = np.array(10)\n",
    "r_hat=rf*e+2*delta*np.dot(Cov,mkt)"
   ]
  },
  {
   "cell_type": "code",
   "execution_count": 25,
   "metadata": {},
   "outputs": [
    {
     "data": {
      "text/plain": [
       "array([0.24432475, 0.27583941, 0.21579274, 0.26021854, 0.18101384,\n",
       "       0.24366177, 0.21067898, 0.19559358, 0.18450749, 0.24755697])"
      ]
     },
     "execution_count": 25,
     "metadata": {},
     "output_type": "execute_result"
    }
   ],
   "source": [
    "r_hat"
   ]
  },
  {
   "cell_type": "markdown",
   "metadata": {},
   "source": [
    "$q$"
   ]
  },
  {
   "cell_type": "code",
   "execution_count": 26,
   "metadata": {},
   "outputs": [],
   "source": [
    "q=np.dot(P.T,r_hat)\n",
    "q=np.array([q])"
   ]
  },
  {
   "cell_type": "code",
   "execution_count": 27,
   "metadata": {},
   "outputs": [
    {
     "data": {
      "text/plain": [
       "array([0.01428043])"
      ]
     },
     "execution_count": 27,
     "metadata": {},
     "output_type": "execute_result"
    }
   ],
   "source": [
    "q"
   ]
  },
  {
   "cell_type": "markdown",
   "metadata": {},
   "source": [
    "$\\Omega$"
   ]
  },
  {
   "cell_type": "code",
   "execution_count": 28,
   "metadata": {},
   "outputs": [],
   "source": [
    "mm=1\n",
    "r0=1/24\n",
    "r1=0.02*r0\n",
    "rr=[r1]"
   ]
  },
  {
   "cell_type": "code",
   "execution_count": 29,
   "metadata": {},
   "outputs": [],
   "source": [
    "num = 10"
   ]
  },
  {
   "cell_type": "code",
   "execution_count": 30,
   "metadata": {},
   "outputs": [
    {
     "data": {
      "text/plain": [
       "array([[0.00237342, 0.00181924, 0.00109666, 0.00148323, 0.00050889,\n",
       "        0.00143629, 0.00106172, 0.00081174, 0.00062627, 0.00145909,\n",
       "        0.        ],\n",
       "       [0.00181924, 0.00359939, 0.00142122, 0.00216052, 0.00061965,\n",
       "        0.00203767, 0.0011692 , 0.00086182, 0.00071331, 0.00188477,\n",
       "        0.        ],\n",
       "       [0.00109666, 0.00142122, 0.00268507, 0.00131383, 0.00060987,\n",
       "        0.00119506, 0.00116996, 0.00097996, 0.00074406, 0.00117308,\n",
       "        0.        ],\n",
       "       [0.00148323, 0.00216052, 0.00131383, 0.00417473, 0.00076964,\n",
       "        0.00180734, 0.00116273, 0.00087181, 0.00073845, 0.00172022,\n",
       "        0.        ],\n",
       "       [0.00050889, 0.00061965, 0.00060987, 0.00076964, 0.00221286,\n",
       "        0.00065009, 0.00091728, 0.00084411, 0.00060105, 0.00097755,\n",
       "        0.        ],\n",
       "       [0.00143629, 0.00203767, 0.00119506, 0.00180734, 0.00065009,\n",
       "        0.00215536, 0.00114047, 0.00085481, 0.00078392, 0.00144608,\n",
       "        0.        ],\n",
       "       [0.00106172, 0.0011692 , 0.00116996, 0.00116273, 0.00091728,\n",
       "        0.00114047, 0.002208  , 0.00148288, 0.00071848, 0.00098462,\n",
       "        0.        ],\n",
       "       [0.00081174, 0.00086182, 0.00097996, 0.00087181, 0.00084411,\n",
       "        0.00085481, 0.00148288, 0.00157097, 0.000608  , 0.00081895,\n",
       "        0.        ],\n",
       "       [0.00062627, 0.00071331, 0.00074406, 0.00073845, 0.00060105,\n",
       "        0.00078392, 0.00071848, 0.000608  , 0.00110299, 0.00051444,\n",
       "        0.        ],\n",
       "       [0.00145909, 0.00188477, 0.00117308, 0.00172022, 0.00097755,\n",
       "        0.00144608, 0.00098462, 0.00081895, 0.00051444, 0.00958084,\n",
       "        0.        ],\n",
       "       [0.        , 0.        , 0.        , 0.        , 0.        ,\n",
       "        0.        , 0.        , 0.        , 0.        , 0.        ,\n",
       "        0.00083333]])"
      ]
     },
     "execution_count": 30,
     "metadata": {},
     "output_type": "execute_result"
    }
   ],
   "source": [
    "mm=1\n",
    "r0=1/24\n",
    "r1=0.02*r0\n",
    "rr=[r1]\n",
    "\n",
    "num = 10\n",
    "A1=Cov*r0\n",
    "A2=np.zeros((num,mm))\n",
    "A3=np.zeros((mm,num))\n",
    "A4=np.diag(rr)\n",
    "\n",
    "Omega1=np.concatenate((A1,A2),axis=1)\n",
    "Omega2=np.concatenate((A3,A4),axis=1)\n",
    "Omega=np.concatenate((Omega1,Omega2),axis=0)\n",
    "Omega\n",
    "# A1=np.insert(Cov*r0,-1)"
   ]
  },
  {
   "cell_type": "markdown",
   "metadata": {},
   "source": [
    "$\\Sigma^{BL}$"
   ]
  },
  {
   "cell_type": "code",
   "execution_count": 46,
   "metadata": {},
   "outputs": [
    {
     "data": {
      "text/plain": [
       "(11, 10)"
      ]
     },
     "execution_count": 46,
     "metadata": {},
     "output_type": "execute_result"
    }
   ],
   "source": [
    "B1=np.eye(num,num)\n",
    "P=P.reshape(1,num)\n",
    "B=np.concatenate((B1,P),axis=0)\n",
    "B.shape"
   ]
  },
  {
   "cell_type": "code",
   "execution_count": 47,
   "metadata": {},
   "outputs": [],
   "source": [
    "Cov2=np.dot(np.dot(B.T,np.linalg.inv(Omega)),B)\n",
    "Cov2 = np.linalg.inv(Cov2)"
   ]
  },
  {
   "cell_type": "code",
   "execution_count": 48,
   "metadata": {},
   "outputs": [
    {
     "data": {
      "text/plain": [
       "array([[0.0023311 , 0.00176782, 0.00108408, 0.00138062, 0.00063055,\n",
       "        0.00138954, 0.00112478, 0.00085732, 0.00059007, 0.00158991],\n",
       "       [0.00176782, 0.00353693, 0.00140594, 0.00203588, 0.00076745,\n",
       "        0.00198087, 0.00124581, 0.0009172 , 0.00066934, 0.00204369],\n",
       "       [0.00108408, 0.00140594, 0.00268134, 0.00128333, 0.00064603,\n",
       "        0.00118116, 0.0011887 , 0.00099351, 0.00073331, 0.00121196],\n",
       "       [0.00138062, 0.00203588, 0.00128333, 0.00392599, 0.00106459,\n",
       "        0.00169398, 0.00131561, 0.00098232, 0.00065069, 0.00203739],\n",
       "       [0.00063055, 0.00076745, 0.00064603, 0.00106459, 0.00186312,\n",
       "        0.00078451, 0.000736  , 0.00071308, 0.00070511, 0.00060147],\n",
       "       [0.00138954, 0.00198087, 0.00118116, 0.00169398, 0.00078451,\n",
       "        0.00210369, 0.00121014, 0.00090517, 0.00074393, 0.00159062],\n",
       "       [0.00112478, 0.00124581, 0.0011887 , 0.00131561, 0.000736  ,\n",
       "        0.00121014, 0.00211404, 0.00141496, 0.00077241, 0.0007897 ],\n",
       "       [0.00085732, 0.0009172 , 0.00099351, 0.00098232, 0.00071308,\n",
       "        0.00090517, 0.00141496, 0.00152187, 0.00064698, 0.00067805],\n",
       "       [0.00059007, 0.00066934, 0.00073331, 0.00065069, 0.00070511,\n",
       "        0.00074393, 0.00077241, 0.00064698, 0.00107204, 0.00062633],\n",
       "       [0.00158991, 0.00204369, 0.00121196, 0.00203739, 0.00060147,\n",
       "        0.00159062, 0.0007897 , 0.00067805, 0.00062633, 0.00917644]])"
      ]
     },
     "execution_count": 48,
     "metadata": {},
     "output_type": "execute_result"
    }
   ],
   "source": [
    "Cov2"
   ]
  },
  {
   "cell_type": "code",
   "execution_count": 49,
   "metadata": {},
   "outputs": [],
   "source": [
    "Cov_BL=Cov1+Cov2"
   ]
  },
  {
   "cell_type": "code",
   "execution_count": null,
   "metadata": {},
   "outputs": [],
   "source": []
  },
  {
   "cell_type": "code",
   "execution_count": 35,
   "metadata": {},
   "outputs": [
    {
     "data": {
      "text/plain": [
       "array([[1579.17531185]])"
      ]
     },
     "execution_count": 35,
     "metadata": {},
     "output_type": "execute_result"
    }
   ],
   "source": [
    "# B1=np.eye(1,1)\n",
    "# P=P.reshape(-1,1)\n",
    "# B=np.concatenate((B1,P),axis=0)\n",
    "# # B.shape\n",
    "# # Cov2=np.dot(np.dot(B.T,np.linalg.inv(Omega)),B)\n",
    "# # Cov2"
   ]
  },
  {
   "cell_type": "code",
   "execution_count": null,
   "metadata": {},
   "outputs": [],
   "source": []
  },
  {
   "cell_type": "markdown",
   "metadata": {},
   "source": [
    "$\\mu^{BL}$"
   ]
  },
  {
   "cell_type": "code",
   "execution_count": 50,
   "metadata": {},
   "outputs": [
    {
     "data": {
      "text/plain": [
       "array([0.24432475, 0.27583941, 0.21579274, 0.26021854, 0.18101384,\n",
       "       0.24366177, 0.21067898, 0.19559358, 0.18450749, 0.24755697,\n",
       "       0.01428043])"
      ]
     },
     "execution_count": 50,
     "metadata": {},
     "output_type": "execute_result"
    }
   ],
   "source": [
    "C3=np.concatenate((r_hat,q),axis=0)\n",
    "C3"
   ]
  },
  {
   "cell_type": "code",
   "execution_count": 51,
   "metadata": {},
   "outputs": [],
   "source": [
    "C1=np.dot(np.linalg.inv(Cov2),B.T)\n",
    "C2=np.dot(np.linalg.inv(Omega),C3)\n",
    "mu_BL=np.dot(C1,C2)\n",
    "\n",
    "C1=np.dot(np.linalg.inv(Cov2),B.T)\n",
    "C2=np.dot(Omega,C3)\n",
    "mu_BL=np.dot(C1,C2)\n",
    "\n",
    "C1=np.dot(Cov2,B.T)\n",
    "C2=np.dot(np.linalg.inv(Omega),C3)\n",
    "mu_BL=np.dot(C1,C2)"
   ]
  },
  {
   "cell_type": "code",
   "execution_count": 52,
   "metadata": {},
   "outputs": [
    {
     "data": {
      "text/plain": [
       "array([0.24432475, 0.27583941, 0.21579274, 0.26021854, 0.18101384,\n",
       "       0.24366177, 0.21067898, 0.19559358, 0.18450749, 0.24755697])"
      ]
     },
     "execution_count": 52,
     "metadata": {},
     "output_type": "execute_result"
    }
   ],
   "source": [
    "mu_BL"
   ]
  },
  {
   "cell_type": "code",
   "execution_count": 53,
   "metadata": {},
   "outputs": [
    {
     "data": {
      "text/plain": [
       "Symbols\n",
       "AAPL    0.169469\n",
       "AMZN    0.346854\n",
       "BA      0.385788\n",
       "BABA    0.219486\n",
       "F      -0.196012\n",
       "GOOG    0.138631\n",
       "GS     -0.172359\n",
       "JPM     0.082235\n",
       "TM      0.021575\n",
       "TSLA    0.215126\n",
       "dtype: float64"
      ]
     },
     "execution_count": 53,
     "metadata": {},
     "output_type": "execute_result"
    }
   ],
   "source": [
    "mu"
   ]
  },
  {
   "cell_type": "markdown",
   "metadata": {},
   "source": [
    "#### BL result"
   ]
  },
  {
   "cell_type": "code",
   "execution_count": 54,
   "metadata": {},
   "outputs": [
    {
     "data": {
      "text/plain": [
       "10"
      ]
     },
     "execution_count": 54,
     "metadata": {},
     "output_type": "execute_result"
    }
   ],
   "source": [
    "num"
   ]
  },
  {
   "cell_type": "code",
   "execution_count": 55,
   "metadata": {},
   "outputs": [],
   "source": [
    "def opt1(mu,C,rf):\n",
    "    \n",
    "    e=np.zeros(num)+1\n",
    "    \n",
    "    def markowitz(weights, mu, C, rf):\n",
    "    \n",
    "        weights=np.array(weights)\n",
    "    \n",
    "        obj_func = np.dot(mu.T,weights) +  (1-np.dot(e.T,weights))*rf\n",
    "    \n",
    "#         print (-obj_func,weights)\n",
    "        return -obj_func\n",
    "\n",
    "        \n",
    "    cons = ({'type':'eq', 'fun':lambda x: np.sum(x)-1},\n",
    "       {'type':'ineq', 'fun':lambda x: -np.sqrt(np.dot(np.dot(x.T,C),x))+L})\n",
    "\n",
    "    #No short constraint\n",
    "#     bnds = [(0,1)]*num\n",
    "    weights = np.ones(num)/num\n",
    "    res = scipy.optimize.minimize(markowitz, weights, (mu, C, rf), method = 'SLSQP',  constraints = cons,options={'maxiter':10000})\n",
    "    print(res)\n",
    "    if not res.success: raise BaseException(res.message)\n",
    "    return res"
   ]
  },
  {
   "cell_type": "code",
   "execution_count": 56,
   "metadata": {},
   "outputs": [
    {
     "name": "stdout",
     "output_type": "stream",
     "text": [
      "     fun: -0.5503773238201255\n",
      "     jac: array([-0.23012407, -0.26163874, -0.20159207, -0.24601787, -0.16681316,\n",
      "       -0.22946109, -0.1964783 , -0.18139291, -0.17030682, -0.2333563 ])\n",
      " message: 'Optimization terminated successfully.'\n",
      "    nfev: 300\n",
      "     nit: 25\n",
      "    njev: 25\n",
      "  status: 0\n",
      " success: True\n",
      "       x: array([ 1.08568903,  1.7223428 , -0.08284543,  0.80453424, -0.76937208,\n",
      "        1.16036598,  0.68376051, -1.13274168, -2.60870272,  0.13696935])\n"
     ]
    },
    {
     "data": {
      "text/plain": [
       "     fun: -0.5503773238201255\n",
       "     jac: array([-0.23012407, -0.26163874, -0.20159207, -0.24601787, -0.16681316,\n",
       "       -0.22946109, -0.1964783 , -0.18139291, -0.17030682, -0.2333563 ])\n",
       " message: 'Optimization terminated successfully.'\n",
       "    nfev: 300\n",
       "     nit: 25\n",
       "    njev: 25\n",
       "  status: 0\n",
       " success: True\n",
       "       x: array([ 1.08568903,  1.7223428 , -0.08284543,  0.80453424, -0.76937208,\n",
       "        1.16036598,  0.68376051, -1.13274168, -2.60870272,  0.13696935])"
      ]
     },
     "execution_count": 56,
     "metadata": {},
     "output_type": "execute_result"
    }
   ],
   "source": [
    "opt1(mu_BL,Cov_BL,rf)"
   ]
  },
  {
   "cell_type": "code",
   "execution_count": 57,
   "metadata": {},
   "outputs": [
    {
     "name": "stdout",
     "output_type": "stream",
     "text": [
      "     fun: -0.5503773238201255\n",
      "     jac: array([-0.23012407, -0.26163874, -0.20159207, -0.24601787, -0.16681316,\n",
      "       -0.22946109, -0.1964783 , -0.18139291, -0.17030682, -0.2333563 ])\n",
      " message: 'Optimization terminated successfully.'\n",
      "    nfev: 300\n",
      "     nit: 25\n",
      "    njev: 25\n",
      "  status: 0\n",
      " success: True\n",
      "       x: array([ 1.08568903,  1.7223428 , -0.08284543,  0.80453424, -0.76937208,\n",
      "        1.16036598,  0.68376051, -1.13274168, -2.60870272,  0.13696935])\n",
      "[108.569, 172.234, -8.285, 80.453, -76.937, 116.037, 68.376, -113.274, -260.87, 13.697]\n"
     ]
    }
   ],
   "source": [
    "\n",
    "w = opt1(mu_BL,Cov_BL,rf).x *100\n",
    "w = list(map(lambda x:round(x, 3), w))\n",
    "print (w)"
   ]
  },
  {
   "cell_type": "code",
   "execution_count": null,
   "metadata": {},
   "outputs": [],
   "source": []
  },
  {
   "cell_type": "markdown",
   "metadata": {},
   "source": [
    "### MVIO"
   ]
  },
  {
   "cell_type": "code",
   "execution_count": null,
   "metadata": {},
   "outputs": [],
   "source": []
  },
  {
   "cell_type": "code",
   "execution_count": 60,
   "metadata": {},
   "outputs": [],
   "source": [
    "from cvxpy import *"
   ]
  },
  {
   "cell_type": "code",
   "execution_count": null,
   "metadata": {},
   "outputs": [],
   "source": []
  },
  {
   "cell_type": "code",
   "execution_count": null,
   "metadata": {},
   "outputs": [],
   "source": []
  },
  {
   "cell_type": "code",
   "execution_count": 62,
   "metadata": {},
   "outputs": [
    {
     "data": {
      "text/plain": [
       "(11, 11)"
      ]
     },
     "execution_count": 62,
     "metadata": {},
     "output_type": "execute_result"
    }
   ],
   "source": [
    "mm=1\n",
    "r0=1/24\n",
    "r1=0.02*r0\n",
    "rr=[r1]\n",
    "\n",
    "num = 10\n",
    "A1=Cov*r0\n",
    "A2=np.zeros((num,mm))\n",
    "A3=np.zeros((mm,num))\n",
    "A4=np.diag(rr)\n",
    "\n",
    "Omega1=np.concatenate((A1,A2),axis=1)\n",
    "Omega2=np.concatenate((A3,A4),axis=1)\n",
    "Omega=np.concatenate((Omega1,Omega2),axis=0)\n",
    "Omega.shape\n",
    "# A1=np.insert(Cov*r0,-1)"
   ]
  },
  {
   "cell_type": "code",
   "execution_count": 76,
   "metadata": {},
   "outputs": [
    {
     "name": "stdout",
     "output_type": "stream",
     "text": [
      "status: optimal\n",
      "optimal value -3.5556424264853635e-10\n",
      "[[0.24432475]\n",
      " [0.27583941]\n",
      " [0.21579274]\n",
      " [0.26021854]\n",
      " [0.18101384]\n",
      " [0.24366177]\n",
      " [0.21067898]\n",
      " [0.19559358]\n",
      " [0.18450749]\n",
      " [0.24755697]]\n"
     ]
    }
   ],
   "source": [
    "##### special case with sigma = 0.5 * delta * sigma : BL\n",
    "import cvxpy as cvx\n",
    "mu_io = cvx.Variable((10,1))\n",
    "sigma_bar = cvx.Variable((10,10))\n",
    "t = cvx.Variable((1,1))\n",
    "u = cvx.Variable((11,1))\n",
    "rf = rf\n",
    "Omega = Omega \n",
    "x_mkt = np.array(mkt).reshape(-1,1)\n",
    "# x = cp.Variable((10,1))\n",
    "e = e.reshape(-1,1)\n",
    "I = np.identity(11)\n",
    "q = q.reshape(-1,1)\n",
    "\n",
    "\n",
    "tmp = 1.25*2*np.array(Cov).dot(np.array(x_mkt).reshape(-1,1))\n",
    "# sigma_bar.dot(x_mkt)\n",
    "Cons = [\n",
    "    u - np.linalg.inv(np.sqrt(Omega)) @ cvx.vstack([mu_io - rf*e - tmp, \\\n",
    "                                                          P@mu_io - q]) == 0,\n",
    "    cvx.vstack([ cvx.hstack([t, u.T]), cvx.hstack([u, I]) ]) >> 0,\n",
    "    sigma_bar >= 0\n",
    "]\n",
    "objective = cvx.Minimize(t)\n",
    "prob = cvx.Problem(objective, Cons)\n",
    "prob.solve(solver='CVXOPT')  # Returns the optimal value.\n",
    "print(\"status:\", prob.status)\n",
    "print(\"optimal value\", prob.value)\n",
    "# print(\"optimal var\", x.value, y.value)\n",
    "print(mu_io.value)\n"
   ]
  },
  {
   "cell_type": "code",
   "execution_count": 80,
   "metadata": {},
   "outputs": [
    {
     "name": "stdout",
     "output_type": "stream",
     "text": [
      "status: optimal\n",
      "optimal value -3.802421564527587e-10\n",
      "[[0.6987624 ]\n",
      " [0.69577404]\n",
      " [0.69577403]\n",
      " [0.70177051]\n",
      " [0.68401578]\n",
      " [0.6987624 ]\n",
      " [0.68692628]\n",
      " [0.69577402]\n",
      " [0.70784633]\n",
      " [0.69280527]]\n",
      "[[0.5579211  0.55769778 0.55401876 0.55563251 0.55383984 0.55664816\n",
      "  0.55398556 0.55475362 0.5543651  0.55424885]\n",
      " [0.5537672  0.5537672  0.5537672  0.5537672  0.5537672  0.5537672\n",
      "  0.5537672  0.5537672  0.5537672  0.5537672 ]\n",
      " [0.5537672  0.5537672  0.5537672  0.5537672  0.5537672  0.5537672\n",
      "  0.5537672  0.5537672  0.5537672  0.5537672 ]\n",
      " [0.56210705 0.56165706 0.55427043 0.55750428 0.55391248 0.55954455\n",
      "  0.554204   0.55574185 0.55496366 0.55473094]\n",
      " [0.53746836 0.53832872 0.55276217 0.54637034 0.55347677 0.54239637\n",
      "  0.55289468 0.54983959 0.55138226 0.55184491]\n",
      " [0.5579211  0.55769778 0.55401876 0.55563251 0.55383984 0.55664816\n",
      "  0.55398556 0.55475362 0.5543651  0.55424885]\n",
      " [0.54149594 0.54214609 0.55301326 0.54820994 0.55354936 0.54521625\n",
      "  0.55311268 0.55081879 0.5519775  0.55232484]\n",
      " [0.5537672  0.5537672  0.5537672  0.5537672  0.5537672  0.5537672\n",
      "  0.5537672  0.5537672  0.5537672  0.5537672 ]\n",
      " [0.57057588 0.56966236 0.55477412 0.56126731 0.5540578  0.56538386\n",
      "  0.55464115 0.55772374 0.55616279 0.5556964 ]\n",
      " [0.54964517 0.54986517 0.55351577 0.55190835 0.55369458 0.55090161\n",
      "  0.55354894 0.5527826  0.55316997 0.55328599]]\n"
     ]
    }
   ],
   "source": [
    "##### general case with sigma as vriable.\n",
    "import cvxpy as cvx\n",
    "mu_io = cvx.Variable((10,1))\n",
    "sigma_bar = cvx.Variable((10,10))\n",
    "t = cvx.Variable((1,1))\n",
    "u = cvx.Variable((11,1))\n",
    "rf = rf\n",
    "Omega = Omega \n",
    "x_mkt = np.array(mkt).reshape(-1,1)\n",
    "e = e.reshape(-1,1)\n",
    "I = np.identity(11)\n",
    "q = q.reshape(-1,1)\n",
    "\n",
    "# sigma_bar.dot(x_mkt)\n",
    "Cons = [\n",
    "    u - np.linalg.inv(np.sqrt(Omega)) @ cvx.vstack([mu_io - rf*e - sigma_bar@x_mkt, \\\n",
    "                                                          P @ mu_io - q]) == 0,\n",
    "    cvx.vstack([ cvx.hstack([t, u.T]), cvx.hstack([u, I]) ]) >> 0,\n",
    "    sigma_bar >= 0\n",
    "]\n",
    "\n",
    "objective = cvx.Minimize(t)\n",
    "prob = cvx.Problem(objective, Cons)\n",
    "prob.solve(solver='CVXOPT')  # Returns the optimal value.\n",
    "print(\"status:\", prob.status)\n",
    "print(\"optimal value\", prob.value)\n",
    "# print(\"optimal var\", x.value, y.value)\n",
    "print(mu_io.value)\n",
    "print(sigma_bar.value)"
   ]
  },
  {
   "cell_type": "code",
   "execution_count": null,
   "metadata": {},
   "outputs": [],
   "source": []
  },
  {
   "cell_type": "code",
   "execution_count": null,
   "metadata": {},
   "outputs": [],
   "source": []
  },
  {
   "cell_type": "code",
   "execution_count": null,
   "metadata": {},
   "outputs": [],
   "source": []
  },
  {
   "cell_type": "markdown",
   "metadata": {},
   "source": [
    "# Robust Model MVIO"
   ]
  },
  {
   "cell_type": "markdown",
   "metadata": {},
   "source": [
    "## 1. first solve my the L_mkt"
   ]
  },
  {
   "cell_type": "code",
   "execution_count": 133,
   "metadata": {},
   "outputs": [
    {
     "name": "stdout",
     "output_type": "stream",
     "text": [
      "status: optimal\n",
      "optimal value -0.37046092208281206\n",
      "[[-0.52374263]\n",
      " [-0.74652431]\n",
      " [ 0.01420055]\n",
      " [-0.0727447 ]\n",
      " [-0.02665811]\n",
      " [-0.13263611]\n",
      " [-0.07264937]\n",
      " [-0.0325759 ]\n",
      " [-0.0576705 ]\n",
      " [-0.03249962]]\n"
     ]
    },
    {
     "data": {
      "text/plain": [
       "0.37046092208281206"
      ]
     },
     "execution_count": 133,
     "metadata": {},
     "output_type": "execute_result"
    }
   ],
   "source": [
    "\n",
    "alpha = 0.5\n",
    "k = 5\n",
    "epsilon = 0.1\n",
    "\n",
    "sigma = np.array(Cov)\n",
    "w, v = np.linalg.eig(sigma)\n",
    "\n",
    "w = w[:k]\n",
    "sum_of_w = 1/alpha * np.sum(w)\n",
    "v = v[:k]\n",
    "\n",
    "rf = rf\n",
    "e = np.ones(10).reshape(-1,1)\n",
    "\n",
    "r = cvx.Variable((10,1))\n",
    "\n",
    "sigma_0 = cvx.Variable((10,10), nonneg=True)\n",
    "\n",
    "x_mkt = x_mkt\n",
    "\n",
    "x = r - rf * e\n",
    "\n",
    "# Solving for L\n",
    "Cons = [\n",
    "    matrix_frac(x, sigma_0) <= 1,\n",
    "    cvx.trace(sigma_0) <= sum_of_w\n",
    "]\n",
    "for i in range(k):\n",
    "    Cons = Cons + [cvx.norm(sigma_0 @ v[i].reshape(-1,1) - w[i] * v[i].reshape(-1,1)) <= epsilon]\n",
    "\n",
    "objective = cvx.Minimize( r.T @ x_mkt)\n",
    "prob = cvx.Problem(objective, Cons)\n",
    "prob.solve(solver='CVXOPT')  # Returns the optimal value.\n",
    "print(\"status:\", prob.status)\n",
    "print(\"optimal value\", prob.value)\n",
    "# print(\"optimal var\", x.value, y.value)\n",
    "print(r.value)\n",
    "L_mkt = -r.value.T.dot(x_mkt)[0][0]\n",
    "L_mkt"
   ]
  },
  {
   "cell_type": "markdown",
   "metadata": {},
   "source": [
    "## 2. then solve for the optimal mu"
   ]
  },
  {
   "cell_type": "code",
   "execution_count": 134,
   "metadata": {},
   "outputs": [
    {
     "name": "stdout",
     "output_type": "stream",
     "text": [
      "status: optimal\n",
      "optimal value -5.584753933552943e-07\n",
      "[[0.03180947]\n",
      " [0.04837407]\n",
      " [0.01564255]\n",
      " [0.04959631]\n",
      " [0.0183435 ]\n",
      " [0.02290402]\n",
      " [0.01501146]\n",
      " [0.0153803 ]\n",
      " [0.0310057 ]\n",
      " [0.01671622]]\n"
     ]
    }
   ],
   "source": [
    "alpha = 0.5\n",
    "k = 5\n",
    "epsilon = 0.1\n",
    "\n",
    "sigma = np.array(Cov)\n",
    "w, v = np.linalg.eig(sigma)\n",
    "\n",
    "w = w[:k]\n",
    "sum_of_w = 1/alpha * np.sum(w)\n",
    "v = v[:k]\n",
    "\n",
    "rf = rf\n",
    "e = np.ones(10).reshape(-1,1)\n",
    "\n",
    "P = P\n",
    "q = q\n",
    "\n",
    "mu_0 = cvx.Variable((10,1))\n",
    "z = cvx.Variable((1,1))\n",
    "t = cvx.Variable((1,1))\n",
    "mu_eq = cvx.Variable((10,1))\n",
    "sigma_0 = cvx.Variable((10,10), nonneg=True)\n",
    "\n",
    "x_mkt = x_mkt\n",
    "\n",
    "\n",
    "# Solving for L\n",
    "Cons = [\n",
    "    (mu_eq - rf * e).T @ x_mkt == z * L_mkt,\n",
    "    cvx.vstack([cvx.hstack([sigma_0, mu_eq]), cvx.hstack([mu_eq.T, z])]) >= 0,\n",
    "    cvx.trace(sigma_0) <= sum_of_w,\n",
    "    cvx.matrix_frac(cvx.vstack([mu_0-rf*e-mu_eq, P @ mu_0 - q]), Omega) <= t,\n",
    "]\n",
    "for i in range(k):\n",
    "    Cons = Cons + [cvx.norm(sigma_0 @ v[i].reshape(-1,1) - z * w[i] * v[i].reshape(-1,1)) <= epsilon]\n",
    "\n",
    "objective = cvx.Minimize(t[0,0])\n",
    "prob = cvx.Problem(objective, Cons)\n",
    "prob.solve(solver='SCS')  # Returns the optimal value.\n",
    "print(\"status:\", prob.status)\n",
    "print(\"optimal value\", prob.value)\n",
    "# print(\"optimal var\", x.value, y.value)\n",
    "print(mu_0.value)\n"
   ]
  },
  {
   "cell_type": "code",
   "execution_count": null,
   "metadata": {},
   "outputs": [],
   "source": []
  }
 ],
 "metadata": {
  "kernelspec": {
   "display_name": "Python 3",
   "language": "python",
   "name": "python3"
  },
  "language_info": {
   "codemirror_mode": {
    "name": "ipython",
    "version": 3
   },
   "file_extension": ".py",
   "mimetype": "text/x-python",
   "name": "python",
   "nbconvert_exporter": "python",
   "pygments_lexer": "ipython3",
   "version": "3.7.7"
  }
 },
 "nbformat": 4,
 "nbformat_minor": 2
}
