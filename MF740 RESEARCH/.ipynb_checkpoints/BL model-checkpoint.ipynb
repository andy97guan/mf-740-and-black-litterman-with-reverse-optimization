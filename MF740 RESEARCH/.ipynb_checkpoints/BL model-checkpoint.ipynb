{
 "cells": [
  {
   "cell_type": "code",
   "execution_count": 1,
   "metadata": {},
   "outputs": [
    {
     "name": "stderr",
     "output_type": "stream",
     "text": [
      "E:\\anaconda3\\lib\\site-packages\\pandas_datareader\\compat\\__init__.py:7: FutureWarning: pandas.util.testing is deprecated. Use the functions in the public API at pandas.testing instead.\n",
      "  from pandas.util.testing import assert_frame_equal\n"
     ]
    }
   ],
   "source": [
    "import numpy as np\n",
    "import pandas as pd\n",
    "import matplotlib as mql\n",
    "from pandas_datareader import data as pdr\n",
    "import matplotlib.pyplot as plt\n",
    "from numpy.random import standard_normal as stn\n",
    "from datetime import datetime\n",
    "from sklearn import linear_model\n",
    "import statsmodels.api as sm\n",
    "import scipy.stats as scs\n",
    "from scipy.stats import norm\n",
    "import math\n",
    "from cvxopt import matrix, solvers\n",
    "import scipy.optimize as sco\n",
    "from scipy.fftpack import fft,ifft\n",
    "from sympy import *\n",
    "from sklearn.decomposition import PCA\n",
    "import json\n",
    "from cvxopt import matrix, solvers"
   ]
  },
  {
   "cell_type": "code",
   "execution_count": 2,
   "metadata": {},
   "outputs": [
    {
     "name": "stdout",
     "output_type": "stream",
     "text": [
      "1.0.3\n"
     ]
    }
   ],
   "source": [
    "import pandas as pd\n",
    "print(pd.__version__)"
   ]
  },
  {
   "cell_type": "markdown",
   "metadata": {},
   "source": [
    "## Bl model\n",
    "\n",
    "先随便用几个ETF数据来做,下面是数据处理得到年化log return"
   ]
  },
  {
   "cell_type": "code",
   "execution_count": 3,
   "metadata": {},
   "outputs": [],
   "source": [
    "icode=['AAPL','BA','TSLA','BABA','GS','GOOG','AMZN','TM','F','JPM']\n",
    "data=pdr.get_data_yahoo(icode,start='2017-01-01',end='2019-01-01')   # For data\n",
    "data_close=data['Adj Close']\n",
    "\n",
    "icode2=['^IRX']\n",
    "risk_free=pdr.get_data_yahoo(icode2,start='2017-01-01',end='2019-01-01')\n",
    "risk_free=risk_free['Close']"
   ]
  },
  {
   "cell_type": "code",
   "execution_count": 4,
   "metadata": {},
   "outputs": [
    {
     "data": {
      "text/html": [
       "<div>\n",
       "<style scoped>\n",
       "    .dataframe tbody tr th:only-of-type {\n",
       "        vertical-align: middle;\n",
       "    }\n",
       "\n",
       "    .dataframe tbody tr th {\n",
       "        vertical-align: top;\n",
       "    }\n",
       "\n",
       "    .dataframe thead th {\n",
       "        text-align: right;\n",
       "    }\n",
       "</style>\n",
       "<table border=\"1\" class=\"dataframe\">\n",
       "  <thead>\n",
       "    <tr style=\"text-align: right;\">\n",
       "      <th>Symbols</th>\n",
       "      <th>AAPL</th>\n",
       "      <th>BA</th>\n",
       "      <th>TSLA</th>\n",
       "      <th>BABA</th>\n",
       "      <th>GS</th>\n",
       "      <th>GOOG</th>\n",
       "      <th>AMZN</th>\n",
       "      <th>TM</th>\n",
       "      <th>F</th>\n",
       "      <th>JPM</th>\n",
       "    </tr>\n",
       "    <tr>\n",
       "      <th>Date</th>\n",
       "      <th></th>\n",
       "      <th></th>\n",
       "      <th></th>\n",
       "      <th></th>\n",
       "      <th></th>\n",
       "      <th></th>\n",
       "      <th></th>\n",
       "      <th></th>\n",
       "      <th></th>\n",
       "      <th></th>\n",
       "    </tr>\n",
       "  </thead>\n",
       "  <tbody>\n",
       "    <tr>\n",
       "      <th>2017-01-03</th>\n",
       "      <td>110.691154</td>\n",
       "      <td>145.533676</td>\n",
       "      <td>216.990005</td>\n",
       "      <td>88.599998</td>\n",
       "      <td>229.168716</td>\n",
       "      <td>786.140015</td>\n",
       "      <td>753.669983</td>\n",
       "      <td>109.734962</td>\n",
       "      <td>10.415051</td>\n",
       "      <td>79.052376</td>\n",
       "    </tr>\n",
       "    <tr>\n",
       "      <th>2017-01-04</th>\n",
       "      <td>110.567276</td>\n",
       "      <td>147.063477</td>\n",
       "      <td>226.990005</td>\n",
       "      <td>90.510002</td>\n",
       "      <td>230.648605</td>\n",
       "      <td>786.900024</td>\n",
       "      <td>757.179993</td>\n",
       "      <td>112.178650</td>\n",
       "      <td>10.894855</td>\n",
       "      <td>79.198174</td>\n",
       "    </tr>\n",
       "    <tr>\n",
       "      <th>2017-01-05</th>\n",
       "      <td>111.129562</td>\n",
       "      <td>147.146927</td>\n",
       "      <td>226.750000</td>\n",
       "      <td>94.370003</td>\n",
       "      <td>228.931519</td>\n",
       "      <td>794.020020</td>\n",
       "      <td>780.450012</td>\n",
       "      <td>111.484436</td>\n",
       "      <td>10.563956</td>\n",
       "      <td>78.469170</td>\n",
       "    </tr>\n",
       "    <tr>\n",
       "      <th>2017-01-06</th>\n",
       "      <td>112.368469</td>\n",
       "      <td>147.508514</td>\n",
       "      <td>229.009995</td>\n",
       "      <td>93.889999</td>\n",
       "      <td>232.327744</td>\n",
       "      <td>806.150024</td>\n",
       "      <td>795.989990</td>\n",
       "      <td>111.197479</td>\n",
       "      <td>10.555683</td>\n",
       "      <td>78.478271</td>\n",
       "    </tr>\n",
       "    <tr>\n",
       "      <th>2017-01-09</th>\n",
       "      <td>113.397697</td>\n",
       "      <td>146.785309</td>\n",
       "      <td>231.279999</td>\n",
       "      <td>94.720001</td>\n",
       "      <td>230.420914</td>\n",
       "      <td>806.650024</td>\n",
       "      <td>796.919983</td>\n",
       "      <td>110.836479</td>\n",
       "      <td>10.448141</td>\n",
       "      <td>78.532944</td>\n",
       "    </tr>\n",
       "  </tbody>\n",
       "</table>\n",
       "</div>"
      ],
      "text/plain": [
       "Symbols           AAPL          BA        TSLA       BABA          GS  \\\n",
       "Date                                                                    \n",
       "2017-01-03  110.691154  145.533676  216.990005  88.599998  229.168716   \n",
       "2017-01-04  110.567276  147.063477  226.990005  90.510002  230.648605   \n",
       "2017-01-05  111.129562  147.146927  226.750000  94.370003  228.931519   \n",
       "2017-01-06  112.368469  147.508514  229.009995  93.889999  232.327744   \n",
       "2017-01-09  113.397697  146.785309  231.279999  94.720001  230.420914   \n",
       "\n",
       "Symbols           GOOG        AMZN          TM          F        JPM  \n",
       "Date                                                                  \n",
       "2017-01-03  786.140015  753.669983  109.734962  10.415051  79.052376  \n",
       "2017-01-04  786.900024  757.179993  112.178650  10.894855  79.198174  \n",
       "2017-01-05  794.020020  780.450012  111.484436  10.563956  78.469170  \n",
       "2017-01-06  806.150024  795.989990  111.197479  10.555683  78.478271  \n",
       "2017-01-09  806.650024  796.919983  110.836479  10.448141  78.532944  "
      ]
     },
     "execution_count": 4,
     "metadata": {},
     "output_type": "execute_result"
    }
   ],
   "source": [
    "data_close.head()"
   ]
  },
  {
   "cell_type": "code",
   "execution_count": 5,
   "metadata": {},
   "outputs": [],
   "source": [
    "returns = np.log(data_close.shift(-1)/data_close)\n",
    "returns=returns.dropna(axis=0,how='all')     #kill nan\n",
    "Cov=returns.cov()\n",
    "annual_returns=returns*252"
   ]
  },
  {
   "cell_type": "code",
   "execution_count": 6,
   "metadata": {},
   "outputs": [
    {
     "data": {
      "text/html": [
       "<div>\n",
       "<style scoped>\n",
       "    .dataframe tbody tr th:only-of-type {\n",
       "        vertical-align: middle;\n",
       "    }\n",
       "\n",
       "    .dataframe tbody tr th {\n",
       "        vertical-align: top;\n",
       "    }\n",
       "\n",
       "    .dataframe thead th {\n",
       "        text-align: right;\n",
       "    }\n",
       "</style>\n",
       "<table border=\"1\" class=\"dataframe\">\n",
       "  <thead>\n",
       "    <tr style=\"text-align: right;\">\n",
       "      <th>Symbols</th>\n",
       "      <th>AAPL</th>\n",
       "      <th>BA</th>\n",
       "      <th>TSLA</th>\n",
       "      <th>BABA</th>\n",
       "      <th>GS</th>\n",
       "      <th>GOOG</th>\n",
       "      <th>AMZN</th>\n",
       "      <th>TM</th>\n",
       "      <th>F</th>\n",
       "      <th>JPM</th>\n",
       "    </tr>\n",
       "    <tr>\n",
       "      <th>Date</th>\n",
       "      <th></th>\n",
       "      <th></th>\n",
       "      <th></th>\n",
       "      <th></th>\n",
       "      <th></th>\n",
       "      <th></th>\n",
       "      <th></th>\n",
       "      <th></th>\n",
       "      <th></th>\n",
       "      <th></th>\n",
       "    </tr>\n",
       "  </thead>\n",
       "  <tbody>\n",
       "    <tr>\n",
       "      <th>2017-01-03</th>\n",
       "      <td>-0.282180</td>\n",
       "      <td>2.635113</td>\n",
       "      <td>11.353783</td>\n",
       "      <td>5.374788</td>\n",
       "      <td>1.622093</td>\n",
       "      <td>0.243506</td>\n",
       "      <td>1.170896</td>\n",
       "      <td>5.550215</td>\n",
       "      <td>11.349750</td>\n",
       "      <td>0.464340</td>\n",
       "    </tr>\n",
       "    <tr>\n",
       "      <th>2017-01-04</th>\n",
       "      <td>1.278290</td>\n",
       "      <td>0.142955</td>\n",
       "      <td>-0.266591</td>\n",
       "      <td>10.524248</td>\n",
       "      <td>-1.883057</td>\n",
       "      <td>2.269882</td>\n",
       "      <td>7.627963</td>\n",
       "      <td>-1.564339</td>\n",
       "      <td>-7.772399</td>\n",
       "      <td>-2.330353</td>\n",
       "    </tr>\n",
       "    <tr>\n",
       "      <th>2017-01-05</th>\n",
       "      <td>2.793830</td>\n",
       "      <td>0.618486</td>\n",
       "      <td>2.499225</td>\n",
       "      <td>-1.285043</td>\n",
       "      <td>3.710990</td>\n",
       "      <td>3.820619</td>\n",
       "      <td>4.968411</td>\n",
       "      <td>-0.649475</td>\n",
       "      <td>-0.197430</td>\n",
       "      <td>0.029229</td>\n",
       "    </tr>\n",
       "    <tr>\n",
       "      <th>2017-01-06</th>\n",
       "      <td>2.297663</td>\n",
       "      <td>-1.238546</td>\n",
       "      <td>2.485588</td>\n",
       "      <td>2.217929</td>\n",
       "      <td>-2.076824</td>\n",
       "      <td>0.156250</td>\n",
       "      <td>0.294252</td>\n",
       "      <td>-0.819443</td>\n",
       "      <td>-2.580562</td>\n",
       "      <td>0.175496</td>\n",
       "    </tr>\n",
       "    <tr>\n",
       "      <th>2017-01-09</th>\n",
       "      <td>0.254038</td>\n",
       "      <td>1.190968</td>\n",
       "      <td>-1.541026</td>\n",
       "      <td>5.343697</td>\n",
       "      <td>-0.332206</td>\n",
       "      <td>-0.581755</td>\n",
       "      <td>-0.322735</td>\n",
       "      <td>0.042096</td>\n",
       "      <td>4.351754</td>\n",
       "      <td>0.729936</td>\n",
       "    </tr>\n",
       "  </tbody>\n",
       "</table>\n",
       "</div>"
      ],
      "text/plain": [
       "Symbols         AAPL        BA       TSLA       BABA        GS      GOOG  \\\n",
       "Date                                                                       \n",
       "2017-01-03 -0.282180  2.635113  11.353783   5.374788  1.622093  0.243506   \n",
       "2017-01-04  1.278290  0.142955  -0.266591  10.524248 -1.883057  2.269882   \n",
       "2017-01-05  2.793830  0.618486   2.499225  -1.285043  3.710990  3.820619   \n",
       "2017-01-06  2.297663 -1.238546   2.485588   2.217929 -2.076824  0.156250   \n",
       "2017-01-09  0.254038  1.190968  -1.541026   5.343697 -0.332206 -0.581755   \n",
       "\n",
       "Symbols         AMZN        TM          F       JPM  \n",
       "Date                                                 \n",
       "2017-01-03  1.170896  5.550215  11.349750  0.464340  \n",
       "2017-01-04  7.627963 -1.564339  -7.772399 -2.330353  \n",
       "2017-01-05  4.968411 -0.649475  -0.197430  0.029229  \n",
       "2017-01-06  0.294252 -0.819443  -2.580562  0.175496  \n",
       "2017-01-09 -0.322735  0.042096   4.351754  0.729936  "
      ]
     },
     "execution_count": 6,
     "metadata": {},
     "output_type": "execute_result"
    }
   ],
   "source": [
    "annual_returns.head()"
   ]
  },
  {
   "cell_type": "code",
   "execution_count": 7,
   "metadata": {},
   "outputs": [],
   "source": [
    "risk_free=risk_free/100"
   ]
  },
  {
   "cell_type": "code",
   "execution_count": null,
   "metadata": {},
   "outputs": [],
   "source": []
  },
  {
   "cell_type": "markdown",
   "metadata": {},
   "source": [
    "### BL model 建立\n",
    "#### $\\mu$"
   ]
  },
  {
   "cell_type": "code",
   "execution_count": 8,
   "metadata": {},
   "outputs": [
    {
     "data": {
      "text/plain": [
       "Symbols\n",
       "AAPL    0.169469\n",
       "BA      0.385788\n",
       "TSLA    0.215126\n",
       "BABA    0.219486\n",
       "GS     -0.172359\n",
       "GOOG    0.138631\n",
       "AMZN    0.346854\n",
       "TM      0.021575\n",
       "F      -0.196012\n",
       "JPM     0.082235\n",
       "dtype: float64"
      ]
     },
     "execution_count": 8,
     "metadata": {},
     "output_type": "execute_result"
    }
   ],
   "source": [
    "mu=np.mean(annual_returns)\n",
    "mu"
   ]
  },
  {
   "cell_type": "markdown",
   "metadata": {},
   "source": [
    "#### $r_f$"
   ]
  },
  {
   "cell_type": "code",
   "execution_count": 9,
   "metadata": {},
   "outputs": [
    {
     "data": {
      "text/plain": [
       "0.014200682729243259"
      ]
     },
     "execution_count": 9,
     "metadata": {},
     "output_type": "execute_result"
    }
   ],
   "source": [
    "rf=risk_free.mean()[0]\n",
    "rf"
   ]
  },
  {
   "cell_type": "markdown",
   "metadata": {},
   "source": [
    "#### $\\Sigma$"
   ]
  },
  {
   "cell_type": "code",
   "execution_count": 10,
   "metadata": {},
   "outputs": [],
   "source": [
    "Cov=Cov*252"
   ]
  },
  {
   "cell_type": "code",
   "execution_count": 11,
   "metadata": {},
   "outputs": [
    {
     "data": {
      "text/html": [
       "<div>\n",
       "<style scoped>\n",
       "    .dataframe tbody tr th:only-of-type {\n",
       "        vertical-align: middle;\n",
       "    }\n",
       "\n",
       "    .dataframe tbody tr th {\n",
       "        vertical-align: top;\n",
       "    }\n",
       "\n",
       "    .dataframe thead th {\n",
       "        text-align: right;\n",
       "    }\n",
       "</style>\n",
       "<table border=\"1\" class=\"dataframe\">\n",
       "  <thead>\n",
       "    <tr style=\"text-align: right;\">\n",
       "      <th>Symbols</th>\n",
       "      <th>AAPL</th>\n",
       "      <th>BA</th>\n",
       "      <th>TSLA</th>\n",
       "      <th>BABA</th>\n",
       "      <th>GS</th>\n",
       "      <th>GOOG</th>\n",
       "      <th>AMZN</th>\n",
       "      <th>TM</th>\n",
       "      <th>F</th>\n",
       "      <th>JPM</th>\n",
       "    </tr>\n",
       "    <tr>\n",
       "      <th>Symbols</th>\n",
       "      <th></th>\n",
       "      <th></th>\n",
       "      <th></th>\n",
       "      <th></th>\n",
       "      <th></th>\n",
       "      <th></th>\n",
       "      <th></th>\n",
       "      <th></th>\n",
       "      <th></th>\n",
       "      <th></th>\n",
       "    </tr>\n",
       "  </thead>\n",
       "  <tbody>\n",
       "    <tr>\n",
       "      <th>AAPL</th>\n",
       "      <td>0.056962</td>\n",
       "      <td>0.026320</td>\n",
       "      <td>0.035018</td>\n",
       "      <td>0.035597</td>\n",
       "      <td>0.025481</td>\n",
       "      <td>0.034471</td>\n",
       "      <td>0.043662</td>\n",
       "      <td>0.015030</td>\n",
       "      <td>0.012213</td>\n",
       "      <td>0.019482</td>\n",
       "    </tr>\n",
       "    <tr>\n",
       "      <th>BA</th>\n",
       "      <td>0.026320</td>\n",
       "      <td>0.064442</td>\n",
       "      <td>0.028154</td>\n",
       "      <td>0.031532</td>\n",
       "      <td>0.028079</td>\n",
       "      <td>0.028681</td>\n",
       "      <td>0.034109</td>\n",
       "      <td>0.017858</td>\n",
       "      <td>0.014637</td>\n",
       "      <td>0.023519</td>\n",
       "    </tr>\n",
       "    <tr>\n",
       "      <th>TSLA</th>\n",
       "      <td>0.035018</td>\n",
       "      <td>0.028154</td>\n",
       "      <td>0.229940</td>\n",
       "      <td>0.041285</td>\n",
       "      <td>0.023631</td>\n",
       "      <td>0.034706</td>\n",
       "      <td>0.045234</td>\n",
       "      <td>0.012347</td>\n",
       "      <td>0.023461</td>\n",
       "      <td>0.019655</td>\n",
       "    </tr>\n",
       "    <tr>\n",
       "      <th>BABA</th>\n",
       "      <td>0.035597</td>\n",
       "      <td>0.031532</td>\n",
       "      <td>0.041285</td>\n",
       "      <td>0.100194</td>\n",
       "      <td>0.027906</td>\n",
       "      <td>0.043376</td>\n",
       "      <td>0.051852</td>\n",
       "      <td>0.017723</td>\n",
       "      <td>0.018471</td>\n",
       "      <td>0.020923</td>\n",
       "    </tr>\n",
       "    <tr>\n",
       "      <th>GS</th>\n",
       "      <td>0.025481</td>\n",
       "      <td>0.028079</td>\n",
       "      <td>0.023631</td>\n",
       "      <td>0.027906</td>\n",
       "      <td>0.052992</td>\n",
       "      <td>0.027371</td>\n",
       "      <td>0.028061</td>\n",
       "      <td>0.017244</td>\n",
       "      <td>0.022015</td>\n",
       "      <td>0.035589</td>\n",
       "    </tr>\n",
       "  </tbody>\n",
       "</table>\n",
       "</div>"
      ],
      "text/plain": [
       "Symbols      AAPL        BA      TSLA      BABA        GS      GOOG      AMZN  \\\n",
       "Symbols                                                                         \n",
       "AAPL     0.056962  0.026320  0.035018  0.035597  0.025481  0.034471  0.043662   \n",
       "BA       0.026320  0.064442  0.028154  0.031532  0.028079  0.028681  0.034109   \n",
       "TSLA     0.035018  0.028154  0.229940  0.041285  0.023631  0.034706  0.045234   \n",
       "BABA     0.035597  0.031532  0.041285  0.100194  0.027906  0.043376  0.051852   \n",
       "GS       0.025481  0.028079  0.023631  0.027906  0.052992  0.027371  0.028061   \n",
       "\n",
       "Symbols        TM         F       JPM  \n",
       "Symbols                                \n",
       "AAPL     0.015030  0.012213  0.019482  \n",
       "BA       0.017858  0.014637  0.023519  \n",
       "TSLA     0.012347  0.023461  0.019655  \n",
       "BABA     0.017723  0.018471  0.020923  \n",
       "GS       0.017244  0.022015  0.035589  "
      ]
     },
     "execution_count": 11,
     "metadata": {},
     "output_type": "execute_result"
    }
   ],
   "source": [
    "Cov.head()"
   ]
  },
  {
   "cell_type": "markdown",
   "metadata": {},
   "source": [
    "#### risk aversion L"
   ]
  },
  {
   "cell_type": "code",
   "execution_count": 12,
   "metadata": {},
   "outputs": [],
   "source": [
    "L=1"
   ]
  },
  {
   "cell_type": "markdown",
   "metadata": {},
   "source": [
    "#### $x_{mkt}$"
   ]
  },
  {
   "cell_type": "code",
   "execution_count": 13,
   "metadata": {},
   "outputs": [],
   "source": [
    "mkt=pdr.get_quote_yahoo(icode)['marketCap']\n",
    "mkt=mkt/(np.sum(mkt))"
   ]
  },
  {
   "cell_type": "code",
   "execution_count": 14,
   "metadata": {},
   "outputs": [
    {
     "data": {
      "text/plain": [
       "AAPL    0.268756\n",
       "BA      0.016334\n",
       "TSLA    0.031269\n",
       "BABA    0.120941\n",
       "GS      0.014179\n",
       "GOOG    0.186617\n",
       "AMZN    0.254360\n",
       "TM      0.038819\n",
       "F       0.004717\n",
       "JPM     0.064008\n",
       "Name: marketCap, dtype: float64"
      ]
     },
     "execution_count": 14,
     "metadata": {},
     "output_type": "execute_result"
    }
   ],
   "source": [
    "mkt"
   ]
  },
  {
   "cell_type": "code",
   "execution_count": 15,
   "metadata": {},
   "outputs": [
    {
     "data": {
      "text/plain": [
       "Symbols\n",
       "AAPL    0.169469\n",
       "BA      0.385788\n",
       "TSLA    0.215126\n",
       "BABA    0.219486\n",
       "GS     -0.172359\n",
       "GOOG    0.138631\n",
       "AMZN    0.346854\n",
       "TM      0.021575\n",
       "F      -0.196012\n",
       "JPM     0.082235\n",
       "dtype: float64"
      ]
     },
     "execution_count": 15,
     "metadata": {},
     "output_type": "execute_result"
    }
   ],
   "source": [
    "mu"
   ]
  },
  {
   "cell_type": "markdown",
   "metadata": {},
   "source": [
    "#### Directly $x_{hist}$"
   ]
  },
  {
   "cell_type": "code",
   "execution_count": 19,
   "metadata": {},
   "outputs": [
    {
     "name": "stdout",
     "output_type": "stream",
     "text": [
      "     fun: -3.032992311088165\n",
      "     jac: array([-0.15526837, -0.37158775, -0.20092499, -0.20528579,  0.18656015,\n",
      "       -0.12443   , -0.33265305, -0.00737458,  0.21021265, -0.06803396])\n",
      " message: 'Optimization terminated successfully.'\n",
      "    nfev: 337\n",
      "     nit: 28\n",
      "    njev: 28\n",
      "  status: 0\n",
      " success: True\n",
      "       x: array([ 0.15811355,  2.34957473,  0.09811522,  0.29297099, -5.25642254,\n",
      "       -0.50310169,  1.35497823, -0.3887783 , -1.77813722,  4.43331816])\n"
     ]
    }
   ],
   "source": [
    "#(a)\n",
    "num=len(icode)\n",
    "e=np.zeros(num)+1\n",
    "\n",
    "def statistics1(weights):\n",
    "    \n",
    "    weights=np.array(weights)\n",
    "    \n",
    "    Mark1=np.dot(mu.T,weights)\n",
    "    Mark2=(1-np.dot(e.T,weights))*rf\n",
    "\n",
    "    \n",
    "    \n",
    "    return [Mark1+Mark2]\n",
    "\n",
    "def max_Mark(weights):\n",
    "    \n",
    "    return -1*statistics1(weights)[0]\n",
    "\n",
    "cons = (\n",
    "       {'type':'ineq', 'fun':lambda x: -np.sqrt(np.dot(np.dot(x.T,Cov),x))+L}\n",
    "       )\n",
    "bnds = tuple((0,100) for x in range(num))\n",
    "hist = sco.minimize(max_Mark, num*[1./num,], method = 'SLSQP', constraints = cons)\n",
    "print(hist)"
   ]
  },
  {
   "cell_type": "code",
   "execution_count": 52,
   "metadata": {},
   "outputs": [
    {
     "data": {
      "text/plain": [
       "1"
      ]
     },
     "execution_count": 52,
     "metadata": {},
     "output_type": "execute_result"
    }
   ],
   "source": [
    "L"
   ]
  },
  {
   "cell_type": "code",
   "execution_count": 58,
   "metadata": {},
   "outputs": [
    {
     "ename": "Exception",
     "evalue": "Cannot evaluate the truth value of a constraint or chain constraints, e.g., 1 >= x >= 0.",
     "output_type": "error",
     "traceback": [
      "\u001b[1;31m---------------------------------------------------------------------------\u001b[0m",
      "\u001b[1;31mException\u001b[0m                                 Traceback (most recent call last)",
      "\u001b[1;32m<ipython-input-58-d7d638973faf>\u001b[0m in \u001b[0;36m<module>\u001b[1;34m\u001b[0m\n\u001b[0;32m     10\u001b[0m \u001b[1;31m# sigma_bar.dot(x_mkt)\u001b[0m\u001b[1;33m\u001b[0m\u001b[1;33m\u001b[0m\u001b[1;33m\u001b[0m\u001b[0m\n\u001b[0;32m     11\u001b[0m Cons = [\n\u001b[1;32m---> 12\u001b[1;33m     \u001b[0mnp\u001b[0m\u001b[1;33m.\u001b[0m\u001b[0mdot\u001b[0m\u001b[1;33m(\u001b[0m\u001b[0mnp\u001b[0m\u001b[1;33m.\u001b[0m\u001b[0mdot\u001b[0m\u001b[1;33m(\u001b[0m\u001b[0mx\u001b[0m\u001b[1;33m.\u001b[0m\u001b[0mT\u001b[0m\u001b[1;33m,\u001b[0m\u001b[0mCov\u001b[0m\u001b[1;33m)\u001b[0m\u001b[1;33m,\u001b[0m\u001b[0mx\u001b[0m\u001b[1;33m)\u001b[0m\u001b[1;33m<=\u001b[0m\u001b[0mL\u001b[0m\u001b[1;33m**\u001b[0m\u001b[1;36m2\u001b[0m\u001b[1;33m\u001b[0m\u001b[1;33m\u001b[0m\u001b[0m\n\u001b[0m\u001b[0;32m     13\u001b[0m ]\n\u001b[0;32m     14\u001b[0m \u001b[0mobjective\u001b[0m \u001b[1;33m=\u001b[0m \u001b[0mcvx\u001b[0m\u001b[1;33m.\u001b[0m\u001b[0mMaximize\u001b[0m\u001b[1;33m(\u001b[0m\u001b[0mnp\u001b[0m\u001b[1;33m.\u001b[0m\u001b[0mdot\u001b[0m\u001b[1;33m(\u001b[0m\u001b[0mu\u001b[0m\u001b[1;33m.\u001b[0m\u001b[0mT\u001b[0m\u001b[1;33m,\u001b[0m\u001b[0mx\u001b[0m\u001b[1;33m)\u001b[0m\u001b[1;33m+\u001b[0m\u001b[1;33m(\u001b[0m\u001b[1;36m1\u001b[0m\u001b[1;33m-\u001b[0m\u001b[0mnp\u001b[0m\u001b[1;33m.\u001b[0m\u001b[0mdot\u001b[0m\u001b[1;33m(\u001b[0m\u001b[0me\u001b[0m\u001b[1;33m.\u001b[0m\u001b[0mT\u001b[0m\u001b[1;33m,\u001b[0m\u001b[0mx\u001b[0m\u001b[1;33m)\u001b[0m\u001b[1;33m)\u001b[0m\u001b[1;33m*\u001b[0m\u001b[0mrf\u001b[0m\u001b[1;33m)\u001b[0m\u001b[1;33m\u001b[0m\u001b[1;33m\u001b[0m\u001b[0m\n",
      "\u001b[1;32mE:\\anaconda3\\lib\\site-packages\\cvxpy\\constraints\\constraint.py\u001b[0m in \u001b[0;36m__bool__\u001b[1;34m(self)\u001b[0m\n\u001b[0;32m    215\u001b[0m         \u001b[0mRaising\u001b[0m \u001b[0man\u001b[0m \u001b[0merror\u001b[0m \u001b[0mhere\u001b[0m \u001b[0mprevents\u001b[0m \u001b[0mwriting\u001b[0m \u001b[0mchained\u001b[0m \u001b[0mconstraints\u001b[0m\u001b[1;33m.\u001b[0m\u001b[1;33m\u001b[0m\u001b[1;33m\u001b[0m\u001b[0m\n\u001b[0;32m    216\u001b[0m         \"\"\"\n\u001b[1;32m--> 217\u001b[1;33m         \u001b[1;32mreturn\u001b[0m \u001b[0mself\u001b[0m\u001b[1;33m.\u001b[0m\u001b[0m_chain_constraints\u001b[0m\u001b[1;33m(\u001b[0m\u001b[1;33m)\u001b[0m\u001b[1;33m\u001b[0m\u001b[1;33m\u001b[0m\u001b[0m\n\u001b[0m\u001b[0;32m    218\u001b[0m \u001b[1;33m\u001b[0m\u001b[0m\n\u001b[0;32m    219\u001b[0m     \u001b[1;31m# The value of the dual variable.\u001b[0m\u001b[1;33m\u001b[0m\u001b[1;33m\u001b[0m\u001b[1;33m\u001b[0m\u001b[0m\n",
      "\u001b[1;32mE:\\anaconda3\\lib\\site-packages\\cvxpy\\constraints\\constraint.py\u001b[0m in \u001b[0;36m_chain_constraints\u001b[1;34m(self)\u001b[0m\n\u001b[0;32m    203\u001b[0m         \"\"\"\n\u001b[0;32m    204\u001b[0m         raise Exception(\n\u001b[1;32m--> 205\u001b[1;33m             (\"Cannot evaluate the truth value of a constraint or \"\n\u001b[0m\u001b[0;32m    206\u001b[0m              \"chain constraints, e.g., 1 >= x >= 0.\")\n\u001b[0;32m    207\u001b[0m         )\n",
      "\u001b[1;31mException\u001b[0m: Cannot evaluate the truth value of a constraint or chain constraints, e.g., 1 >= x >= 0."
     ]
    }
   ],
   "source": [
    "import cvxpy as cvx\n",
    "x = cvx.Variable((10,1))\n",
    "# sigma_bar = cvx.Variable((10,10))\n",
    "rf = rf\n",
    "# x = cp.Variable((10,1))\n",
    "e = e.reshape(-1,1)\n",
    "I = np.identity(11)\n",
    "\n",
    "\n",
    "# sigma_bar.dot(x_mkt)\n",
    "Cons = [\n",
    "    np.dot(np.dot(x.T,Cov),x)<=L**2\n",
    "]\n",
    "objective = cvx.Maximize(np.dot(u.T,x)+(1-np.dot(e.T,x))*rf)\n",
    "prob = cvx.Problem(objective, Cons)\n",
    "prob.solve(solver='CVXOPT')  # Returns the optimal value.\n",
    "print(\"status:\", prob.status)\n",
    "print(\"optimal value\", prob.value)\n",
    "# print(\"optimal var\", x.value, y.value)"
   ]
  },
  {
   "cell_type": "code",
   "execution_count": 22,
   "metadata": {},
   "outputs": [
    {
     "data": {
      "text/plain": [
       "array([  20.78715171,  308.89804495,   12.89918565,   38.51682773,\n",
       "       -691.06065059,  -66.14266185,  178.13867273,  -51.11259303,\n",
       "       -233.77128706,  582.84730975])"
      ]
     },
     "execution_count": 22,
     "metadata": {},
     "output_type": "execute_result"
    }
   ],
   "source": [
    "x_hist=hist.x/np.sum(hist.x)*100\n",
    "x_hist"
   ]
  },
  {
   "cell_type": "code",
   "execution_count": null,
   "metadata": {},
   "outputs": [],
   "source": [
    "#,options={'maxiter': 100000}"
   ]
  },
  {
   "cell_type": "markdown",
   "metadata": {},
   "source": [
    "#### BL model\n",
    "$\\delta$"
   ]
  },
  {
   "cell_type": "code",
   "execution_count": 23,
   "metadata": {},
   "outputs": [],
   "source": [
    "delta=1.25"
   ]
  },
  {
   "cell_type": "markdown",
   "metadata": {},
   "source": [
    "$P$"
   ]
  },
  {
   "cell_type": "code",
   "execution_count": 24,
   "metadata": {},
   "outputs": [],
   "source": [
    "P=[-0.1,0,0,-0.2,0.4,-0.1,0.3,0,-0.4,0.1]\n",
    "P=np.array(P)"
   ]
  },
  {
   "cell_type": "markdown",
   "metadata": {},
   "source": [
    "$\\hat{\\Sigma}$"
   ]
  },
  {
   "cell_type": "code",
   "execution_count": 25,
   "metadata": {},
   "outputs": [],
   "source": [
    "Cov1=Cov"
   ]
  },
  {
   "cell_type": "code",
   "execution_count": 26,
   "metadata": {},
   "outputs": [
    {
     "data": {
      "text/html": [
       "<div>\n",
       "<style scoped>\n",
       "    .dataframe tbody tr th:only-of-type {\n",
       "        vertical-align: middle;\n",
       "    }\n",
       "\n",
       "    .dataframe tbody tr th {\n",
       "        vertical-align: top;\n",
       "    }\n",
       "\n",
       "    .dataframe thead th {\n",
       "        text-align: right;\n",
       "    }\n",
       "</style>\n",
       "<table border=\"1\" class=\"dataframe\">\n",
       "  <thead>\n",
       "    <tr style=\"text-align: right;\">\n",
       "      <th>Symbols</th>\n",
       "      <th>AAPL</th>\n",
       "      <th>BA</th>\n",
       "      <th>TSLA</th>\n",
       "      <th>BABA</th>\n",
       "      <th>GS</th>\n",
       "      <th>GOOG</th>\n",
       "      <th>AMZN</th>\n",
       "      <th>TM</th>\n",
       "      <th>F</th>\n",
       "      <th>JPM</th>\n",
       "    </tr>\n",
       "    <tr>\n",
       "      <th>Symbols</th>\n",
       "      <th></th>\n",
       "      <th></th>\n",
       "      <th></th>\n",
       "      <th></th>\n",
       "      <th></th>\n",
       "      <th></th>\n",
       "      <th></th>\n",
       "      <th></th>\n",
       "      <th></th>\n",
       "      <th></th>\n",
       "    </tr>\n",
       "  </thead>\n",
       "  <tbody>\n",
       "    <tr>\n",
       "      <th>AAPL</th>\n",
       "      <td>0.056962</td>\n",
       "      <td>0.026320</td>\n",
       "      <td>0.035018</td>\n",
       "      <td>0.035597</td>\n",
       "      <td>0.025481</td>\n",
       "      <td>0.034471</td>\n",
       "      <td>0.043662</td>\n",
       "      <td>0.015030</td>\n",
       "      <td>0.012213</td>\n",
       "      <td>0.019482</td>\n",
       "    </tr>\n",
       "    <tr>\n",
       "      <th>BA</th>\n",
       "      <td>0.026320</td>\n",
       "      <td>0.064442</td>\n",
       "      <td>0.028154</td>\n",
       "      <td>0.031532</td>\n",
       "      <td>0.028079</td>\n",
       "      <td>0.028681</td>\n",
       "      <td>0.034109</td>\n",
       "      <td>0.017858</td>\n",
       "      <td>0.014637</td>\n",
       "      <td>0.023519</td>\n",
       "    </tr>\n",
       "    <tr>\n",
       "      <th>TSLA</th>\n",
       "      <td>0.035018</td>\n",
       "      <td>0.028154</td>\n",
       "      <td>0.229940</td>\n",
       "      <td>0.041285</td>\n",
       "      <td>0.023631</td>\n",
       "      <td>0.034706</td>\n",
       "      <td>0.045234</td>\n",
       "      <td>0.012347</td>\n",
       "      <td>0.023461</td>\n",
       "      <td>0.019655</td>\n",
       "    </tr>\n",
       "    <tr>\n",
       "      <th>BABA</th>\n",
       "      <td>0.035597</td>\n",
       "      <td>0.031532</td>\n",
       "      <td>0.041285</td>\n",
       "      <td>0.100194</td>\n",
       "      <td>0.027906</td>\n",
       "      <td>0.043376</td>\n",
       "      <td>0.051852</td>\n",
       "      <td>0.017723</td>\n",
       "      <td>0.018471</td>\n",
       "      <td>0.020923</td>\n",
       "    </tr>\n",
       "    <tr>\n",
       "      <th>GS</th>\n",
       "      <td>0.025481</td>\n",
       "      <td>0.028079</td>\n",
       "      <td>0.023631</td>\n",
       "      <td>0.027906</td>\n",
       "      <td>0.052992</td>\n",
       "      <td>0.027371</td>\n",
       "      <td>0.028061</td>\n",
       "      <td>0.017244</td>\n",
       "      <td>0.022015</td>\n",
       "      <td>0.035589</td>\n",
       "    </tr>\n",
       "    <tr>\n",
       "      <th>GOOG</th>\n",
       "      <td>0.034471</td>\n",
       "      <td>0.028681</td>\n",
       "      <td>0.034706</td>\n",
       "      <td>0.043376</td>\n",
       "      <td>0.027371</td>\n",
       "      <td>0.051729</td>\n",
       "      <td>0.048904</td>\n",
       "      <td>0.018814</td>\n",
       "      <td>0.015602</td>\n",
       "      <td>0.020515</td>\n",
       "    </tr>\n",
       "    <tr>\n",
       "      <th>AMZN</th>\n",
       "      <td>0.043662</td>\n",
       "      <td>0.034109</td>\n",
       "      <td>0.045234</td>\n",
       "      <td>0.051852</td>\n",
       "      <td>0.028061</td>\n",
       "      <td>0.048904</td>\n",
       "      <td>0.086385</td>\n",
       "      <td>0.017119</td>\n",
       "      <td>0.014872</td>\n",
       "      <td>0.020684</td>\n",
       "    </tr>\n",
       "    <tr>\n",
       "      <th>TM</th>\n",
       "      <td>0.015030</td>\n",
       "      <td>0.017858</td>\n",
       "      <td>0.012347</td>\n",
       "      <td>0.017723</td>\n",
       "      <td>0.017244</td>\n",
       "      <td>0.018814</td>\n",
       "      <td>0.017119</td>\n",
       "      <td>0.026472</td>\n",
       "      <td>0.014425</td>\n",
       "      <td>0.014592</td>\n",
       "    </tr>\n",
       "    <tr>\n",
       "      <th>F</th>\n",
       "      <td>0.012213</td>\n",
       "      <td>0.014637</td>\n",
       "      <td>0.023461</td>\n",
       "      <td>0.018471</td>\n",
       "      <td>0.022015</td>\n",
       "      <td>0.015602</td>\n",
       "      <td>0.014872</td>\n",
       "      <td>0.014425</td>\n",
       "      <td>0.053109</td>\n",
       "      <td>0.020259</td>\n",
       "    </tr>\n",
       "    <tr>\n",
       "      <th>JPM</th>\n",
       "      <td>0.019482</td>\n",
       "      <td>0.023519</td>\n",
       "      <td>0.019655</td>\n",
       "      <td>0.020923</td>\n",
       "      <td>0.035589</td>\n",
       "      <td>0.020515</td>\n",
       "      <td>0.020684</td>\n",
       "      <td>0.014592</td>\n",
       "      <td>0.020259</td>\n",
       "      <td>0.037703</td>\n",
       "    </tr>\n",
       "  </tbody>\n",
       "</table>\n",
       "</div>"
      ],
      "text/plain": [
       "Symbols      AAPL        BA      TSLA      BABA        GS      GOOG      AMZN  \\\n",
       "Symbols                                                                         \n",
       "AAPL     0.056962  0.026320  0.035018  0.035597  0.025481  0.034471  0.043662   \n",
       "BA       0.026320  0.064442  0.028154  0.031532  0.028079  0.028681  0.034109   \n",
       "TSLA     0.035018  0.028154  0.229940  0.041285  0.023631  0.034706  0.045234   \n",
       "BABA     0.035597  0.031532  0.041285  0.100194  0.027906  0.043376  0.051852   \n",
       "GS       0.025481  0.028079  0.023631  0.027906  0.052992  0.027371  0.028061   \n",
       "GOOG     0.034471  0.028681  0.034706  0.043376  0.027371  0.051729  0.048904   \n",
       "AMZN     0.043662  0.034109  0.045234  0.051852  0.028061  0.048904  0.086385   \n",
       "TM       0.015030  0.017858  0.012347  0.017723  0.017244  0.018814  0.017119   \n",
       "F        0.012213  0.014637  0.023461  0.018471  0.022015  0.015602  0.014872   \n",
       "JPM      0.019482  0.023519  0.019655  0.020923  0.035589  0.020515  0.020684   \n",
       "\n",
       "Symbols        TM         F       JPM  \n",
       "Symbols                                \n",
       "AAPL     0.015030  0.012213  0.019482  \n",
       "BA       0.017858  0.014637  0.023519  \n",
       "TSLA     0.012347  0.023461  0.019655  \n",
       "BABA     0.017723  0.018471  0.020923  \n",
       "GS       0.017244  0.022015  0.035589  \n",
       "GOOG     0.018814  0.015602  0.020515  \n",
       "AMZN     0.017119  0.014872  0.020684  \n",
       "TM       0.026472  0.014425  0.014592  \n",
       "F        0.014425  0.053109  0.020259  \n",
       "JPM      0.014592  0.020259  0.037703  "
      ]
     },
     "execution_count": 26,
     "metadata": {},
     "output_type": "execute_result"
    }
   ],
   "source": [
    "Cov"
   ]
  },
  {
   "cell_type": "code",
   "execution_count": 29,
   "metadata": {},
   "outputs": [
    {
     "data": {
      "text/plain": [
       "AAPL    0.268756\n",
       "BA      0.016334\n",
       "TSLA    0.031269\n",
       "BABA    0.120941\n",
       "GS      0.014179\n",
       "GOOG    0.186617\n",
       "AMZN    0.254360\n",
       "TM      0.038819\n",
       "F       0.004717\n",
       "JPM     0.064008\n",
       "Name: marketCap, dtype: float64"
      ]
     },
     "execution_count": 29,
     "metadata": {},
     "output_type": "execute_result"
    }
   ],
   "source": [
    "mkt"
   ]
  },
  {
   "cell_type": "markdown",
   "metadata": {},
   "source": [
    "$\\hat{r}$"
   ]
  },
  {
   "cell_type": "code",
   "execution_count": 30,
   "metadata": {},
   "outputs": [],
   "source": [
    "r_hat=rf*e+2*delta*np.dot(Cov,mkt)"
   ]
  },
  {
   "cell_type": "code",
   "execution_count": 31,
   "metadata": {},
   "outputs": [
    {
     "data": {
      "text/plain": [
       "array([1., 1., 1., 1., 1., 1., 1., 1., 1., 1.])"
      ]
     },
     "execution_count": 31,
     "metadata": {},
     "output_type": "execute_result"
    }
   ],
   "source": [
    "e"
   ]
  },
  {
   "cell_type": "code",
   "execution_count": 32,
   "metadata": {},
   "outputs": [
    {
     "data": {
      "text/plain": [
       "array([0.11651814, 0.08798639, 0.11975029, 0.13241186, 0.08287265,\n",
       "       0.11585523, 0.14803261, 0.05670152, 0.05320767, 0.06778732])"
      ]
     },
     "execution_count": 32,
     "metadata": {},
     "output_type": "execute_result"
    }
   ],
   "source": [
    "r_hat"
   ]
  },
  {
   "cell_type": "markdown",
   "metadata": {},
   "source": [
    "$q$"
   ]
  },
  {
   "cell_type": "code",
   "execution_count": 33,
   "metadata": {},
   "outputs": [],
   "source": [
    "q=np.dot(P.T,r_hat)\n",
    "q=np.array([q])"
   ]
  },
  {
   "cell_type": "code",
   "execution_count": 34,
   "metadata": {},
   "outputs": [
    {
     "data": {
      "text/plain": [
       "array([0.0133348])"
      ]
     },
     "execution_count": 34,
     "metadata": {},
     "output_type": "execute_result"
    }
   ],
   "source": [
    "q"
   ]
  },
  {
   "cell_type": "markdown",
   "metadata": {},
   "source": [
    "$\\Omega$"
   ]
  },
  {
   "cell_type": "code",
   "execution_count": 35,
   "metadata": {},
   "outputs": [],
   "source": [
    "mm=1\n",
    "r0=1/24\n",
    "r1=0.02*r0\n",
    "rr=[r1]"
   ]
  },
  {
   "cell_type": "code",
   "execution_count": 36,
   "metadata": {},
   "outputs": [
    {
     "data": {
      "text/html": [
       "<div>\n",
       "<style scoped>\n",
       "    .dataframe tbody tr th:only-of-type {\n",
       "        vertical-align: middle;\n",
       "    }\n",
       "\n",
       "    .dataframe tbody tr th {\n",
       "        vertical-align: top;\n",
       "    }\n",
       "\n",
       "    .dataframe thead th {\n",
       "        text-align: right;\n",
       "    }\n",
       "</style>\n",
       "<table border=\"1\" class=\"dataframe\">\n",
       "  <thead>\n",
       "    <tr style=\"text-align: right;\">\n",
       "      <th>Symbols</th>\n",
       "      <th>AAPL</th>\n",
       "      <th>BA</th>\n",
       "      <th>TSLA</th>\n",
       "      <th>BABA</th>\n",
       "      <th>GS</th>\n",
       "      <th>GOOG</th>\n",
       "      <th>AMZN</th>\n",
       "      <th>TM</th>\n",
       "      <th>F</th>\n",
       "      <th>JPM</th>\n",
       "    </tr>\n",
       "    <tr>\n",
       "      <th>Symbols</th>\n",
       "      <th></th>\n",
       "      <th></th>\n",
       "      <th></th>\n",
       "      <th></th>\n",
       "      <th></th>\n",
       "      <th></th>\n",
       "      <th></th>\n",
       "      <th></th>\n",
       "      <th></th>\n",
       "      <th></th>\n",
       "    </tr>\n",
       "  </thead>\n",
       "  <tbody>\n",
       "    <tr>\n",
       "      <th>AAPL</th>\n",
       "      <td>0.056962</td>\n",
       "      <td>0.026320</td>\n",
       "      <td>0.035018</td>\n",
       "      <td>0.035597</td>\n",
       "      <td>0.025481</td>\n",
       "      <td>0.034471</td>\n",
       "      <td>0.043662</td>\n",
       "      <td>0.015030</td>\n",
       "      <td>0.012213</td>\n",
       "      <td>0.019482</td>\n",
       "    </tr>\n",
       "    <tr>\n",
       "      <th>BA</th>\n",
       "      <td>0.026320</td>\n",
       "      <td>0.064442</td>\n",
       "      <td>0.028154</td>\n",
       "      <td>0.031532</td>\n",
       "      <td>0.028079</td>\n",
       "      <td>0.028681</td>\n",
       "      <td>0.034109</td>\n",
       "      <td>0.017858</td>\n",
       "      <td>0.014637</td>\n",
       "      <td>0.023519</td>\n",
       "    </tr>\n",
       "    <tr>\n",
       "      <th>TSLA</th>\n",
       "      <td>0.035018</td>\n",
       "      <td>0.028154</td>\n",
       "      <td>0.229940</td>\n",
       "      <td>0.041285</td>\n",
       "      <td>0.023631</td>\n",
       "      <td>0.034706</td>\n",
       "      <td>0.045234</td>\n",
       "      <td>0.012347</td>\n",
       "      <td>0.023461</td>\n",
       "      <td>0.019655</td>\n",
       "    </tr>\n",
       "    <tr>\n",
       "      <th>BABA</th>\n",
       "      <td>0.035597</td>\n",
       "      <td>0.031532</td>\n",
       "      <td>0.041285</td>\n",
       "      <td>0.100194</td>\n",
       "      <td>0.027906</td>\n",
       "      <td>0.043376</td>\n",
       "      <td>0.051852</td>\n",
       "      <td>0.017723</td>\n",
       "      <td>0.018471</td>\n",
       "      <td>0.020923</td>\n",
       "    </tr>\n",
       "    <tr>\n",
       "      <th>GS</th>\n",
       "      <td>0.025481</td>\n",
       "      <td>0.028079</td>\n",
       "      <td>0.023631</td>\n",
       "      <td>0.027906</td>\n",
       "      <td>0.052992</td>\n",
       "      <td>0.027371</td>\n",
       "      <td>0.028061</td>\n",
       "      <td>0.017244</td>\n",
       "      <td>0.022015</td>\n",
       "      <td>0.035589</td>\n",
       "    </tr>\n",
       "    <tr>\n",
       "      <th>GOOG</th>\n",
       "      <td>0.034471</td>\n",
       "      <td>0.028681</td>\n",
       "      <td>0.034706</td>\n",
       "      <td>0.043376</td>\n",
       "      <td>0.027371</td>\n",
       "      <td>0.051729</td>\n",
       "      <td>0.048904</td>\n",
       "      <td>0.018814</td>\n",
       "      <td>0.015602</td>\n",
       "      <td>0.020515</td>\n",
       "    </tr>\n",
       "    <tr>\n",
       "      <th>AMZN</th>\n",
       "      <td>0.043662</td>\n",
       "      <td>0.034109</td>\n",
       "      <td>0.045234</td>\n",
       "      <td>0.051852</td>\n",
       "      <td>0.028061</td>\n",
       "      <td>0.048904</td>\n",
       "      <td>0.086385</td>\n",
       "      <td>0.017119</td>\n",
       "      <td>0.014872</td>\n",
       "      <td>0.020684</td>\n",
       "    </tr>\n",
       "    <tr>\n",
       "      <th>TM</th>\n",
       "      <td>0.015030</td>\n",
       "      <td>0.017858</td>\n",
       "      <td>0.012347</td>\n",
       "      <td>0.017723</td>\n",
       "      <td>0.017244</td>\n",
       "      <td>0.018814</td>\n",
       "      <td>0.017119</td>\n",
       "      <td>0.026472</td>\n",
       "      <td>0.014425</td>\n",
       "      <td>0.014592</td>\n",
       "    </tr>\n",
       "    <tr>\n",
       "      <th>F</th>\n",
       "      <td>0.012213</td>\n",
       "      <td>0.014637</td>\n",
       "      <td>0.023461</td>\n",
       "      <td>0.018471</td>\n",
       "      <td>0.022015</td>\n",
       "      <td>0.015602</td>\n",
       "      <td>0.014872</td>\n",
       "      <td>0.014425</td>\n",
       "      <td>0.053109</td>\n",
       "      <td>0.020259</td>\n",
       "    </tr>\n",
       "    <tr>\n",
       "      <th>JPM</th>\n",
       "      <td>0.019482</td>\n",
       "      <td>0.023519</td>\n",
       "      <td>0.019655</td>\n",
       "      <td>0.020923</td>\n",
       "      <td>0.035589</td>\n",
       "      <td>0.020515</td>\n",
       "      <td>0.020684</td>\n",
       "      <td>0.014592</td>\n",
       "      <td>0.020259</td>\n",
       "      <td>0.037703</td>\n",
       "    </tr>\n",
       "  </tbody>\n",
       "</table>\n",
       "</div>"
      ],
      "text/plain": [
       "Symbols      AAPL        BA      TSLA      BABA        GS      GOOG      AMZN  \\\n",
       "Symbols                                                                         \n",
       "AAPL     0.056962  0.026320  0.035018  0.035597  0.025481  0.034471  0.043662   \n",
       "BA       0.026320  0.064442  0.028154  0.031532  0.028079  0.028681  0.034109   \n",
       "TSLA     0.035018  0.028154  0.229940  0.041285  0.023631  0.034706  0.045234   \n",
       "BABA     0.035597  0.031532  0.041285  0.100194  0.027906  0.043376  0.051852   \n",
       "GS       0.025481  0.028079  0.023631  0.027906  0.052992  0.027371  0.028061   \n",
       "GOOG     0.034471  0.028681  0.034706  0.043376  0.027371  0.051729  0.048904   \n",
       "AMZN     0.043662  0.034109  0.045234  0.051852  0.028061  0.048904  0.086385   \n",
       "TM       0.015030  0.017858  0.012347  0.017723  0.017244  0.018814  0.017119   \n",
       "F        0.012213  0.014637  0.023461  0.018471  0.022015  0.015602  0.014872   \n",
       "JPM      0.019482  0.023519  0.019655  0.020923  0.035589  0.020515  0.020684   \n",
       "\n",
       "Symbols        TM         F       JPM  \n",
       "Symbols                                \n",
       "AAPL     0.015030  0.012213  0.019482  \n",
       "BA       0.017858  0.014637  0.023519  \n",
       "TSLA     0.012347  0.023461  0.019655  \n",
       "BABA     0.017723  0.018471  0.020923  \n",
       "GS       0.017244  0.022015  0.035589  \n",
       "GOOG     0.018814  0.015602  0.020515  \n",
       "AMZN     0.017119  0.014872  0.020684  \n",
       "TM       0.026472  0.014425  0.014592  \n",
       "F        0.014425  0.053109  0.020259  \n",
       "JPM      0.014592  0.020259  0.037703  "
      ]
     },
     "execution_count": 36,
     "metadata": {},
     "output_type": "execute_result"
    }
   ],
   "source": [
    "Cov"
   ]
  },
  {
   "cell_type": "code",
   "execution_count": 37,
   "metadata": {},
   "outputs": [],
   "source": [
    "A1=Cov*r0\n",
    "A2=np.zeros((num,mm))\n",
    "A3=np.zeros((mm,num))\n",
    "A4=np.diag(rr)\n",
    "\n",
    "Omega1=np.concatenate((A1,A2),axis=1)\n",
    "Omega2=np.concatenate((A3,A4),axis=1)\n",
    "Omega=np.concatenate((Omega1,Omega2),axis=0)\n",
    "# A1=np.insert(Cov*r0,-1)"
   ]
  },
  {
   "cell_type": "code",
   "execution_count": 38,
   "metadata": {},
   "outputs": [
    {
     "data": {
      "text/plain": [
       "array([[0.00237342, 0.00109666, 0.00145909, 0.00148323, 0.00106172,\n",
       "        0.00143629, 0.00181924, 0.00062627, 0.00050889, 0.00081174,\n",
       "        0.        ],\n",
       "       [0.00109666, 0.00268507, 0.00117308, 0.00131383, 0.00116996,\n",
       "        0.00119506, 0.00142122, 0.00074406, 0.00060987, 0.00097996,\n",
       "        0.        ],\n",
       "       [0.00145909, 0.00117308, 0.00958084, 0.00172022, 0.00098462,\n",
       "        0.00144608, 0.00188477, 0.00051444, 0.00097755, 0.00081895,\n",
       "        0.        ],\n",
       "       [0.00148323, 0.00131383, 0.00172022, 0.00417473, 0.00116273,\n",
       "        0.00180734, 0.00216052, 0.00073845, 0.00076964, 0.00087181,\n",
       "        0.        ],\n",
       "       [0.00106172, 0.00116996, 0.00098462, 0.00116273, 0.002208  ,\n",
       "        0.00114047, 0.0011692 , 0.00071848, 0.00091728, 0.00148288,\n",
       "        0.        ],\n",
       "       [0.00143629, 0.00119506, 0.00144608, 0.00180734, 0.00114047,\n",
       "        0.00215536, 0.00203767, 0.00078392, 0.00065009, 0.00085481,\n",
       "        0.        ],\n",
       "       [0.00181924, 0.00142122, 0.00188477, 0.00216052, 0.0011692 ,\n",
       "        0.00203767, 0.00359939, 0.00071331, 0.00061965, 0.00086182,\n",
       "        0.        ],\n",
       "       [0.00062627, 0.00074406, 0.00051444, 0.00073845, 0.00071848,\n",
       "        0.00078392, 0.00071331, 0.00110299, 0.00060105, 0.000608  ,\n",
       "        0.        ],\n",
       "       [0.00050889, 0.00060987, 0.00097755, 0.00076964, 0.00091728,\n",
       "        0.00065009, 0.00061965, 0.00060105, 0.00221286, 0.00084411,\n",
       "        0.        ],\n",
       "       [0.00081174, 0.00097996, 0.00081895, 0.00087181, 0.00148288,\n",
       "        0.00085481, 0.00086182, 0.000608  , 0.00084411, 0.00157097,\n",
       "        0.        ],\n",
       "       [0.        , 0.        , 0.        , 0.        , 0.        ,\n",
       "        0.        , 0.        , 0.        , 0.        , 0.        ,\n",
       "        0.00083333]])"
      ]
     },
     "execution_count": 38,
     "metadata": {},
     "output_type": "execute_result"
    }
   ],
   "source": [
    "Omega"
   ]
  },
  {
   "cell_type": "code",
   "execution_count": null,
   "metadata": {},
   "outputs": [],
   "source": []
  },
  {
   "cell_type": "markdown",
   "metadata": {},
   "source": [
    "$\\Sigma^{BL}$"
   ]
  },
  {
   "cell_type": "code",
   "execution_count": 39,
   "metadata": {},
   "outputs": [],
   "source": [
    "B1=np.eye(num,num)\n",
    "P=P.reshape(1,num)\n",
    "B=np.concatenate((B1,P),axis=0)"
   ]
  },
  {
   "cell_type": "code",
   "execution_count": 40,
   "metadata": {},
   "outputs": [
    {
     "data": {
      "text/plain": [
       "array([[ 1. ,  0. ,  0. ,  0. ,  0. ,  0. ,  0. ,  0. ,  0. ,  0. ],\n",
       "       [ 0. ,  1. ,  0. ,  0. ,  0. ,  0. ,  0. ,  0. ,  0. ,  0. ],\n",
       "       [ 0. ,  0. ,  1. ,  0. ,  0. ,  0. ,  0. ,  0. ,  0. ,  0. ],\n",
       "       [ 0. ,  0. ,  0. ,  1. ,  0. ,  0. ,  0. ,  0. ,  0. ,  0. ],\n",
       "       [ 0. ,  0. ,  0. ,  0. ,  1. ,  0. ,  0. ,  0. ,  0. ,  0. ],\n",
       "       [ 0. ,  0. ,  0. ,  0. ,  0. ,  1. ,  0. ,  0. ,  0. ,  0. ],\n",
       "       [ 0. ,  0. ,  0. ,  0. ,  0. ,  0. ,  1. ,  0. ,  0. ,  0. ],\n",
       "       [ 0. ,  0. ,  0. ,  0. ,  0. ,  0. ,  0. ,  1. ,  0. ,  0. ],\n",
       "       [ 0. ,  0. ,  0. ,  0. ,  0. ,  0. ,  0. ,  0. ,  1. ,  0. ],\n",
       "       [ 0. ,  0. ,  0. ,  0. ,  0. ,  0. ,  0. ,  0. ,  0. ,  1. ],\n",
       "       [-0.1,  0. ,  0. , -0.2,  0.4, -0.1,  0.3,  0. , -0.4,  0.1]])"
      ]
     },
     "execution_count": 40,
     "metadata": {},
     "output_type": "execute_result"
    }
   ],
   "source": [
    "B"
   ]
  },
  {
   "cell_type": "code",
   "execution_count": 41,
   "metadata": {},
   "outputs": [
    {
     "data": {
      "text/plain": [
       "array([[  827.02222701,   -41.97199187,   -30.57956891,   -33.91816577,\n",
       "          -87.84510336,  -214.78658022,  -196.56840184,   -56.5656583 ,\n",
       "           38.5754355 ,   -57.59469167,     0.        ],\n",
       "       [  -41.97199187,   592.96192698,   -12.66026147,   -34.06093181,\n",
       "          -68.83384558,   -53.9839313 ,   -72.86585266,  -151.629794  ,\n",
       "           24.05234095,  -142.61558566,     0.        ],\n",
       "       [  -30.57956891,   -12.66026147,   122.76433953,   -12.88945974,\n",
       "            8.32810941,   -22.41084218,   -23.54255945,    25.53842708,\n",
       "          -33.46457922,    -7.80040837,     0.        ],\n",
       "       [  -33.91816577,   -34.06093181,   -12.88945974,   405.20153317,\n",
       "          -22.1796621 ,  -185.55708889,   -89.37455103,    -8.14088273,\n",
       "          -31.55331609,    11.6633268 ,     0.        ],\n",
       "       [  -87.84510336,   -68.83384558,     8.32810941,   -22.1796621 ,\n",
       "         1382.65551302,  -156.92208813,    -2.15433477,   -59.61475853,\n",
       "          -60.05198492, -1066.92173229,     0.        ],\n",
       "       [ -214.78658022,   -53.9839313 ,   -22.41084218,  -185.55708889,\n",
       "         -156.92208813,  1425.06365868,  -436.53088456,  -335.30343929,\n",
       "           -2.5969294 ,     2.66391084,     0.        ],\n",
       "       [ -196.56840184,   -72.86585266,   -23.54255945,   -89.37455103,\n",
       "           -2.15433477,  -436.53088456,   696.17048546,    68.81629425,\n",
       "            8.86524288,    35.14481904,     0.        ],\n",
       "       [  -56.5656583 ,  -151.629794  ,    25.53842708,    -8.14088273,\n",
       "          -59.61475853,  -335.30343929,    68.81629425,  1449.06324547,\n",
       "         -188.55227666,  -143.51944269,     0.        ],\n",
       "       [   38.5754355 ,    24.05234095,   -33.46457922,   -31.55331609,\n",
       "          -60.05198492,    -2.5969294 ,     8.86524288,  -188.55227666,\n",
       "          614.31100318,  -203.85427177,     0.        ],\n",
       "       [  -57.59469167,  -142.61558566,    -7.80040837,    11.6633268 ,\n",
       "        -1066.92173229,     2.66391084,    35.14481904,  -143.51944269,\n",
       "         -203.85427177,  1904.31414251,     0.        ],\n",
       "       [    0.        ,     0.        ,     0.        ,     0.        ,\n",
       "            0.        ,     0.        ,     0.        ,     0.        ,\n",
       "            0.        ,     0.        ,  1200.        ]])"
      ]
     },
     "execution_count": 41,
     "metadata": {},
     "output_type": "execute_result"
    }
   ],
   "source": [
    "np.linalg.inv(Omega)"
   ]
  },
  {
   "cell_type": "code",
   "execution_count": 42,
   "metadata": {},
   "outputs": [
    {
     "data": {
      "text/html": [
       "<div>\n",
       "<style scoped>\n",
       "    .dataframe tbody tr th:only-of-type {\n",
       "        vertical-align: middle;\n",
       "    }\n",
       "\n",
       "    .dataframe tbody tr th {\n",
       "        vertical-align: top;\n",
       "    }\n",
       "\n",
       "    .dataframe thead th {\n",
       "        text-align: right;\n",
       "    }\n",
       "</style>\n",
       "<table border=\"1\" class=\"dataframe\">\n",
       "  <thead>\n",
       "    <tr style=\"text-align: right;\">\n",
       "      <th>Symbols</th>\n",
       "      <th>AAPL</th>\n",
       "      <th>BA</th>\n",
       "      <th>TSLA</th>\n",
       "      <th>BABA</th>\n",
       "      <th>GS</th>\n",
       "      <th>GOOG</th>\n",
       "      <th>AMZN</th>\n",
       "      <th>TM</th>\n",
       "      <th>F</th>\n",
       "      <th>JPM</th>\n",
       "    </tr>\n",
       "    <tr>\n",
       "      <th>Symbols</th>\n",
       "      <th></th>\n",
       "      <th></th>\n",
       "      <th></th>\n",
       "      <th></th>\n",
       "      <th></th>\n",
       "      <th></th>\n",
       "      <th></th>\n",
       "      <th></th>\n",
       "      <th></th>\n",
       "      <th></th>\n",
       "    </tr>\n",
       "  </thead>\n",
       "  <tbody>\n",
       "    <tr>\n",
       "      <th>AAPL</th>\n",
       "      <td>0.056962</td>\n",
       "      <td>0.026320</td>\n",
       "      <td>0.035018</td>\n",
       "      <td>0.035597</td>\n",
       "      <td>0.025481</td>\n",
       "      <td>0.034471</td>\n",
       "      <td>0.043662</td>\n",
       "      <td>0.015030</td>\n",
       "      <td>0.012213</td>\n",
       "      <td>0.019482</td>\n",
       "    </tr>\n",
       "    <tr>\n",
       "      <th>BA</th>\n",
       "      <td>0.026320</td>\n",
       "      <td>0.064442</td>\n",
       "      <td>0.028154</td>\n",
       "      <td>0.031532</td>\n",
       "      <td>0.028079</td>\n",
       "      <td>0.028681</td>\n",
       "      <td>0.034109</td>\n",
       "      <td>0.017858</td>\n",
       "      <td>0.014637</td>\n",
       "      <td>0.023519</td>\n",
       "    </tr>\n",
       "    <tr>\n",
       "      <th>TSLA</th>\n",
       "      <td>0.035018</td>\n",
       "      <td>0.028154</td>\n",
       "      <td>0.229940</td>\n",
       "      <td>0.041285</td>\n",
       "      <td>0.023631</td>\n",
       "      <td>0.034706</td>\n",
       "      <td>0.045234</td>\n",
       "      <td>0.012347</td>\n",
       "      <td>0.023461</td>\n",
       "      <td>0.019655</td>\n",
       "    </tr>\n",
       "    <tr>\n",
       "      <th>BABA</th>\n",
       "      <td>0.035597</td>\n",
       "      <td>0.031532</td>\n",
       "      <td>0.041285</td>\n",
       "      <td>0.100194</td>\n",
       "      <td>0.027906</td>\n",
       "      <td>0.043376</td>\n",
       "      <td>0.051852</td>\n",
       "      <td>0.017723</td>\n",
       "      <td>0.018471</td>\n",
       "      <td>0.020923</td>\n",
       "    </tr>\n",
       "    <tr>\n",
       "      <th>GS</th>\n",
       "      <td>0.025481</td>\n",
       "      <td>0.028079</td>\n",
       "      <td>0.023631</td>\n",
       "      <td>0.027906</td>\n",
       "      <td>0.052992</td>\n",
       "      <td>0.027371</td>\n",
       "      <td>0.028061</td>\n",
       "      <td>0.017244</td>\n",
       "      <td>0.022015</td>\n",
       "      <td>0.035589</td>\n",
       "    </tr>\n",
       "    <tr>\n",
       "      <th>GOOG</th>\n",
       "      <td>0.034471</td>\n",
       "      <td>0.028681</td>\n",
       "      <td>0.034706</td>\n",
       "      <td>0.043376</td>\n",
       "      <td>0.027371</td>\n",
       "      <td>0.051729</td>\n",
       "      <td>0.048904</td>\n",
       "      <td>0.018814</td>\n",
       "      <td>0.015602</td>\n",
       "      <td>0.020515</td>\n",
       "    </tr>\n",
       "    <tr>\n",
       "      <th>AMZN</th>\n",
       "      <td>0.043662</td>\n",
       "      <td>0.034109</td>\n",
       "      <td>0.045234</td>\n",
       "      <td>0.051852</td>\n",
       "      <td>0.028061</td>\n",
       "      <td>0.048904</td>\n",
       "      <td>0.086385</td>\n",
       "      <td>0.017119</td>\n",
       "      <td>0.014872</td>\n",
       "      <td>0.020684</td>\n",
       "    </tr>\n",
       "    <tr>\n",
       "      <th>TM</th>\n",
       "      <td>0.015030</td>\n",
       "      <td>0.017858</td>\n",
       "      <td>0.012347</td>\n",
       "      <td>0.017723</td>\n",
       "      <td>0.017244</td>\n",
       "      <td>0.018814</td>\n",
       "      <td>0.017119</td>\n",
       "      <td>0.026472</td>\n",
       "      <td>0.014425</td>\n",
       "      <td>0.014592</td>\n",
       "    </tr>\n",
       "    <tr>\n",
       "      <th>F</th>\n",
       "      <td>0.012213</td>\n",
       "      <td>0.014637</td>\n",
       "      <td>0.023461</td>\n",
       "      <td>0.018471</td>\n",
       "      <td>0.022015</td>\n",
       "      <td>0.015602</td>\n",
       "      <td>0.014872</td>\n",
       "      <td>0.014425</td>\n",
       "      <td>0.053109</td>\n",
       "      <td>0.020259</td>\n",
       "    </tr>\n",
       "    <tr>\n",
       "      <th>JPM</th>\n",
       "      <td>0.019482</td>\n",
       "      <td>0.023519</td>\n",
       "      <td>0.019655</td>\n",
       "      <td>0.020923</td>\n",
       "      <td>0.035589</td>\n",
       "      <td>0.020515</td>\n",
       "      <td>0.020684</td>\n",
       "      <td>0.014592</td>\n",
       "      <td>0.020259</td>\n",
       "      <td>0.037703</td>\n",
       "    </tr>\n",
       "  </tbody>\n",
       "</table>\n",
       "</div>"
      ],
      "text/plain": [
       "Symbols      AAPL        BA      TSLA      BABA        GS      GOOG      AMZN  \\\n",
       "Symbols                                                                         \n",
       "AAPL     0.056962  0.026320  0.035018  0.035597  0.025481  0.034471  0.043662   \n",
       "BA       0.026320  0.064442  0.028154  0.031532  0.028079  0.028681  0.034109   \n",
       "TSLA     0.035018  0.028154  0.229940  0.041285  0.023631  0.034706  0.045234   \n",
       "BABA     0.035597  0.031532  0.041285  0.100194  0.027906  0.043376  0.051852   \n",
       "GS       0.025481  0.028079  0.023631  0.027906  0.052992  0.027371  0.028061   \n",
       "GOOG     0.034471  0.028681  0.034706  0.043376  0.027371  0.051729  0.048904   \n",
       "AMZN     0.043662  0.034109  0.045234  0.051852  0.028061  0.048904  0.086385   \n",
       "TM       0.015030  0.017858  0.012347  0.017723  0.017244  0.018814  0.017119   \n",
       "F        0.012213  0.014637  0.023461  0.018471  0.022015  0.015602  0.014872   \n",
       "JPM      0.019482  0.023519  0.019655  0.020923  0.035589  0.020515  0.020684   \n",
       "\n",
       "Symbols        TM         F       JPM  \n",
       "Symbols                                \n",
       "AAPL     0.015030  0.012213  0.019482  \n",
       "BA       0.017858  0.014637  0.023519  \n",
       "TSLA     0.012347  0.023461  0.019655  \n",
       "BABA     0.017723  0.018471  0.020923  \n",
       "GS       0.017244  0.022015  0.035589  \n",
       "GOOG     0.018814  0.015602  0.020515  \n",
       "AMZN     0.017119  0.014872  0.020684  \n",
       "TM       0.026472  0.014425  0.014592  \n",
       "F        0.014425  0.053109  0.020259  \n",
       "JPM      0.014592  0.020259  0.037703  "
      ]
     },
     "execution_count": 42,
     "metadata": {},
     "output_type": "execute_result"
    }
   ],
   "source": [
    "Cov1"
   ]
  },
  {
   "cell_type": "code",
   "execution_count": 43,
   "metadata": {},
   "outputs": [
    {
     "data": {
      "text/plain": [
       "array([[0.0023539 , 0.0010673 , 0.0014573 , 0.0015143 , 0.00099731,\n",
       "        0.00141657, 0.0017542 , 0.00062248, 0.00056816, 0.00077394],\n",
       "       [0.0010673 , 0.0026409 , 0.00117039, 0.00136058, 0.00107306,\n",
       "        0.00116538, 0.00132338, 0.00073837, 0.00069906, 0.0009231 ],\n",
       "       [0.0014573 , 0.00117039, 0.00958068, 0.00172307, 0.00097873,\n",
       "        0.00144427, 0.00187882, 0.00051409, 0.00098297, 0.00081549],\n",
       "       [0.0015143 , 0.00136058, 0.00172307, 0.00412525, 0.00126529,\n",
       "        0.00183875, 0.00226407, 0.00074447, 0.00067525, 0.00093199],\n",
       "       [0.00099731, 0.00107306, 0.00097873, 0.00126529, 0.00199543,\n",
       "        0.00107536, 0.00095458, 0.00070599, 0.00111291, 0.00135814],\n",
       "       [0.00141657, 0.00116538, 0.00144427, 0.00183875, 0.00107536,\n",
       "        0.00213542, 0.00197194, 0.0007801 , 0.00071001, 0.0008166 ],\n",
       "       [0.0017542 , 0.00132338, 0.00187882, 0.00226407, 0.00095458,\n",
       "        0.00197194, 0.00338268, 0.0007007 , 0.00081718, 0.00073588],\n",
       "       [0.00062248, 0.00073837, 0.00051409, 0.00074447, 0.00070599,\n",
       "        0.0007801 , 0.0007007 , 0.00110226, 0.00061255, 0.00060067],\n",
       "       [0.00056816, 0.00069906, 0.00098297, 0.00067525, 0.00111291,\n",
       "        0.00071001, 0.00081718, 0.00061255, 0.00203282, 0.00095891],\n",
       "       [0.00077394, 0.0009231 , 0.00081549, 0.00093199, 0.00135814,\n",
       "        0.0008166 , 0.00073588, 0.00060067, 0.00095891, 0.00149777]])"
      ]
     },
     "execution_count": 43,
     "metadata": {},
     "output_type": "execute_result"
    }
   ],
   "source": [
    "Cov2=np.linalg.inv(np.dot(np.dot(B.T,np.linalg.inv(Omega)),B))\n",
    "Cov2"
   ]
  },
  {
   "cell_type": "code",
   "execution_count": 44,
   "metadata": {},
   "outputs": [
    {
     "data": {
      "text/html": [
       "<div>\n",
       "<style scoped>\n",
       "    .dataframe tbody tr th:only-of-type {\n",
       "        vertical-align: middle;\n",
       "    }\n",
       "\n",
       "    .dataframe tbody tr th {\n",
       "        vertical-align: top;\n",
       "    }\n",
       "\n",
       "    .dataframe thead th {\n",
       "        text-align: right;\n",
       "    }\n",
       "</style>\n",
       "<table border=\"1\" class=\"dataframe\">\n",
       "  <thead>\n",
       "    <tr style=\"text-align: right;\">\n",
       "      <th>Symbols</th>\n",
       "      <th>AAPL</th>\n",
       "      <th>BA</th>\n",
       "      <th>TSLA</th>\n",
       "      <th>BABA</th>\n",
       "      <th>GS</th>\n",
       "      <th>GOOG</th>\n",
       "      <th>AMZN</th>\n",
       "      <th>TM</th>\n",
       "      <th>F</th>\n",
       "      <th>JPM</th>\n",
       "    </tr>\n",
       "    <tr>\n",
       "      <th>Symbols</th>\n",
       "      <th></th>\n",
       "      <th></th>\n",
       "      <th></th>\n",
       "      <th></th>\n",
       "      <th></th>\n",
       "      <th></th>\n",
       "      <th></th>\n",
       "      <th></th>\n",
       "      <th></th>\n",
       "      <th></th>\n",
       "    </tr>\n",
       "  </thead>\n",
       "  <tbody>\n",
       "    <tr>\n",
       "      <th>AAPL</th>\n",
       "      <td>0.059316</td>\n",
       "      <td>0.027387</td>\n",
       "      <td>0.036475</td>\n",
       "      <td>0.037112</td>\n",
       "      <td>0.026478</td>\n",
       "      <td>0.035888</td>\n",
       "      <td>0.045416</td>\n",
       "      <td>0.015653</td>\n",
       "      <td>0.012781</td>\n",
       "      <td>0.020256</td>\n",
       "    </tr>\n",
       "    <tr>\n",
       "      <th>BA</th>\n",
       "      <td>0.027387</td>\n",
       "      <td>0.067083</td>\n",
       "      <td>0.029324</td>\n",
       "      <td>0.032892</td>\n",
       "      <td>0.029152</td>\n",
       "      <td>0.029847</td>\n",
       "      <td>0.035433</td>\n",
       "      <td>0.018596</td>\n",
       "      <td>0.015336</td>\n",
       "      <td>0.024442</td>\n",
       "    </tr>\n",
       "    <tr>\n",
       "      <th>TSLA</th>\n",
       "      <td>0.036475</td>\n",
       "      <td>0.029324</td>\n",
       "      <td>0.239521</td>\n",
       "      <td>0.043008</td>\n",
       "      <td>0.024610</td>\n",
       "      <td>0.036150</td>\n",
       "      <td>0.047113</td>\n",
       "      <td>0.012861</td>\n",
       "      <td>0.024444</td>\n",
       "      <td>0.020470</td>\n",
       "    </tr>\n",
       "    <tr>\n",
       "      <th>BABA</th>\n",
       "      <td>0.037112</td>\n",
       "      <td>0.032892</td>\n",
       "      <td>0.043008</td>\n",
       "      <td>0.104319</td>\n",
       "      <td>0.029171</td>\n",
       "      <td>0.045215</td>\n",
       "      <td>0.054116</td>\n",
       "      <td>0.018467</td>\n",
       "      <td>0.019147</td>\n",
       "      <td>0.021855</td>\n",
       "    </tr>\n",
       "    <tr>\n",
       "      <th>GS</th>\n",
       "      <td>0.026478</td>\n",
       "      <td>0.029152</td>\n",
       "      <td>0.024610</td>\n",
       "      <td>0.029171</td>\n",
       "      <td>0.054987</td>\n",
       "      <td>0.028447</td>\n",
       "      <td>0.029015</td>\n",
       "      <td>0.017950</td>\n",
       "      <td>0.023128</td>\n",
       "      <td>0.036947</td>\n",
       "    </tr>\n",
       "    <tr>\n",
       "      <th>GOOG</th>\n",
       "      <td>0.035888</td>\n",
       "      <td>0.029847</td>\n",
       "      <td>0.036150</td>\n",
       "      <td>0.045215</td>\n",
       "      <td>0.028447</td>\n",
       "      <td>0.053864</td>\n",
       "      <td>0.050876</td>\n",
       "      <td>0.019594</td>\n",
       "      <td>0.016312</td>\n",
       "      <td>0.021332</td>\n",
       "    </tr>\n",
       "    <tr>\n",
       "      <th>AMZN</th>\n",
       "      <td>0.045416</td>\n",
       "      <td>0.035433</td>\n",
       "      <td>0.047113</td>\n",
       "      <td>0.054116</td>\n",
       "      <td>0.029015</td>\n",
       "      <td>0.050876</td>\n",
       "      <td>0.089768</td>\n",
       "      <td>0.017820</td>\n",
       "      <td>0.015689</td>\n",
       "      <td>0.021420</td>\n",
       "    </tr>\n",
       "    <tr>\n",
       "      <th>TM</th>\n",
       "      <td>0.015653</td>\n",
       "      <td>0.018596</td>\n",
       "      <td>0.012861</td>\n",
       "      <td>0.018467</td>\n",
       "      <td>0.017950</td>\n",
       "      <td>0.019594</td>\n",
       "      <td>0.017820</td>\n",
       "      <td>0.027574</td>\n",
       "      <td>0.015038</td>\n",
       "      <td>0.015193</td>\n",
       "    </tr>\n",
       "    <tr>\n",
       "      <th>F</th>\n",
       "      <td>0.012781</td>\n",
       "      <td>0.015336</td>\n",
       "      <td>0.024444</td>\n",
       "      <td>0.019147</td>\n",
       "      <td>0.023128</td>\n",
       "      <td>0.016312</td>\n",
       "      <td>0.015689</td>\n",
       "      <td>0.015038</td>\n",
       "      <td>0.055141</td>\n",
       "      <td>0.021218</td>\n",
       "    </tr>\n",
       "    <tr>\n",
       "      <th>JPM</th>\n",
       "      <td>0.020256</td>\n",
       "      <td>0.024442</td>\n",
       "      <td>0.020470</td>\n",
       "      <td>0.021855</td>\n",
       "      <td>0.036947</td>\n",
       "      <td>0.021332</td>\n",
       "      <td>0.021420</td>\n",
       "      <td>0.015193</td>\n",
       "      <td>0.021218</td>\n",
       "      <td>0.039201</td>\n",
       "    </tr>\n",
       "  </tbody>\n",
       "</table>\n",
       "</div>"
      ],
      "text/plain": [
       "Symbols      AAPL        BA      TSLA      BABA        GS      GOOG      AMZN  \\\n",
       "Symbols                                                                         \n",
       "AAPL     0.059316  0.027387  0.036475  0.037112  0.026478  0.035888  0.045416   \n",
       "BA       0.027387  0.067083  0.029324  0.032892  0.029152  0.029847  0.035433   \n",
       "TSLA     0.036475  0.029324  0.239521  0.043008  0.024610  0.036150  0.047113   \n",
       "BABA     0.037112  0.032892  0.043008  0.104319  0.029171  0.045215  0.054116   \n",
       "GS       0.026478  0.029152  0.024610  0.029171  0.054987  0.028447  0.029015   \n",
       "GOOG     0.035888  0.029847  0.036150  0.045215  0.028447  0.053864  0.050876   \n",
       "AMZN     0.045416  0.035433  0.047113  0.054116  0.029015  0.050876  0.089768   \n",
       "TM       0.015653  0.018596  0.012861  0.018467  0.017950  0.019594  0.017820   \n",
       "F        0.012781  0.015336  0.024444  0.019147  0.023128  0.016312  0.015689   \n",
       "JPM      0.020256  0.024442  0.020470  0.021855  0.036947  0.021332  0.021420   \n",
       "\n",
       "Symbols        TM         F       JPM  \n",
       "Symbols                                \n",
       "AAPL     0.015653  0.012781  0.020256  \n",
       "BA       0.018596  0.015336  0.024442  \n",
       "TSLA     0.012861  0.024444  0.020470  \n",
       "BABA     0.018467  0.019147  0.021855  \n",
       "GS       0.017950  0.023128  0.036947  \n",
       "GOOG     0.019594  0.016312  0.021332  \n",
       "AMZN     0.017820  0.015689  0.021420  \n",
       "TM       0.027574  0.015038  0.015193  \n",
       "F        0.015038  0.055141  0.021218  \n",
       "JPM      0.015193  0.021218  0.039201  "
      ]
     },
     "execution_count": 44,
     "metadata": {},
     "output_type": "execute_result"
    }
   ],
   "source": [
    "Cov_BL=Cov1+Cov2\n",
    "Cov_BL"
   ]
  },
  {
   "cell_type": "markdown",
   "metadata": {},
   "source": [
    "$\\mu^{BL}$"
   ]
  },
  {
   "cell_type": "code",
   "execution_count": 45,
   "metadata": {},
   "outputs": [
    {
     "data": {
      "text/plain": [
       "array([0.11651814, 0.08798639, 0.11975029, 0.13241186, 0.08287265,\n",
       "       0.11585523, 0.14803261, 0.05670152, 0.05320767, 0.06778732,\n",
       "       0.0133348 ])"
      ]
     },
     "execution_count": 45,
     "metadata": {},
     "output_type": "execute_result"
    }
   ],
   "source": [
    "C3=np.concatenate((r_hat,q),axis=0)\n",
    "C3"
   ]
  },
  {
   "cell_type": "code",
   "execution_count": 46,
   "metadata": {},
   "outputs": [],
   "source": [
    "C1=np.dot(Cov2,B.T)\n",
    "C2=np.dot(np.linalg.inv(Omega),C3)\n",
    "mu_BL=np.dot(C1,C2)"
   ]
  },
  {
   "cell_type": "code",
   "execution_count": 47,
   "metadata": {},
   "outputs": [
    {
     "data": {
      "text/plain": [
       "array([0.11651814, 0.08798639, 0.11975029, 0.13241186, 0.08287265,\n",
       "       0.11585523, 0.14803261, 0.05670152, 0.05320767, 0.06778732])"
      ]
     },
     "execution_count": 47,
     "metadata": {},
     "output_type": "execute_result"
    }
   ],
   "source": [
    "mu_BL"
   ]
  },
  {
   "cell_type": "code",
   "execution_count": 48,
   "metadata": {},
   "outputs": [
    {
     "data": {
      "text/plain": [
       "Symbols\n",
       "AAPL    0.169469\n",
       "BA      0.385788\n",
       "TSLA    0.215126\n",
       "BABA    0.219486\n",
       "GS     -0.172359\n",
       "GOOG    0.138631\n",
       "AMZN    0.346854\n",
       "TM      0.021575\n",
       "F      -0.196012\n",
       "JPM     0.082235\n",
       "dtype: float64"
      ]
     },
     "execution_count": 48,
     "metadata": {},
     "output_type": "execute_result"
    }
   ],
   "source": [
    "mu"
   ]
  },
  {
   "cell_type": "markdown",
   "metadata": {},
   "source": [
    "#### BL result"
   ]
  },
  {
   "cell_type": "code",
   "execution_count": 49,
   "metadata": {},
   "outputs": [
    {
     "name": "stdout",
     "output_type": "stream",
     "text": [
      "     fun: -0.5176978044177507\n",
      "     jac: array([-0.10231747, -0.07378571, -0.10554961, -0.11821119, -0.06867197,\n",
      "       -0.10165455, -0.13383193, -0.04250084, -0.03900699, -0.05358664])\n",
      " message: 'Optimization terminated successfully.'\n",
      "    nfev: 276\n",
      "     nit: 23\n",
      "    njev: 23\n",
      "  status: 0\n",
      " success: True\n",
      "       x: array([1.2917312 , 0.08848955, 0.14920354, 0.57004043, 0.09523376,\n",
      "       0.88055602, 1.2124886 , 0.18717806, 0.00923883, 0.28047978])\n"
     ]
    }
   ],
   "source": [
    "num=len(icode)\n",
    "e=np.zeros(num)+1\n",
    "\n",
    "def statistics2(weights):\n",
    "    \n",
    "    weights=np.array(weights)\n",
    "    \n",
    "    Mark1=np.dot(mu_BL.T,weights)\n",
    "    Mark2=(1-np.dot(e.T,weights))*rf\n",
    "\n",
    "    \n",
    "    \n",
    "    return [Mark1+Mark2]\n",
    "\n",
    "def max_Mark1(weights):\n",
    "    \n",
    "    return -1*statistics2(weights)[0]\n",
    "\n",
    "cons = (\n",
    "       {'type':'ineq', 'fun':lambda x: -np.sqrt(np.dot(np.dot(x.T,Cov_BL),x))+L}\n",
    "       )\n",
    "bnds = tuple((0,20) for x in range(num))\n",
    "bl = sco.minimize(max_Mark1, num*[1./num,], method = 'SLSQP',  constraints = cons)\n",
    "print(bl)"
   ]
  },
  {
   "cell_type": "code",
   "execution_count": null,
   "metadata": {},
   "outputs": [],
   "source": []
  },
  {
   "cell_type": "markdown",
   "metadata": {},
   "source": [
    "## MVIO model"
   ]
  },
  {
   "cell_type": "code",
   "execution_count": null,
   "metadata": {},
   "outputs": [],
   "source": [
    "delta"
   ]
  },
  {
   "cell_type": "markdown",
   "metadata": {},
   "source": [
    "$\\bar{\\Sigma}$"
   ]
  },
  {
   "cell_type": "code",
   "execution_count": null,
   "metadata": {},
   "outputs": [],
   "source": [
    "C_new=2*delta*Cov"
   ]
  },
  {
   "cell_type": "code",
   "execution_count": null,
   "metadata": {},
   "outputs": [],
   "source": [
    "mu_BL"
   ]
  },
  {
   "cell_type": "code",
   "execution_count": null,
   "metadata": {},
   "outputs": [],
   "source": [
    "mkt"
   ]
  },
  {
   "cell_type": "code",
   "execution_count": null,
   "metadata": {},
   "outputs": [],
   "source": [
    "##### special case with sigma = 0.5 * delta * sigma : BL\n",
    "import cvxpy as cvx\n",
    "mu_io = cvx.Variable((10,1))\n",
    "# sigma_bar = cvx.Variable((10,10))\n",
    "t = cvx.Variable((1,1))\n",
    "u = cvx.Variable((11,1))\n",
    "rf = rf\n",
    "Omega = Omega \n",
    "x_mkt = np.array(mkt).reshape(-1,1)\n",
    "# x = cp.Variable((10,1))\n",
    "e = e.reshape(-1,1)\n",
    "I = np.identity(11)\n",
    "q = q.reshape(-1,1)\n",
    "\n",
    "\n",
    "tmp = 1.25*2*np.array(Cov).dot(np.array(x_mkt).reshape(-1,1))\n",
    "# sigma_bar.dot(x_mkt)\n",
    "Cons = [\n",
    "    u - np.linalg.inv(np.sqrt(Omega)) @ cvx.vstack([mu_io - rf*e - tmp, \\\n",
    "                                                          P@mu_io - q]) == 0,\n",
    "    cvx.vstack([ cvx.hstack([t, u.T]), cvx.hstack([u, I]) ]) >> 0,\n",
    "#     sigma_bar >= 0\n",
    "]\n",
    "objective = cvx.Minimize(t)\n",
    "prob = cvx.Problem(objective, Cons)\n",
    "prob.solve(solver='CVXOPT')  # Returns the optimal value.\n",
    "print(\"status:\", prob.status)\n",
    "print(\"optimal value\", prob.value)\n",
    "# print(\"optimal var\", x.value, y.value)"
   ]
  },
  {
   "cell_type": "code",
   "execution_count": null,
   "metadata": {},
   "outputs": [],
   "source": [
    "mu_io.value"
   ]
  },
  {
   "cell_type": "code",
   "execution_count": null,
   "metadata": {},
   "outputs": [],
   "source": [
    "Cov"
   ]
  },
  {
   "cell_type": "code",
   "execution_count": null,
   "metadata": {},
   "outputs": [],
   "source": [
    "mu_io.value"
   ]
  },
  {
   "cell_type": "code",
   "execution_count": null,
   "metadata": {},
   "outputs": [],
   "source": [
    "from cvxpy.reductions.solvers.defines import INSTALLED_SOLVERS\n",
    "INSTALLED_SOLVERS"
   ]
  },
  {
   "cell_type": "code",
   "execution_count": null,
   "metadata": {},
   "outputs": [],
   "source": [
    "q"
   ]
  },
  {
   "cell_type": "code",
   "execution_count": null,
   "metadata": {},
   "outputs": [],
   "source": [
    "np.savetxt('Omega.csv', Omega, delimiter = ',')\n",
    "np.savetxt('xmkt.csv', x_mkt, delimiter = ',')\n",
    "np.savetxt('Cov.csv', Cov, delimiter = ',')"
   ]
  },
  {
   "cell_type": "code",
   "execution_count": null,
   "metadata": {},
   "outputs": [],
   "source": [
    "##### general case with sigma as vriable.\n",
    "import cvxpy as cvx\n",
    "mu_io = cvx.Variable((10,1))\n",
    "sigma_bar = cvx.Variable((10,10))\n",
    "t = cvx.Variable((1,1))\n",
    "u = cvx.Variable((11,1))\n",
    "rf = rf\n",
    "Omega = Omega \n",
    "x_mkt = np.array(mkt).reshape(-1,1)\n",
    "e = e.reshape(-1,1)\n",
    "I = np.identity(11)\n",
    "q = q.reshape(-1,1)\n",
    "\n",
    "# sigma_bar.dot(x_mkt)\n",
    "Cons = [\n",
    "    u - np.linalg.inv(np.sqrt(Omega)) @ cvx.vstack([mu_io - rf*e - sigma_bar@x_mkt, \\\n",
    "                                                          P @ mu_io - q]) == 0,\n",
    "    cvx.vstack([ cvx.hstack([t, u.T]), cvx.hstack([u, I])]) >> 0,\n",
    "    sigma_bar >= 0\n",
    "]\n",
    "\n",
    "objective = cvx.Minimize(t)\n",
    "prob = cvx.Problem(objective, Cons)\n",
    "prob.solve(solver='CVXOPT')  # Returns the optimal value.\n",
    "print(\"status:\", prob.status)\n",
    "print(\"optimal value\", prob.value)\n",
    "# print(\"optimal var\", x.value, y.value)"
   ]
  },
  {
   "cell_type": "code",
   "execution_count": null,
   "metadata": {},
   "outputs": [],
   "source": [
    "q"
   ]
  },
  {
   "cell_type": "code",
   "execution_count": null,
   "metadata": {},
   "outputs": [],
   "source": [
    "print(cvx.installed_solvers())"
   ]
  },
  {
   "cell_type": "code",
   "execution_count": null,
   "metadata": {},
   "outputs": [],
   "source": [
    "mu_io.value"
   ]
  },
  {
   "cell_type": "code",
   "execution_count": null,
   "metadata": {},
   "outputs": [],
   "source": []
  },
  {
   "cell_type": "code",
   "execution_count": null,
   "metadata": {},
   "outputs": [],
   "source": [
    "C_new"
   ]
  },
  {
   "cell_type": "code",
   "execution_count": null,
   "metadata": {},
   "outputs": [],
   "source": [
    "alpha=0.87\n",
    "ee=10**(-8)\n",
    "value,vector=np.linalg.eig(C_new)"
   ]
  },
  {
   "cell_type": "code",
   "execution_count": null,
   "metadata": {},
   "outputs": [],
   "source": [
    "value"
   ]
  },
  {
   "cell_type": "code",
   "execution_count": null,
   "metadata": {},
   "outputs": [],
   "source": [
    "vector[:,0]"
   ]
  },
  {
   "cell_type": "code",
   "execution_count": null,
   "metadata": {},
   "outputs": [],
   "source": [
    "vector[0]"
   ]
  },
  {
   "cell_type": "code",
   "execution_count": null,
   "metadata": {},
   "outputs": [],
   "source": [
    "print(cvx.installed_solvers())"
   ]
  },
  {
   "cell_type": "code",
   "execution_count": null,
   "metadata": {},
   "outputs": [],
   "source": [
    "Cov"
   ]
  },
  {
   "cell_type": "code",
   "execution_count": null,
   "metadata": {},
   "outputs": [],
   "source": [
    "##### general case with sigma as vriable.\n",
    "alpha=0.87\n",
    "ee=10**(-8)\n",
    "value,vector=np.linalg.eig(C_new)\n",
    "\n",
    "\n",
    "import cvxpy as cvx\n",
    "mu_io = cvx.Variable((10,1))\n",
    "sigma_bar = cvx.Variable((10,10))\n",
    "t = cvx.Variable((1,1))\n",
    "u = cvx.Variable((11,1))\n",
    "rf = rf\n",
    "Omega = Omega \n",
    "x_mkt = np.array(mkt).reshape(-1,1)\n",
    "e = e.reshape(-1,1)\n",
    "I = np.identity(11)\n",
    "q = q.reshape(-1,1)\n",
    "\n",
    "# sigma_bar.dot(x_mkt)\n",
    "Cons = [\n",
    "    u - np.linalg.inv(np.sqrt(Omega)) @ cvx.vstack([mu_io - rf*e - sigma_bar@x_mkt, \\\n",
    "                                                          P @ mu_io - q]) == 0,\n",
    "    cvx.vstack([ cvx.hstack([t, u.T]), cvx.hstack([u, I])]) >> 0,\n",
    "    value[0:3].sum()>=alpha*cvx.trace(sigma_bar),\n",
    "    cvx.norm(sigma_bar@vector[:,0]-value[0]*vector[:,0],p=2)<=ee,\n",
    "    cvx.norm(sigma_bar@vector[:,1]-value[1]*vector[:,1],p=2)<=ee,\n",
    "    cvx.norm(sigma_bar@vector[:,2]-value[2]*vector[:,2],p=2)<=ee,\n",
    "    sigma_bar >= 0\n",
    "]\n",
    "\n",
    "objective = cvx.Minimize(t)\n",
    "prob = cvx.Problem(objective, Cons)\n",
    "prob.solve(solver='CVXOPT')  # Returns the optimal value.\n",
    "print(\"status:\", prob.status)\n",
    "print(\"optimal value\", prob.value)\n",
    "# print(\"optimal var\", x.value, y.value)"
   ]
  },
  {
   "cell_type": "code",
   "execution_count": null,
   "metadata": {},
   "outputs": [],
   "source": [
    "mu_io.value"
   ]
  },
  {
   "cell_type": "code",
   "execution_count": null,
   "metadata": {},
   "outputs": [],
   "source": [
    "num=len(icode)\n",
    "e=np.zeros(num)+1\n",
    "\n",
    "def statistics2(weights):\n",
    "    \n",
    "    weights=np.array(weights)\n",
    "    \n",
    "    Mark1=np.dot(mu_io.value.T,weights)\n",
    "    Mark2=(1-np.dot(e.T,weights))*rf\n",
    "\n",
    "    \n",
    "    \n",
    "    return [Mark1+Mark2]\n",
    "\n",
    "def max_Mark1(weights):\n",
    "    \n",
    "    return -1*statistics2(weights)[0]\n",
    "\n",
    "cons = ({'type':'ineq', 'fun':lambda x: np.sum(x)-1},\n",
    "       {'type':'ineq', 'fun':lambda x: -np.sqrt(np.dot(np.dot(x.T,Cov_BL),x))+L}\n",
    "       )\n",
    "bnds = tuple((0,1) for x in range(num))\n",
    "mvio = sco.minimize(max_Mark1, num*[1./num,], method = 'SLSQP',  constraints = cons)\n",
    "print(mvio)"
   ]
  },
  {
   "cell_type": "code",
   "execution_count": null,
   "metadata": {},
   "outputs": [],
   "source": []
  },
  {
   "cell_type": "code",
   "execution_count": null,
   "metadata": {},
   "outputs": [],
   "source": [
    "returns"
   ]
  },
  {
   "cell_type": "code",
   "execution_count": null,
   "metadata": {},
   "outputs": [],
   "source": [
    "x_mkt,mvio.x,bl.x"
   ]
  },
  {
   "cell_type": "code",
   "execution_count": null,
   "metadata": {},
   "outputs": [],
   "source": [
    "x_mkt.sum()"
   ]
  },
  {
   "cell_type": "code",
   "execution_count": null,
   "metadata": {},
   "outputs": [],
   "source": [
    "bl.x.sum()"
   ]
  },
  {
   "cell_type": "code",
   "execution_count": null,
   "metadata": {},
   "outputs": [],
   "source": [
    "mvio_w=mvio.x/np.sum(mvio.x)\n",
    "bl_w=bl.x/np.sum(bl.x)"
   ]
  },
  {
   "cell_type": "code",
   "execution_count": null,
   "metadata": {},
   "outputs": [],
   "source": []
  },
  {
   "cell_type": "code",
   "execution_count": null,
   "metadata": {},
   "outputs": [],
   "source": [
    "mvio_return=np.dot(returns,mvio_w)\n",
    "mkt_return=np.dot(returns,x_mkt)\n",
    "bl_return=np.dot(returns,bl_w)"
   ]
  },
  {
   "cell_type": "code",
   "execution_count": null,
   "metadata": {},
   "outputs": [],
   "source": [
    "bl_w,x_mkt"
   ]
  },
  {
   "cell_type": "code",
   "execution_count": null,
   "metadata": {},
   "outputs": [],
   "source": []
  },
  {
   "cell_type": "code",
   "execution_count": null,
   "metadata": {},
   "outputs": [],
   "source": [
    "plt.plot(np.cumprod(1+mvio_return), color='red')\n",
    "plt.plot(np.cumprod(1+mkt_return), color='blue')\n",
    "plt.plot(np.cumprod(1+bl_return), color='green')"
   ]
  },
  {
   "cell_type": "code",
   "execution_count": null,
   "metadata": {},
   "outputs": [],
   "source": [
    "np.savetxt('new.csv', C_new, delimiter = ',')"
   ]
  },
  {
   "cell_type": "code",
   "execution_count": null,
   "metadata": {},
   "outputs": [],
   "source": []
  },
  {
   "cell_type": "code",
   "execution_count": null,
   "metadata": {},
   "outputs": [],
   "source": []
  },
  {
   "cell_type": "code",
   "execution_count": null,
   "metadata": {},
   "outputs": [],
   "source": []
  },
  {
   "cell_type": "code",
   "execution_count": null,
   "metadata": {},
   "outputs": [],
   "source": []
  },
  {
   "cell_type": "code",
   "execution_count": null,
   "metadata": {},
   "outputs": [],
   "source": []
  },
  {
   "cell_type": "code",
   "execution_count": null,
   "metadata": {},
   "outputs": [],
   "source": []
  },
  {
   "cell_type": "code",
   "execution_count": null,
   "metadata": {},
   "outputs": [],
   "source": []
  },
  {
   "cell_type": "code",
   "execution_count": null,
   "metadata": {},
   "outputs": [],
   "source": []
  },
  {
   "cell_type": "code",
   "execution_count": null,
   "metadata": {},
   "outputs": [],
   "source": []
  },
  {
   "cell_type": "code",
   "execution_count": null,
   "metadata": {},
   "outputs": [],
   "source": []
  }
 ],
 "metadata": {
  "kernelspec": {
   "display_name": "Python 3",
   "language": "python",
   "name": "python3"
  },
  "language_info": {
   "codemirror_mode": {
    "name": "ipython",
    "version": 3
   },
   "file_extension": ".py",
   "mimetype": "text/x-python",
   "name": "python",
   "nbconvert_exporter": "python",
   "pygments_lexer": "ipython3",
   "version": "3.7.7"
  }
 },
 "nbformat": 4,
 "nbformat_minor": 2
}
