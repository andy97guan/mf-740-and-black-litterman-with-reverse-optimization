{
 "cells": [
  {
   "cell_type": "code",
   "execution_count": 2,
   "metadata": {},
   "outputs": [],
   "source": [
    "import numpy as np\n",
    "import pandas as pd\n",
    "import matplotlib as mql\n",
    "from pandas_datareader import data as pdr\n",
    "import matplotlib.pyplot as plt\n",
    "from numpy.random import standard_normal as stn\n",
    "from datetime import datetime\n",
    "from sklearn import linear_model\n",
    "import statsmodels.api as sm\n",
    "import scipy.stats as scs\n",
    "from scipy.stats import norm\n",
    "import math\n",
    "from cvxopt import matrix, solvers\n",
    "import scipy.optimize as sco\n",
    "from scipy.fftpack import fft,ifft\n",
    "from sympy import *\n",
    "from sklearn.decomposition import PCA\n",
    "import json\n",
    "from cvxopt import matrix, solvers"
   ]
  },
  {
   "cell_type": "code",
   "execution_count": 2,
   "metadata": {},
   "outputs": [
    {
     "name": "stdout",
     "output_type": "stream",
     "text": [
      "1.0.3\n"
     ]
    }
   ],
   "source": [
    "import pandas as pd\n",
    "print(pd.__version__)"
   ]
  },
  {
   "cell_type": "markdown",
   "metadata": {},
   "source": [
    "## Bl model\n",
    "\n",
    "先随便用几个ETF数据来做,下面是数据处理得到年化log return"
   ]
  },
  {
   "cell_type": "code",
   "execution_count": 3,
   "metadata": {},
   "outputs": [],
   "source": [
    "# icode=['AAPL','BA','TSLA','BABA','GS','GOOG','AMZN','TM','F','JPM']\n",
    "# data=pdr.get_data_yahoo(icode,start='2017-01-01',end='2019-01-01')   # For data\n",
    "# data_close=data['Adj Close']\n",
    "\n",
    "# icode2=['^IRX']\n",
    "# risk_free=pdr.get_data_yahoo(icode2,start='2017-01-01',end='2019-01-01')\n",
    "# risk_free=risk_free['Adj Close']\n",
    "\n",
    "energy=pd.read_csv('ENERGY.csv',index_col=0)\n",
    "material=pd.read_csv('MATERIALS.csv',index_col=0)\n",
    "industrial=pd.read_csv('INDUSTRIALS.csv',index_col=0)\n",
    "consumer_discretionary=pd.read_csv(\"CONSUMER DISCR.csv\",index_col=0)\n",
    "consumer_staples=pd.read_csv('CONSUMER STAPLES.csv',index_col=0)\n",
    "health_care=pd.read_csv('HEALTH CARE.csv',index_col=0)\n",
    "financial=pd.read_csv('FINANCIALS.csv',index_col=0)\n",
    "it=pd.read_csv('INFORMATION TECH.csv',index_col=0)\n",
    "real_estate=pd.read_csv('REAL ESTATE.csv',index_col=0)\n",
    "ut=pd.read_csv('UTILITIES.csv',index_col=0)\n",
    "svc=pd.read_csv('COMM SVC 25-50.csv',index_col=0)\n",
    "\n",
    "\n",
    "\n",
    "cc=[0.1,0.2,0.3,0.4,0.5,0.6,0.7,0.8,0.9,1]\n",
    "\n",
    "\n"
   ]
  },
  {
   "cell_type": "code",
   "execution_count": null,
   "metadata": {},
   "outputs": [],
   "source": []
  },
  {
   "cell_type": "code",
   "execution_count": 4,
   "metadata": {},
   "outputs": [
    {
     "data": {
      "text/html": [
       "<div>\n",
       "<style scoped>\n",
       "    .dataframe tbody tr th:only-of-type {\n",
       "        vertical-align: middle;\n",
       "    }\n",
       "\n",
       "    .dataframe tbody tr th {\n",
       "        vertical-align: top;\n",
       "    }\n",
       "\n",
       "    .dataframe thead th {\n",
       "        text-align: right;\n",
       "    }\n",
       "</style>\n",
       "<table border=\"1\" class=\"dataframe\">\n",
       "  <thead>\n",
       "    <tr style=\"text-align: right;\">\n",
       "      <th></th>\n",
       "      <th>USA IMI/ENERGY</th>\n",
       "      <th>USA IMI/MATERIALS</th>\n",
       "      <th>USA IMI/INDUSTRIALS</th>\n",
       "      <th>USA IMI/CONSUMER DISCR</th>\n",
       "      <th>USA IMI/CONSUMER STAPLES</th>\n",
       "      <th>USA IMI/HEALTH CARE</th>\n",
       "      <th>USA IMI/FINANCIALS</th>\n",
       "      <th>USA IMI/INFORMATION TECH</th>\n",
       "      <th>USA IMI/COMM SVC 25-50</th>\n",
       "      <th>USA IMI/UTILITIES</th>\n",
       "    </tr>\n",
       "    <tr>\n",
       "      <th>Date</th>\n",
       "      <th></th>\n",
       "      <th></th>\n",
       "      <th></th>\n",
       "      <th></th>\n",
       "      <th></th>\n",
       "      <th></th>\n",
       "      <th></th>\n",
       "      <th></th>\n",
       "      <th></th>\n",
       "      <th></th>\n",
       "    </tr>\n",
       "  </thead>\n",
       "  <tbody>\n",
       "    <tr>\n",
       "      <th>11/30/1998</th>\n",
       "      <td>262.528572</td>\n",
       "      <td>430.640078</td>\n",
       "      <td>489.061696</td>\n",
       "      <td>627.030511</td>\n",
       "      <td>673.914402</td>\n",
       "      <td>663.038024</td>\n",
       "      <td>460.948412</td>\n",
       "      <td>941.351459</td>\n",
       "      <td>1277.928576</td>\n",
       "      <td>501.549209</td>\n",
       "    </tr>\n",
       "    <tr>\n",
       "      <th>12/1/1998</th>\n",
       "      <td>255.294784</td>\n",
       "      <td>426.496795</td>\n",
       "      <td>492.100870</td>\n",
       "      <td>629.963326</td>\n",
       "      <td>678.336046</td>\n",
       "      <td>668.762468</td>\n",
       "      <td>460.407430</td>\n",
       "      <td>978.074370</td>\n",
       "      <td>1289.952771</td>\n",
       "      <td>505.125254</td>\n",
       "    </tr>\n",
       "    <tr>\n",
       "      <th>12/2/1998</th>\n",
       "      <td>251.244968</td>\n",
       "      <td>423.514039</td>\n",
       "      <td>486.392520</td>\n",
       "      <td>626.169290</td>\n",
       "      <td>677.989331</td>\n",
       "      <td>677.122553</td>\n",
       "      <td>461.648400</td>\n",
       "      <td>974.320010</td>\n",
       "      <td>1286.622797</td>\n",
       "      <td>505.152571</td>\n",
       "    </tr>\n",
       "    <tr>\n",
       "      <th>12/3/1998</th>\n",
       "      <td>249.543814</td>\n",
       "      <td>415.947275</td>\n",
       "      <td>477.427863</td>\n",
       "      <td>615.561059</td>\n",
       "      <td>669.705815</td>\n",
       "      <td>659.225084</td>\n",
       "      <td>453.248151</td>\n",
       "      <td>955.366770</td>\n",
       "      <td>1291.679416</td>\n",
       "      <td>503.335765</td>\n",
       "    </tr>\n",
       "    <tr>\n",
       "      <th>12/4/1998</th>\n",
       "      <td>253.186141</td>\n",
       "      <td>417.516124</td>\n",
       "      <td>485.756444</td>\n",
       "      <td>624.100846</td>\n",
       "      <td>677.561272</td>\n",
       "      <td>673.047274</td>\n",
       "      <td>463.513232</td>\n",
       "      <td>988.104411</td>\n",
       "      <td>1316.290439</td>\n",
       "      <td>510.873489</td>\n",
       "    </tr>\n",
       "  </tbody>\n",
       "</table>\n",
       "</div>"
      ],
      "text/plain": [
       "            USA IMI/ENERGY  USA IMI/MATERIALS  USA IMI/INDUSTRIALS  \\\n",
       "Date                                                                 \n",
       "11/30/1998      262.528572         430.640078           489.061696   \n",
       "12/1/1998       255.294784         426.496795           492.100870   \n",
       "12/2/1998       251.244968         423.514039           486.392520   \n",
       "12/3/1998       249.543814         415.947275           477.427863   \n",
       "12/4/1998       253.186141         417.516124           485.756444   \n",
       "\n",
       "            USA IMI/CONSUMER DISCR  USA IMI/CONSUMER STAPLES  \\\n",
       "Date                                                           \n",
       "11/30/1998              627.030511                673.914402   \n",
       "12/1/1998               629.963326                678.336046   \n",
       "12/2/1998               626.169290                677.989331   \n",
       "12/3/1998               615.561059                669.705815   \n",
       "12/4/1998               624.100846                677.561272   \n",
       "\n",
       "            USA IMI/HEALTH CARE  USA IMI/FINANCIALS  USA IMI/INFORMATION TECH  \\\n",
       "Date                                                                            \n",
       "11/30/1998           663.038024          460.948412                941.351459   \n",
       "12/1/1998            668.762468          460.407430                978.074370   \n",
       "12/2/1998            677.122553          461.648400                974.320010   \n",
       "12/3/1998            659.225084          453.248151                955.366770   \n",
       "12/4/1998            673.047274          463.513232                988.104411   \n",
       "\n",
       "            USA IMI/COMM SVC 25-50  USA IMI/UTILITIES  \n",
       "Date                                                   \n",
       "11/30/1998             1277.928576         501.549209  \n",
       "12/1/1998              1289.952771         505.125254  \n",
       "12/2/1998              1286.622797         505.152571  \n",
       "12/3/1998              1291.679416         503.335765  \n",
       "12/4/1998              1316.290439         510.873489  "
      ]
     },
     "execution_count": 4,
     "metadata": {},
     "output_type": "execute_result"
    }
   ],
   "source": [
    "data=pd.merge(energy,material,on='Date',how='left')\n",
    "data=pd.merge(data,industrial,on='Date',how='left')\n",
    "data=pd.merge(data,consumer_discretionary,on='Date',how='left')\n",
    "data=pd.merge(data,consumer_staples,on='Date',how='left')\n",
    "data=pd.merge(data,health_care,on='Date',how='left')\n",
    "data=pd.merge(data,financial,on='Date',how='left')\n",
    "data=pd.merge(data,it,on='Date',how='left')\n",
    "data=pd.merge(data,svc,on='Date',how='right')\n",
    "data=pd.merge(data,ut,on='Date',how='left')\n",
    "data.head()"
   ]
  },
  {
   "cell_type": "code",
   "execution_count": 5,
   "metadata": {},
   "outputs": [],
   "source": [
    "icode=data.columns.values"
   ]
  },
  {
   "cell_type": "code",
   "execution_count": 6,
   "metadata": {},
   "outputs": [
    {
     "data": {
      "text/html": [
       "<div>\n",
       "<style scoped>\n",
       "    .dataframe tbody tr th:only-of-type {\n",
       "        vertical-align: middle;\n",
       "    }\n",
       "\n",
       "    .dataframe tbody tr th {\n",
       "        vertical-align: top;\n",
       "    }\n",
       "\n",
       "    .dataframe thead th {\n",
       "        text-align: right;\n",
       "    }\n",
       "</style>\n",
       "<table border=\"1\" class=\"dataframe\">\n",
       "  <thead>\n",
       "    <tr style=\"text-align: right;\">\n",
       "      <th></th>\n",
       "      <th>USA IMI/ENERGY</th>\n",
       "      <th>USA IMI/MATERIALS</th>\n",
       "      <th>USA IMI/INDUSTRIALS</th>\n",
       "      <th>USA IMI/CONSUMER DISCR</th>\n",
       "      <th>USA IMI/CONSUMER STAPLES</th>\n",
       "      <th>USA IMI/HEALTH CARE</th>\n",
       "      <th>USA IMI/FINANCIALS</th>\n",
       "      <th>USA IMI/INFORMATION TECH</th>\n",
       "      <th>USA IMI/COMM SVC 25-50</th>\n",
       "      <th>USA IMI/UTILITIES</th>\n",
       "    </tr>\n",
       "    <tr>\n",
       "      <th>Date</th>\n",
       "      <th></th>\n",
       "      <th></th>\n",
       "      <th></th>\n",
       "      <th></th>\n",
       "      <th></th>\n",
       "      <th></th>\n",
       "      <th></th>\n",
       "      <th></th>\n",
       "      <th></th>\n",
       "      <th></th>\n",
       "    </tr>\n",
       "  </thead>\n",
       "  <tbody>\n",
       "    <tr>\n",
       "      <th>3/31/2014</th>\n",
       "      <td>1439.147440</td>\n",
       "      <td>1474.814890</td>\n",
       "      <td>1544.869866</td>\n",
       "      <td>1807.220740</td>\n",
       "      <td>1902.381996</td>\n",
       "      <td>1951.875552</td>\n",
       "      <td>787.531517</td>\n",
       "      <td>1701.531213</td>\n",
       "      <td>1587.714945</td>\n",
       "      <td>1352.638331</td>\n",
       "    </tr>\n",
       "    <tr>\n",
       "      <th>4/1/2014</th>\n",
       "      <td>1447.340138</td>\n",
       "      <td>1486.489119</td>\n",
       "      <td>1557.524141</td>\n",
       "      <td>1833.141917</td>\n",
       "      <td>1901.453531</td>\n",
       "      <td>1967.924915</td>\n",
       "      <td>791.377595</td>\n",
       "      <td>1725.619914</td>\n",
       "      <td>1604.489108</td>\n",
       "      <td>1344.973763</td>\n",
       "    </tr>\n",
       "    <tr>\n",
       "      <th>4/2/2014</th>\n",
       "      <td>1453.037162</td>\n",
       "      <td>1496.426704</td>\n",
       "      <td>1567.236146</td>\n",
       "      <td>1845.126918</td>\n",
       "      <td>1904.547505</td>\n",
       "      <td>1974.681542</td>\n",
       "      <td>792.649458</td>\n",
       "      <td>1725.036875</td>\n",
       "      <td>1607.515438</td>\n",
       "      <td>1342.916988</td>\n",
       "    </tr>\n",
       "    <tr>\n",
       "      <th>4/3/2014</th>\n",
       "      <td>1459.633988</td>\n",
       "      <td>1497.174462</td>\n",
       "      <td>1567.353300</td>\n",
       "      <td>1834.376346</td>\n",
       "      <td>1905.417428</td>\n",
       "      <td>1964.644411</td>\n",
       "      <td>791.346491</td>\n",
       "      <td>1711.606611</td>\n",
       "      <td>1604.310834</td>\n",
       "      <td>1346.604535</td>\n",
       "    </tr>\n",
       "    <tr>\n",
       "      <th>4/4/2014</th>\n",
       "      <td>1453.006857</td>\n",
       "      <td>1479.206324</td>\n",
       "      <td>1547.005795</td>\n",
       "      <td>1801.198911</td>\n",
       "      <td>1895.350064</td>\n",
       "      <td>1928.669947</td>\n",
       "      <td>782.133887</td>\n",
       "      <td>1671.845129</td>\n",
       "      <td>1586.783756</td>\n",
       "      <td>1352.108457</td>\n",
       "    </tr>\n",
       "    <tr>\n",
       "      <th>...</th>\n",
       "      <td>...</td>\n",
       "      <td>...</td>\n",
       "      <td>...</td>\n",
       "      <td>...</td>\n",
       "      <td>...</td>\n",
       "      <td>...</td>\n",
       "      <td>...</td>\n",
       "      <td>...</td>\n",
       "      <td>...</td>\n",
       "      <td>...</td>\n",
       "    </tr>\n",
       "    <tr>\n",
       "      <th>4/22/2020</th>\n",
       "      <td>594.745358</td>\n",
       "      <td>1620.318572</td>\n",
       "      <td>1982.409516</td>\n",
       "      <td>3219.279224</td>\n",
       "      <td>2998.538464</td>\n",
       "      <td>3707.082578</td>\n",
       "      <td>1024.544822</td>\n",
       "      <td>4541.457520</td>\n",
       "      <td>2324.130000</td>\n",
       "      <td>2355.349841</td>\n",
       "    </tr>\n",
       "    <tr>\n",
       "      <th>4/23/2020</th>\n",
       "      <td>613.589009</td>\n",
       "      <td>1633.454087</td>\n",
       "      <td>2000.532542</td>\n",
       "      <td>3227.153593</td>\n",
       "      <td>2973.829548</td>\n",
       "      <td>3730.146867</td>\n",
       "      <td>1022.668316</td>\n",
       "      <td>4515.091879</td>\n",
       "      <td>2344.051013</td>\n",
       "      <td>2317.042590</td>\n",
       "    </tr>\n",
       "    <tr>\n",
       "      <th>4/24/2020</th>\n",
       "      <td>615.409847</td>\n",
       "      <td>1657.043448</td>\n",
       "      <td>2016.643835</td>\n",
       "      <td>3279.781764</td>\n",
       "      <td>3008.084920</td>\n",
       "      <td>3788.658488</td>\n",
       "      <td>1036.832744</td>\n",
       "      <td>4606.805892</td>\n",
       "      <td>2370.876897</td>\n",
       "      <td>2332.509681</td>\n",
       "    </tr>\n",
       "    <tr>\n",
       "      <th>4/27/2020</th>\n",
       "      <td>628.227613</td>\n",
       "      <td>1708.088838</td>\n",
       "      <td>2075.622765</td>\n",
       "      <td>3347.055899</td>\n",
       "      <td>3022.159583</td>\n",
       "      <td>3842.631669</td>\n",
       "      <td>1079.004474</td>\n",
       "      <td>4658.200735</td>\n",
       "      <td>2394.356559</td>\n",
       "      <td>2359.837846</td>\n",
       "    </tr>\n",
       "    <tr>\n",
       "      <th>4/28/2020</th>\n",
       "      <td>641.832692</td>\n",
       "      <td>1739.402693</td>\n",
       "      <td>2112.874127</td>\n",
       "      <td>3343.060805</td>\n",
       "      <td>3036.513060</td>\n",
       "      <td>3758.451236</td>\n",
       "      <td>1092.564297</td>\n",
       "      <td>4598.360791</td>\n",
       "      <td>2355.854024</td>\n",
       "      <td>2370.659487</td>\n",
       "    </tr>\n",
       "  </tbody>\n",
       "</table>\n",
       "<p>1587 rows × 10 columns</p>\n",
       "</div>"
      ],
      "text/plain": [
       "           USA IMI/ENERGY  USA IMI/MATERIALS  USA IMI/INDUSTRIALS  \\\n",
       "Date                                                                \n",
       "3/31/2014     1439.147440        1474.814890          1544.869866   \n",
       "4/1/2014      1447.340138        1486.489119          1557.524141   \n",
       "4/2/2014      1453.037162        1496.426704          1567.236146   \n",
       "4/3/2014      1459.633988        1497.174462          1567.353300   \n",
       "4/4/2014      1453.006857        1479.206324          1547.005795   \n",
       "...                   ...                ...                  ...   \n",
       "4/22/2020      594.745358        1620.318572          1982.409516   \n",
       "4/23/2020      613.589009        1633.454087          2000.532542   \n",
       "4/24/2020      615.409847        1657.043448          2016.643835   \n",
       "4/27/2020      628.227613        1708.088838          2075.622765   \n",
       "4/28/2020      641.832692        1739.402693          2112.874127   \n",
       "\n",
       "           USA IMI/CONSUMER DISCR  USA IMI/CONSUMER STAPLES  \\\n",
       "Date                                                          \n",
       "3/31/2014             1807.220740               1902.381996   \n",
       "4/1/2014              1833.141917               1901.453531   \n",
       "4/2/2014              1845.126918               1904.547505   \n",
       "4/3/2014              1834.376346               1905.417428   \n",
       "4/4/2014              1801.198911               1895.350064   \n",
       "...                           ...                       ...   \n",
       "4/22/2020             3219.279224               2998.538464   \n",
       "4/23/2020             3227.153593               2973.829548   \n",
       "4/24/2020             3279.781764               3008.084920   \n",
       "4/27/2020             3347.055899               3022.159583   \n",
       "4/28/2020             3343.060805               3036.513060   \n",
       "\n",
       "           USA IMI/HEALTH CARE  USA IMI/FINANCIALS  USA IMI/INFORMATION TECH  \\\n",
       "Date                                                                           \n",
       "3/31/2014          1951.875552          787.531517               1701.531213   \n",
       "4/1/2014           1967.924915          791.377595               1725.619914   \n",
       "4/2/2014           1974.681542          792.649458               1725.036875   \n",
       "4/3/2014           1964.644411          791.346491               1711.606611   \n",
       "4/4/2014           1928.669947          782.133887               1671.845129   \n",
       "...                        ...                 ...                       ...   \n",
       "4/22/2020          3707.082578         1024.544822               4541.457520   \n",
       "4/23/2020          3730.146867         1022.668316               4515.091879   \n",
       "4/24/2020          3788.658488         1036.832744               4606.805892   \n",
       "4/27/2020          3842.631669         1079.004474               4658.200735   \n",
       "4/28/2020          3758.451236         1092.564297               4598.360791   \n",
       "\n",
       "           USA IMI/COMM SVC 25-50  USA IMI/UTILITIES  \n",
       "Date                                                  \n",
       "3/31/2014             1587.714945        1352.638331  \n",
       "4/1/2014              1604.489108        1344.973763  \n",
       "4/2/2014              1607.515438        1342.916988  \n",
       "4/3/2014              1604.310834        1346.604535  \n",
       "4/4/2014              1586.783756        1352.108457  \n",
       "...                           ...                ...  \n",
       "4/22/2020             2324.130000        2355.349841  \n",
       "4/23/2020             2344.051013        2317.042590  \n",
       "4/24/2020             2370.876897        2332.509681  \n",
       "4/27/2020             2394.356559        2359.837846  \n",
       "4/28/2020             2355.854024        2370.659487  \n",
       "\n",
       "[1587 rows x 10 columns]"
      ]
     },
     "execution_count": 6,
     "metadata": {},
     "output_type": "execute_result"
    }
   ],
   "source": [
    "data=data.iloc[4000:,:]\n",
    "data"
   ]
  },
  {
   "cell_type": "code",
   "execution_count": 7,
   "metadata": {},
   "outputs": [],
   "source": [
    "returns = np.log(data.shift(-1)/data)\n",
    "returns=returns.dropna(axis=0,how='all')     #kill nan\n",
    "Cov=returns.cov()*252\n",
    "annual_returns=returns*252"
   ]
  },
  {
   "cell_type": "code",
   "execution_count": 8,
   "metadata": {},
   "outputs": [
    {
     "data": {
      "text/html": [
       "<div>\n",
       "<style scoped>\n",
       "    .dataframe tbody tr th:only-of-type {\n",
       "        vertical-align: middle;\n",
       "    }\n",
       "\n",
       "    .dataframe tbody tr th {\n",
       "        vertical-align: top;\n",
       "    }\n",
       "\n",
       "    .dataframe thead th {\n",
       "        text-align: right;\n",
       "    }\n",
       "</style>\n",
       "<table border=\"1\" class=\"dataframe\">\n",
       "  <thead>\n",
       "    <tr style=\"text-align: right;\">\n",
       "      <th></th>\n",
       "      <th>USA IMI/ENERGY</th>\n",
       "      <th>USA IMI/MATERIALS</th>\n",
       "      <th>USA IMI/INDUSTRIALS</th>\n",
       "      <th>USA IMI/CONSUMER DISCR</th>\n",
       "      <th>USA IMI/CONSUMER STAPLES</th>\n",
       "      <th>USA IMI/HEALTH CARE</th>\n",
       "      <th>USA IMI/FINANCIALS</th>\n",
       "      <th>USA IMI/INFORMATION TECH</th>\n",
       "      <th>USA IMI/COMM SVC 25-50</th>\n",
       "      <th>USA IMI/UTILITIES</th>\n",
       "    </tr>\n",
       "  </thead>\n",
       "  <tbody>\n",
       "    <tr>\n",
       "      <th>USA IMI/ENERGY</th>\n",
       "      <td>0.080257</td>\n",
       "      <td>0.045583</td>\n",
       "      <td>0.042542</td>\n",
       "      <td>0.035717</td>\n",
       "      <td>0.021868</td>\n",
       "      <td>0.030826</td>\n",
       "      <td>0.045206</td>\n",
       "      <td>0.039644</td>\n",
       "      <td>0.032914</td>\n",
       "      <td>0.023122</td>\n",
       "    </tr>\n",
       "    <tr>\n",
       "      <th>USA IMI/MATERIALS</th>\n",
       "      <td>0.045583</td>\n",
       "      <td>0.041832</td>\n",
       "      <td>0.036623</td>\n",
       "      <td>0.031513</td>\n",
       "      <td>0.021005</td>\n",
       "      <td>0.028252</td>\n",
       "      <td>0.038063</td>\n",
       "      <td>0.035657</td>\n",
       "      <td>0.027634</td>\n",
       "      <td>0.021541</td>\n",
       "    </tr>\n",
       "    <tr>\n",
       "      <th>USA IMI/INDUSTRIALS</th>\n",
       "      <td>0.042542</td>\n",
       "      <td>0.036623</td>\n",
       "      <td>0.038260</td>\n",
       "      <td>0.031792</td>\n",
       "      <td>0.021159</td>\n",
       "      <td>0.028300</td>\n",
       "      <td>0.038283</td>\n",
       "      <td>0.035953</td>\n",
       "      <td>0.027830</td>\n",
       "      <td>0.021473</td>\n",
       "    </tr>\n",
       "    <tr>\n",
       "      <th>USA IMI/CONSUMER DISCR</th>\n",
       "      <td>0.035717</td>\n",
       "      <td>0.031513</td>\n",
       "      <td>0.031792</td>\n",
       "      <td>0.034364</td>\n",
       "      <td>0.019759</td>\n",
       "      <td>0.027137</td>\n",
       "      <td>0.033659</td>\n",
       "      <td>0.035959</td>\n",
       "      <td>0.027575</td>\n",
       "      <td>0.018510</td>\n",
       "    </tr>\n",
       "    <tr>\n",
       "      <th>USA IMI/CONSUMER STAPLES</th>\n",
       "      <td>0.021868</td>\n",
       "      <td>0.021005</td>\n",
       "      <td>0.021159</td>\n",
       "      <td>0.019759</td>\n",
       "      <td>0.022224</td>\n",
       "      <td>0.019600</td>\n",
       "      <td>0.022470</td>\n",
       "      <td>0.022912</td>\n",
       "      <td>0.019524</td>\n",
       "      <td>0.021511</td>\n",
       "    </tr>\n",
       "    <tr>\n",
       "      <th>USA IMI/HEALTH CARE</th>\n",
       "      <td>0.030826</td>\n",
       "      <td>0.028252</td>\n",
       "      <td>0.028300</td>\n",
       "      <td>0.027137</td>\n",
       "      <td>0.019600</td>\n",
       "      <td>0.033272</td>\n",
       "      <td>0.030439</td>\n",
       "      <td>0.032272</td>\n",
       "      <td>0.024070</td>\n",
       "      <td>0.019581</td>\n",
       "    </tr>\n",
       "    <tr>\n",
       "      <th>USA IMI/FINANCIALS</th>\n",
       "      <td>0.045206</td>\n",
       "      <td>0.038063</td>\n",
       "      <td>0.038283</td>\n",
       "      <td>0.033659</td>\n",
       "      <td>0.022470</td>\n",
       "      <td>0.030439</td>\n",
       "      <td>0.047273</td>\n",
       "      <td>0.037622</td>\n",
       "      <td>0.029842</td>\n",
       "      <td>0.022797</td>\n",
       "    </tr>\n",
       "    <tr>\n",
       "      <th>USA IMI/INFORMATION TECH</th>\n",
       "      <td>0.039644</td>\n",
       "      <td>0.035657</td>\n",
       "      <td>0.035953</td>\n",
       "      <td>0.035959</td>\n",
       "      <td>0.022912</td>\n",
       "      <td>0.032272</td>\n",
       "      <td>0.037622</td>\n",
       "      <td>0.046690</td>\n",
       "      <td>0.030825</td>\n",
       "      <td>0.021838</td>\n",
       "    </tr>\n",
       "    <tr>\n",
       "      <th>USA IMI/COMM SVC 25-50</th>\n",
       "      <td>0.032914</td>\n",
       "      <td>0.027634</td>\n",
       "      <td>0.027830</td>\n",
       "      <td>0.027575</td>\n",
       "      <td>0.019524</td>\n",
       "      <td>0.024070</td>\n",
       "      <td>0.029842</td>\n",
       "      <td>0.030825</td>\n",
       "      <td>0.034891</td>\n",
       "      <td>0.020013</td>\n",
       "    </tr>\n",
       "    <tr>\n",
       "      <th>USA IMI/UTILITIES</th>\n",
       "      <td>0.023122</td>\n",
       "      <td>0.021541</td>\n",
       "      <td>0.021473</td>\n",
       "      <td>0.018510</td>\n",
       "      <td>0.021511</td>\n",
       "      <td>0.019581</td>\n",
       "      <td>0.022797</td>\n",
       "      <td>0.021838</td>\n",
       "      <td>0.020013</td>\n",
       "      <td>0.037173</td>\n",
       "    </tr>\n",
       "  </tbody>\n",
       "</table>\n",
       "</div>"
      ],
      "text/plain": [
       "                          USA IMI/ENERGY  USA IMI/MATERIALS  \\\n",
       "USA IMI/ENERGY                  0.080257           0.045583   \n",
       "USA IMI/MATERIALS               0.045583           0.041832   \n",
       "USA IMI/INDUSTRIALS             0.042542           0.036623   \n",
       "USA IMI/CONSUMER DISCR          0.035717           0.031513   \n",
       "USA IMI/CONSUMER STAPLES        0.021868           0.021005   \n",
       "USA IMI/HEALTH CARE             0.030826           0.028252   \n",
       "USA IMI/FINANCIALS              0.045206           0.038063   \n",
       "USA IMI/INFORMATION TECH        0.039644           0.035657   \n",
       "USA IMI/COMM SVC 25-50          0.032914           0.027634   \n",
       "USA IMI/UTILITIES               0.023122           0.021541   \n",
       "\n",
       "                          USA IMI/INDUSTRIALS  USA IMI/CONSUMER DISCR  \\\n",
       "USA IMI/ENERGY                       0.042542                0.035717   \n",
       "USA IMI/MATERIALS                    0.036623                0.031513   \n",
       "USA IMI/INDUSTRIALS                  0.038260                0.031792   \n",
       "USA IMI/CONSUMER DISCR               0.031792                0.034364   \n",
       "USA IMI/CONSUMER STAPLES             0.021159                0.019759   \n",
       "USA IMI/HEALTH CARE                  0.028300                0.027137   \n",
       "USA IMI/FINANCIALS                   0.038283                0.033659   \n",
       "USA IMI/INFORMATION TECH             0.035953                0.035959   \n",
       "USA IMI/COMM SVC 25-50               0.027830                0.027575   \n",
       "USA IMI/UTILITIES                    0.021473                0.018510   \n",
       "\n",
       "                          USA IMI/CONSUMER STAPLES  USA IMI/HEALTH CARE  \\\n",
       "USA IMI/ENERGY                            0.021868             0.030826   \n",
       "USA IMI/MATERIALS                         0.021005             0.028252   \n",
       "USA IMI/INDUSTRIALS                       0.021159             0.028300   \n",
       "USA IMI/CONSUMER DISCR                    0.019759             0.027137   \n",
       "USA IMI/CONSUMER STAPLES                  0.022224             0.019600   \n",
       "USA IMI/HEALTH CARE                       0.019600             0.033272   \n",
       "USA IMI/FINANCIALS                        0.022470             0.030439   \n",
       "USA IMI/INFORMATION TECH                  0.022912             0.032272   \n",
       "USA IMI/COMM SVC 25-50                    0.019524             0.024070   \n",
       "USA IMI/UTILITIES                         0.021511             0.019581   \n",
       "\n",
       "                          USA IMI/FINANCIALS  USA IMI/INFORMATION TECH  \\\n",
       "USA IMI/ENERGY                      0.045206                  0.039644   \n",
       "USA IMI/MATERIALS                   0.038063                  0.035657   \n",
       "USA IMI/INDUSTRIALS                 0.038283                  0.035953   \n",
       "USA IMI/CONSUMER DISCR              0.033659                  0.035959   \n",
       "USA IMI/CONSUMER STAPLES            0.022470                  0.022912   \n",
       "USA IMI/HEALTH CARE                 0.030439                  0.032272   \n",
       "USA IMI/FINANCIALS                  0.047273                  0.037622   \n",
       "USA IMI/INFORMATION TECH            0.037622                  0.046690   \n",
       "USA IMI/COMM SVC 25-50              0.029842                  0.030825   \n",
       "USA IMI/UTILITIES                   0.022797                  0.021838   \n",
       "\n",
       "                          USA IMI/COMM SVC 25-50  USA IMI/UTILITIES  \n",
       "USA IMI/ENERGY                          0.032914           0.023122  \n",
       "USA IMI/MATERIALS                       0.027634           0.021541  \n",
       "USA IMI/INDUSTRIALS                     0.027830           0.021473  \n",
       "USA IMI/CONSUMER DISCR                  0.027575           0.018510  \n",
       "USA IMI/CONSUMER STAPLES                0.019524           0.021511  \n",
       "USA IMI/HEALTH CARE                     0.024070           0.019581  \n",
       "USA IMI/FINANCIALS                      0.029842           0.022797  \n",
       "USA IMI/INFORMATION TECH                0.030825           0.021838  \n",
       "USA IMI/COMM SVC 25-50                  0.034891           0.020013  \n",
       "USA IMI/UTILITIES                       0.020013           0.037173  "
      ]
     },
     "execution_count": 8,
     "metadata": {},
     "output_type": "execute_result"
    }
   ],
   "source": [
    "Cov"
   ]
  },
  {
   "cell_type": "code",
   "execution_count": 9,
   "metadata": {},
   "outputs": [
    {
     "data": {
      "text/html": [
       "<div>\n",
       "<style scoped>\n",
       "    .dataframe tbody tr th:only-of-type {\n",
       "        vertical-align: middle;\n",
       "    }\n",
       "\n",
       "    .dataframe tbody tr th {\n",
       "        vertical-align: top;\n",
       "    }\n",
       "\n",
       "    .dataframe thead th {\n",
       "        text-align: right;\n",
       "    }\n",
       "</style>\n",
       "<table border=\"1\" class=\"dataframe\">\n",
       "  <thead>\n",
       "    <tr style=\"text-align: right;\">\n",
       "      <th></th>\n",
       "      <th>USA IMI/ENERGY</th>\n",
       "      <th>USA IMI/MATERIALS</th>\n",
       "      <th>USA IMI/INDUSTRIALS</th>\n",
       "      <th>USA IMI/CONSUMER DISCR</th>\n",
       "      <th>USA IMI/CONSUMER STAPLES</th>\n",
       "      <th>USA IMI/HEALTH CARE</th>\n",
       "      <th>USA IMI/FINANCIALS</th>\n",
       "      <th>USA IMI/INFORMATION TECH</th>\n",
       "      <th>USA IMI/COMM SVC 25-50</th>\n",
       "      <th>USA IMI/UTILITIES</th>\n",
       "    </tr>\n",
       "    <tr>\n",
       "      <th>Date</th>\n",
       "      <th></th>\n",
       "      <th></th>\n",
       "      <th></th>\n",
       "      <th></th>\n",
       "      <th></th>\n",
       "      <th></th>\n",
       "      <th></th>\n",
       "      <th></th>\n",
       "      <th></th>\n",
       "      <th></th>\n",
       "    </tr>\n",
       "  </thead>\n",
       "  <tbody>\n",
       "    <tr>\n",
       "      <th>3/31/2014</th>\n",
       "      <td>1.430504</td>\n",
       "      <td>1.986909</td>\n",
       "      <td>2.055764</td>\n",
       "      <td>3.588789</td>\n",
       "      <td>-0.123020</td>\n",
       "      <td>2.063606</td>\n",
       "      <td>1.227700</td>\n",
       "      <td>3.542565</td>\n",
       "      <td>2.648407</td>\n",
       "      <td>-1.431990</td>\n",
       "    </tr>\n",
       "    <tr>\n",
       "      <th>4/1/2014</th>\n",
       "      <td>0.989976</td>\n",
       "      <td>1.679082</td>\n",
       "      <td>1.566477</td>\n",
       "      <td>1.642202</td>\n",
       "      <td>0.409712</td>\n",
       "      <td>0.863729</td>\n",
       "      <td>0.404677</td>\n",
       "      <td>-0.085158</td>\n",
       "      <td>0.474866</td>\n",
       "      <td>-0.385661</td>\n",
       "    </tr>\n",
       "    <tr>\n",
       "      <th>4/2/2014</th>\n",
       "      <td>1.141497</td>\n",
       "      <td>0.125892</td>\n",
       "      <td>0.018837</td>\n",
       "      <td>-1.472564</td>\n",
       "      <td>0.115077</td>\n",
       "      <td>-1.284160</td>\n",
       "      <td>-0.414582</td>\n",
       "      <td>-1.969622</td>\n",
       "      <td>-0.502867</td>\n",
       "      <td>0.691024</td>\n",
       "    </tr>\n",
       "    <tr>\n",
       "      <th>4/3/2014</th>\n",
       "      <td>-1.146753</td>\n",
       "      <td>-3.042639</td>\n",
       "      <td>-3.292905</td>\n",
       "      <td>-4.599517</td>\n",
       "      <td>-1.334984</td>\n",
       "      <td>-4.657124</td>\n",
       "      <td>-2.950914</td>\n",
       "      <td>-5.923155</td>\n",
       "      <td>-2.768246</td>\n",
       "      <td>1.027890</td>\n",
       "    </tr>\n",
       "    <tr>\n",
       "      <th>4/4/2014</th>\n",
       "      <td>-3.909447</td>\n",
       "      <td>-4.256421</td>\n",
       "      <td>-3.926103</td>\n",
       "      <td>-5.429810</td>\n",
       "      <td>0.550245</td>\n",
       "      <td>-2.690789</td>\n",
       "      <td>-3.384506</td>\n",
       "      <td>-2.286010</td>\n",
       "      <td>-2.083240</td>\n",
       "      <td>-0.791040</td>\n",
       "    </tr>\n",
       "  </tbody>\n",
       "</table>\n",
       "</div>"
      ],
      "text/plain": [
       "           USA IMI/ENERGY  USA IMI/MATERIALS  USA IMI/INDUSTRIALS  \\\n",
       "Date                                                                \n",
       "3/31/2014        1.430504           1.986909             2.055764   \n",
       "4/1/2014         0.989976           1.679082             1.566477   \n",
       "4/2/2014         1.141497           0.125892             0.018837   \n",
       "4/3/2014        -1.146753          -3.042639            -3.292905   \n",
       "4/4/2014        -3.909447          -4.256421            -3.926103   \n",
       "\n",
       "           USA IMI/CONSUMER DISCR  USA IMI/CONSUMER STAPLES  \\\n",
       "Date                                                          \n",
       "3/31/2014                3.588789                 -0.123020   \n",
       "4/1/2014                 1.642202                  0.409712   \n",
       "4/2/2014                -1.472564                  0.115077   \n",
       "4/3/2014                -4.599517                 -1.334984   \n",
       "4/4/2014                -5.429810                  0.550245   \n",
       "\n",
       "           USA IMI/HEALTH CARE  USA IMI/FINANCIALS  USA IMI/INFORMATION TECH  \\\n",
       "Date                                                                           \n",
       "3/31/2014             2.063606            1.227700                  3.542565   \n",
       "4/1/2014              0.863729            0.404677                 -0.085158   \n",
       "4/2/2014             -1.284160           -0.414582                 -1.969622   \n",
       "4/3/2014             -4.657124           -2.950914                 -5.923155   \n",
       "4/4/2014             -2.690789           -3.384506                 -2.286010   \n",
       "\n",
       "           USA IMI/COMM SVC 25-50  USA IMI/UTILITIES  \n",
       "Date                                                  \n",
       "3/31/2014                2.648407          -1.431990  \n",
       "4/1/2014                 0.474866          -0.385661  \n",
       "4/2/2014                -0.502867           0.691024  \n",
       "4/3/2014                -2.768246           1.027890  \n",
       "4/4/2014                -2.083240          -0.791040  "
      ]
     },
     "execution_count": 9,
     "metadata": {},
     "output_type": "execute_result"
    }
   ],
   "source": [
    "annual_returns.head()"
   ]
  },
  {
   "cell_type": "code",
   "execution_count": 10,
   "metadata": {},
   "outputs": [],
   "source": [
    "risk_free=0"
   ]
  },
  {
   "cell_type": "code",
   "execution_count": 11,
   "metadata": {},
   "outputs": [
    {
     "data": {
      "text/html": [
       "<div>\n",
       "<style scoped>\n",
       "    .dataframe tbody tr th:only-of-type {\n",
       "        vertical-align: middle;\n",
       "    }\n",
       "\n",
       "    .dataframe tbody tr th {\n",
       "        vertical-align: top;\n",
       "    }\n",
       "\n",
       "    .dataframe thead th {\n",
       "        text-align: right;\n",
       "    }\n",
       "</style>\n",
       "<table border=\"1\" class=\"dataframe\">\n",
       "  <thead>\n",
       "    <tr style=\"text-align: right;\">\n",
       "      <th></th>\n",
       "      <th>USA IMI/ENERGY</th>\n",
       "      <th>USA IMI/MATERIALS</th>\n",
       "      <th>USA IMI/INDUSTRIALS</th>\n",
       "      <th>USA IMI/CONSUMER DISCR</th>\n",
       "      <th>USA IMI/CONSUMER STAPLES</th>\n",
       "      <th>USA IMI/HEALTH CARE</th>\n",
       "      <th>USA IMI/FINANCIALS</th>\n",
       "      <th>USA IMI/INFORMATION TECH</th>\n",
       "      <th>USA IMI/COMM SVC 25-50</th>\n",
       "      <th>USA IMI/UTILITIES</th>\n",
       "    </tr>\n",
       "    <tr>\n",
       "      <th>Date</th>\n",
       "      <th></th>\n",
       "      <th></th>\n",
       "      <th></th>\n",
       "      <th></th>\n",
       "      <th></th>\n",
       "      <th></th>\n",
       "      <th></th>\n",
       "      <th></th>\n",
       "      <th></th>\n",
       "      <th></th>\n",
       "    </tr>\n",
       "  </thead>\n",
       "  <tbody>\n",
       "    <tr>\n",
       "      <th>3/31/2014</th>\n",
       "      <td>0.005677</td>\n",
       "      <td>0.007885</td>\n",
       "      <td>0.008158</td>\n",
       "      <td>0.014241</td>\n",
       "      <td>-0.000488</td>\n",
       "      <td>0.008189</td>\n",
       "      <td>0.004872</td>\n",
       "      <td>0.014058</td>\n",
       "      <td>0.010510</td>\n",
       "      <td>-0.005682</td>\n",
       "    </tr>\n",
       "    <tr>\n",
       "      <th>4/1/2014</th>\n",
       "      <td>0.003928</td>\n",
       "      <td>0.006663</td>\n",
       "      <td>0.006216</td>\n",
       "      <td>0.006517</td>\n",
       "      <td>0.001626</td>\n",
       "      <td>0.003427</td>\n",
       "      <td>0.001606</td>\n",
       "      <td>-0.000338</td>\n",
       "      <td>0.001884</td>\n",
       "      <td>-0.001530</td>\n",
       "    </tr>\n",
       "    <tr>\n",
       "      <th>4/2/2014</th>\n",
       "      <td>0.004530</td>\n",
       "      <td>0.000500</td>\n",
       "      <td>0.000075</td>\n",
       "      <td>-0.005844</td>\n",
       "      <td>0.000457</td>\n",
       "      <td>-0.005096</td>\n",
       "      <td>-0.001645</td>\n",
       "      <td>-0.007816</td>\n",
       "      <td>-0.001996</td>\n",
       "      <td>0.002742</td>\n",
       "    </tr>\n",
       "    <tr>\n",
       "      <th>4/3/2014</th>\n",
       "      <td>-0.004551</td>\n",
       "      <td>-0.012074</td>\n",
       "      <td>-0.013067</td>\n",
       "      <td>-0.018252</td>\n",
       "      <td>-0.005298</td>\n",
       "      <td>-0.018481</td>\n",
       "      <td>-0.011710</td>\n",
       "      <td>-0.023505</td>\n",
       "      <td>-0.010985</td>\n",
       "      <td>0.004079</td>\n",
       "    </tr>\n",
       "    <tr>\n",
       "      <th>4/4/2014</th>\n",
       "      <td>-0.015514</td>\n",
       "      <td>-0.016891</td>\n",
       "      <td>-0.015580</td>\n",
       "      <td>-0.021547</td>\n",
       "      <td>0.002184</td>\n",
       "      <td>-0.010678</td>\n",
       "      <td>-0.013431</td>\n",
       "      <td>-0.009071</td>\n",
       "      <td>-0.008267</td>\n",
       "      <td>-0.003139</td>\n",
       "    </tr>\n",
       "    <tr>\n",
       "      <th>...</th>\n",
       "      <td>...</td>\n",
       "      <td>...</td>\n",
       "      <td>...</td>\n",
       "      <td>...</td>\n",
       "      <td>...</td>\n",
       "      <td>...</td>\n",
       "      <td>...</td>\n",
       "      <td>...</td>\n",
       "      <td>...</td>\n",
       "      <td>...</td>\n",
       "    </tr>\n",
       "    <tr>\n",
       "      <th>4/21/2020</th>\n",
       "      <td>0.033929</td>\n",
       "      <td>0.019723</td>\n",
       "      <td>0.012885</td>\n",
       "      <td>0.021194</td>\n",
       "      <td>0.010983</td>\n",
       "      <td>0.016271</td>\n",
       "      <td>0.008319</td>\n",
       "      <td>0.037332</td>\n",
       "      <td>0.024110</td>\n",
       "      <td>0.028064</td>\n",
       "    </tr>\n",
       "    <tr>\n",
       "      <th>4/22/2020</th>\n",
       "      <td>0.031192</td>\n",
       "      <td>0.008074</td>\n",
       "      <td>0.009100</td>\n",
       "      <td>0.002443</td>\n",
       "      <td>-0.008274</td>\n",
       "      <td>0.006202</td>\n",
       "      <td>-0.001833</td>\n",
       "      <td>-0.005822</td>\n",
       "      <td>0.008535</td>\n",
       "      <td>-0.016398</td>\n",
       "    </tr>\n",
       "    <tr>\n",
       "      <th>4/23/2020</th>\n",
       "      <td>0.002963</td>\n",
       "      <td>0.014338</td>\n",
       "      <td>0.008021</td>\n",
       "      <td>0.016176</td>\n",
       "      <td>0.011453</td>\n",
       "      <td>0.015564</td>\n",
       "      <td>0.013755</td>\n",
       "      <td>0.020109</td>\n",
       "      <td>0.011379</td>\n",
       "      <td>0.006653</td>\n",
       "    </tr>\n",
       "    <tr>\n",
       "      <th>4/24/2020</th>\n",
       "      <td>0.020614</td>\n",
       "      <td>0.030340</td>\n",
       "      <td>0.028827</td>\n",
       "      <td>0.020304</td>\n",
       "      <td>0.004668</td>\n",
       "      <td>0.014145</td>\n",
       "      <td>0.039868</td>\n",
       "      <td>0.011095</td>\n",
       "      <td>0.009855</td>\n",
       "      <td>0.011648</td>\n",
       "    </tr>\n",
       "    <tr>\n",
       "      <th>4/27/2020</th>\n",
       "      <td>0.021425</td>\n",
       "      <td>0.018167</td>\n",
       "      <td>0.017788</td>\n",
       "      <td>-0.001194</td>\n",
       "      <td>0.004738</td>\n",
       "      <td>-0.022150</td>\n",
       "      <td>0.012489</td>\n",
       "      <td>-0.012929</td>\n",
       "      <td>-0.016211</td>\n",
       "      <td>0.004575</td>\n",
       "    </tr>\n",
       "  </tbody>\n",
       "</table>\n",
       "<p>1586 rows × 10 columns</p>\n",
       "</div>"
      ],
      "text/plain": [
       "           USA IMI/ENERGY  USA IMI/MATERIALS  USA IMI/INDUSTRIALS  \\\n",
       "Date                                                                \n",
       "3/31/2014        0.005677           0.007885             0.008158   \n",
       "4/1/2014         0.003928           0.006663             0.006216   \n",
       "4/2/2014         0.004530           0.000500             0.000075   \n",
       "4/3/2014        -0.004551          -0.012074            -0.013067   \n",
       "4/4/2014        -0.015514          -0.016891            -0.015580   \n",
       "...                   ...                ...                  ...   \n",
       "4/21/2020        0.033929           0.019723             0.012885   \n",
       "4/22/2020        0.031192           0.008074             0.009100   \n",
       "4/23/2020        0.002963           0.014338             0.008021   \n",
       "4/24/2020        0.020614           0.030340             0.028827   \n",
       "4/27/2020        0.021425           0.018167             0.017788   \n",
       "\n",
       "           USA IMI/CONSUMER DISCR  USA IMI/CONSUMER STAPLES  \\\n",
       "Date                                                          \n",
       "3/31/2014                0.014241                 -0.000488   \n",
       "4/1/2014                 0.006517                  0.001626   \n",
       "4/2/2014                -0.005844                  0.000457   \n",
       "4/3/2014                -0.018252                 -0.005298   \n",
       "4/4/2014                -0.021547                  0.002184   \n",
       "...                           ...                       ...   \n",
       "4/21/2020                0.021194                  0.010983   \n",
       "4/22/2020                0.002443                 -0.008274   \n",
       "4/23/2020                0.016176                  0.011453   \n",
       "4/24/2020                0.020304                  0.004668   \n",
       "4/27/2020               -0.001194                  0.004738   \n",
       "\n",
       "           USA IMI/HEALTH CARE  USA IMI/FINANCIALS  USA IMI/INFORMATION TECH  \\\n",
       "Date                                                                           \n",
       "3/31/2014             0.008189            0.004872                  0.014058   \n",
       "4/1/2014              0.003427            0.001606                 -0.000338   \n",
       "4/2/2014             -0.005096           -0.001645                 -0.007816   \n",
       "4/3/2014             -0.018481           -0.011710                 -0.023505   \n",
       "4/4/2014             -0.010678           -0.013431                 -0.009071   \n",
       "...                        ...                 ...                       ...   \n",
       "4/21/2020             0.016271            0.008319                  0.037332   \n",
       "4/22/2020             0.006202           -0.001833                 -0.005822   \n",
       "4/23/2020             0.015564            0.013755                  0.020109   \n",
       "4/24/2020             0.014145            0.039868                  0.011095   \n",
       "4/27/2020            -0.022150            0.012489                 -0.012929   \n",
       "\n",
       "           USA IMI/COMM SVC 25-50  USA IMI/UTILITIES  \n",
       "Date                                                  \n",
       "3/31/2014                0.010510          -0.005682  \n",
       "4/1/2014                 0.001884          -0.001530  \n",
       "4/2/2014                -0.001996           0.002742  \n",
       "4/3/2014                -0.010985           0.004079  \n",
       "4/4/2014                -0.008267          -0.003139  \n",
       "...                           ...                ...  \n",
       "4/21/2020                0.024110           0.028064  \n",
       "4/22/2020                0.008535          -0.016398  \n",
       "4/23/2020                0.011379           0.006653  \n",
       "4/24/2020                0.009855           0.011648  \n",
       "4/27/2020               -0.016211           0.004575  \n",
       "\n",
       "[1586 rows x 10 columns]"
      ]
     },
     "execution_count": 11,
     "metadata": {},
     "output_type": "execute_result"
    }
   ],
   "source": [
    "returns"
   ]
  },
  {
   "cell_type": "markdown",
   "metadata": {},
   "source": [
    "### BL model 建立\n",
    "#### $\\mu$"
   ]
  },
  {
   "cell_type": "code",
   "execution_count": 12,
   "metadata": {},
   "outputs": [
    {
     "data": {
      "text/plain": [
       "USA IMI/ENERGY             -0.128300\n",
       "USA IMI/MATERIALS           0.026218\n",
       "USA IMI/INDUSTRIALS         0.049750\n",
       "USA IMI/CONSUMER DISCR      0.097733\n",
       "USA IMI/CONSUMER STAPLES    0.074298\n",
       "USA IMI/HEALTH CARE         0.104107\n",
       "USA IMI/FINANCIALS          0.052017\n",
       "USA IMI/INFORMATION TECH    0.157964\n",
       "USA IMI/COMM SVC 25-50      0.062699\n",
       "USA IMI/UTILITIES           0.089155\n",
       "dtype: float64"
      ]
     },
     "execution_count": 12,
     "metadata": {},
     "output_type": "execute_result"
    }
   ],
   "source": [
    "mu=np.mean(annual_returns)\n",
    "mu"
   ]
  },
  {
   "cell_type": "markdown",
   "metadata": {},
   "source": [
    "#### $r_f$"
   ]
  },
  {
   "cell_type": "code",
   "execution_count": 13,
   "metadata": {},
   "outputs": [],
   "source": [
    "rf=0"
   ]
  },
  {
   "cell_type": "markdown",
   "metadata": {},
   "source": [
    "#### $\\Sigma$"
   ]
  },
  {
   "cell_type": "code",
   "execution_count": 14,
   "metadata": {},
   "outputs": [
    {
     "data": {
      "text/html": [
       "<div>\n",
       "<style scoped>\n",
       "    .dataframe tbody tr th:only-of-type {\n",
       "        vertical-align: middle;\n",
       "    }\n",
       "\n",
       "    .dataframe tbody tr th {\n",
       "        vertical-align: top;\n",
       "    }\n",
       "\n",
       "    .dataframe thead th {\n",
       "        text-align: right;\n",
       "    }\n",
       "</style>\n",
       "<table border=\"1\" class=\"dataframe\">\n",
       "  <thead>\n",
       "    <tr style=\"text-align: right;\">\n",
       "      <th></th>\n",
       "      <th>USA IMI/ENERGY</th>\n",
       "      <th>USA IMI/MATERIALS</th>\n",
       "      <th>USA IMI/INDUSTRIALS</th>\n",
       "      <th>USA IMI/CONSUMER DISCR</th>\n",
       "      <th>USA IMI/CONSUMER STAPLES</th>\n",
       "      <th>USA IMI/HEALTH CARE</th>\n",
       "      <th>USA IMI/FINANCIALS</th>\n",
       "      <th>USA IMI/INFORMATION TECH</th>\n",
       "      <th>USA IMI/COMM SVC 25-50</th>\n",
       "      <th>USA IMI/UTILITIES</th>\n",
       "    </tr>\n",
       "  </thead>\n",
       "  <tbody>\n",
       "    <tr>\n",
       "      <th>USA IMI/ENERGY</th>\n",
       "      <td>0.080257</td>\n",
       "      <td>0.045583</td>\n",
       "      <td>0.042542</td>\n",
       "      <td>0.035717</td>\n",
       "      <td>0.021868</td>\n",
       "      <td>0.030826</td>\n",
       "      <td>0.045206</td>\n",
       "      <td>0.039644</td>\n",
       "      <td>0.032914</td>\n",
       "      <td>0.023122</td>\n",
       "    </tr>\n",
       "    <tr>\n",
       "      <th>USA IMI/MATERIALS</th>\n",
       "      <td>0.045583</td>\n",
       "      <td>0.041832</td>\n",
       "      <td>0.036623</td>\n",
       "      <td>0.031513</td>\n",
       "      <td>0.021005</td>\n",
       "      <td>0.028252</td>\n",
       "      <td>0.038063</td>\n",
       "      <td>0.035657</td>\n",
       "      <td>0.027634</td>\n",
       "      <td>0.021541</td>\n",
       "    </tr>\n",
       "    <tr>\n",
       "      <th>USA IMI/INDUSTRIALS</th>\n",
       "      <td>0.042542</td>\n",
       "      <td>0.036623</td>\n",
       "      <td>0.038260</td>\n",
       "      <td>0.031792</td>\n",
       "      <td>0.021159</td>\n",
       "      <td>0.028300</td>\n",
       "      <td>0.038283</td>\n",
       "      <td>0.035953</td>\n",
       "      <td>0.027830</td>\n",
       "      <td>0.021473</td>\n",
       "    </tr>\n",
       "    <tr>\n",
       "      <th>USA IMI/CONSUMER DISCR</th>\n",
       "      <td>0.035717</td>\n",
       "      <td>0.031513</td>\n",
       "      <td>0.031792</td>\n",
       "      <td>0.034364</td>\n",
       "      <td>0.019759</td>\n",
       "      <td>0.027137</td>\n",
       "      <td>0.033659</td>\n",
       "      <td>0.035959</td>\n",
       "      <td>0.027575</td>\n",
       "      <td>0.018510</td>\n",
       "    </tr>\n",
       "    <tr>\n",
       "      <th>USA IMI/CONSUMER STAPLES</th>\n",
       "      <td>0.021868</td>\n",
       "      <td>0.021005</td>\n",
       "      <td>0.021159</td>\n",
       "      <td>0.019759</td>\n",
       "      <td>0.022224</td>\n",
       "      <td>0.019600</td>\n",
       "      <td>0.022470</td>\n",
       "      <td>0.022912</td>\n",
       "      <td>0.019524</td>\n",
       "      <td>0.021511</td>\n",
       "    </tr>\n",
       "  </tbody>\n",
       "</table>\n",
       "</div>"
      ],
      "text/plain": [
       "                          USA IMI/ENERGY  USA IMI/MATERIALS  \\\n",
       "USA IMI/ENERGY                  0.080257           0.045583   \n",
       "USA IMI/MATERIALS               0.045583           0.041832   \n",
       "USA IMI/INDUSTRIALS             0.042542           0.036623   \n",
       "USA IMI/CONSUMER DISCR          0.035717           0.031513   \n",
       "USA IMI/CONSUMER STAPLES        0.021868           0.021005   \n",
       "\n",
       "                          USA IMI/INDUSTRIALS  USA IMI/CONSUMER DISCR  \\\n",
       "USA IMI/ENERGY                       0.042542                0.035717   \n",
       "USA IMI/MATERIALS                    0.036623                0.031513   \n",
       "USA IMI/INDUSTRIALS                  0.038260                0.031792   \n",
       "USA IMI/CONSUMER DISCR               0.031792                0.034364   \n",
       "USA IMI/CONSUMER STAPLES             0.021159                0.019759   \n",
       "\n",
       "                          USA IMI/CONSUMER STAPLES  USA IMI/HEALTH CARE  \\\n",
       "USA IMI/ENERGY                            0.021868             0.030826   \n",
       "USA IMI/MATERIALS                         0.021005             0.028252   \n",
       "USA IMI/INDUSTRIALS                       0.021159             0.028300   \n",
       "USA IMI/CONSUMER DISCR                    0.019759             0.027137   \n",
       "USA IMI/CONSUMER STAPLES                  0.022224             0.019600   \n",
       "\n",
       "                          USA IMI/FINANCIALS  USA IMI/INFORMATION TECH  \\\n",
       "USA IMI/ENERGY                      0.045206                  0.039644   \n",
       "USA IMI/MATERIALS                   0.038063                  0.035657   \n",
       "USA IMI/INDUSTRIALS                 0.038283                  0.035953   \n",
       "USA IMI/CONSUMER DISCR              0.033659                  0.035959   \n",
       "USA IMI/CONSUMER STAPLES            0.022470                  0.022912   \n",
       "\n",
       "                          USA IMI/COMM SVC 25-50  USA IMI/UTILITIES  \n",
       "USA IMI/ENERGY                          0.032914           0.023122  \n",
       "USA IMI/MATERIALS                       0.027634           0.021541  \n",
       "USA IMI/INDUSTRIALS                     0.027830           0.021473  \n",
       "USA IMI/CONSUMER DISCR                  0.027575           0.018510  \n",
       "USA IMI/CONSUMER STAPLES                0.019524           0.021511  "
      ]
     },
     "execution_count": 14,
     "metadata": {},
     "output_type": "execute_result"
    }
   ],
   "source": [
    "Cov.head()"
   ]
  },
  {
   "cell_type": "markdown",
   "metadata": {},
   "source": [
    "#### $x_{mkt}$"
   ]
  },
  {
   "cell_type": "code",
   "execution_count": 15,
   "metadata": {},
   "outputs": [],
   "source": [
    "mktdata=pd.read_csv('Captial.csv',index_col=0)\n",
    "# mktdata=pd.DataFrame(mktdata,dtype=np.float)"
   ]
  },
  {
   "cell_type": "code",
   "execution_count": 16,
   "metadata": {},
   "outputs": [],
   "source": [
    "mkt=mktdata.values\n",
    "mkt=mkt/(np.sum(mkt))"
   ]
  },
  {
   "cell_type": "code",
   "execution_count": 17,
   "metadata": {},
   "outputs": [
    {
     "data": {
      "text/plain": [
       "array([[0.02581884],\n",
       "       [0.02759065],\n",
       "       [0.09275018],\n",
       "       [0.10541214],\n",
       "       [0.07461352],\n",
       "       [0.16118301],\n",
       "       [0.11717999],\n",
       "       [0.25780988],\n",
       "       [0.10116106],\n",
       "       [0.03648073]])"
      ]
     },
     "execution_count": 17,
     "metadata": {},
     "output_type": "execute_result"
    }
   ],
   "source": [
    "mkt"
   ]
  },
  {
   "cell_type": "code",
   "execution_count": 18,
   "metadata": {},
   "outputs": [
    {
     "data": {
      "text/plain": [
       "USA IMI/ENERGY             -0.128300\n",
       "USA IMI/MATERIALS           0.026218\n",
       "USA IMI/INDUSTRIALS         0.049750\n",
       "USA IMI/CONSUMER DISCR      0.097733\n",
       "USA IMI/CONSUMER STAPLES    0.074298\n",
       "USA IMI/HEALTH CARE         0.104107\n",
       "USA IMI/FINANCIALS          0.052017\n",
       "USA IMI/INFORMATION TECH    0.157964\n",
       "USA IMI/COMM SVC 25-50      0.062699\n",
       "USA IMI/UTILITIES           0.089155\n",
       "dtype: float64"
      ]
     },
     "execution_count": 18,
     "metadata": {},
     "output_type": "execute_result"
    }
   ],
   "source": [
    "mu"
   ]
  },
  {
   "cell_type": "markdown",
   "metadata": {},
   "source": [
    "#### risk aversion L"
   ]
  },
  {
   "cell_type": "code",
   "execution_count": 19,
   "metadata": {},
   "outputs": [
    {
     "data": {
      "text/plain": [
       "0.1774254329785109"
      ]
     },
     "execution_count": 19,
     "metadata": {},
     "output_type": "execute_result"
    }
   ],
   "source": [
    "mkt_return=np.dot(returns,mkt)\n",
    "\n",
    "L=mkt_return.std()*np.sqrt(252)\n",
    "L"
   ]
  },
  {
   "cell_type": "markdown",
   "metadata": {},
   "source": [
    "#### Directly $x_{hist}$"
   ]
  },
  {
   "cell_type": "code",
   "execution_count": 20,
   "metadata": {},
   "outputs": [
    {
     "name": "stdout",
     "output_type": "stream",
     "text": [
      "     fun: -0.25935932902665254\n",
      "     jac: array([ 0.12830049, -0.02621837, -0.04975006, -0.09773288, -0.07429758,\n",
      "       -0.1041075 , -0.05201741, -0.15796417, -0.0626993 , -0.08915512])\n",
      " message: 'Optimization terminated successfully.'\n",
      "    nfev: 217\n",
      "     nit: 18\n",
      "    njev: 18\n",
      "  status: 0\n",
      " success: True\n",
      "       x: array([-0.63338701, -0.17850832, -0.10946203,  0.23891481, -0.09919124,\n",
      "        0.14189283, -0.00437313,  0.90443329, -0.12755418,  0.25602695])\n"
     ]
    }
   ],
   "source": [
    "#(a)\n",
    "num=len(icode)\n",
    "e=np.ones((num,1))\n",
    "\n",
    "def statistics1(weights):\n",
    "    \n",
    "    weights=np.array(weights)\n",
    "    \n",
    "    Mark1=np.dot(mu.T,weights)\n",
    "    Mark2=(1-np.dot(e.T,weights))*rf\n",
    "\n",
    "    \n",
    "    \n",
    "    return [Mark1+Mark2]\n",
    "\n",
    "def max_Mark(weights):\n",
    "    \n",
    "    return -1*statistics1(weights)[0]\n",
    "\n",
    "cons = (\n",
    "       {'type':'ineq', 'fun':lambda x: -np.dot(np.dot(x.T,Cov),x)+L**2}\n",
    "       )\n",
    "bnds = tuple((0,100) for x in range(num))\n",
    "hist = sco.minimize(max_Mark, num*[1./num,], method = 'SLSQP', constraints = cons)\n",
    "print(hist)"
   ]
  },
  {
   "cell_type": "code",
   "execution_count": 21,
   "metadata": {},
   "outputs": [],
   "source": [
    "# mu=np.array(mu)"
   ]
  },
  {
   "cell_type": "code",
   "execution_count": 22,
   "metadata": {},
   "outputs": [],
   "source": [
    "# import cvxpy as cvx\n",
    "# x = cvx.Variable((10,1))\n",
    "# # sigma_bar = cvx.Variable((10,10))\n",
    "# rf = rf\n",
    "# # x = cp.Variable((10,1))\n",
    "# e = e.reshape(-1,1)\n",
    "# I = np.identity(11)\n",
    "\n",
    "\n",
    "# # sigma_bar.dot(x_mkt)\n",
    "# Cons = [\n",
    "#     cvx.quad_form(x, Cov)<=L**2\n",
    "# ]\n",
    "# objective = cvx.Maximize(mu.T*x+(1-e.T*x)*rf)\n",
    "# prob = cvx.Problem(objective, Cons)\n",
    "# prob.solve(solver='CVXOPT')  # Returns the optimal value.\n",
    "# print(\"status:\", prob.status)\n",
    "# print(\"optimal value\", prob.value)\n",
    "# # print(\"optimal var\", x.value, y.value)\n",
    "# x.value"
   ]
  },
  {
   "cell_type": "code",
   "execution_count": null,
   "metadata": {},
   "outputs": [],
   "source": []
  },
  {
   "cell_type": "code",
   "execution_count": 23,
   "metadata": {},
   "outputs": [
    {
     "data": {
      "text/plain": [
       "array([-162.91154699,  -45.91358303,  -28.15439495,   61.4505514 ,\n",
       "        -25.5126766 ,   36.4958243 ,   -1.1247995 ,  232.62653395,\n",
       "        -32.8078219 ,   65.85191331])"
      ]
     },
     "execution_count": 23,
     "metadata": {},
     "output_type": "execute_result"
    }
   ],
   "source": [
    "x_hist=hist.x/np.sum(hist.x)*100\n",
    "x_hist"
   ]
  },
  {
   "cell_type": "code",
   "execution_count": 24,
   "metadata": {},
   "outputs": [],
   "source": [
    "#,options={'maxiter': 100000}"
   ]
  },
  {
   "cell_type": "markdown",
   "metadata": {},
   "source": [
    "#### BL model\n",
    "$\\delta$"
   ]
  },
  {
   "cell_type": "code",
   "execution_count": 25,
   "metadata": {},
   "outputs": [],
   "source": [
    "delta=1.25"
   ]
  },
  {
   "cell_type": "markdown",
   "metadata": {},
   "source": [
    "$P$"
   ]
  },
  {
   "cell_type": "code",
   "execution_count": 26,
   "metadata": {},
   "outputs": [],
   "source": [
    "P=[-0.1,0,0,-0.2,0.4,-0.1,0.3,0,-0.4,0.1]\n",
    "P=np.array(P)"
   ]
  },
  {
   "cell_type": "markdown",
   "metadata": {},
   "source": [
    "$\\hat{\\Sigma}$"
   ]
  },
  {
   "cell_type": "code",
   "execution_count": 27,
   "metadata": {},
   "outputs": [],
   "source": [
    "Cov1=Cov"
   ]
  },
  {
   "cell_type": "code",
   "execution_count": 28,
   "metadata": {},
   "outputs": [
    {
     "data": {
      "text/html": [
       "<div>\n",
       "<style scoped>\n",
       "    .dataframe tbody tr th:only-of-type {\n",
       "        vertical-align: middle;\n",
       "    }\n",
       "\n",
       "    .dataframe tbody tr th {\n",
       "        vertical-align: top;\n",
       "    }\n",
       "\n",
       "    .dataframe thead th {\n",
       "        text-align: right;\n",
       "    }\n",
       "</style>\n",
       "<table border=\"1\" class=\"dataframe\">\n",
       "  <thead>\n",
       "    <tr style=\"text-align: right;\">\n",
       "      <th></th>\n",
       "      <th>USA IMI/ENERGY</th>\n",
       "      <th>USA IMI/MATERIALS</th>\n",
       "      <th>USA IMI/INDUSTRIALS</th>\n",
       "      <th>USA IMI/CONSUMER DISCR</th>\n",
       "      <th>USA IMI/CONSUMER STAPLES</th>\n",
       "      <th>USA IMI/HEALTH CARE</th>\n",
       "      <th>USA IMI/FINANCIALS</th>\n",
       "      <th>USA IMI/INFORMATION TECH</th>\n",
       "      <th>USA IMI/COMM SVC 25-50</th>\n",
       "      <th>USA IMI/UTILITIES</th>\n",
       "    </tr>\n",
       "  </thead>\n",
       "  <tbody>\n",
       "    <tr>\n",
       "      <th>USA IMI/ENERGY</th>\n",
       "      <td>0.080257</td>\n",
       "      <td>0.045583</td>\n",
       "      <td>0.042542</td>\n",
       "      <td>0.035717</td>\n",
       "      <td>0.021868</td>\n",
       "      <td>0.030826</td>\n",
       "      <td>0.045206</td>\n",
       "      <td>0.039644</td>\n",
       "      <td>0.032914</td>\n",
       "      <td>0.023122</td>\n",
       "    </tr>\n",
       "    <tr>\n",
       "      <th>USA IMI/MATERIALS</th>\n",
       "      <td>0.045583</td>\n",
       "      <td>0.041832</td>\n",
       "      <td>0.036623</td>\n",
       "      <td>0.031513</td>\n",
       "      <td>0.021005</td>\n",
       "      <td>0.028252</td>\n",
       "      <td>0.038063</td>\n",
       "      <td>0.035657</td>\n",
       "      <td>0.027634</td>\n",
       "      <td>0.021541</td>\n",
       "    </tr>\n",
       "    <tr>\n",
       "      <th>USA IMI/INDUSTRIALS</th>\n",
       "      <td>0.042542</td>\n",
       "      <td>0.036623</td>\n",
       "      <td>0.038260</td>\n",
       "      <td>0.031792</td>\n",
       "      <td>0.021159</td>\n",
       "      <td>0.028300</td>\n",
       "      <td>0.038283</td>\n",
       "      <td>0.035953</td>\n",
       "      <td>0.027830</td>\n",
       "      <td>0.021473</td>\n",
       "    </tr>\n",
       "    <tr>\n",
       "      <th>USA IMI/CONSUMER DISCR</th>\n",
       "      <td>0.035717</td>\n",
       "      <td>0.031513</td>\n",
       "      <td>0.031792</td>\n",
       "      <td>0.034364</td>\n",
       "      <td>0.019759</td>\n",
       "      <td>0.027137</td>\n",
       "      <td>0.033659</td>\n",
       "      <td>0.035959</td>\n",
       "      <td>0.027575</td>\n",
       "      <td>0.018510</td>\n",
       "    </tr>\n",
       "    <tr>\n",
       "      <th>USA IMI/CONSUMER STAPLES</th>\n",
       "      <td>0.021868</td>\n",
       "      <td>0.021005</td>\n",
       "      <td>0.021159</td>\n",
       "      <td>0.019759</td>\n",
       "      <td>0.022224</td>\n",
       "      <td>0.019600</td>\n",
       "      <td>0.022470</td>\n",
       "      <td>0.022912</td>\n",
       "      <td>0.019524</td>\n",
       "      <td>0.021511</td>\n",
       "    </tr>\n",
       "    <tr>\n",
       "      <th>USA IMI/HEALTH CARE</th>\n",
       "      <td>0.030826</td>\n",
       "      <td>0.028252</td>\n",
       "      <td>0.028300</td>\n",
       "      <td>0.027137</td>\n",
       "      <td>0.019600</td>\n",
       "      <td>0.033272</td>\n",
       "      <td>0.030439</td>\n",
       "      <td>0.032272</td>\n",
       "      <td>0.024070</td>\n",
       "      <td>0.019581</td>\n",
       "    </tr>\n",
       "    <tr>\n",
       "      <th>USA IMI/FINANCIALS</th>\n",
       "      <td>0.045206</td>\n",
       "      <td>0.038063</td>\n",
       "      <td>0.038283</td>\n",
       "      <td>0.033659</td>\n",
       "      <td>0.022470</td>\n",
       "      <td>0.030439</td>\n",
       "      <td>0.047273</td>\n",
       "      <td>0.037622</td>\n",
       "      <td>0.029842</td>\n",
       "      <td>0.022797</td>\n",
       "    </tr>\n",
       "    <tr>\n",
       "      <th>USA IMI/INFORMATION TECH</th>\n",
       "      <td>0.039644</td>\n",
       "      <td>0.035657</td>\n",
       "      <td>0.035953</td>\n",
       "      <td>0.035959</td>\n",
       "      <td>0.022912</td>\n",
       "      <td>0.032272</td>\n",
       "      <td>0.037622</td>\n",
       "      <td>0.046690</td>\n",
       "      <td>0.030825</td>\n",
       "      <td>0.021838</td>\n",
       "    </tr>\n",
       "    <tr>\n",
       "      <th>USA IMI/COMM SVC 25-50</th>\n",
       "      <td>0.032914</td>\n",
       "      <td>0.027634</td>\n",
       "      <td>0.027830</td>\n",
       "      <td>0.027575</td>\n",
       "      <td>0.019524</td>\n",
       "      <td>0.024070</td>\n",
       "      <td>0.029842</td>\n",
       "      <td>0.030825</td>\n",
       "      <td>0.034891</td>\n",
       "      <td>0.020013</td>\n",
       "    </tr>\n",
       "    <tr>\n",
       "      <th>USA IMI/UTILITIES</th>\n",
       "      <td>0.023122</td>\n",
       "      <td>0.021541</td>\n",
       "      <td>0.021473</td>\n",
       "      <td>0.018510</td>\n",
       "      <td>0.021511</td>\n",
       "      <td>0.019581</td>\n",
       "      <td>0.022797</td>\n",
       "      <td>0.021838</td>\n",
       "      <td>0.020013</td>\n",
       "      <td>0.037173</td>\n",
       "    </tr>\n",
       "  </tbody>\n",
       "</table>\n",
       "</div>"
      ],
      "text/plain": [
       "                          USA IMI/ENERGY  USA IMI/MATERIALS  \\\n",
       "USA IMI/ENERGY                  0.080257           0.045583   \n",
       "USA IMI/MATERIALS               0.045583           0.041832   \n",
       "USA IMI/INDUSTRIALS             0.042542           0.036623   \n",
       "USA IMI/CONSUMER DISCR          0.035717           0.031513   \n",
       "USA IMI/CONSUMER STAPLES        0.021868           0.021005   \n",
       "USA IMI/HEALTH CARE             0.030826           0.028252   \n",
       "USA IMI/FINANCIALS              0.045206           0.038063   \n",
       "USA IMI/INFORMATION TECH        0.039644           0.035657   \n",
       "USA IMI/COMM SVC 25-50          0.032914           0.027634   \n",
       "USA IMI/UTILITIES               0.023122           0.021541   \n",
       "\n",
       "                          USA IMI/INDUSTRIALS  USA IMI/CONSUMER DISCR  \\\n",
       "USA IMI/ENERGY                       0.042542                0.035717   \n",
       "USA IMI/MATERIALS                    0.036623                0.031513   \n",
       "USA IMI/INDUSTRIALS                  0.038260                0.031792   \n",
       "USA IMI/CONSUMER DISCR               0.031792                0.034364   \n",
       "USA IMI/CONSUMER STAPLES             0.021159                0.019759   \n",
       "USA IMI/HEALTH CARE                  0.028300                0.027137   \n",
       "USA IMI/FINANCIALS                   0.038283                0.033659   \n",
       "USA IMI/INFORMATION TECH             0.035953                0.035959   \n",
       "USA IMI/COMM SVC 25-50               0.027830                0.027575   \n",
       "USA IMI/UTILITIES                    0.021473                0.018510   \n",
       "\n",
       "                          USA IMI/CONSUMER STAPLES  USA IMI/HEALTH CARE  \\\n",
       "USA IMI/ENERGY                            0.021868             0.030826   \n",
       "USA IMI/MATERIALS                         0.021005             0.028252   \n",
       "USA IMI/INDUSTRIALS                       0.021159             0.028300   \n",
       "USA IMI/CONSUMER DISCR                    0.019759             0.027137   \n",
       "USA IMI/CONSUMER STAPLES                  0.022224             0.019600   \n",
       "USA IMI/HEALTH CARE                       0.019600             0.033272   \n",
       "USA IMI/FINANCIALS                        0.022470             0.030439   \n",
       "USA IMI/INFORMATION TECH                  0.022912             0.032272   \n",
       "USA IMI/COMM SVC 25-50                    0.019524             0.024070   \n",
       "USA IMI/UTILITIES                         0.021511             0.019581   \n",
       "\n",
       "                          USA IMI/FINANCIALS  USA IMI/INFORMATION TECH  \\\n",
       "USA IMI/ENERGY                      0.045206                  0.039644   \n",
       "USA IMI/MATERIALS                   0.038063                  0.035657   \n",
       "USA IMI/INDUSTRIALS                 0.038283                  0.035953   \n",
       "USA IMI/CONSUMER DISCR              0.033659                  0.035959   \n",
       "USA IMI/CONSUMER STAPLES            0.022470                  0.022912   \n",
       "USA IMI/HEALTH CARE                 0.030439                  0.032272   \n",
       "USA IMI/FINANCIALS                  0.047273                  0.037622   \n",
       "USA IMI/INFORMATION TECH            0.037622                  0.046690   \n",
       "USA IMI/COMM SVC 25-50              0.029842                  0.030825   \n",
       "USA IMI/UTILITIES                   0.022797                  0.021838   \n",
       "\n",
       "                          USA IMI/COMM SVC 25-50  USA IMI/UTILITIES  \n",
       "USA IMI/ENERGY                          0.032914           0.023122  \n",
       "USA IMI/MATERIALS                       0.027634           0.021541  \n",
       "USA IMI/INDUSTRIALS                     0.027830           0.021473  \n",
       "USA IMI/CONSUMER DISCR                  0.027575           0.018510  \n",
       "USA IMI/CONSUMER STAPLES                0.019524           0.021511  \n",
       "USA IMI/HEALTH CARE                     0.024070           0.019581  \n",
       "USA IMI/FINANCIALS                      0.029842           0.022797  \n",
       "USA IMI/INFORMATION TECH                0.030825           0.021838  \n",
       "USA IMI/COMM SVC 25-50                  0.034891           0.020013  \n",
       "USA IMI/UTILITIES                       0.020013           0.037173  "
      ]
     },
     "execution_count": 28,
     "metadata": {},
     "output_type": "execute_result"
    }
   ],
   "source": [
    "Cov"
   ]
  },
  {
   "cell_type": "code",
   "execution_count": 29,
   "metadata": {},
   "outputs": [
    {
     "data": {
      "text/plain": [
       "array([[0.02581884],\n",
       "       [0.02759065],\n",
       "       [0.09275018],\n",
       "       [0.10541214],\n",
       "       [0.07461352],\n",
       "       [0.16118301],\n",
       "       [0.11717999],\n",
       "       [0.25780988],\n",
       "       [0.10116106],\n",
       "       [0.03648073]])"
      ]
     },
     "execution_count": 29,
     "metadata": {},
     "output_type": "execute_result"
    }
   ],
   "source": [
    "mkt"
   ]
  },
  {
   "cell_type": "markdown",
   "metadata": {},
   "source": [
    "$\\hat{r}$"
   ]
  },
  {
   "cell_type": "code",
   "execution_count": 30,
   "metadata": {},
   "outputs": [],
   "source": [
    "r_hat=rf*e+2*delta*np.dot(Cov,mkt)"
   ]
  },
  {
   "cell_type": "code",
   "execution_count": 31,
   "metadata": {},
   "outputs": [
    {
     "data": {
      "text/plain": [
       "array([[0.09332965],\n",
       "       [0.08101256],\n",
       "       [0.08125673],\n",
       "       [0.07722691],\n",
       "       [0.05326697],\n",
       "       [0.07230594],\n",
       "       [0.08747053],\n",
       "       [0.09101139],\n",
       "       [0.07035101],\n",
       "       [0.05394328]])"
      ]
     },
     "execution_count": 31,
     "metadata": {},
     "output_type": "execute_result"
    }
   ],
   "source": [
    "r_hat"
   ]
  },
  {
   "cell_type": "markdown",
   "metadata": {},
   "source": [
    "$q$"
   ]
  },
  {
   "cell_type": "code",
   "execution_count": null,
   "metadata": {},
   "outputs": [],
   "source": []
  },
  {
   "cell_type": "code",
   "execution_count": 32,
   "metadata": {},
   "outputs": [],
   "source": [
    "q=np.dot(P.T,r_hat)\n",
    "q=q[0]\n",
    "q=np.array([[q]])"
   ]
  },
  {
   "cell_type": "code",
   "execution_count": 33,
   "metadata": {},
   "outputs": [
    {
     "data": {
      "text/plain": [
       "array([[-0.00720707]])"
      ]
     },
     "execution_count": 33,
     "metadata": {},
     "output_type": "execute_result"
    }
   ],
   "source": [
    "q"
   ]
  },
  {
   "cell_type": "markdown",
   "metadata": {},
   "source": [
    "$\\Omega$"
   ]
  },
  {
   "cell_type": "code",
   "execution_count": 34,
   "metadata": {},
   "outputs": [],
   "source": [
    "mm=1\n",
    "r0=1/24\n",
    "r1=0.02*r0\n",
    "rr=[r1]"
   ]
  },
  {
   "cell_type": "code",
   "execution_count": 35,
   "metadata": {},
   "outputs": [
    {
     "data": {
      "text/html": [
       "<div>\n",
       "<style scoped>\n",
       "    .dataframe tbody tr th:only-of-type {\n",
       "        vertical-align: middle;\n",
       "    }\n",
       "\n",
       "    .dataframe tbody tr th {\n",
       "        vertical-align: top;\n",
       "    }\n",
       "\n",
       "    .dataframe thead th {\n",
       "        text-align: right;\n",
       "    }\n",
       "</style>\n",
       "<table border=\"1\" class=\"dataframe\">\n",
       "  <thead>\n",
       "    <tr style=\"text-align: right;\">\n",
       "      <th></th>\n",
       "      <th>USA IMI/ENERGY</th>\n",
       "      <th>USA IMI/MATERIALS</th>\n",
       "      <th>USA IMI/INDUSTRIALS</th>\n",
       "      <th>USA IMI/CONSUMER DISCR</th>\n",
       "      <th>USA IMI/CONSUMER STAPLES</th>\n",
       "      <th>USA IMI/HEALTH CARE</th>\n",
       "      <th>USA IMI/FINANCIALS</th>\n",
       "      <th>USA IMI/INFORMATION TECH</th>\n",
       "      <th>USA IMI/COMM SVC 25-50</th>\n",
       "      <th>USA IMI/UTILITIES</th>\n",
       "    </tr>\n",
       "  </thead>\n",
       "  <tbody>\n",
       "    <tr>\n",
       "      <th>USA IMI/ENERGY</th>\n",
       "      <td>0.080257</td>\n",
       "      <td>0.045583</td>\n",
       "      <td>0.042542</td>\n",
       "      <td>0.035717</td>\n",
       "      <td>0.021868</td>\n",
       "      <td>0.030826</td>\n",
       "      <td>0.045206</td>\n",
       "      <td>0.039644</td>\n",
       "      <td>0.032914</td>\n",
       "      <td>0.023122</td>\n",
       "    </tr>\n",
       "    <tr>\n",
       "      <th>USA IMI/MATERIALS</th>\n",
       "      <td>0.045583</td>\n",
       "      <td>0.041832</td>\n",
       "      <td>0.036623</td>\n",
       "      <td>0.031513</td>\n",
       "      <td>0.021005</td>\n",
       "      <td>0.028252</td>\n",
       "      <td>0.038063</td>\n",
       "      <td>0.035657</td>\n",
       "      <td>0.027634</td>\n",
       "      <td>0.021541</td>\n",
       "    </tr>\n",
       "    <tr>\n",
       "      <th>USA IMI/INDUSTRIALS</th>\n",
       "      <td>0.042542</td>\n",
       "      <td>0.036623</td>\n",
       "      <td>0.038260</td>\n",
       "      <td>0.031792</td>\n",
       "      <td>0.021159</td>\n",
       "      <td>0.028300</td>\n",
       "      <td>0.038283</td>\n",
       "      <td>0.035953</td>\n",
       "      <td>0.027830</td>\n",
       "      <td>0.021473</td>\n",
       "    </tr>\n",
       "    <tr>\n",
       "      <th>USA IMI/CONSUMER DISCR</th>\n",
       "      <td>0.035717</td>\n",
       "      <td>0.031513</td>\n",
       "      <td>0.031792</td>\n",
       "      <td>0.034364</td>\n",
       "      <td>0.019759</td>\n",
       "      <td>0.027137</td>\n",
       "      <td>0.033659</td>\n",
       "      <td>0.035959</td>\n",
       "      <td>0.027575</td>\n",
       "      <td>0.018510</td>\n",
       "    </tr>\n",
       "    <tr>\n",
       "      <th>USA IMI/CONSUMER STAPLES</th>\n",
       "      <td>0.021868</td>\n",
       "      <td>0.021005</td>\n",
       "      <td>0.021159</td>\n",
       "      <td>0.019759</td>\n",
       "      <td>0.022224</td>\n",
       "      <td>0.019600</td>\n",
       "      <td>0.022470</td>\n",
       "      <td>0.022912</td>\n",
       "      <td>0.019524</td>\n",
       "      <td>0.021511</td>\n",
       "    </tr>\n",
       "    <tr>\n",
       "      <th>USA IMI/HEALTH CARE</th>\n",
       "      <td>0.030826</td>\n",
       "      <td>0.028252</td>\n",
       "      <td>0.028300</td>\n",
       "      <td>0.027137</td>\n",
       "      <td>0.019600</td>\n",
       "      <td>0.033272</td>\n",
       "      <td>0.030439</td>\n",
       "      <td>0.032272</td>\n",
       "      <td>0.024070</td>\n",
       "      <td>0.019581</td>\n",
       "    </tr>\n",
       "    <tr>\n",
       "      <th>USA IMI/FINANCIALS</th>\n",
       "      <td>0.045206</td>\n",
       "      <td>0.038063</td>\n",
       "      <td>0.038283</td>\n",
       "      <td>0.033659</td>\n",
       "      <td>0.022470</td>\n",
       "      <td>0.030439</td>\n",
       "      <td>0.047273</td>\n",
       "      <td>0.037622</td>\n",
       "      <td>0.029842</td>\n",
       "      <td>0.022797</td>\n",
       "    </tr>\n",
       "    <tr>\n",
       "      <th>USA IMI/INFORMATION TECH</th>\n",
       "      <td>0.039644</td>\n",
       "      <td>0.035657</td>\n",
       "      <td>0.035953</td>\n",
       "      <td>0.035959</td>\n",
       "      <td>0.022912</td>\n",
       "      <td>0.032272</td>\n",
       "      <td>0.037622</td>\n",
       "      <td>0.046690</td>\n",
       "      <td>0.030825</td>\n",
       "      <td>0.021838</td>\n",
       "    </tr>\n",
       "    <tr>\n",
       "      <th>USA IMI/COMM SVC 25-50</th>\n",
       "      <td>0.032914</td>\n",
       "      <td>0.027634</td>\n",
       "      <td>0.027830</td>\n",
       "      <td>0.027575</td>\n",
       "      <td>0.019524</td>\n",
       "      <td>0.024070</td>\n",
       "      <td>0.029842</td>\n",
       "      <td>0.030825</td>\n",
       "      <td>0.034891</td>\n",
       "      <td>0.020013</td>\n",
       "    </tr>\n",
       "    <tr>\n",
       "      <th>USA IMI/UTILITIES</th>\n",
       "      <td>0.023122</td>\n",
       "      <td>0.021541</td>\n",
       "      <td>0.021473</td>\n",
       "      <td>0.018510</td>\n",
       "      <td>0.021511</td>\n",
       "      <td>0.019581</td>\n",
       "      <td>0.022797</td>\n",
       "      <td>0.021838</td>\n",
       "      <td>0.020013</td>\n",
       "      <td>0.037173</td>\n",
       "    </tr>\n",
       "  </tbody>\n",
       "</table>\n",
       "</div>"
      ],
      "text/plain": [
       "                          USA IMI/ENERGY  USA IMI/MATERIALS  \\\n",
       "USA IMI/ENERGY                  0.080257           0.045583   \n",
       "USA IMI/MATERIALS               0.045583           0.041832   \n",
       "USA IMI/INDUSTRIALS             0.042542           0.036623   \n",
       "USA IMI/CONSUMER DISCR          0.035717           0.031513   \n",
       "USA IMI/CONSUMER STAPLES        0.021868           0.021005   \n",
       "USA IMI/HEALTH CARE             0.030826           0.028252   \n",
       "USA IMI/FINANCIALS              0.045206           0.038063   \n",
       "USA IMI/INFORMATION TECH        0.039644           0.035657   \n",
       "USA IMI/COMM SVC 25-50          0.032914           0.027634   \n",
       "USA IMI/UTILITIES               0.023122           0.021541   \n",
       "\n",
       "                          USA IMI/INDUSTRIALS  USA IMI/CONSUMER DISCR  \\\n",
       "USA IMI/ENERGY                       0.042542                0.035717   \n",
       "USA IMI/MATERIALS                    0.036623                0.031513   \n",
       "USA IMI/INDUSTRIALS                  0.038260                0.031792   \n",
       "USA IMI/CONSUMER DISCR               0.031792                0.034364   \n",
       "USA IMI/CONSUMER STAPLES             0.021159                0.019759   \n",
       "USA IMI/HEALTH CARE                  0.028300                0.027137   \n",
       "USA IMI/FINANCIALS                   0.038283                0.033659   \n",
       "USA IMI/INFORMATION TECH             0.035953                0.035959   \n",
       "USA IMI/COMM SVC 25-50               0.027830                0.027575   \n",
       "USA IMI/UTILITIES                    0.021473                0.018510   \n",
       "\n",
       "                          USA IMI/CONSUMER STAPLES  USA IMI/HEALTH CARE  \\\n",
       "USA IMI/ENERGY                            0.021868             0.030826   \n",
       "USA IMI/MATERIALS                         0.021005             0.028252   \n",
       "USA IMI/INDUSTRIALS                       0.021159             0.028300   \n",
       "USA IMI/CONSUMER DISCR                    0.019759             0.027137   \n",
       "USA IMI/CONSUMER STAPLES                  0.022224             0.019600   \n",
       "USA IMI/HEALTH CARE                       0.019600             0.033272   \n",
       "USA IMI/FINANCIALS                        0.022470             0.030439   \n",
       "USA IMI/INFORMATION TECH                  0.022912             0.032272   \n",
       "USA IMI/COMM SVC 25-50                    0.019524             0.024070   \n",
       "USA IMI/UTILITIES                         0.021511             0.019581   \n",
       "\n",
       "                          USA IMI/FINANCIALS  USA IMI/INFORMATION TECH  \\\n",
       "USA IMI/ENERGY                      0.045206                  0.039644   \n",
       "USA IMI/MATERIALS                   0.038063                  0.035657   \n",
       "USA IMI/INDUSTRIALS                 0.038283                  0.035953   \n",
       "USA IMI/CONSUMER DISCR              0.033659                  0.035959   \n",
       "USA IMI/CONSUMER STAPLES            0.022470                  0.022912   \n",
       "USA IMI/HEALTH CARE                 0.030439                  0.032272   \n",
       "USA IMI/FINANCIALS                  0.047273                  0.037622   \n",
       "USA IMI/INFORMATION TECH            0.037622                  0.046690   \n",
       "USA IMI/COMM SVC 25-50              0.029842                  0.030825   \n",
       "USA IMI/UTILITIES                   0.022797                  0.021838   \n",
       "\n",
       "                          USA IMI/COMM SVC 25-50  USA IMI/UTILITIES  \n",
       "USA IMI/ENERGY                          0.032914           0.023122  \n",
       "USA IMI/MATERIALS                       0.027634           0.021541  \n",
       "USA IMI/INDUSTRIALS                     0.027830           0.021473  \n",
       "USA IMI/CONSUMER DISCR                  0.027575           0.018510  \n",
       "USA IMI/CONSUMER STAPLES                0.019524           0.021511  \n",
       "USA IMI/HEALTH CARE                     0.024070           0.019581  \n",
       "USA IMI/FINANCIALS                      0.029842           0.022797  \n",
       "USA IMI/INFORMATION TECH                0.030825           0.021838  \n",
       "USA IMI/COMM SVC 25-50                  0.034891           0.020013  \n",
       "USA IMI/UTILITIES                       0.020013           0.037173  "
      ]
     },
     "execution_count": 35,
     "metadata": {},
     "output_type": "execute_result"
    }
   ],
   "source": [
    "Cov"
   ]
  },
  {
   "cell_type": "code",
   "execution_count": 36,
   "metadata": {},
   "outputs": [],
   "source": [
    "A1=Cov*r0\n",
    "A2=np.zeros((num,mm))\n",
    "A3=np.zeros((mm,num))\n",
    "A4=np.diag(rr)\n",
    "\n",
    "Omega1=np.concatenate((A1,A2),axis=1)\n",
    "Omega2=np.concatenate((A3,A4),axis=1)\n",
    "Omega=np.concatenate((Omega1,Omega2),axis=0)\n",
    "# A1=np.insert(Cov*r0,-1)"
   ]
  },
  {
   "cell_type": "code",
   "execution_count": 37,
   "metadata": {},
   "outputs": [
    {
     "data": {
      "text/plain": [
       "array([[0.00334403, 0.00189928, 0.00177257, 0.00148822, 0.00091116,\n",
       "        0.0012844 , 0.00188357, 0.00165185, 0.00137144, 0.00096343,\n",
       "        0.        ],\n",
       "       [0.00189928, 0.00174301, 0.00152597, 0.00131305, 0.00087521,\n",
       "        0.00117715, 0.00158596, 0.00148572, 0.00115142, 0.00089754,\n",
       "        0.        ],\n",
       "       [0.00177257, 0.00152597, 0.00159417, 0.00132467, 0.00088162,\n",
       "        0.00117917, 0.00159511, 0.00149805, 0.00115958, 0.0008947 ,\n",
       "        0.        ],\n",
       "       [0.00148822, 0.00131305, 0.00132467, 0.00143184, 0.00082329,\n",
       "        0.00113073, 0.00140247, 0.0014983 , 0.00114897, 0.00077124,\n",
       "        0.        ],\n",
       "       [0.00091116, 0.00087521, 0.00088162, 0.00082329, 0.00092599,\n",
       "        0.00081668, 0.00093624, 0.00095468, 0.00081351, 0.00089628,\n",
       "        0.        ],\n",
       "       [0.0012844 , 0.00117715, 0.00117917, 0.00113073, 0.00081668,\n",
       "        0.00138634, 0.00126829, 0.00134467, 0.00100293, 0.0008159 ,\n",
       "        0.        ],\n",
       "       [0.00188357, 0.00158596, 0.00159511, 0.00140247, 0.00093624,\n",
       "        0.00126829, 0.00196972, 0.00156758, 0.00124341, 0.00094986,\n",
       "        0.        ],\n",
       "       [0.00165185, 0.00148572, 0.00149805, 0.0014983 , 0.00095468,\n",
       "        0.00134467, 0.00156758, 0.00194542, 0.00128438, 0.00090992,\n",
       "        0.        ],\n",
       "       [0.00137144, 0.00115142, 0.00115958, 0.00114897, 0.00081351,\n",
       "        0.00100293, 0.00124341, 0.00128438, 0.0014538 , 0.00083389,\n",
       "        0.        ],\n",
       "       [0.00096343, 0.00089754, 0.0008947 , 0.00077124, 0.00089628,\n",
       "        0.0008159 , 0.00094986, 0.00090992, 0.00083389, 0.00154887,\n",
       "        0.        ],\n",
       "       [0.        , 0.        , 0.        , 0.        , 0.        ,\n",
       "        0.        , 0.        , 0.        , 0.        , 0.        ,\n",
       "        0.00083333]])"
      ]
     },
     "execution_count": 37,
     "metadata": {},
     "output_type": "execute_result"
    }
   ],
   "source": [
    "Omega"
   ]
  },
  {
   "cell_type": "code",
   "execution_count": null,
   "metadata": {},
   "outputs": [],
   "source": []
  },
  {
   "cell_type": "markdown",
   "metadata": {},
   "source": [
    "$\\Sigma^{BL}$"
   ]
  },
  {
   "cell_type": "code",
   "execution_count": 38,
   "metadata": {},
   "outputs": [],
   "source": [
    "B1=np.eye(num,num)\n",
    "P=P.reshape(1,num)\n",
    "B=np.concatenate((B1,P),axis=0)"
   ]
  },
  {
   "cell_type": "code",
   "execution_count": 39,
   "metadata": {},
   "outputs": [
    {
     "data": {
      "text/plain": [
       "array([[ 1. ,  0. ,  0. ,  0. ,  0. ,  0. ,  0. ,  0. ,  0. ,  0. ],\n",
       "       [ 0. ,  1. ,  0. ,  0. ,  0. ,  0. ,  0. ,  0. ,  0. ,  0. ],\n",
       "       [ 0. ,  0. ,  1. ,  0. ,  0. ,  0. ,  0. ,  0. ,  0. ,  0. ],\n",
       "       [ 0. ,  0. ,  0. ,  1. ,  0. ,  0. ,  0. ,  0. ,  0. ,  0. ],\n",
       "       [ 0. ,  0. ,  0. ,  0. ,  1. ,  0. ,  0. ,  0. ,  0. ,  0. ],\n",
       "       [ 0. ,  0. ,  0. ,  0. ,  0. ,  1. ,  0. ,  0. ,  0. ,  0. ],\n",
       "       [ 0. ,  0. ,  0. ,  0. ,  0. ,  0. ,  1. ,  0. ,  0. ,  0. ],\n",
       "       [ 0. ,  0. ,  0. ,  0. ,  0. ,  0. ,  0. ,  1. ,  0. ,  0. ],\n",
       "       [ 0. ,  0. ,  0. ,  0. ,  0. ,  0. ,  0. ,  0. ,  1. ,  0. ],\n",
       "       [ 0. ,  0. ,  0. ,  0. ,  0. ,  0. ,  0. ,  0. ,  0. ,  1. ],\n",
       "       [-0.1,  0. ,  0. , -0.2,  0.4, -0.1,  0.3,  0. , -0.4,  0.1]])"
      ]
     },
     "execution_count": 39,
     "metadata": {},
     "output_type": "execute_result"
    }
   ],
   "source": [
    "B"
   ]
  },
  {
   "cell_type": "code",
   "execution_count": 40,
   "metadata": {},
   "outputs": [
    {
     "data": {
      "text/plain": [
       "array([[  853.84755451,  -602.21477583,  -327.19577353,    31.34650989,\n",
       "          223.78771045,    71.62028823,  -186.89412217,    62.58745801,\n",
       "         -153.51208195,   -15.47769076,     0.        ],\n",
       "       [ -602.21477583,  4161.35135905, -2413.80954749,  -255.79775998,\n",
       "         -146.05281703,  -165.95593348,  -343.84194914,  -162.77927782,\n",
       "           79.41575688,   -79.45107238,     0.        ],\n",
       "       [ -327.19577353, -2413.80954749,  6938.19800132, -1097.05697416,\n",
       "         -316.78624469,  -175.46125   , -1745.60949421,  -596.35840207,\n",
       "          -50.82922158,  -135.32994742,     0.        ],\n",
       "       [   31.34650989,  -255.79775998, -1097.05697416,  5338.30960292,\n",
       "         -317.76169208,  -324.89241632,  -446.38203121, -1948.66135434,\n",
       "         -861.66554178,   341.77846746,     0.        ],\n",
       "       [  223.78771045,  -146.05281703,  -316.78624469,  -317.76169208,\n",
       "         4107.43616396,  -544.64704016,  -102.64157492,  -196.98630989,\n",
       "         -463.86782029, -1374.89070566,     0.        ],\n",
       "       [   71.62028823,  -165.95593348,  -175.46125   ,  -324.89241632,\n",
       "         -544.64704016,  2709.49305738,  -312.97396534,  -820.3201342 ,\n",
       "          -58.70239865,   -91.90124284,     0.        ],\n",
       "       [ -186.89412217,  -343.84194914, -1745.60949421,  -446.38203121,\n",
       "         -102.64157492,  -312.97396534,  2987.5183163 ,    71.24594849,\n",
       "         -132.50250046,   -32.26989303,     0.        ],\n",
       "       [   62.58745801,  -162.77927782,  -596.35840207, -1948.66135434,\n",
       "         -196.98630989,  -820.3201342 ,    71.24594849,  3267.1391859 ,\n",
       "         -229.6986216 ,    76.92017081,     0.        ],\n",
       "       [ -153.51208195,    79.41575688,   -50.82922158,  -861.66554178,\n",
       "         -463.86782029,   -58.70239865,  -132.50250046,  -229.6986216 ,\n",
       "         2199.985804  ,  -161.00982362,     0.        ],\n",
       "       [  -15.47769076,   -79.45107238,  -135.32994742,   341.77846746,\n",
       "        -1374.89070566,   -91.90124284,   -32.26989303,    76.92017081,\n",
       "         -161.00982362,  1514.59839205,     0.        ],\n",
       "       [    0.        ,     0.        ,     0.        ,     0.        ,\n",
       "            0.        ,     0.        ,     0.        ,     0.        ,\n",
       "            0.        ,     0.        ,  1200.        ]])"
      ]
     },
     "execution_count": 40,
     "metadata": {},
     "output_type": "execute_result"
    }
   ],
   "source": [
    "np.linalg.inv(Omega)"
   ]
  },
  {
   "cell_type": "code",
   "execution_count": 41,
   "metadata": {},
   "outputs": [
    {
     "data": {
      "text/html": [
       "<div>\n",
       "<style scoped>\n",
       "    .dataframe tbody tr th:only-of-type {\n",
       "        vertical-align: middle;\n",
       "    }\n",
       "\n",
       "    .dataframe tbody tr th {\n",
       "        vertical-align: top;\n",
       "    }\n",
       "\n",
       "    .dataframe thead th {\n",
       "        text-align: right;\n",
       "    }\n",
       "</style>\n",
       "<table border=\"1\" class=\"dataframe\">\n",
       "  <thead>\n",
       "    <tr style=\"text-align: right;\">\n",
       "      <th></th>\n",
       "      <th>USA IMI/ENERGY</th>\n",
       "      <th>USA IMI/MATERIALS</th>\n",
       "      <th>USA IMI/INDUSTRIALS</th>\n",
       "      <th>USA IMI/CONSUMER DISCR</th>\n",
       "      <th>USA IMI/CONSUMER STAPLES</th>\n",
       "      <th>USA IMI/HEALTH CARE</th>\n",
       "      <th>USA IMI/FINANCIALS</th>\n",
       "      <th>USA IMI/INFORMATION TECH</th>\n",
       "      <th>USA IMI/COMM SVC 25-50</th>\n",
       "      <th>USA IMI/UTILITIES</th>\n",
       "    </tr>\n",
       "  </thead>\n",
       "  <tbody>\n",
       "    <tr>\n",
       "      <th>USA IMI/ENERGY</th>\n",
       "      <td>0.080257</td>\n",
       "      <td>0.045583</td>\n",
       "      <td>0.042542</td>\n",
       "      <td>0.035717</td>\n",
       "      <td>0.021868</td>\n",
       "      <td>0.030826</td>\n",
       "      <td>0.045206</td>\n",
       "      <td>0.039644</td>\n",
       "      <td>0.032914</td>\n",
       "      <td>0.023122</td>\n",
       "    </tr>\n",
       "    <tr>\n",
       "      <th>USA IMI/MATERIALS</th>\n",
       "      <td>0.045583</td>\n",
       "      <td>0.041832</td>\n",
       "      <td>0.036623</td>\n",
       "      <td>0.031513</td>\n",
       "      <td>0.021005</td>\n",
       "      <td>0.028252</td>\n",
       "      <td>0.038063</td>\n",
       "      <td>0.035657</td>\n",
       "      <td>0.027634</td>\n",
       "      <td>0.021541</td>\n",
       "    </tr>\n",
       "    <tr>\n",
       "      <th>USA IMI/INDUSTRIALS</th>\n",
       "      <td>0.042542</td>\n",
       "      <td>0.036623</td>\n",
       "      <td>0.038260</td>\n",
       "      <td>0.031792</td>\n",
       "      <td>0.021159</td>\n",
       "      <td>0.028300</td>\n",
       "      <td>0.038283</td>\n",
       "      <td>0.035953</td>\n",
       "      <td>0.027830</td>\n",
       "      <td>0.021473</td>\n",
       "    </tr>\n",
       "    <tr>\n",
       "      <th>USA IMI/CONSUMER DISCR</th>\n",
       "      <td>0.035717</td>\n",
       "      <td>0.031513</td>\n",
       "      <td>0.031792</td>\n",
       "      <td>0.034364</td>\n",
       "      <td>0.019759</td>\n",
       "      <td>0.027137</td>\n",
       "      <td>0.033659</td>\n",
       "      <td>0.035959</td>\n",
       "      <td>0.027575</td>\n",
       "      <td>0.018510</td>\n",
       "    </tr>\n",
       "    <tr>\n",
       "      <th>USA IMI/CONSUMER STAPLES</th>\n",
       "      <td>0.021868</td>\n",
       "      <td>0.021005</td>\n",
       "      <td>0.021159</td>\n",
       "      <td>0.019759</td>\n",
       "      <td>0.022224</td>\n",
       "      <td>0.019600</td>\n",
       "      <td>0.022470</td>\n",
       "      <td>0.022912</td>\n",
       "      <td>0.019524</td>\n",
       "      <td>0.021511</td>\n",
       "    </tr>\n",
       "    <tr>\n",
       "      <th>USA IMI/HEALTH CARE</th>\n",
       "      <td>0.030826</td>\n",
       "      <td>0.028252</td>\n",
       "      <td>0.028300</td>\n",
       "      <td>0.027137</td>\n",
       "      <td>0.019600</td>\n",
       "      <td>0.033272</td>\n",
       "      <td>0.030439</td>\n",
       "      <td>0.032272</td>\n",
       "      <td>0.024070</td>\n",
       "      <td>0.019581</td>\n",
       "    </tr>\n",
       "    <tr>\n",
       "      <th>USA IMI/FINANCIALS</th>\n",
       "      <td>0.045206</td>\n",
       "      <td>0.038063</td>\n",
       "      <td>0.038283</td>\n",
       "      <td>0.033659</td>\n",
       "      <td>0.022470</td>\n",
       "      <td>0.030439</td>\n",
       "      <td>0.047273</td>\n",
       "      <td>0.037622</td>\n",
       "      <td>0.029842</td>\n",
       "      <td>0.022797</td>\n",
       "    </tr>\n",
       "    <tr>\n",
       "      <th>USA IMI/INFORMATION TECH</th>\n",
       "      <td>0.039644</td>\n",
       "      <td>0.035657</td>\n",
       "      <td>0.035953</td>\n",
       "      <td>0.035959</td>\n",
       "      <td>0.022912</td>\n",
       "      <td>0.032272</td>\n",
       "      <td>0.037622</td>\n",
       "      <td>0.046690</td>\n",
       "      <td>0.030825</td>\n",
       "      <td>0.021838</td>\n",
       "    </tr>\n",
       "    <tr>\n",
       "      <th>USA IMI/COMM SVC 25-50</th>\n",
       "      <td>0.032914</td>\n",
       "      <td>0.027634</td>\n",
       "      <td>0.027830</td>\n",
       "      <td>0.027575</td>\n",
       "      <td>0.019524</td>\n",
       "      <td>0.024070</td>\n",
       "      <td>0.029842</td>\n",
       "      <td>0.030825</td>\n",
       "      <td>0.034891</td>\n",
       "      <td>0.020013</td>\n",
       "    </tr>\n",
       "    <tr>\n",
       "      <th>USA IMI/UTILITIES</th>\n",
       "      <td>0.023122</td>\n",
       "      <td>0.021541</td>\n",
       "      <td>0.021473</td>\n",
       "      <td>0.018510</td>\n",
       "      <td>0.021511</td>\n",
       "      <td>0.019581</td>\n",
       "      <td>0.022797</td>\n",
       "      <td>0.021838</td>\n",
       "      <td>0.020013</td>\n",
       "      <td>0.037173</td>\n",
       "    </tr>\n",
       "  </tbody>\n",
       "</table>\n",
       "</div>"
      ],
      "text/plain": [
       "                          USA IMI/ENERGY  USA IMI/MATERIALS  \\\n",
       "USA IMI/ENERGY                  0.080257           0.045583   \n",
       "USA IMI/MATERIALS               0.045583           0.041832   \n",
       "USA IMI/INDUSTRIALS             0.042542           0.036623   \n",
       "USA IMI/CONSUMER DISCR          0.035717           0.031513   \n",
       "USA IMI/CONSUMER STAPLES        0.021868           0.021005   \n",
       "USA IMI/HEALTH CARE             0.030826           0.028252   \n",
       "USA IMI/FINANCIALS              0.045206           0.038063   \n",
       "USA IMI/INFORMATION TECH        0.039644           0.035657   \n",
       "USA IMI/COMM SVC 25-50          0.032914           0.027634   \n",
       "USA IMI/UTILITIES               0.023122           0.021541   \n",
       "\n",
       "                          USA IMI/INDUSTRIALS  USA IMI/CONSUMER DISCR  \\\n",
       "USA IMI/ENERGY                       0.042542                0.035717   \n",
       "USA IMI/MATERIALS                    0.036623                0.031513   \n",
       "USA IMI/INDUSTRIALS                  0.038260                0.031792   \n",
       "USA IMI/CONSUMER DISCR               0.031792                0.034364   \n",
       "USA IMI/CONSUMER STAPLES             0.021159                0.019759   \n",
       "USA IMI/HEALTH CARE                  0.028300                0.027137   \n",
       "USA IMI/FINANCIALS                   0.038283                0.033659   \n",
       "USA IMI/INFORMATION TECH             0.035953                0.035959   \n",
       "USA IMI/COMM SVC 25-50               0.027830                0.027575   \n",
       "USA IMI/UTILITIES                    0.021473                0.018510   \n",
       "\n",
       "                          USA IMI/CONSUMER STAPLES  USA IMI/HEALTH CARE  \\\n",
       "USA IMI/ENERGY                            0.021868             0.030826   \n",
       "USA IMI/MATERIALS                         0.021005             0.028252   \n",
       "USA IMI/INDUSTRIALS                       0.021159             0.028300   \n",
       "USA IMI/CONSUMER DISCR                    0.019759             0.027137   \n",
       "USA IMI/CONSUMER STAPLES                  0.022224             0.019600   \n",
       "USA IMI/HEALTH CARE                       0.019600             0.033272   \n",
       "USA IMI/FINANCIALS                        0.022470             0.030439   \n",
       "USA IMI/INFORMATION TECH                  0.022912             0.032272   \n",
       "USA IMI/COMM SVC 25-50                    0.019524             0.024070   \n",
       "USA IMI/UTILITIES                         0.021511             0.019581   \n",
       "\n",
       "                          USA IMI/FINANCIALS  USA IMI/INFORMATION TECH  \\\n",
       "USA IMI/ENERGY                      0.045206                  0.039644   \n",
       "USA IMI/MATERIALS                   0.038063                  0.035657   \n",
       "USA IMI/INDUSTRIALS                 0.038283                  0.035953   \n",
       "USA IMI/CONSUMER DISCR              0.033659                  0.035959   \n",
       "USA IMI/CONSUMER STAPLES            0.022470                  0.022912   \n",
       "USA IMI/HEALTH CARE                 0.030439                  0.032272   \n",
       "USA IMI/FINANCIALS                  0.047273                  0.037622   \n",
       "USA IMI/INFORMATION TECH            0.037622                  0.046690   \n",
       "USA IMI/COMM SVC 25-50              0.029842                  0.030825   \n",
       "USA IMI/UTILITIES                   0.022797                  0.021838   \n",
       "\n",
       "                          USA IMI/COMM SVC 25-50  USA IMI/UTILITIES  \n",
       "USA IMI/ENERGY                          0.032914           0.023122  \n",
       "USA IMI/MATERIALS                       0.027634           0.021541  \n",
       "USA IMI/INDUSTRIALS                     0.027830           0.021473  \n",
       "USA IMI/CONSUMER DISCR                  0.027575           0.018510  \n",
       "USA IMI/CONSUMER STAPLES                0.019524           0.021511  \n",
       "USA IMI/HEALTH CARE                     0.024070           0.019581  \n",
       "USA IMI/FINANCIALS                      0.029842           0.022797  \n",
       "USA IMI/INFORMATION TECH                0.030825           0.021838  \n",
       "USA IMI/COMM SVC 25-50                  0.034891           0.020013  \n",
       "USA IMI/UTILITIES                       0.020013           0.037173  "
      ]
     },
     "execution_count": 41,
     "metadata": {},
     "output_type": "execute_result"
    }
   ],
   "source": [
    "Cov1"
   ]
  },
  {
   "cell_type": "code",
   "execution_count": 42,
   "metadata": {},
   "outputs": [
    {
     "data": {
      "text/plain": [
       "array([[0.00326764, 0.0018682 , 0.00174471, 0.00143948, 0.00093221,\n",
       "        0.00125591, 0.00187476, 0.00160601, 0.00129943, 0.00099921],\n",
       "       [0.0018682 , 0.00173037, 0.00151464, 0.00129322, 0.00088378,\n",
       "        0.00116555, 0.00158238, 0.00146707, 0.00112213, 0.00091209],\n",
       "       [0.00174471, 0.00151464, 0.001584  , 0.0013069 , 0.0008893 ,\n",
       "        0.00116878, 0.00159189, 0.00148133, 0.00113332, 0.00090775],\n",
       "       [0.00143948, 0.00129322, 0.0013069 , 0.00140075, 0.00083673,\n",
       "        0.00111255, 0.00139685, 0.00146905, 0.00110303, 0.00079406],\n",
       "       [0.00093221, 0.00088378, 0.0008893 , 0.00083673, 0.00092018,\n",
       "        0.00082453, 0.00093867, 0.00096732, 0.00083336, 0.00088642],\n",
       "       [0.00125591, 0.00116555, 0.00116878, 0.00111255, 0.00082453,\n",
       "        0.00137571, 0.00126501, 0.00132757, 0.00097607, 0.00082924],\n",
       "       [0.00187476, 0.00158238, 0.00159189, 0.00139685, 0.00093867,\n",
       "        0.00126501, 0.00196871, 0.0015623 , 0.00123511, 0.00095399],\n",
       "       [0.00160601, 0.00146707, 0.00148133, 0.00146905, 0.00096732,\n",
       "        0.00132757, 0.0015623 , 0.00191792, 0.00124118, 0.00093138],\n",
       "       [0.00129943, 0.00112213, 0.00113332, 0.00110303, 0.00083336,\n",
       "        0.00097607, 0.00123511, 0.00124118, 0.00138593, 0.00086761],\n",
       "       [0.00099921, 0.00091209, 0.00090775, 0.00079406, 0.00088642,\n",
       "        0.00082924, 0.00095399, 0.00093138, 0.00086761, 0.00153211]])"
      ]
     },
     "execution_count": 42,
     "metadata": {},
     "output_type": "execute_result"
    }
   ],
   "source": [
    "Cov2=np.linalg.inv(np.dot(np.dot(B.T,np.linalg.inv(Omega)),B))\n",
    "Cov2"
   ]
  },
  {
   "cell_type": "code",
   "execution_count": 43,
   "metadata": {},
   "outputs": [
    {
     "data": {
      "text/html": [
       "<div>\n",
       "<style scoped>\n",
       "    .dataframe tbody tr th:only-of-type {\n",
       "        vertical-align: middle;\n",
       "    }\n",
       "\n",
       "    .dataframe tbody tr th {\n",
       "        vertical-align: top;\n",
       "    }\n",
       "\n",
       "    .dataframe thead th {\n",
       "        text-align: right;\n",
       "    }\n",
       "</style>\n",
       "<table border=\"1\" class=\"dataframe\">\n",
       "  <thead>\n",
       "    <tr style=\"text-align: right;\">\n",
       "      <th></th>\n",
       "      <th>USA IMI/ENERGY</th>\n",
       "      <th>USA IMI/MATERIALS</th>\n",
       "      <th>USA IMI/INDUSTRIALS</th>\n",
       "      <th>USA IMI/CONSUMER DISCR</th>\n",
       "      <th>USA IMI/CONSUMER STAPLES</th>\n",
       "      <th>USA IMI/HEALTH CARE</th>\n",
       "      <th>USA IMI/FINANCIALS</th>\n",
       "      <th>USA IMI/INFORMATION TECH</th>\n",
       "      <th>USA IMI/COMM SVC 25-50</th>\n",
       "      <th>USA IMI/UTILITIES</th>\n",
       "    </tr>\n",
       "  </thead>\n",
       "  <tbody>\n",
       "    <tr>\n",
       "      <th>USA IMI/ENERGY</th>\n",
       "      <td>0.083524</td>\n",
       "      <td>0.047451</td>\n",
       "      <td>0.044286</td>\n",
       "      <td>0.037157</td>\n",
       "      <td>0.022800</td>\n",
       "      <td>0.032082</td>\n",
       "      <td>0.047080</td>\n",
       "      <td>0.041250</td>\n",
       "      <td>0.034214</td>\n",
       "      <td>0.024122</td>\n",
       "    </tr>\n",
       "    <tr>\n",
       "      <th>USA IMI/MATERIALS</th>\n",
       "      <td>0.047451</td>\n",
       "      <td>0.043563</td>\n",
       "      <td>0.038138</td>\n",
       "      <td>0.032806</td>\n",
       "      <td>0.021889</td>\n",
       "      <td>0.029417</td>\n",
       "      <td>0.039645</td>\n",
       "      <td>0.037124</td>\n",
       "      <td>0.028756</td>\n",
       "      <td>0.022453</td>\n",
       "    </tr>\n",
       "    <tr>\n",
       "      <th>USA IMI/INDUSTRIALS</th>\n",
       "      <td>0.044286</td>\n",
       "      <td>0.038138</td>\n",
       "      <td>0.039844</td>\n",
       "      <td>0.033099</td>\n",
       "      <td>0.022048</td>\n",
       "      <td>0.029469</td>\n",
       "      <td>0.039874</td>\n",
       "      <td>0.037435</td>\n",
       "      <td>0.028963</td>\n",
       "      <td>0.022381</td>\n",
       "    </tr>\n",
       "    <tr>\n",
       "      <th>USA IMI/CONSUMER DISCR</th>\n",
       "      <td>0.037157</td>\n",
       "      <td>0.032806</td>\n",
       "      <td>0.033099</td>\n",
       "      <td>0.035765</td>\n",
       "      <td>0.020596</td>\n",
       "      <td>0.028250</td>\n",
       "      <td>0.035056</td>\n",
       "      <td>0.037428</td>\n",
       "      <td>0.028678</td>\n",
       "      <td>0.019304</td>\n",
       "    </tr>\n",
       "    <tr>\n",
       "      <th>USA IMI/CONSUMER STAPLES</th>\n",
       "      <td>0.022800</td>\n",
       "      <td>0.021889</td>\n",
       "      <td>0.022048</td>\n",
       "      <td>0.020596</td>\n",
       "      <td>0.023144</td>\n",
       "      <td>0.020425</td>\n",
       "      <td>0.023408</td>\n",
       "      <td>0.023880</td>\n",
       "      <td>0.020358</td>\n",
       "      <td>0.022397</td>\n",
       "    </tr>\n",
       "    <tr>\n",
       "      <th>USA IMI/HEALTH CARE</th>\n",
       "      <td>0.032082</td>\n",
       "      <td>0.029417</td>\n",
       "      <td>0.029469</td>\n",
       "      <td>0.028250</td>\n",
       "      <td>0.020425</td>\n",
       "      <td>0.034648</td>\n",
       "      <td>0.031704</td>\n",
       "      <td>0.033600</td>\n",
       "      <td>0.025046</td>\n",
       "      <td>0.020411</td>\n",
       "    </tr>\n",
       "    <tr>\n",
       "      <th>USA IMI/FINANCIALS</th>\n",
       "      <td>0.047080</td>\n",
       "      <td>0.039645</td>\n",
       "      <td>0.039874</td>\n",
       "      <td>0.035056</td>\n",
       "      <td>0.023408</td>\n",
       "      <td>0.031704</td>\n",
       "      <td>0.049242</td>\n",
       "      <td>0.039184</td>\n",
       "      <td>0.031077</td>\n",
       "      <td>0.023751</td>\n",
       "    </tr>\n",
       "    <tr>\n",
       "      <th>USA IMI/INFORMATION TECH</th>\n",
       "      <td>0.041250</td>\n",
       "      <td>0.037124</td>\n",
       "      <td>0.037435</td>\n",
       "      <td>0.037428</td>\n",
       "      <td>0.023880</td>\n",
       "      <td>0.033600</td>\n",
       "      <td>0.039184</td>\n",
       "      <td>0.048608</td>\n",
       "      <td>0.032066</td>\n",
       "      <td>0.022769</td>\n",
       "    </tr>\n",
       "    <tr>\n",
       "      <th>USA IMI/COMM SVC 25-50</th>\n",
       "      <td>0.034214</td>\n",
       "      <td>0.028756</td>\n",
       "      <td>0.028963</td>\n",
       "      <td>0.028678</td>\n",
       "      <td>0.020358</td>\n",
       "      <td>0.025046</td>\n",
       "      <td>0.031077</td>\n",
       "      <td>0.032066</td>\n",
       "      <td>0.036277</td>\n",
       "      <td>0.020881</td>\n",
       "    </tr>\n",
       "    <tr>\n",
       "      <th>USA IMI/UTILITIES</th>\n",
       "      <td>0.024122</td>\n",
       "      <td>0.022453</td>\n",
       "      <td>0.022381</td>\n",
       "      <td>0.019304</td>\n",
       "      <td>0.022397</td>\n",
       "      <td>0.020411</td>\n",
       "      <td>0.023751</td>\n",
       "      <td>0.022769</td>\n",
       "      <td>0.020881</td>\n",
       "      <td>0.038705</td>\n",
       "    </tr>\n",
       "  </tbody>\n",
       "</table>\n",
       "</div>"
      ],
      "text/plain": [
       "                          USA IMI/ENERGY  USA IMI/MATERIALS  \\\n",
       "USA IMI/ENERGY                  0.083524           0.047451   \n",
       "USA IMI/MATERIALS               0.047451           0.043563   \n",
       "USA IMI/INDUSTRIALS             0.044286           0.038138   \n",
       "USA IMI/CONSUMER DISCR          0.037157           0.032806   \n",
       "USA IMI/CONSUMER STAPLES        0.022800           0.021889   \n",
       "USA IMI/HEALTH CARE             0.032082           0.029417   \n",
       "USA IMI/FINANCIALS              0.047080           0.039645   \n",
       "USA IMI/INFORMATION TECH        0.041250           0.037124   \n",
       "USA IMI/COMM SVC 25-50          0.034214           0.028756   \n",
       "USA IMI/UTILITIES               0.024122           0.022453   \n",
       "\n",
       "                          USA IMI/INDUSTRIALS  USA IMI/CONSUMER DISCR  \\\n",
       "USA IMI/ENERGY                       0.044286                0.037157   \n",
       "USA IMI/MATERIALS                    0.038138                0.032806   \n",
       "USA IMI/INDUSTRIALS                  0.039844                0.033099   \n",
       "USA IMI/CONSUMER DISCR               0.033099                0.035765   \n",
       "USA IMI/CONSUMER STAPLES             0.022048                0.020596   \n",
       "USA IMI/HEALTH CARE                  0.029469                0.028250   \n",
       "USA IMI/FINANCIALS                   0.039874                0.035056   \n",
       "USA IMI/INFORMATION TECH             0.037435                0.037428   \n",
       "USA IMI/COMM SVC 25-50               0.028963                0.028678   \n",
       "USA IMI/UTILITIES                    0.022381                0.019304   \n",
       "\n",
       "                          USA IMI/CONSUMER STAPLES  USA IMI/HEALTH CARE  \\\n",
       "USA IMI/ENERGY                            0.022800             0.032082   \n",
       "USA IMI/MATERIALS                         0.021889             0.029417   \n",
       "USA IMI/INDUSTRIALS                       0.022048             0.029469   \n",
       "USA IMI/CONSUMER DISCR                    0.020596             0.028250   \n",
       "USA IMI/CONSUMER STAPLES                  0.023144             0.020425   \n",
       "USA IMI/HEALTH CARE                       0.020425             0.034648   \n",
       "USA IMI/FINANCIALS                        0.023408             0.031704   \n",
       "USA IMI/INFORMATION TECH                  0.023880             0.033600   \n",
       "USA IMI/COMM SVC 25-50                    0.020358             0.025046   \n",
       "USA IMI/UTILITIES                         0.022397             0.020411   \n",
       "\n",
       "                          USA IMI/FINANCIALS  USA IMI/INFORMATION TECH  \\\n",
       "USA IMI/ENERGY                      0.047080                  0.041250   \n",
       "USA IMI/MATERIALS                   0.039645                  0.037124   \n",
       "USA IMI/INDUSTRIALS                 0.039874                  0.037435   \n",
       "USA IMI/CONSUMER DISCR              0.035056                  0.037428   \n",
       "USA IMI/CONSUMER STAPLES            0.023408                  0.023880   \n",
       "USA IMI/HEALTH CARE                 0.031704                  0.033600   \n",
       "USA IMI/FINANCIALS                  0.049242                  0.039184   \n",
       "USA IMI/INFORMATION TECH            0.039184                  0.048608   \n",
       "USA IMI/COMM SVC 25-50              0.031077                  0.032066   \n",
       "USA IMI/UTILITIES                   0.023751                  0.022769   \n",
       "\n",
       "                          USA IMI/COMM SVC 25-50  USA IMI/UTILITIES  \n",
       "USA IMI/ENERGY                          0.034214           0.024122  \n",
       "USA IMI/MATERIALS                       0.028756           0.022453  \n",
       "USA IMI/INDUSTRIALS                     0.028963           0.022381  \n",
       "USA IMI/CONSUMER DISCR                  0.028678           0.019304  \n",
       "USA IMI/CONSUMER STAPLES                0.020358           0.022397  \n",
       "USA IMI/HEALTH CARE                     0.025046           0.020411  \n",
       "USA IMI/FINANCIALS                      0.031077           0.023751  \n",
       "USA IMI/INFORMATION TECH                0.032066           0.022769  \n",
       "USA IMI/COMM SVC 25-50                  0.036277           0.020881  \n",
       "USA IMI/UTILITIES                       0.020881           0.038705  "
      ]
     },
     "execution_count": 43,
     "metadata": {},
     "output_type": "execute_result"
    }
   ],
   "source": [
    "Cov_BL=Cov1+Cov2\n",
    "Cov_BL"
   ]
  },
  {
   "cell_type": "code",
   "execution_count": 44,
   "metadata": {},
   "outputs": [
    {
     "data": {
      "text/plain": [
       "(10, 1)"
      ]
     },
     "execution_count": 44,
     "metadata": {},
     "output_type": "execute_result"
    }
   ],
   "source": [
    "r_hat.shape"
   ]
  },
  {
   "cell_type": "markdown",
   "metadata": {},
   "source": [
    "$\\mu^{BL}$"
   ]
  },
  {
   "cell_type": "code",
   "execution_count": 45,
   "metadata": {},
   "outputs": [
    {
     "data": {
      "text/plain": [
       "array([[ 0.09332965],\n",
       "       [ 0.08101256],\n",
       "       [ 0.08125673],\n",
       "       [ 0.07722691],\n",
       "       [ 0.05326697],\n",
       "       [ 0.07230594],\n",
       "       [ 0.08747053],\n",
       "       [ 0.09101139],\n",
       "       [ 0.07035101],\n",
       "       [ 0.05394328],\n",
       "       [-0.00720707]])"
      ]
     },
     "execution_count": 45,
     "metadata": {},
     "output_type": "execute_result"
    }
   ],
   "source": [
    "C3=np.concatenate((r_hat,q),axis=0)\n",
    "C3"
   ]
  },
  {
   "cell_type": "code",
   "execution_count": 46,
   "metadata": {},
   "outputs": [],
   "source": [
    "C1=np.dot(Cov2,B.T)\n",
    "C2=np.dot(np.linalg.inv(Omega),C3)\n",
    "mu_BL=np.dot(C1,C2)"
   ]
  },
  {
   "cell_type": "code",
   "execution_count": 47,
   "metadata": {},
   "outputs": [
    {
     "data": {
      "text/plain": [
       "array([[0.09332965],\n",
       "       [0.08101256],\n",
       "       [0.08125673],\n",
       "       [0.07722691],\n",
       "       [0.05326697],\n",
       "       [0.07230594],\n",
       "       [0.08747053],\n",
       "       [0.09101139],\n",
       "       [0.07035101],\n",
       "       [0.05394328]])"
      ]
     },
     "execution_count": 47,
     "metadata": {},
     "output_type": "execute_result"
    }
   ],
   "source": [
    "mu_BL"
   ]
  },
  {
   "cell_type": "code",
   "execution_count": 48,
   "metadata": {},
   "outputs": [
    {
     "data": {
      "text/plain": [
       "array([-0.12830049,  0.02621837,  0.04975006,  0.09773288,  0.07429758,\n",
       "        0.1041075 ,  0.05201741,  0.15796417,  0.06269929,  0.08915512])"
      ]
     },
     "execution_count": 48,
     "metadata": {},
     "output_type": "execute_result"
    }
   ],
   "source": [
    "mu=np.array(mu)\n",
    "mu"
   ]
  },
  {
   "cell_type": "code",
   "execution_count": 49,
   "metadata": {},
   "outputs": [
    {
     "data": {
      "text/html": [
       "<div>\n",
       "<style scoped>\n",
       "    .dataframe tbody tr th:only-of-type {\n",
       "        vertical-align: middle;\n",
       "    }\n",
       "\n",
       "    .dataframe tbody tr th {\n",
       "        vertical-align: top;\n",
       "    }\n",
       "\n",
       "    .dataframe thead th {\n",
       "        text-align: right;\n",
       "    }\n",
       "</style>\n",
       "<table border=\"1\" class=\"dataframe\">\n",
       "  <thead>\n",
       "    <tr style=\"text-align: right;\">\n",
       "      <th></th>\n",
       "      <th>USA IMI/ENERGY</th>\n",
       "      <th>USA IMI/MATERIALS</th>\n",
       "      <th>USA IMI/INDUSTRIALS</th>\n",
       "      <th>USA IMI/CONSUMER DISCR</th>\n",
       "      <th>USA IMI/CONSUMER STAPLES</th>\n",
       "      <th>USA IMI/HEALTH CARE</th>\n",
       "      <th>USA IMI/FINANCIALS</th>\n",
       "      <th>USA IMI/INFORMATION TECH</th>\n",
       "      <th>USA IMI/COMM SVC 25-50</th>\n",
       "      <th>USA IMI/UTILITIES</th>\n",
       "    </tr>\n",
       "  </thead>\n",
       "  <tbody>\n",
       "    <tr>\n",
       "      <th>USA IMI/ENERGY</th>\n",
       "      <td>0.083524</td>\n",
       "      <td>0.047451</td>\n",
       "      <td>0.044286</td>\n",
       "      <td>0.037157</td>\n",
       "      <td>0.022800</td>\n",
       "      <td>0.032082</td>\n",
       "      <td>0.047080</td>\n",
       "      <td>0.041250</td>\n",
       "      <td>0.034214</td>\n",
       "      <td>0.024122</td>\n",
       "    </tr>\n",
       "    <tr>\n",
       "      <th>USA IMI/MATERIALS</th>\n",
       "      <td>0.047451</td>\n",
       "      <td>0.043563</td>\n",
       "      <td>0.038138</td>\n",
       "      <td>0.032806</td>\n",
       "      <td>0.021889</td>\n",
       "      <td>0.029417</td>\n",
       "      <td>0.039645</td>\n",
       "      <td>0.037124</td>\n",
       "      <td>0.028756</td>\n",
       "      <td>0.022453</td>\n",
       "    </tr>\n",
       "    <tr>\n",
       "      <th>USA IMI/INDUSTRIALS</th>\n",
       "      <td>0.044286</td>\n",
       "      <td>0.038138</td>\n",
       "      <td>0.039844</td>\n",
       "      <td>0.033099</td>\n",
       "      <td>0.022048</td>\n",
       "      <td>0.029469</td>\n",
       "      <td>0.039874</td>\n",
       "      <td>0.037435</td>\n",
       "      <td>0.028963</td>\n",
       "      <td>0.022381</td>\n",
       "    </tr>\n",
       "    <tr>\n",
       "      <th>USA IMI/CONSUMER DISCR</th>\n",
       "      <td>0.037157</td>\n",
       "      <td>0.032806</td>\n",
       "      <td>0.033099</td>\n",
       "      <td>0.035765</td>\n",
       "      <td>0.020596</td>\n",
       "      <td>0.028250</td>\n",
       "      <td>0.035056</td>\n",
       "      <td>0.037428</td>\n",
       "      <td>0.028678</td>\n",
       "      <td>0.019304</td>\n",
       "    </tr>\n",
       "    <tr>\n",
       "      <th>USA IMI/CONSUMER STAPLES</th>\n",
       "      <td>0.022800</td>\n",
       "      <td>0.021889</td>\n",
       "      <td>0.022048</td>\n",
       "      <td>0.020596</td>\n",
       "      <td>0.023144</td>\n",
       "      <td>0.020425</td>\n",
       "      <td>0.023408</td>\n",
       "      <td>0.023880</td>\n",
       "      <td>0.020358</td>\n",
       "      <td>0.022397</td>\n",
       "    </tr>\n",
       "    <tr>\n",
       "      <th>USA IMI/HEALTH CARE</th>\n",
       "      <td>0.032082</td>\n",
       "      <td>0.029417</td>\n",
       "      <td>0.029469</td>\n",
       "      <td>0.028250</td>\n",
       "      <td>0.020425</td>\n",
       "      <td>0.034648</td>\n",
       "      <td>0.031704</td>\n",
       "      <td>0.033600</td>\n",
       "      <td>0.025046</td>\n",
       "      <td>0.020411</td>\n",
       "    </tr>\n",
       "    <tr>\n",
       "      <th>USA IMI/FINANCIALS</th>\n",
       "      <td>0.047080</td>\n",
       "      <td>0.039645</td>\n",
       "      <td>0.039874</td>\n",
       "      <td>0.035056</td>\n",
       "      <td>0.023408</td>\n",
       "      <td>0.031704</td>\n",
       "      <td>0.049242</td>\n",
       "      <td>0.039184</td>\n",
       "      <td>0.031077</td>\n",
       "      <td>0.023751</td>\n",
       "    </tr>\n",
       "    <tr>\n",
       "      <th>USA IMI/INFORMATION TECH</th>\n",
       "      <td>0.041250</td>\n",
       "      <td>0.037124</td>\n",
       "      <td>0.037435</td>\n",
       "      <td>0.037428</td>\n",
       "      <td>0.023880</td>\n",
       "      <td>0.033600</td>\n",
       "      <td>0.039184</td>\n",
       "      <td>0.048608</td>\n",
       "      <td>0.032066</td>\n",
       "      <td>0.022769</td>\n",
       "    </tr>\n",
       "    <tr>\n",
       "      <th>USA IMI/COMM SVC 25-50</th>\n",
       "      <td>0.034214</td>\n",
       "      <td>0.028756</td>\n",
       "      <td>0.028963</td>\n",
       "      <td>0.028678</td>\n",
       "      <td>0.020358</td>\n",
       "      <td>0.025046</td>\n",
       "      <td>0.031077</td>\n",
       "      <td>0.032066</td>\n",
       "      <td>0.036277</td>\n",
       "      <td>0.020881</td>\n",
       "    </tr>\n",
       "    <tr>\n",
       "      <th>USA IMI/UTILITIES</th>\n",
       "      <td>0.024122</td>\n",
       "      <td>0.022453</td>\n",
       "      <td>0.022381</td>\n",
       "      <td>0.019304</td>\n",
       "      <td>0.022397</td>\n",
       "      <td>0.020411</td>\n",
       "      <td>0.023751</td>\n",
       "      <td>0.022769</td>\n",
       "      <td>0.020881</td>\n",
       "      <td>0.038705</td>\n",
       "    </tr>\n",
       "  </tbody>\n",
       "</table>\n",
       "</div>"
      ],
      "text/plain": [
       "                          USA IMI/ENERGY  USA IMI/MATERIALS  \\\n",
       "USA IMI/ENERGY                  0.083524           0.047451   \n",
       "USA IMI/MATERIALS               0.047451           0.043563   \n",
       "USA IMI/INDUSTRIALS             0.044286           0.038138   \n",
       "USA IMI/CONSUMER DISCR          0.037157           0.032806   \n",
       "USA IMI/CONSUMER STAPLES        0.022800           0.021889   \n",
       "USA IMI/HEALTH CARE             0.032082           0.029417   \n",
       "USA IMI/FINANCIALS              0.047080           0.039645   \n",
       "USA IMI/INFORMATION TECH        0.041250           0.037124   \n",
       "USA IMI/COMM SVC 25-50          0.034214           0.028756   \n",
       "USA IMI/UTILITIES               0.024122           0.022453   \n",
       "\n",
       "                          USA IMI/INDUSTRIALS  USA IMI/CONSUMER DISCR  \\\n",
       "USA IMI/ENERGY                       0.044286                0.037157   \n",
       "USA IMI/MATERIALS                    0.038138                0.032806   \n",
       "USA IMI/INDUSTRIALS                  0.039844                0.033099   \n",
       "USA IMI/CONSUMER DISCR               0.033099                0.035765   \n",
       "USA IMI/CONSUMER STAPLES             0.022048                0.020596   \n",
       "USA IMI/HEALTH CARE                  0.029469                0.028250   \n",
       "USA IMI/FINANCIALS                   0.039874                0.035056   \n",
       "USA IMI/INFORMATION TECH             0.037435                0.037428   \n",
       "USA IMI/COMM SVC 25-50               0.028963                0.028678   \n",
       "USA IMI/UTILITIES                    0.022381                0.019304   \n",
       "\n",
       "                          USA IMI/CONSUMER STAPLES  USA IMI/HEALTH CARE  \\\n",
       "USA IMI/ENERGY                            0.022800             0.032082   \n",
       "USA IMI/MATERIALS                         0.021889             0.029417   \n",
       "USA IMI/INDUSTRIALS                       0.022048             0.029469   \n",
       "USA IMI/CONSUMER DISCR                    0.020596             0.028250   \n",
       "USA IMI/CONSUMER STAPLES                  0.023144             0.020425   \n",
       "USA IMI/HEALTH CARE                       0.020425             0.034648   \n",
       "USA IMI/FINANCIALS                        0.023408             0.031704   \n",
       "USA IMI/INFORMATION TECH                  0.023880             0.033600   \n",
       "USA IMI/COMM SVC 25-50                    0.020358             0.025046   \n",
       "USA IMI/UTILITIES                         0.022397             0.020411   \n",
       "\n",
       "                          USA IMI/FINANCIALS  USA IMI/INFORMATION TECH  \\\n",
       "USA IMI/ENERGY                      0.047080                  0.041250   \n",
       "USA IMI/MATERIALS                   0.039645                  0.037124   \n",
       "USA IMI/INDUSTRIALS                 0.039874                  0.037435   \n",
       "USA IMI/CONSUMER DISCR              0.035056                  0.037428   \n",
       "USA IMI/CONSUMER STAPLES            0.023408                  0.023880   \n",
       "USA IMI/HEALTH CARE                 0.031704                  0.033600   \n",
       "USA IMI/FINANCIALS                  0.049242                  0.039184   \n",
       "USA IMI/INFORMATION TECH            0.039184                  0.048608   \n",
       "USA IMI/COMM SVC 25-50              0.031077                  0.032066   \n",
       "USA IMI/UTILITIES                   0.023751                  0.022769   \n",
       "\n",
       "                          USA IMI/COMM SVC 25-50  USA IMI/UTILITIES  \n",
       "USA IMI/ENERGY                          0.034214           0.024122  \n",
       "USA IMI/MATERIALS                       0.028756           0.022453  \n",
       "USA IMI/INDUSTRIALS                     0.028963           0.022381  \n",
       "USA IMI/CONSUMER DISCR                  0.028678           0.019304  \n",
       "USA IMI/CONSUMER STAPLES                0.020358           0.022397  \n",
       "USA IMI/HEALTH CARE                     0.025046           0.020411  \n",
       "USA IMI/FINANCIALS                      0.031077           0.023751  \n",
       "USA IMI/INFORMATION TECH                0.032066           0.022769  \n",
       "USA IMI/COMM SVC 25-50                  0.036277           0.020881  \n",
       "USA IMI/UTILITIES                       0.020881           0.038705  "
      ]
     },
     "execution_count": 49,
     "metadata": {},
     "output_type": "execute_result"
    }
   ],
   "source": [
    "Cov_BL"
   ]
  },
  {
   "cell_type": "code",
   "execution_count": 50,
   "metadata": {},
   "outputs": [
    {
     "data": {
      "text/html": [
       "<div>\n",
       "<style scoped>\n",
       "    .dataframe tbody tr th:only-of-type {\n",
       "        vertical-align: middle;\n",
       "    }\n",
       "\n",
       "    .dataframe tbody tr th {\n",
       "        vertical-align: top;\n",
       "    }\n",
       "\n",
       "    .dataframe thead th {\n",
       "        text-align: right;\n",
       "    }\n",
       "</style>\n",
       "<table border=\"1\" class=\"dataframe\">\n",
       "  <thead>\n",
       "    <tr style=\"text-align: right;\">\n",
       "      <th></th>\n",
       "      <th>USA IMI/ENERGY</th>\n",
       "      <th>USA IMI/MATERIALS</th>\n",
       "      <th>USA IMI/INDUSTRIALS</th>\n",
       "      <th>USA IMI/CONSUMER DISCR</th>\n",
       "      <th>USA IMI/CONSUMER STAPLES</th>\n",
       "      <th>USA IMI/HEALTH CARE</th>\n",
       "      <th>USA IMI/FINANCIALS</th>\n",
       "      <th>USA IMI/INFORMATION TECH</th>\n",
       "      <th>USA IMI/COMM SVC 25-50</th>\n",
       "      <th>USA IMI/UTILITIES</th>\n",
       "    </tr>\n",
       "  </thead>\n",
       "  <tbody>\n",
       "    <tr>\n",
       "      <th>USA IMI/ENERGY</th>\n",
       "      <td>0.080257</td>\n",
       "      <td>0.045583</td>\n",
       "      <td>0.042542</td>\n",
       "      <td>0.035717</td>\n",
       "      <td>0.021868</td>\n",
       "      <td>0.030826</td>\n",
       "      <td>0.045206</td>\n",
       "      <td>0.039644</td>\n",
       "      <td>0.032914</td>\n",
       "      <td>0.023122</td>\n",
       "    </tr>\n",
       "    <tr>\n",
       "      <th>USA IMI/MATERIALS</th>\n",
       "      <td>0.045583</td>\n",
       "      <td>0.041832</td>\n",
       "      <td>0.036623</td>\n",
       "      <td>0.031513</td>\n",
       "      <td>0.021005</td>\n",
       "      <td>0.028252</td>\n",
       "      <td>0.038063</td>\n",
       "      <td>0.035657</td>\n",
       "      <td>0.027634</td>\n",
       "      <td>0.021541</td>\n",
       "    </tr>\n",
       "    <tr>\n",
       "      <th>USA IMI/INDUSTRIALS</th>\n",
       "      <td>0.042542</td>\n",
       "      <td>0.036623</td>\n",
       "      <td>0.038260</td>\n",
       "      <td>0.031792</td>\n",
       "      <td>0.021159</td>\n",
       "      <td>0.028300</td>\n",
       "      <td>0.038283</td>\n",
       "      <td>0.035953</td>\n",
       "      <td>0.027830</td>\n",
       "      <td>0.021473</td>\n",
       "    </tr>\n",
       "    <tr>\n",
       "      <th>USA IMI/CONSUMER DISCR</th>\n",
       "      <td>0.035717</td>\n",
       "      <td>0.031513</td>\n",
       "      <td>0.031792</td>\n",
       "      <td>0.034364</td>\n",
       "      <td>0.019759</td>\n",
       "      <td>0.027137</td>\n",
       "      <td>0.033659</td>\n",
       "      <td>0.035959</td>\n",
       "      <td>0.027575</td>\n",
       "      <td>0.018510</td>\n",
       "    </tr>\n",
       "    <tr>\n",
       "      <th>USA IMI/CONSUMER STAPLES</th>\n",
       "      <td>0.021868</td>\n",
       "      <td>0.021005</td>\n",
       "      <td>0.021159</td>\n",
       "      <td>0.019759</td>\n",
       "      <td>0.022224</td>\n",
       "      <td>0.019600</td>\n",
       "      <td>0.022470</td>\n",
       "      <td>0.022912</td>\n",
       "      <td>0.019524</td>\n",
       "      <td>0.021511</td>\n",
       "    </tr>\n",
       "    <tr>\n",
       "      <th>USA IMI/HEALTH CARE</th>\n",
       "      <td>0.030826</td>\n",
       "      <td>0.028252</td>\n",
       "      <td>0.028300</td>\n",
       "      <td>0.027137</td>\n",
       "      <td>0.019600</td>\n",
       "      <td>0.033272</td>\n",
       "      <td>0.030439</td>\n",
       "      <td>0.032272</td>\n",
       "      <td>0.024070</td>\n",
       "      <td>0.019581</td>\n",
       "    </tr>\n",
       "    <tr>\n",
       "      <th>USA IMI/FINANCIALS</th>\n",
       "      <td>0.045206</td>\n",
       "      <td>0.038063</td>\n",
       "      <td>0.038283</td>\n",
       "      <td>0.033659</td>\n",
       "      <td>0.022470</td>\n",
       "      <td>0.030439</td>\n",
       "      <td>0.047273</td>\n",
       "      <td>0.037622</td>\n",
       "      <td>0.029842</td>\n",
       "      <td>0.022797</td>\n",
       "    </tr>\n",
       "    <tr>\n",
       "      <th>USA IMI/INFORMATION TECH</th>\n",
       "      <td>0.039644</td>\n",
       "      <td>0.035657</td>\n",
       "      <td>0.035953</td>\n",
       "      <td>0.035959</td>\n",
       "      <td>0.022912</td>\n",
       "      <td>0.032272</td>\n",
       "      <td>0.037622</td>\n",
       "      <td>0.046690</td>\n",
       "      <td>0.030825</td>\n",
       "      <td>0.021838</td>\n",
       "    </tr>\n",
       "    <tr>\n",
       "      <th>USA IMI/COMM SVC 25-50</th>\n",
       "      <td>0.032914</td>\n",
       "      <td>0.027634</td>\n",
       "      <td>0.027830</td>\n",
       "      <td>0.027575</td>\n",
       "      <td>0.019524</td>\n",
       "      <td>0.024070</td>\n",
       "      <td>0.029842</td>\n",
       "      <td>0.030825</td>\n",
       "      <td>0.034891</td>\n",
       "      <td>0.020013</td>\n",
       "    </tr>\n",
       "    <tr>\n",
       "      <th>USA IMI/UTILITIES</th>\n",
       "      <td>0.023122</td>\n",
       "      <td>0.021541</td>\n",
       "      <td>0.021473</td>\n",
       "      <td>0.018510</td>\n",
       "      <td>0.021511</td>\n",
       "      <td>0.019581</td>\n",
       "      <td>0.022797</td>\n",
       "      <td>0.021838</td>\n",
       "      <td>0.020013</td>\n",
       "      <td>0.037173</td>\n",
       "    </tr>\n",
       "  </tbody>\n",
       "</table>\n",
       "</div>"
      ],
      "text/plain": [
       "                          USA IMI/ENERGY  USA IMI/MATERIALS  \\\n",
       "USA IMI/ENERGY                  0.080257           0.045583   \n",
       "USA IMI/MATERIALS               0.045583           0.041832   \n",
       "USA IMI/INDUSTRIALS             0.042542           0.036623   \n",
       "USA IMI/CONSUMER DISCR          0.035717           0.031513   \n",
       "USA IMI/CONSUMER STAPLES        0.021868           0.021005   \n",
       "USA IMI/HEALTH CARE             0.030826           0.028252   \n",
       "USA IMI/FINANCIALS              0.045206           0.038063   \n",
       "USA IMI/INFORMATION TECH        0.039644           0.035657   \n",
       "USA IMI/COMM SVC 25-50          0.032914           0.027634   \n",
       "USA IMI/UTILITIES               0.023122           0.021541   \n",
       "\n",
       "                          USA IMI/INDUSTRIALS  USA IMI/CONSUMER DISCR  \\\n",
       "USA IMI/ENERGY                       0.042542                0.035717   \n",
       "USA IMI/MATERIALS                    0.036623                0.031513   \n",
       "USA IMI/INDUSTRIALS                  0.038260                0.031792   \n",
       "USA IMI/CONSUMER DISCR               0.031792                0.034364   \n",
       "USA IMI/CONSUMER STAPLES             0.021159                0.019759   \n",
       "USA IMI/HEALTH CARE                  0.028300                0.027137   \n",
       "USA IMI/FINANCIALS                   0.038283                0.033659   \n",
       "USA IMI/INFORMATION TECH             0.035953                0.035959   \n",
       "USA IMI/COMM SVC 25-50               0.027830                0.027575   \n",
       "USA IMI/UTILITIES                    0.021473                0.018510   \n",
       "\n",
       "                          USA IMI/CONSUMER STAPLES  USA IMI/HEALTH CARE  \\\n",
       "USA IMI/ENERGY                            0.021868             0.030826   \n",
       "USA IMI/MATERIALS                         0.021005             0.028252   \n",
       "USA IMI/INDUSTRIALS                       0.021159             0.028300   \n",
       "USA IMI/CONSUMER DISCR                    0.019759             0.027137   \n",
       "USA IMI/CONSUMER STAPLES                  0.022224             0.019600   \n",
       "USA IMI/HEALTH CARE                       0.019600             0.033272   \n",
       "USA IMI/FINANCIALS                        0.022470             0.030439   \n",
       "USA IMI/INFORMATION TECH                  0.022912             0.032272   \n",
       "USA IMI/COMM SVC 25-50                    0.019524             0.024070   \n",
       "USA IMI/UTILITIES                         0.021511             0.019581   \n",
       "\n",
       "                          USA IMI/FINANCIALS  USA IMI/INFORMATION TECH  \\\n",
       "USA IMI/ENERGY                      0.045206                  0.039644   \n",
       "USA IMI/MATERIALS                   0.038063                  0.035657   \n",
       "USA IMI/INDUSTRIALS                 0.038283                  0.035953   \n",
       "USA IMI/CONSUMER DISCR              0.033659                  0.035959   \n",
       "USA IMI/CONSUMER STAPLES            0.022470                  0.022912   \n",
       "USA IMI/HEALTH CARE                 0.030439                  0.032272   \n",
       "USA IMI/FINANCIALS                  0.047273                  0.037622   \n",
       "USA IMI/INFORMATION TECH            0.037622                  0.046690   \n",
       "USA IMI/COMM SVC 25-50              0.029842                  0.030825   \n",
       "USA IMI/UTILITIES                   0.022797                  0.021838   \n",
       "\n",
       "                          USA IMI/COMM SVC 25-50  USA IMI/UTILITIES  \n",
       "USA IMI/ENERGY                          0.032914           0.023122  \n",
       "USA IMI/MATERIALS                       0.027634           0.021541  \n",
       "USA IMI/INDUSTRIALS                     0.027830           0.021473  \n",
       "USA IMI/CONSUMER DISCR                  0.027575           0.018510  \n",
       "USA IMI/CONSUMER STAPLES                0.019524           0.021511  \n",
       "USA IMI/HEALTH CARE                     0.024070           0.019581  \n",
       "USA IMI/FINANCIALS                      0.029842           0.022797  \n",
       "USA IMI/INFORMATION TECH                0.030825           0.021838  \n",
       "USA IMI/COMM SVC 25-50                  0.034891           0.020013  \n",
       "USA IMI/UTILITIES                       0.020013           0.037173  "
      ]
     },
     "execution_count": 50,
     "metadata": {},
     "output_type": "execute_result"
    }
   ],
   "source": [
    "Cov"
   ]
  },
  {
   "cell_type": "markdown",
   "metadata": {},
   "source": [
    "#### BL result"
   ]
  },
  {
   "cell_type": "code",
   "execution_count": 51,
   "metadata": {},
   "outputs": [
    {
     "name": "stdout",
     "output_type": "stream",
     "text": [
      "     fun: -0.7715000222125576\n",
      "     jac: array([-0.93329652, -0.81012563, -0.81256728, -0.77226912, -0.53266968,\n",
      "       -0.72305942, -0.87470533, -0.91011393, -0.7035101 , -0.53943278])\n",
      " message: 'Optimization terminated successfully.'\n",
      "    nfev: 194\n",
      "     nit: 16\n",
      "    njev: 16\n",
      "  status: 0\n",
      " success: True\n",
      "       x: array([0.02590442, 0.02766444, 0.08817449, 0.10515551, 0.07271163,\n",
      "       0.15859531, 0.11497997, 0.25103135, 0.1005725 , 0.03495557])\n"
     ]
    }
   ],
   "source": [
    "num=len(icode)\n",
    "e=np.zeros(num)+1\n",
    "\n",
    "def statistics2(weights):\n",
    "    \n",
    "    weights=np.array(weights)\n",
    "    \n",
    "    Mark1=np.dot(mu_BL.T,weights)\n",
    "    Mark2=(1-np.dot(e.T,weights))*rf\n",
    "\n",
    "    \n",
    "    \n",
    "    return [Mark1+Mark2]\n",
    "\n",
    "def max_Mark1(weights):\n",
    "    \n",
    "    return -10/1*statistics2(weights)[0]\n",
    "\n",
    "cons = (\n",
    "       {'type':'ineq', 'fun':lambda x: -np.dot(np.dot(x.T,Cov_BL),x)+L**2}\n",
    "       )\n",
    "bnds = tuple((0,20) for x in range(num))\n",
    "bl = sco.minimize(max_Mark1,cc, method = 'SLSQP',  constraints = cons)\n",
    "print(bl)"
   ]
  },
  {
   "cell_type": "code",
   "execution_count": null,
   "metadata": {},
   "outputs": [],
   "source": []
  },
  {
   "cell_type": "code",
   "execution_count": null,
   "metadata": {},
   "outputs": [],
   "source": []
  },
  {
   "cell_type": "code",
   "execution_count": 52,
   "metadata": {},
   "outputs": [
    {
     "data": {
      "text/plain": [
       "array([ 2.64399602,  2.82363594,  8.99973729, 10.73294476,  7.42148344,\n",
       "       16.18740342, 11.73570113, 25.62210578, 10.26516924,  3.56782299])"
      ]
     },
     "execution_count": 52,
     "metadata": {},
     "output_type": "execute_result"
    }
   ],
   "source": [
    "x_bl=bl.x/np.sum(bl.x)*100\n",
    "x_bl"
   ]
  },
  {
   "cell_type": "code",
   "execution_count": 53,
   "metadata": {},
   "outputs": [
    {
     "data": {
      "text/plain": [
       "array([[ 2.58188418],\n",
       "       [ 2.75906463],\n",
       "       [ 9.27501837],\n",
       "       [10.54121408],\n",
       "       [ 7.46135222],\n",
       "       [16.11830092],\n",
       "       [11.71799928],\n",
       "       [25.78098764],\n",
       "       [10.11610578],\n",
       "       [ 3.6480729 ]])"
      ]
     },
     "execution_count": 53,
     "metadata": {},
     "output_type": "execute_result"
    }
   ],
   "source": [
    "x_mkt=mkt/np.sum(mkt)*100\n",
    "x_mkt=np.array(x_mkt)\n",
    "x_mkt"
   ]
  },
  {
   "cell_type": "markdown",
   "metadata": {},
   "source": [
    "## MVIO model"
   ]
  },
  {
   "cell_type": "code",
   "execution_count": 54,
   "metadata": {},
   "outputs": [
    {
     "data": {
      "text/plain": [
       "1.25"
      ]
     },
     "execution_count": 54,
     "metadata": {},
     "output_type": "execute_result"
    }
   ],
   "source": [
    "delta"
   ]
  },
  {
   "cell_type": "markdown",
   "metadata": {},
   "source": [
    "$\\bar{\\Sigma}$"
   ]
  },
  {
   "cell_type": "code",
   "execution_count": 55,
   "metadata": {},
   "outputs": [],
   "source": [
    "C_new=2*delta*Cov"
   ]
  },
  {
   "cell_type": "code",
   "execution_count": 56,
   "metadata": {},
   "outputs": [
    {
     "data": {
      "text/plain": [
       "array([[0.09332965],\n",
       "       [0.08101256],\n",
       "       [0.08125673],\n",
       "       [0.07722691],\n",
       "       [0.05326697],\n",
       "       [0.07230594],\n",
       "       [0.08747053],\n",
       "       [0.09101139],\n",
       "       [0.07035101],\n",
       "       [0.05394328]])"
      ]
     },
     "execution_count": 56,
     "metadata": {},
     "output_type": "execute_result"
    }
   ],
   "source": [
    "mu_BL"
   ]
  },
  {
   "cell_type": "code",
   "execution_count": 57,
   "metadata": {},
   "outputs": [
    {
     "data": {
      "text/plain": [
       "array([[0.02581884],\n",
       "       [0.02759065],\n",
       "       [0.09275018],\n",
       "       [0.10541214],\n",
       "       [0.07461352],\n",
       "       [0.16118301],\n",
       "       [0.11717999],\n",
       "       [0.25780988],\n",
       "       [0.10116106],\n",
       "       [0.03648073]])"
      ]
     },
     "execution_count": 57,
     "metadata": {},
     "output_type": "execute_result"
    }
   ],
   "source": [
    "mkt"
   ]
  },
  {
   "cell_type": "code",
   "execution_count": 58,
   "metadata": {},
   "outputs": [
    {
     "name": "stdout",
     "output_type": "stream",
     "text": [
      "status: optimal\n",
      "optimal value -3.408247543950701e-10\n"
     ]
    }
   ],
   "source": [
    "##### special case with sigma = 0.5 * delta * sigma : BL\n",
    "import cvxpy as cvx\n",
    "mu_io = cvx.Variable((10,1))\n",
    "# sigma_bar = cvx.Variable((10,10))\n",
    "t = cvx.Variable((1,1))\n",
    "u = cvx.Variable((11,1))\n",
    "rf = rf\n",
    "Omega = Omega \n",
    "x_mkt = np.array(mkt).reshape(-1,1)\n",
    "# x = cp.Variable((10,1))\n",
    "e = e.reshape(-1,1)\n",
    "I = np.identity(11)\n",
    "q = q.reshape(-1,1)\n",
    "\n",
    "\n",
    "tmp = 1.25*2*np.array(Cov).dot(np.array(x_mkt).reshape(-1,1))\n",
    "# sigma_bar.dot(x_mkt)\n",
    "Cons = [\n",
    "    u - np.linalg.inv(np.sqrt(Omega)) @ cvx.vstack([mu_io - rf*e - tmp, \\\n",
    "                                                          P@mu_io - q]) == 0,\n",
    "    cvx.vstack([ cvx.hstack([t, u.T]), cvx.hstack([u, I]) ]) >> 0,\n",
    "#     sigma_bar >= 0\n",
    "]\n",
    "objective = cvx.Minimize(t)\n",
    "prob = cvx.Problem(objective, Cons)\n",
    "prob.solve(solver='CVXOPT')  # Returns the optimal value.\n",
    "print(\"status:\", prob.status)\n",
    "print(\"optimal value\", prob.value)\n",
    "# print(\"optimal var\", x.value, y.value)"
   ]
  },
  {
   "cell_type": "code",
   "execution_count": 59,
   "metadata": {},
   "outputs": [
    {
     "data": {
      "text/plain": [
       "array([[0.09332965],\n",
       "       [0.08101256],\n",
       "       [0.08125673],\n",
       "       [0.07722691],\n",
       "       [0.05326697],\n",
       "       [0.07230594],\n",
       "       [0.08747053],\n",
       "       [0.09101139],\n",
       "       [0.07035101],\n",
       "       [0.05394328]])"
      ]
     },
     "execution_count": 59,
     "metadata": {},
     "output_type": "execute_result"
    }
   ],
   "source": [
    "mu_io.value"
   ]
  },
  {
   "cell_type": "code",
   "execution_count": 60,
   "metadata": {},
   "outputs": [
    {
     "data": {
      "text/html": [
       "<div>\n",
       "<style scoped>\n",
       "    .dataframe tbody tr th:only-of-type {\n",
       "        vertical-align: middle;\n",
       "    }\n",
       "\n",
       "    .dataframe tbody tr th {\n",
       "        vertical-align: top;\n",
       "    }\n",
       "\n",
       "    .dataframe thead th {\n",
       "        text-align: right;\n",
       "    }\n",
       "</style>\n",
       "<table border=\"1\" class=\"dataframe\">\n",
       "  <thead>\n",
       "    <tr style=\"text-align: right;\">\n",
       "      <th></th>\n",
       "      <th>USA IMI/ENERGY</th>\n",
       "      <th>USA IMI/MATERIALS</th>\n",
       "      <th>USA IMI/INDUSTRIALS</th>\n",
       "      <th>USA IMI/CONSUMER DISCR</th>\n",
       "      <th>USA IMI/CONSUMER STAPLES</th>\n",
       "      <th>USA IMI/HEALTH CARE</th>\n",
       "      <th>USA IMI/FINANCIALS</th>\n",
       "      <th>USA IMI/INFORMATION TECH</th>\n",
       "      <th>USA IMI/COMM SVC 25-50</th>\n",
       "      <th>USA IMI/UTILITIES</th>\n",
       "    </tr>\n",
       "  </thead>\n",
       "  <tbody>\n",
       "    <tr>\n",
       "      <th>USA IMI/ENERGY</th>\n",
       "      <td>0.080257</td>\n",
       "      <td>0.045583</td>\n",
       "      <td>0.042542</td>\n",
       "      <td>0.035717</td>\n",
       "      <td>0.021868</td>\n",
       "      <td>0.030826</td>\n",
       "      <td>0.045206</td>\n",
       "      <td>0.039644</td>\n",
       "      <td>0.032914</td>\n",
       "      <td>0.023122</td>\n",
       "    </tr>\n",
       "    <tr>\n",
       "      <th>USA IMI/MATERIALS</th>\n",
       "      <td>0.045583</td>\n",
       "      <td>0.041832</td>\n",
       "      <td>0.036623</td>\n",
       "      <td>0.031513</td>\n",
       "      <td>0.021005</td>\n",
       "      <td>0.028252</td>\n",
       "      <td>0.038063</td>\n",
       "      <td>0.035657</td>\n",
       "      <td>0.027634</td>\n",
       "      <td>0.021541</td>\n",
       "    </tr>\n",
       "    <tr>\n",
       "      <th>USA IMI/INDUSTRIALS</th>\n",
       "      <td>0.042542</td>\n",
       "      <td>0.036623</td>\n",
       "      <td>0.038260</td>\n",
       "      <td>0.031792</td>\n",
       "      <td>0.021159</td>\n",
       "      <td>0.028300</td>\n",
       "      <td>0.038283</td>\n",
       "      <td>0.035953</td>\n",
       "      <td>0.027830</td>\n",
       "      <td>0.021473</td>\n",
       "    </tr>\n",
       "    <tr>\n",
       "      <th>USA IMI/CONSUMER DISCR</th>\n",
       "      <td>0.035717</td>\n",
       "      <td>0.031513</td>\n",
       "      <td>0.031792</td>\n",
       "      <td>0.034364</td>\n",
       "      <td>0.019759</td>\n",
       "      <td>0.027137</td>\n",
       "      <td>0.033659</td>\n",
       "      <td>0.035959</td>\n",
       "      <td>0.027575</td>\n",
       "      <td>0.018510</td>\n",
       "    </tr>\n",
       "    <tr>\n",
       "      <th>USA IMI/CONSUMER STAPLES</th>\n",
       "      <td>0.021868</td>\n",
       "      <td>0.021005</td>\n",
       "      <td>0.021159</td>\n",
       "      <td>0.019759</td>\n",
       "      <td>0.022224</td>\n",
       "      <td>0.019600</td>\n",
       "      <td>0.022470</td>\n",
       "      <td>0.022912</td>\n",
       "      <td>0.019524</td>\n",
       "      <td>0.021511</td>\n",
       "    </tr>\n",
       "    <tr>\n",
       "      <th>USA IMI/HEALTH CARE</th>\n",
       "      <td>0.030826</td>\n",
       "      <td>0.028252</td>\n",
       "      <td>0.028300</td>\n",
       "      <td>0.027137</td>\n",
       "      <td>0.019600</td>\n",
       "      <td>0.033272</td>\n",
       "      <td>0.030439</td>\n",
       "      <td>0.032272</td>\n",
       "      <td>0.024070</td>\n",
       "      <td>0.019581</td>\n",
       "    </tr>\n",
       "    <tr>\n",
       "      <th>USA IMI/FINANCIALS</th>\n",
       "      <td>0.045206</td>\n",
       "      <td>0.038063</td>\n",
       "      <td>0.038283</td>\n",
       "      <td>0.033659</td>\n",
       "      <td>0.022470</td>\n",
       "      <td>0.030439</td>\n",
       "      <td>0.047273</td>\n",
       "      <td>0.037622</td>\n",
       "      <td>0.029842</td>\n",
       "      <td>0.022797</td>\n",
       "    </tr>\n",
       "    <tr>\n",
       "      <th>USA IMI/INFORMATION TECH</th>\n",
       "      <td>0.039644</td>\n",
       "      <td>0.035657</td>\n",
       "      <td>0.035953</td>\n",
       "      <td>0.035959</td>\n",
       "      <td>0.022912</td>\n",
       "      <td>0.032272</td>\n",
       "      <td>0.037622</td>\n",
       "      <td>0.046690</td>\n",
       "      <td>0.030825</td>\n",
       "      <td>0.021838</td>\n",
       "    </tr>\n",
       "    <tr>\n",
       "      <th>USA IMI/COMM SVC 25-50</th>\n",
       "      <td>0.032914</td>\n",
       "      <td>0.027634</td>\n",
       "      <td>0.027830</td>\n",
       "      <td>0.027575</td>\n",
       "      <td>0.019524</td>\n",
       "      <td>0.024070</td>\n",
       "      <td>0.029842</td>\n",
       "      <td>0.030825</td>\n",
       "      <td>0.034891</td>\n",
       "      <td>0.020013</td>\n",
       "    </tr>\n",
       "    <tr>\n",
       "      <th>USA IMI/UTILITIES</th>\n",
       "      <td>0.023122</td>\n",
       "      <td>0.021541</td>\n",
       "      <td>0.021473</td>\n",
       "      <td>0.018510</td>\n",
       "      <td>0.021511</td>\n",
       "      <td>0.019581</td>\n",
       "      <td>0.022797</td>\n",
       "      <td>0.021838</td>\n",
       "      <td>0.020013</td>\n",
       "      <td>0.037173</td>\n",
       "    </tr>\n",
       "  </tbody>\n",
       "</table>\n",
       "</div>"
      ],
      "text/plain": [
       "                          USA IMI/ENERGY  USA IMI/MATERIALS  \\\n",
       "USA IMI/ENERGY                  0.080257           0.045583   \n",
       "USA IMI/MATERIALS               0.045583           0.041832   \n",
       "USA IMI/INDUSTRIALS             0.042542           0.036623   \n",
       "USA IMI/CONSUMER DISCR          0.035717           0.031513   \n",
       "USA IMI/CONSUMER STAPLES        0.021868           0.021005   \n",
       "USA IMI/HEALTH CARE             0.030826           0.028252   \n",
       "USA IMI/FINANCIALS              0.045206           0.038063   \n",
       "USA IMI/INFORMATION TECH        0.039644           0.035657   \n",
       "USA IMI/COMM SVC 25-50          0.032914           0.027634   \n",
       "USA IMI/UTILITIES               0.023122           0.021541   \n",
       "\n",
       "                          USA IMI/INDUSTRIALS  USA IMI/CONSUMER DISCR  \\\n",
       "USA IMI/ENERGY                       0.042542                0.035717   \n",
       "USA IMI/MATERIALS                    0.036623                0.031513   \n",
       "USA IMI/INDUSTRIALS                  0.038260                0.031792   \n",
       "USA IMI/CONSUMER DISCR               0.031792                0.034364   \n",
       "USA IMI/CONSUMER STAPLES             0.021159                0.019759   \n",
       "USA IMI/HEALTH CARE                  0.028300                0.027137   \n",
       "USA IMI/FINANCIALS                   0.038283                0.033659   \n",
       "USA IMI/INFORMATION TECH             0.035953                0.035959   \n",
       "USA IMI/COMM SVC 25-50               0.027830                0.027575   \n",
       "USA IMI/UTILITIES                    0.021473                0.018510   \n",
       "\n",
       "                          USA IMI/CONSUMER STAPLES  USA IMI/HEALTH CARE  \\\n",
       "USA IMI/ENERGY                            0.021868             0.030826   \n",
       "USA IMI/MATERIALS                         0.021005             0.028252   \n",
       "USA IMI/INDUSTRIALS                       0.021159             0.028300   \n",
       "USA IMI/CONSUMER DISCR                    0.019759             0.027137   \n",
       "USA IMI/CONSUMER STAPLES                  0.022224             0.019600   \n",
       "USA IMI/HEALTH CARE                       0.019600             0.033272   \n",
       "USA IMI/FINANCIALS                        0.022470             0.030439   \n",
       "USA IMI/INFORMATION TECH                  0.022912             0.032272   \n",
       "USA IMI/COMM SVC 25-50                    0.019524             0.024070   \n",
       "USA IMI/UTILITIES                         0.021511             0.019581   \n",
       "\n",
       "                          USA IMI/FINANCIALS  USA IMI/INFORMATION TECH  \\\n",
       "USA IMI/ENERGY                      0.045206                  0.039644   \n",
       "USA IMI/MATERIALS                   0.038063                  0.035657   \n",
       "USA IMI/INDUSTRIALS                 0.038283                  0.035953   \n",
       "USA IMI/CONSUMER DISCR              0.033659                  0.035959   \n",
       "USA IMI/CONSUMER STAPLES            0.022470                  0.022912   \n",
       "USA IMI/HEALTH CARE                 0.030439                  0.032272   \n",
       "USA IMI/FINANCIALS                  0.047273                  0.037622   \n",
       "USA IMI/INFORMATION TECH            0.037622                  0.046690   \n",
       "USA IMI/COMM SVC 25-50              0.029842                  0.030825   \n",
       "USA IMI/UTILITIES                   0.022797                  0.021838   \n",
       "\n",
       "                          USA IMI/COMM SVC 25-50  USA IMI/UTILITIES  \n",
       "USA IMI/ENERGY                          0.032914           0.023122  \n",
       "USA IMI/MATERIALS                       0.027634           0.021541  \n",
       "USA IMI/INDUSTRIALS                     0.027830           0.021473  \n",
       "USA IMI/CONSUMER DISCR                  0.027575           0.018510  \n",
       "USA IMI/CONSUMER STAPLES                0.019524           0.021511  \n",
       "USA IMI/HEALTH CARE                     0.024070           0.019581  \n",
       "USA IMI/FINANCIALS                      0.029842           0.022797  \n",
       "USA IMI/INFORMATION TECH                0.030825           0.021838  \n",
       "USA IMI/COMM SVC 25-50                  0.034891           0.020013  \n",
       "USA IMI/UTILITIES                       0.020013           0.037173  "
      ]
     },
     "execution_count": 60,
     "metadata": {},
     "output_type": "execute_result"
    }
   ],
   "source": [
    "Cov"
   ]
  },
  {
   "cell_type": "code",
   "execution_count": 61,
   "metadata": {},
   "outputs": [
    {
     "data": {
      "text/plain": [
       "array([[0.09332965],\n",
       "       [0.08101256],\n",
       "       [0.08125673],\n",
       "       [0.07722691],\n",
       "       [0.05326697],\n",
       "       [0.07230594],\n",
       "       [0.08747053],\n",
       "       [0.09101139],\n",
       "       [0.07035101],\n",
       "       [0.05394328]])"
      ]
     },
     "execution_count": 61,
     "metadata": {},
     "output_type": "execute_result"
    }
   ],
   "source": [
    "mu_io.value"
   ]
  },
  {
   "cell_type": "code",
   "execution_count": 62,
   "metadata": {},
   "outputs": [
    {
     "data": {
      "text/plain": [
       "['CVXOPT', 'ECOS', 'ECOS_BB', 'GLPK', 'GLPK_MI', 'OSQP', 'SCS']"
      ]
     },
     "execution_count": 62,
     "metadata": {},
     "output_type": "execute_result"
    }
   ],
   "source": [
    "from cvxpy.reductions.solvers.defines import INSTALLED_SOLVERS\n",
    "INSTALLED_SOLVERS"
   ]
  },
  {
   "cell_type": "code",
   "execution_count": 63,
   "metadata": {},
   "outputs": [
    {
     "data": {
      "text/plain": [
       "array([[-0.00720707]])"
      ]
     },
     "execution_count": 63,
     "metadata": {},
     "output_type": "execute_result"
    }
   ],
   "source": [
    "q"
   ]
  },
  {
   "cell_type": "code",
   "execution_count": 64,
   "metadata": {},
   "outputs": [],
   "source": [
    "np.savetxt('Omega.csv', Omega, delimiter = ',')\n",
    "np.savetxt('xmkt.csv', x_mkt, delimiter = ',')\n",
    "np.savetxt('Cov.csv', Cov, delimiter = ',')"
   ]
  },
  {
   "cell_type": "code",
   "execution_count": 65,
   "metadata": {},
   "outputs": [
    {
     "name": "stdout",
     "output_type": "stream",
     "text": [
      "status: optimal\n",
      "optimal value -3.7006736635915204e-10\n"
     ]
    }
   ],
   "source": [
    "##### general case with sigma as vriable.\n",
    "import cvxpy as cvx\n",
    "mu_io = cvx.Variable((10,1))\n",
    "sigma_bar = cvx.Variable((10,10))\n",
    "t = cvx.Variable((1,1))\n",
    "u = cvx.Variable((11,1))\n",
    "rf = rf\n",
    "Omega = Omega \n",
    "x_mkt = np.array(mkt).reshape(-1,1)\n",
    "e = e.reshape(-1,1)\n",
    "I = np.identity(11)\n",
    "q = q.reshape(-1,1)\n",
    "\n",
    "# sigma_bar.dot(x_mkt)\n",
    "Cons = [\n",
    "    u - np.linalg.inv(np.sqrt(Omega)) @ cvx.vstack([mu_io - rf*e - sigma_bar@x_mkt, \\\n",
    "                                                          P @ mu_io - q]) == 0,\n",
    "    cvx.vstack([ cvx.hstack([t, u.T]), cvx.hstack([u, I])]) >> 0,\n",
    "    sigma_bar >= 0\n",
    "]\n",
    "\n",
    "objective = cvx.Minimize(t)\n",
    "prob = cvx.Problem(objective, Cons)\n",
    "prob.solve(solver='CVXOPT')  # Returns the optimal value.\n",
    "print(\"status:\", prob.status)\n",
    "print(\"optimal value\", prob.value)\n",
    "# print(\"optimal var\", x.value, y.value)"
   ]
  },
  {
   "cell_type": "code",
   "execution_count": 66,
   "metadata": {},
   "outputs": [
    {
     "data": {
      "text/plain": [
       "array([[-0.00720707]])"
      ]
     },
     "execution_count": 66,
     "metadata": {},
     "output_type": "execute_result"
    }
   ],
   "source": [
    "q"
   ]
  },
  {
   "cell_type": "code",
   "execution_count": 67,
   "metadata": {},
   "outputs": [
    {
     "name": "stdout",
     "output_type": "stream",
     "text": [
      "['CVXOPT', 'ECOS', 'ECOS_BB', 'GLPK', 'GLPK_MI', 'OSQP', 'SCS']\n"
     ]
    }
   ],
   "source": [
    "print(cvx.installed_solvers())"
   ]
  },
  {
   "cell_type": "code",
   "execution_count": 68,
   "metadata": {},
   "outputs": [
    {
     "data": {
      "text/plain": [
       "array([[0.55334451],\n",
       "       [0.55183941],\n",
       "       [0.55183941],\n",
       "       [0.55485494],\n",
       "       [0.54587212],\n",
       "       [0.5533445 ],\n",
       "       [0.54735602],\n",
       "       [0.55183941],\n",
       "       [0.55789192],\n",
       "       [0.55033964]])"
      ]
     },
     "execution_count": 68,
     "metadata": {},
     "output_type": "execute_result"
    }
   ],
   "source": [
    "mu_io.value"
   ]
  },
  {
   "cell_type": "code",
   "execution_count": 69,
   "metadata": {},
   "outputs": [
    {
     "data": {
      "text/plain": [
       "array([[-0.00720707]])"
      ]
     },
     "execution_count": 69,
     "metadata": {},
     "output_type": "execute_result"
    }
   ],
   "source": [
    "q"
   ]
  },
  {
   "cell_type": "code",
   "execution_count": 70,
   "metadata": {},
   "outputs": [
    {
     "data": {
      "text/html": [
       "<div>\n",
       "<style scoped>\n",
       "    .dataframe tbody tr th:only-of-type {\n",
       "        vertical-align: middle;\n",
       "    }\n",
       "\n",
       "    .dataframe tbody tr th {\n",
       "        vertical-align: top;\n",
       "    }\n",
       "\n",
       "    .dataframe thead th {\n",
       "        text-align: right;\n",
       "    }\n",
       "</style>\n",
       "<table border=\"1\" class=\"dataframe\">\n",
       "  <thead>\n",
       "    <tr style=\"text-align: right;\">\n",
       "      <th></th>\n",
       "      <th>USA IMI/ENERGY</th>\n",
       "      <th>USA IMI/MATERIALS</th>\n",
       "      <th>USA IMI/INDUSTRIALS</th>\n",
       "      <th>USA IMI/CONSUMER DISCR</th>\n",
       "      <th>USA IMI/CONSUMER STAPLES</th>\n",
       "      <th>USA IMI/HEALTH CARE</th>\n",
       "      <th>USA IMI/FINANCIALS</th>\n",
       "      <th>USA IMI/INFORMATION TECH</th>\n",
       "      <th>USA IMI/COMM SVC 25-50</th>\n",
       "      <th>USA IMI/UTILITIES</th>\n",
       "    </tr>\n",
       "  </thead>\n",
       "  <tbody>\n",
       "    <tr>\n",
       "      <th>USA IMI/ENERGY</th>\n",
       "      <td>0.200642</td>\n",
       "      <td>0.113957</td>\n",
       "      <td>0.106354</td>\n",
       "      <td>0.089293</td>\n",
       "      <td>0.054669</td>\n",
       "      <td>0.077064</td>\n",
       "      <td>0.113014</td>\n",
       "      <td>0.099111</td>\n",
       "      <td>0.082286</td>\n",
       "      <td>0.057806</td>\n",
       "    </tr>\n",
       "    <tr>\n",
       "      <th>USA IMI/MATERIALS</th>\n",
       "      <td>0.113957</td>\n",
       "      <td>0.104580</td>\n",
       "      <td>0.091558</td>\n",
       "      <td>0.078783</td>\n",
       "      <td>0.052513</td>\n",
       "      <td>0.070629</td>\n",
       "      <td>0.095157</td>\n",
       "      <td>0.089143</td>\n",
       "      <td>0.069085</td>\n",
       "      <td>0.053852</td>\n",
       "    </tr>\n",
       "    <tr>\n",
       "      <th>USA IMI/INDUSTRIALS</th>\n",
       "      <td>0.106354</td>\n",
       "      <td>0.091558</td>\n",
       "      <td>0.095650</td>\n",
       "      <td>0.079480</td>\n",
       "      <td>0.052897</td>\n",
       "      <td>0.070750</td>\n",
       "      <td>0.095706</td>\n",
       "      <td>0.089883</td>\n",
       "      <td>0.069575</td>\n",
       "      <td>0.053682</td>\n",
       "    </tr>\n",
       "    <tr>\n",
       "      <th>USA IMI/CONSUMER DISCR</th>\n",
       "      <td>0.089293</td>\n",
       "      <td>0.078783</td>\n",
       "      <td>0.079480</td>\n",
       "      <td>0.085910</td>\n",
       "      <td>0.049398</td>\n",
       "      <td>0.067844</td>\n",
       "      <td>0.084148</td>\n",
       "      <td>0.089898</td>\n",
       "      <td>0.068938</td>\n",
       "      <td>0.046274</td>\n",
       "    </tr>\n",
       "    <tr>\n",
       "      <th>USA IMI/CONSUMER STAPLES</th>\n",
       "      <td>0.054669</td>\n",
       "      <td>0.052513</td>\n",
       "      <td>0.052897</td>\n",
       "      <td>0.049398</td>\n",
       "      <td>0.055559</td>\n",
       "      <td>0.049001</td>\n",
       "      <td>0.056174</td>\n",
       "      <td>0.057281</td>\n",
       "      <td>0.048811</td>\n",
       "      <td>0.053777</td>\n",
       "    </tr>\n",
       "    <tr>\n",
       "      <th>USA IMI/HEALTH CARE</th>\n",
       "      <td>0.077064</td>\n",
       "      <td>0.070629</td>\n",
       "      <td>0.070750</td>\n",
       "      <td>0.067844</td>\n",
       "      <td>0.049001</td>\n",
       "      <td>0.083181</td>\n",
       "      <td>0.076097</td>\n",
       "      <td>0.080680</td>\n",
       "      <td>0.060176</td>\n",
       "      <td>0.048954</td>\n",
       "    </tr>\n",
       "    <tr>\n",
       "      <th>USA IMI/FINANCIALS</th>\n",
       "      <td>0.113014</td>\n",
       "      <td>0.095157</td>\n",
       "      <td>0.095706</td>\n",
       "      <td>0.084148</td>\n",
       "      <td>0.056174</td>\n",
       "      <td>0.076097</td>\n",
       "      <td>0.118183</td>\n",
       "      <td>0.094055</td>\n",
       "      <td>0.074605</td>\n",
       "      <td>0.056992</td>\n",
       "    </tr>\n",
       "    <tr>\n",
       "      <th>USA IMI/INFORMATION TECH</th>\n",
       "      <td>0.099111</td>\n",
       "      <td>0.089143</td>\n",
       "      <td>0.089883</td>\n",
       "      <td>0.089898</td>\n",
       "      <td>0.057281</td>\n",
       "      <td>0.080680</td>\n",
       "      <td>0.094055</td>\n",
       "      <td>0.116725</td>\n",
       "      <td>0.077063</td>\n",
       "      <td>0.054595</td>\n",
       "    </tr>\n",
       "    <tr>\n",
       "      <th>USA IMI/COMM SVC 25-50</th>\n",
       "      <td>0.082286</td>\n",
       "      <td>0.069085</td>\n",
       "      <td>0.069575</td>\n",
       "      <td>0.068938</td>\n",
       "      <td>0.048811</td>\n",
       "      <td>0.060176</td>\n",
       "      <td>0.074605</td>\n",
       "      <td>0.077063</td>\n",
       "      <td>0.087228</td>\n",
       "      <td>0.050033</td>\n",
       "    </tr>\n",
       "    <tr>\n",
       "      <th>USA IMI/UTILITIES</th>\n",
       "      <td>0.057806</td>\n",
       "      <td>0.053852</td>\n",
       "      <td>0.053682</td>\n",
       "      <td>0.046274</td>\n",
       "      <td>0.053777</td>\n",
       "      <td>0.048954</td>\n",
       "      <td>0.056992</td>\n",
       "      <td>0.054595</td>\n",
       "      <td>0.050033</td>\n",
       "      <td>0.092932</td>\n",
       "    </tr>\n",
       "  </tbody>\n",
       "</table>\n",
       "</div>"
      ],
      "text/plain": [
       "                          USA IMI/ENERGY  USA IMI/MATERIALS  \\\n",
       "USA IMI/ENERGY                  0.200642           0.113957   \n",
       "USA IMI/MATERIALS               0.113957           0.104580   \n",
       "USA IMI/INDUSTRIALS             0.106354           0.091558   \n",
       "USA IMI/CONSUMER DISCR          0.089293           0.078783   \n",
       "USA IMI/CONSUMER STAPLES        0.054669           0.052513   \n",
       "USA IMI/HEALTH CARE             0.077064           0.070629   \n",
       "USA IMI/FINANCIALS              0.113014           0.095157   \n",
       "USA IMI/INFORMATION TECH        0.099111           0.089143   \n",
       "USA IMI/COMM SVC 25-50          0.082286           0.069085   \n",
       "USA IMI/UTILITIES               0.057806           0.053852   \n",
       "\n",
       "                          USA IMI/INDUSTRIALS  USA IMI/CONSUMER DISCR  \\\n",
       "USA IMI/ENERGY                       0.106354                0.089293   \n",
       "USA IMI/MATERIALS                    0.091558                0.078783   \n",
       "USA IMI/INDUSTRIALS                  0.095650                0.079480   \n",
       "USA IMI/CONSUMER DISCR               0.079480                0.085910   \n",
       "USA IMI/CONSUMER STAPLES             0.052897                0.049398   \n",
       "USA IMI/HEALTH CARE                  0.070750                0.067844   \n",
       "USA IMI/FINANCIALS                   0.095706                0.084148   \n",
       "USA IMI/INFORMATION TECH             0.089883                0.089898   \n",
       "USA IMI/COMM SVC 25-50               0.069575                0.068938   \n",
       "USA IMI/UTILITIES                    0.053682                0.046274   \n",
       "\n",
       "                          USA IMI/CONSUMER STAPLES  USA IMI/HEALTH CARE  \\\n",
       "USA IMI/ENERGY                            0.054669             0.077064   \n",
       "USA IMI/MATERIALS                         0.052513             0.070629   \n",
       "USA IMI/INDUSTRIALS                       0.052897             0.070750   \n",
       "USA IMI/CONSUMER DISCR                    0.049398             0.067844   \n",
       "USA IMI/CONSUMER STAPLES                  0.055559             0.049001   \n",
       "USA IMI/HEALTH CARE                       0.049001             0.083181   \n",
       "USA IMI/FINANCIALS                        0.056174             0.076097   \n",
       "USA IMI/INFORMATION TECH                  0.057281             0.080680   \n",
       "USA IMI/COMM SVC 25-50                    0.048811             0.060176   \n",
       "USA IMI/UTILITIES                         0.053777             0.048954   \n",
       "\n",
       "                          USA IMI/FINANCIALS  USA IMI/INFORMATION TECH  \\\n",
       "USA IMI/ENERGY                      0.113014                  0.099111   \n",
       "USA IMI/MATERIALS                   0.095157                  0.089143   \n",
       "USA IMI/INDUSTRIALS                 0.095706                  0.089883   \n",
       "USA IMI/CONSUMER DISCR              0.084148                  0.089898   \n",
       "USA IMI/CONSUMER STAPLES            0.056174                  0.057281   \n",
       "USA IMI/HEALTH CARE                 0.076097                  0.080680   \n",
       "USA IMI/FINANCIALS                  0.118183                  0.094055   \n",
       "USA IMI/INFORMATION TECH            0.094055                  0.116725   \n",
       "USA IMI/COMM SVC 25-50              0.074605                  0.077063   \n",
       "USA IMI/UTILITIES                   0.056992                  0.054595   \n",
       "\n",
       "                          USA IMI/COMM SVC 25-50  USA IMI/UTILITIES  \n",
       "USA IMI/ENERGY                          0.082286           0.057806  \n",
       "USA IMI/MATERIALS                       0.069085           0.053852  \n",
       "USA IMI/INDUSTRIALS                     0.069575           0.053682  \n",
       "USA IMI/CONSUMER DISCR                  0.068938           0.046274  \n",
       "USA IMI/CONSUMER STAPLES                0.048811           0.053777  \n",
       "USA IMI/HEALTH CARE                     0.060176           0.048954  \n",
       "USA IMI/FINANCIALS                      0.074605           0.056992  \n",
       "USA IMI/INFORMATION TECH                0.077063           0.054595  \n",
       "USA IMI/COMM SVC 25-50                  0.087228           0.050033  \n",
       "USA IMI/UTILITIES                       0.050033           0.092932  "
      ]
     },
     "execution_count": 70,
     "metadata": {},
     "output_type": "execute_result"
    }
   ],
   "source": [
    "C_new"
   ]
  },
  {
   "cell_type": "code",
   "execution_count": 71,
   "metadata": {},
   "outputs": [],
   "source": [
    "alpha=0.87\n",
    "ee=10**(-8)\n",
    "value,vector=np.linalg.eig(C_new)"
   ]
  },
  {
   "cell_type": "code",
   "execution_count": 72,
   "metadata": {},
   "outputs": [
    {
     "data": {
      "text/plain": [
       "array([0.78065061, 0.08849698, 0.0574439 , 0.02905811, 0.02376642,\n",
       "       0.01815335, 0.01488115, 0.01233044, 0.00901569, 0.0067943 ])"
      ]
     },
     "execution_count": 72,
     "metadata": {},
     "output_type": "execute_result"
    }
   ],
   "source": [
    "value"
   ]
  },
  {
   "cell_type": "code",
   "execution_count": 73,
   "metadata": {
    "scrolled": true
   },
   "outputs": [
    {
     "data": {
      "text/plain": [
       "array([[ 4.23342034e-01,  7.49825946e-01, -3.78523794e-01,\n",
       "        -2.00166327e-01,  2.30832026e-01,  4.31617556e-02,\n",
       "         1.20107827e-01,  7.39012829e-02,  1.27119951e-02,\n",
       "        -7.11143077e-04],\n",
       "       [ 3.40417833e-01,  9.70739604e-02,  3.44079703e-02,\n",
       "         3.11682830e-01, -1.56929367e-01, -2.20068037e-01,\n",
       "        -7.04188312e-01, -1.32054932e-01, -1.35564943e-01,\n",
       "        -4.14255894e-01],\n",
       "       [ 3.33494265e-01,  1.54507724e-02,  9.44655338e-02,\n",
       "         2.48381702e-01, -1.80412619e-01, -1.12932233e-01,\n",
       "        -1.66058971e-01, -1.97138283e-02,  9.74311869e-02,\n",
       "         8.57418327e-01],\n",
       "       [ 3.04645481e-01, -9.49513265e-02,  2.77782404e-01,\n",
       "        -1.07124779e-01,  2.69278878e-02, -2.51455784e-01,\n",
       "         1.26550526e-01,  6.40246115e-02,  8.25046625e-01,\n",
       "        -2.11578241e-01],\n",
       "       [ 2.11237462e-01, -3.07113295e-01, -1.94469001e-01,\n",
       "        -2.77729872e-02,  4.09453554e-02,  5.35627143e-02,\n",
       "        -1.22789316e-01,  8.90850031e-01, -9.29928900e-02,\n",
       "        -2.42171220e-02],\n",
       "       [ 2.78851103e-01, -2.06675503e-01,  1.81798349e-01,\n",
       "         8.53299879e-02,  5.45111290e-01,  6.91157670e-01,\n",
       "        -1.69789601e-01, -1.78528334e-01,  5.90926453e-02,\n",
       "         1.25456510e-02],\n",
       "       [ 3.58249570e-01,  1.62322321e-02,  1.16711168e-01,\n",
       "         4.21440597e-01, -4.84709147e-01,  3.10284000e-01,\n",
       "         5.30602229e-01,  1.52480043e-02, -1.42659703e-01,\n",
       "        -2.16374561e-01],\n",
       "       [ 3.49041755e-01, -1.69129927e-01,  3.61249538e-01,\n",
       "        -1.19698031e-01,  3.86678817e-01, -4.81519611e-01,\n",
       "         2.86725826e-01, -6.63108152e-02, -4.86449322e-01,\n",
       "        -1.06143308e-02],\n",
       "       [ 2.80388767e-01, -1.58866793e-01,  7.17362839e-02,\n",
       "        -7.64633315e-01, -4.50190777e-01,  2.05175056e-01,\n",
       "        -1.44912381e-01, -1.53801326e-01, -1.28051560e-01,\n",
       "         2.26515667e-02],\n",
       "       [ 2.22934883e-01, -4.77433557e-01, -7.41155433e-01,\n",
       "         7.04387631e-02,  5.34591969e-02, -1.51398255e-01,\n",
       "         1.32085449e-01, -3.44734233e-01,  7.57906879e-02,\n",
       "        -1.65057211e-02]])"
      ]
     },
     "execution_count": 73,
     "metadata": {},
     "output_type": "execute_result"
    }
   ],
   "source": [
    "vector"
   ]
  },
  {
   "cell_type": "code",
   "execution_count": 74,
   "metadata": {},
   "outputs": [
    {
     "data": {
      "text/plain": [
       "array([0.42334203, 0.34041783, 0.33349426, 0.30464548, 0.21123746,\n",
       "       0.2788511 , 0.35824957, 0.34904175, 0.28038877, 0.22293488])"
      ]
     },
     "execution_count": 74,
     "metadata": {},
     "output_type": "execute_result"
    }
   ],
   "source": [
    "vector[:,0]"
   ]
  },
  {
   "cell_type": "code",
   "execution_count": 75,
   "metadata": {},
   "outputs": [
    {
     "data": {
      "text/plain": [
       "array([ 4.23342034e-01,  7.49825946e-01, -3.78523794e-01, -2.00166327e-01,\n",
       "        2.30832026e-01,  4.31617556e-02,  1.20107827e-01,  7.39012829e-02,\n",
       "        1.27119951e-02, -7.11143077e-04])"
      ]
     },
     "execution_count": 75,
     "metadata": {},
     "output_type": "execute_result"
    }
   ],
   "source": [
    "vector[0]"
   ]
  },
  {
   "cell_type": "code",
   "execution_count": 76,
   "metadata": {},
   "outputs": [
    {
     "name": "stdout",
     "output_type": "stream",
     "text": [
      "['CVXOPT', 'ECOS', 'ECOS_BB', 'GLPK', 'GLPK_MI', 'OSQP', 'SCS']\n"
     ]
    }
   ],
   "source": [
    "print(cvx.installed_solvers())"
   ]
  },
  {
   "cell_type": "code",
   "execution_count": 77,
   "metadata": {},
   "outputs": [
    {
     "data": {
      "text/plain": [
       "array([0.78065061, 0.08849698, 0.0574439 ])"
      ]
     },
     "execution_count": 77,
     "metadata": {},
     "output_type": "execute_result"
    }
   ],
   "source": [
    "value[0:3]"
   ]
  },
  {
   "cell_type": "code",
   "execution_count": 78,
   "metadata": {},
   "outputs": [
    {
     "name": "stdout",
     "output_type": "stream",
     "text": [
      "status: optimal\n",
      "optimal value -2.653624949775139e-09\n"
     ]
    }
   ],
   "source": [
    "##### general case with sigma as vriable.\n",
    "alpha=0.87\n",
    "ee=10**(-8)\n",
    "value,vector=np.linalg.eig(C_new)\n",
    "\n",
    "\n",
    "import cvxpy as cvx\n",
    "mu_io = cvx.Variable((10,1))\n",
    "sigma_bar = cvx.Variable((10,10))\n",
    "t = cvx.Variable((1,1))\n",
    "u = cvx.Variable((11,1))\n",
    "rf = rf\n",
    "Omega = Omega \n",
    "x_mkt = np.array(mkt).reshape(-1,1)\n",
    "e = e.reshape(-1,1)\n",
    "I = np.identity(11)\n",
    "q = q.reshape(-1,1)\n",
    "\n",
    "# sigma_bar.dot(x_mkt)\n",
    "Cons = [\n",
    "    u - np.linalg.inv(np.sqrt(Omega)) @ cvx.vstack([mu_io - rf*e - sigma_bar@x_mkt, \\\n",
    "                                                          P @ mu_io - q]) == 0,\n",
    "    cvx.vstack([ cvx.hstack([t, u.T]), cvx.hstack([u, I])]) >> 0,\n",
    "    value[0:3].sum()>=alpha*cvx.trace(sigma_bar),\n",
    "    cvx.norm(-sigma_bar@vector[:,0]+value[0]*vector[:,0],p=2)<=ee,\n",
    "    cvx.norm(-sigma_bar@vector[:,1]+value[1]*vector[:,1],p=2)<=ee,\n",
    "    cvx.norm(-sigma_bar@vector[:,2]+value[2]*vector[:,2],p=2)<=ee,\n",
    "    sigma_bar >= 0\n",
    "]\n",
    "\n",
    "objective = cvx.Minimize(t)\n",
    "prob = cvx.Problem(objective, Cons)\n",
    "prob.solve(solver='CVXOPT')  # Returns the optimal value.\n",
    "print(\"status:\", prob.status)\n",
    "print(\"optimal value\", prob.value)\n",
    "# print(\"optimal var\", x.value, y.value)"
   ]
  },
  {
   "cell_type": "code",
   "execution_count": 79,
   "metadata": {},
   "outputs": [
    {
     "data": {
      "text/plain": [
       "array([[0.09215873],\n",
       "       [0.0815262 ],\n",
       "       [0.08094644],\n",
       "       [0.07666264],\n",
       "       [0.05229072],\n",
       "       [0.07053503],\n",
       "       [0.0869047 ],\n",
       "       [0.08840728],\n",
       "       [0.06973953],\n",
       "       [0.05302933]])"
      ]
     },
     "execution_count": 79,
     "metadata": {},
     "output_type": "execute_result"
    }
   ],
   "source": [
    "mu_io.value"
   ]
  },
  {
   "cell_type": "code",
   "execution_count": 80,
   "metadata": {},
   "outputs": [
    {
     "data": {
      "text/plain": [
       "array([[0.09332965],\n",
       "       [0.08101256],\n",
       "       [0.08125673],\n",
       "       [0.07722691],\n",
       "       [0.05326697],\n",
       "       [0.07230594],\n",
       "       [0.08747053],\n",
       "       [0.09101139],\n",
       "       [0.07035101],\n",
       "       [0.05394328]])"
      ]
     },
     "execution_count": 80,
     "metadata": {},
     "output_type": "execute_result"
    }
   ],
   "source": [
    "mu_BL"
   ]
  },
  {
   "cell_type": "code",
   "execution_count": 81,
   "metadata": {},
   "outputs": [
    {
     "data": {
      "text/plain": [
       "array([-0.12830049,  0.02621837,  0.04975006,  0.09773288,  0.07429758,\n",
       "        0.1041075 ,  0.05201741,  0.15796417,  0.06269929,  0.08915512])"
      ]
     },
     "execution_count": 81,
     "metadata": {},
     "output_type": "execute_result"
    }
   ],
   "source": [
    "mu"
   ]
  },
  {
   "cell_type": "code",
   "execution_count": 82,
   "metadata": {},
   "outputs": [
    {
     "data": {
      "text/plain": [
       "array([[0.2034564 , 0.11456716, 0.1044653 , 0.09921082, 0.07057769,\n",
       "        0.08381731, 0.10185931, 0.08677272, 0.0859328 , 0.04993839],\n",
       "       [0.12220862, 0.0887305 , 0.0863376 , 0.09087011, 0.06764997,\n",
       "        0.08020347, 0.08352381, 0.08106837, 0.07891862, 0.04632782],\n",
       "       [0.1124838 , 0.08764388, 0.08584002, 0.09048161, 0.06762621,\n",
       "        0.08025258, 0.08221149, 0.08098485, 0.078575  , 0.04611787],\n",
       "       [0.09111532, 0.08008433, 0.07925685, 0.08486253, 0.06118622,\n",
       "        0.07750949, 0.07682303, 0.08089977, 0.0737151 , 0.03918356],\n",
       "       [0.05549081, 0.05370543, 0.05262582, 0.05476512, 0.05916546,\n",
       "        0.05442328, 0.04980699, 0.04758912, 0.05517994, 0.05066369],\n",
       "       [0.076983  , 0.07246689, 0.0719397 , 0.07917752, 0.06260303,\n",
       "        0.07226192, 0.06924802, 0.07159794, 0.06999566, 0.04267795],\n",
       "       [0.11975576, 0.09480491, 0.09144409, 0.09747817, 0.07195384,\n",
       "        0.08552453, 0.09144742, 0.08635186, 0.08418518, 0.04911978],\n",
       "       [0.09908161, 0.09173958, 0.09092282, 0.102068  , 0.07089363,\n",
       "        0.08943818, 0.08839578, 0.09219842, 0.0851742 , 0.04593989],\n",
       "       [0.08353285, 0.07216636, 0.07141029, 0.07624837, 0.06360539,\n",
       "        0.07123119, 0.06871471, 0.06938277, 0.07039315, 0.04504295],\n",
       "       [0.06068176, 0.05331675, 0.05177248, 0.04990658, 0.07566703,\n",
       "        0.05359612, 0.04870017, 0.04345884, 0.05680757, 0.08187361]])"
      ]
     },
     "execution_count": 82,
     "metadata": {},
     "output_type": "execute_result"
    }
   ],
   "source": [
    "sigma_bar.value"
   ]
  },
  {
   "cell_type": "code",
   "execution_count": 83,
   "metadata": {},
   "outputs": [
    {
     "data": {
      "text/html": [
       "<div>\n",
       "<style scoped>\n",
       "    .dataframe tbody tr th:only-of-type {\n",
       "        vertical-align: middle;\n",
       "    }\n",
       "\n",
       "    .dataframe tbody tr th {\n",
       "        vertical-align: top;\n",
       "    }\n",
       "\n",
       "    .dataframe thead th {\n",
       "        text-align: right;\n",
       "    }\n",
       "</style>\n",
       "<table border=\"1\" class=\"dataframe\">\n",
       "  <thead>\n",
       "    <tr style=\"text-align: right;\">\n",
       "      <th></th>\n",
       "      <th>USA IMI/ENERGY</th>\n",
       "      <th>USA IMI/MATERIALS</th>\n",
       "      <th>USA IMI/INDUSTRIALS</th>\n",
       "      <th>USA IMI/CONSUMER DISCR</th>\n",
       "      <th>USA IMI/CONSUMER STAPLES</th>\n",
       "      <th>USA IMI/HEALTH CARE</th>\n",
       "      <th>USA IMI/FINANCIALS</th>\n",
       "      <th>USA IMI/INFORMATION TECH</th>\n",
       "      <th>USA IMI/COMM SVC 25-50</th>\n",
       "      <th>USA IMI/UTILITIES</th>\n",
       "    </tr>\n",
       "  </thead>\n",
       "  <tbody>\n",
       "    <tr>\n",
       "      <th>USA IMI/ENERGY</th>\n",
       "      <td>0.080257</td>\n",
       "      <td>0.045583</td>\n",
       "      <td>0.042542</td>\n",
       "      <td>0.035717</td>\n",
       "      <td>0.021868</td>\n",
       "      <td>0.030826</td>\n",
       "      <td>0.045206</td>\n",
       "      <td>0.039644</td>\n",
       "      <td>0.032914</td>\n",
       "      <td>0.023122</td>\n",
       "    </tr>\n",
       "    <tr>\n",
       "      <th>USA IMI/MATERIALS</th>\n",
       "      <td>0.045583</td>\n",
       "      <td>0.041832</td>\n",
       "      <td>0.036623</td>\n",
       "      <td>0.031513</td>\n",
       "      <td>0.021005</td>\n",
       "      <td>0.028252</td>\n",
       "      <td>0.038063</td>\n",
       "      <td>0.035657</td>\n",
       "      <td>0.027634</td>\n",
       "      <td>0.021541</td>\n",
       "    </tr>\n",
       "    <tr>\n",
       "      <th>USA IMI/INDUSTRIALS</th>\n",
       "      <td>0.042542</td>\n",
       "      <td>0.036623</td>\n",
       "      <td>0.038260</td>\n",
       "      <td>0.031792</td>\n",
       "      <td>0.021159</td>\n",
       "      <td>0.028300</td>\n",
       "      <td>0.038283</td>\n",
       "      <td>0.035953</td>\n",
       "      <td>0.027830</td>\n",
       "      <td>0.021473</td>\n",
       "    </tr>\n",
       "    <tr>\n",
       "      <th>USA IMI/CONSUMER DISCR</th>\n",
       "      <td>0.035717</td>\n",
       "      <td>0.031513</td>\n",
       "      <td>0.031792</td>\n",
       "      <td>0.034364</td>\n",
       "      <td>0.019759</td>\n",
       "      <td>0.027137</td>\n",
       "      <td>0.033659</td>\n",
       "      <td>0.035959</td>\n",
       "      <td>0.027575</td>\n",
       "      <td>0.018510</td>\n",
       "    </tr>\n",
       "    <tr>\n",
       "      <th>USA IMI/CONSUMER STAPLES</th>\n",
       "      <td>0.021868</td>\n",
       "      <td>0.021005</td>\n",
       "      <td>0.021159</td>\n",
       "      <td>0.019759</td>\n",
       "      <td>0.022224</td>\n",
       "      <td>0.019600</td>\n",
       "      <td>0.022470</td>\n",
       "      <td>0.022912</td>\n",
       "      <td>0.019524</td>\n",
       "      <td>0.021511</td>\n",
       "    </tr>\n",
       "    <tr>\n",
       "      <th>USA IMI/HEALTH CARE</th>\n",
       "      <td>0.030826</td>\n",
       "      <td>0.028252</td>\n",
       "      <td>0.028300</td>\n",
       "      <td>0.027137</td>\n",
       "      <td>0.019600</td>\n",
       "      <td>0.033272</td>\n",
       "      <td>0.030439</td>\n",
       "      <td>0.032272</td>\n",
       "      <td>0.024070</td>\n",
       "      <td>0.019581</td>\n",
       "    </tr>\n",
       "    <tr>\n",
       "      <th>USA IMI/FINANCIALS</th>\n",
       "      <td>0.045206</td>\n",
       "      <td>0.038063</td>\n",
       "      <td>0.038283</td>\n",
       "      <td>0.033659</td>\n",
       "      <td>0.022470</td>\n",
       "      <td>0.030439</td>\n",
       "      <td>0.047273</td>\n",
       "      <td>0.037622</td>\n",
       "      <td>0.029842</td>\n",
       "      <td>0.022797</td>\n",
       "    </tr>\n",
       "    <tr>\n",
       "      <th>USA IMI/INFORMATION TECH</th>\n",
       "      <td>0.039644</td>\n",
       "      <td>0.035657</td>\n",
       "      <td>0.035953</td>\n",
       "      <td>0.035959</td>\n",
       "      <td>0.022912</td>\n",
       "      <td>0.032272</td>\n",
       "      <td>0.037622</td>\n",
       "      <td>0.046690</td>\n",
       "      <td>0.030825</td>\n",
       "      <td>0.021838</td>\n",
       "    </tr>\n",
       "    <tr>\n",
       "      <th>USA IMI/COMM SVC 25-50</th>\n",
       "      <td>0.032914</td>\n",
       "      <td>0.027634</td>\n",
       "      <td>0.027830</td>\n",
       "      <td>0.027575</td>\n",
       "      <td>0.019524</td>\n",
       "      <td>0.024070</td>\n",
       "      <td>0.029842</td>\n",
       "      <td>0.030825</td>\n",
       "      <td>0.034891</td>\n",
       "      <td>0.020013</td>\n",
       "    </tr>\n",
       "    <tr>\n",
       "      <th>USA IMI/UTILITIES</th>\n",
       "      <td>0.023122</td>\n",
       "      <td>0.021541</td>\n",
       "      <td>0.021473</td>\n",
       "      <td>0.018510</td>\n",
       "      <td>0.021511</td>\n",
       "      <td>0.019581</td>\n",
       "      <td>0.022797</td>\n",
       "      <td>0.021838</td>\n",
       "      <td>0.020013</td>\n",
       "      <td>0.037173</td>\n",
       "    </tr>\n",
       "  </tbody>\n",
       "</table>\n",
       "</div>"
      ],
      "text/plain": [
       "                          USA IMI/ENERGY  USA IMI/MATERIALS  \\\n",
       "USA IMI/ENERGY                  0.080257           0.045583   \n",
       "USA IMI/MATERIALS               0.045583           0.041832   \n",
       "USA IMI/INDUSTRIALS             0.042542           0.036623   \n",
       "USA IMI/CONSUMER DISCR          0.035717           0.031513   \n",
       "USA IMI/CONSUMER STAPLES        0.021868           0.021005   \n",
       "USA IMI/HEALTH CARE             0.030826           0.028252   \n",
       "USA IMI/FINANCIALS              0.045206           0.038063   \n",
       "USA IMI/INFORMATION TECH        0.039644           0.035657   \n",
       "USA IMI/COMM SVC 25-50          0.032914           0.027634   \n",
       "USA IMI/UTILITIES               0.023122           0.021541   \n",
       "\n",
       "                          USA IMI/INDUSTRIALS  USA IMI/CONSUMER DISCR  \\\n",
       "USA IMI/ENERGY                       0.042542                0.035717   \n",
       "USA IMI/MATERIALS                    0.036623                0.031513   \n",
       "USA IMI/INDUSTRIALS                  0.038260                0.031792   \n",
       "USA IMI/CONSUMER DISCR               0.031792                0.034364   \n",
       "USA IMI/CONSUMER STAPLES             0.021159                0.019759   \n",
       "USA IMI/HEALTH CARE                  0.028300                0.027137   \n",
       "USA IMI/FINANCIALS                   0.038283                0.033659   \n",
       "USA IMI/INFORMATION TECH             0.035953                0.035959   \n",
       "USA IMI/COMM SVC 25-50               0.027830                0.027575   \n",
       "USA IMI/UTILITIES                    0.021473                0.018510   \n",
       "\n",
       "                          USA IMI/CONSUMER STAPLES  USA IMI/HEALTH CARE  \\\n",
       "USA IMI/ENERGY                            0.021868             0.030826   \n",
       "USA IMI/MATERIALS                         0.021005             0.028252   \n",
       "USA IMI/INDUSTRIALS                       0.021159             0.028300   \n",
       "USA IMI/CONSUMER DISCR                    0.019759             0.027137   \n",
       "USA IMI/CONSUMER STAPLES                  0.022224             0.019600   \n",
       "USA IMI/HEALTH CARE                       0.019600             0.033272   \n",
       "USA IMI/FINANCIALS                        0.022470             0.030439   \n",
       "USA IMI/INFORMATION TECH                  0.022912             0.032272   \n",
       "USA IMI/COMM SVC 25-50                    0.019524             0.024070   \n",
       "USA IMI/UTILITIES                         0.021511             0.019581   \n",
       "\n",
       "                          USA IMI/FINANCIALS  USA IMI/INFORMATION TECH  \\\n",
       "USA IMI/ENERGY                      0.045206                  0.039644   \n",
       "USA IMI/MATERIALS                   0.038063                  0.035657   \n",
       "USA IMI/INDUSTRIALS                 0.038283                  0.035953   \n",
       "USA IMI/CONSUMER DISCR              0.033659                  0.035959   \n",
       "USA IMI/CONSUMER STAPLES            0.022470                  0.022912   \n",
       "USA IMI/HEALTH CARE                 0.030439                  0.032272   \n",
       "USA IMI/FINANCIALS                  0.047273                  0.037622   \n",
       "USA IMI/INFORMATION TECH            0.037622                  0.046690   \n",
       "USA IMI/COMM SVC 25-50              0.029842                  0.030825   \n",
       "USA IMI/UTILITIES                   0.022797                  0.021838   \n",
       "\n",
       "                          USA IMI/COMM SVC 25-50  USA IMI/UTILITIES  \n",
       "USA IMI/ENERGY                          0.032914           0.023122  \n",
       "USA IMI/MATERIALS                       0.027634           0.021541  \n",
       "USA IMI/INDUSTRIALS                     0.027830           0.021473  \n",
       "USA IMI/CONSUMER DISCR                  0.027575           0.018510  \n",
       "USA IMI/CONSUMER STAPLES                0.019524           0.021511  \n",
       "USA IMI/HEALTH CARE                     0.024070           0.019581  \n",
       "USA IMI/FINANCIALS                      0.029842           0.022797  \n",
       "USA IMI/INFORMATION TECH                0.030825           0.021838  \n",
       "USA IMI/COMM SVC 25-50                  0.034891           0.020013  \n",
       "USA IMI/UTILITIES                       0.020013           0.037173  "
      ]
     },
     "execution_count": 83,
     "metadata": {},
     "output_type": "execute_result"
    }
   ],
   "source": [
    "Cov"
   ]
  },
  {
   "cell_type": "code",
   "execution_count": 84,
   "metadata": {},
   "outputs": [
    {
     "name": "stdout",
     "output_type": "stream",
     "text": [
      "     fun: -0.0008194269163444785\n",
      "     jac: array([-0.00092159, -0.00081526, -0.00080946, -0.00076663, -0.00052291,\n",
      "       -0.00070535, -0.00086905, -0.00088407, -0.0006974 , -0.00053029])\n",
      " message: 'Optimization terminated successfully.'\n",
      "    nfev: 169\n",
      "     nit: 14\n",
      "    njev: 14\n",
      "  status: 0\n",
      " success: True\n",
      "       x: array([ 0.1346783 , -0.15036387, -0.0864476 , -0.07870319, -0.1979544 ,\n",
      "        0.06051433,  0.33964318,  0.3734039 ,  0.36887602,  0.23854861])\n"
     ]
    }
   ],
   "source": [
    "num=len(icode)\n",
    "e=np.zeros(num)+1\n",
    "\n",
    "def statistics2(weights):\n",
    "    \n",
    "    weights=np.array(weights)\n",
    "    \n",
    "    Mark1=np.dot(mu_io.value.T,weights)\n",
    "    Mark2=(1-np.dot(e.T,weights))*rf\n",
    "\n",
    "    \n",
    "    \n",
    "    return [Mark1+Mark2]\n",
    "\n",
    "def max_Mark1(weights):\n",
    "    \n",
    "    return -1/100*statistics2(weights)[0]\n",
    "\n",
    "cons = (\n",
    "       {'type':'ineq', 'fun':lambda x: -np.dot(np.dot(x.T,sigma_bar.value/2.5),x)+L**2}\n",
    "       )\n",
    "bnds = tuple((0,1) for x in range(num))\n",
    "mvio = sco.minimize(max_Mark1, cc, method = 'SLSQP',  constraints = cons)\n",
    "print(mvio)\n",
    "\n",
    "# x_mvio=np.dot(np.linalg.inv(2*delta*sigma_bar.value),(mu_io.value-rf*e))\n",
    "\n",
    "# x_mvio.shape"
   ]
  },
  {
   "cell_type": "code",
   "execution_count": null,
   "metadata": {},
   "outputs": [],
   "source": []
  },
  {
   "cell_type": "code",
   "execution_count": 85,
   "metadata": {},
   "outputs": [],
   "source": [
    "x_mvio=mvio.x/np.sum(mvio.x)*100\n",
    "# x_mvio=x_mvio/np.sum(x_mvio)*100"
   ]
  },
  {
   "cell_type": "code",
   "execution_count": 86,
   "metadata": {},
   "outputs": [
    {
     "data": {
      "text/plain": [
       "[0.1, 0.1, 0.1, 0.1, 0.1, 0.1, 0.1, 0.1, 0.1, 0.1]"
      ]
     },
     "execution_count": 86,
     "metadata": {},
     "output_type": "execute_result"
    }
   ],
   "source": [
    "num*[1./num,]"
   ]
  },
  {
   "cell_type": "code",
   "execution_count": null,
   "metadata": {},
   "outputs": [],
   "source": []
  },
  {
   "cell_type": "code",
   "execution_count": 87,
   "metadata": {},
   "outputs": [
    {
     "data": {
      "text/html": [
       "<div>\n",
       "<style scoped>\n",
       "    .dataframe tbody tr th:only-of-type {\n",
       "        vertical-align: middle;\n",
       "    }\n",
       "\n",
       "    .dataframe tbody tr th {\n",
       "        vertical-align: top;\n",
       "    }\n",
       "\n",
       "    .dataframe thead th {\n",
       "        text-align: right;\n",
       "    }\n",
       "</style>\n",
       "<table border=\"1\" class=\"dataframe\">\n",
       "  <thead>\n",
       "    <tr style=\"text-align: right;\">\n",
       "      <th></th>\n",
       "      <th>USA IMI/ENERGY</th>\n",
       "      <th>USA IMI/MATERIALS</th>\n",
       "      <th>USA IMI/INDUSTRIALS</th>\n",
       "      <th>USA IMI/CONSUMER DISCR</th>\n",
       "      <th>USA IMI/CONSUMER STAPLES</th>\n",
       "      <th>USA IMI/HEALTH CARE</th>\n",
       "      <th>USA IMI/FINANCIALS</th>\n",
       "      <th>USA IMI/INFORMATION TECH</th>\n",
       "      <th>USA IMI/COMM SVC 25-50</th>\n",
       "      <th>USA IMI/UTILITIES</th>\n",
       "    </tr>\n",
       "    <tr>\n",
       "      <th>Date</th>\n",
       "      <th></th>\n",
       "      <th></th>\n",
       "      <th></th>\n",
       "      <th></th>\n",
       "      <th></th>\n",
       "      <th></th>\n",
       "      <th></th>\n",
       "      <th></th>\n",
       "      <th></th>\n",
       "      <th></th>\n",
       "    </tr>\n",
       "  </thead>\n",
       "  <tbody>\n",
       "    <tr>\n",
       "      <th>3/31/2014</th>\n",
       "      <td>0.005677</td>\n",
       "      <td>0.007885</td>\n",
       "      <td>0.008158</td>\n",
       "      <td>0.014241</td>\n",
       "      <td>-0.000488</td>\n",
       "      <td>0.008189</td>\n",
       "      <td>0.004872</td>\n",
       "      <td>0.014058</td>\n",
       "      <td>0.010510</td>\n",
       "      <td>-0.005682</td>\n",
       "    </tr>\n",
       "    <tr>\n",
       "      <th>4/1/2014</th>\n",
       "      <td>0.003928</td>\n",
       "      <td>0.006663</td>\n",
       "      <td>0.006216</td>\n",
       "      <td>0.006517</td>\n",
       "      <td>0.001626</td>\n",
       "      <td>0.003427</td>\n",
       "      <td>0.001606</td>\n",
       "      <td>-0.000338</td>\n",
       "      <td>0.001884</td>\n",
       "      <td>-0.001530</td>\n",
       "    </tr>\n",
       "    <tr>\n",
       "      <th>4/2/2014</th>\n",
       "      <td>0.004530</td>\n",
       "      <td>0.000500</td>\n",
       "      <td>0.000075</td>\n",
       "      <td>-0.005844</td>\n",
       "      <td>0.000457</td>\n",
       "      <td>-0.005096</td>\n",
       "      <td>-0.001645</td>\n",
       "      <td>-0.007816</td>\n",
       "      <td>-0.001996</td>\n",
       "      <td>0.002742</td>\n",
       "    </tr>\n",
       "    <tr>\n",
       "      <th>4/3/2014</th>\n",
       "      <td>-0.004551</td>\n",
       "      <td>-0.012074</td>\n",
       "      <td>-0.013067</td>\n",
       "      <td>-0.018252</td>\n",
       "      <td>-0.005298</td>\n",
       "      <td>-0.018481</td>\n",
       "      <td>-0.011710</td>\n",
       "      <td>-0.023505</td>\n",
       "      <td>-0.010985</td>\n",
       "      <td>0.004079</td>\n",
       "    </tr>\n",
       "    <tr>\n",
       "      <th>4/4/2014</th>\n",
       "      <td>-0.015514</td>\n",
       "      <td>-0.016891</td>\n",
       "      <td>-0.015580</td>\n",
       "      <td>-0.021547</td>\n",
       "      <td>0.002184</td>\n",
       "      <td>-0.010678</td>\n",
       "      <td>-0.013431</td>\n",
       "      <td>-0.009071</td>\n",
       "      <td>-0.008267</td>\n",
       "      <td>-0.003139</td>\n",
       "    </tr>\n",
       "    <tr>\n",
       "      <th>...</th>\n",
       "      <td>...</td>\n",
       "      <td>...</td>\n",
       "      <td>...</td>\n",
       "      <td>...</td>\n",
       "      <td>...</td>\n",
       "      <td>...</td>\n",
       "      <td>...</td>\n",
       "      <td>...</td>\n",
       "      <td>...</td>\n",
       "      <td>...</td>\n",
       "    </tr>\n",
       "    <tr>\n",
       "      <th>4/21/2020</th>\n",
       "      <td>0.033929</td>\n",
       "      <td>0.019723</td>\n",
       "      <td>0.012885</td>\n",
       "      <td>0.021194</td>\n",
       "      <td>0.010983</td>\n",
       "      <td>0.016271</td>\n",
       "      <td>0.008319</td>\n",
       "      <td>0.037332</td>\n",
       "      <td>0.024110</td>\n",
       "      <td>0.028064</td>\n",
       "    </tr>\n",
       "    <tr>\n",
       "      <th>4/22/2020</th>\n",
       "      <td>0.031192</td>\n",
       "      <td>0.008074</td>\n",
       "      <td>0.009100</td>\n",
       "      <td>0.002443</td>\n",
       "      <td>-0.008274</td>\n",
       "      <td>0.006202</td>\n",
       "      <td>-0.001833</td>\n",
       "      <td>-0.005822</td>\n",
       "      <td>0.008535</td>\n",
       "      <td>-0.016398</td>\n",
       "    </tr>\n",
       "    <tr>\n",
       "      <th>4/23/2020</th>\n",
       "      <td>0.002963</td>\n",
       "      <td>0.014338</td>\n",
       "      <td>0.008021</td>\n",
       "      <td>0.016176</td>\n",
       "      <td>0.011453</td>\n",
       "      <td>0.015564</td>\n",
       "      <td>0.013755</td>\n",
       "      <td>0.020109</td>\n",
       "      <td>0.011379</td>\n",
       "      <td>0.006653</td>\n",
       "    </tr>\n",
       "    <tr>\n",
       "      <th>4/24/2020</th>\n",
       "      <td>0.020614</td>\n",
       "      <td>0.030340</td>\n",
       "      <td>0.028827</td>\n",
       "      <td>0.020304</td>\n",
       "      <td>0.004668</td>\n",
       "      <td>0.014145</td>\n",
       "      <td>0.039868</td>\n",
       "      <td>0.011095</td>\n",
       "      <td>0.009855</td>\n",
       "      <td>0.011648</td>\n",
       "    </tr>\n",
       "    <tr>\n",
       "      <th>4/27/2020</th>\n",
       "      <td>0.021425</td>\n",
       "      <td>0.018167</td>\n",
       "      <td>0.017788</td>\n",
       "      <td>-0.001194</td>\n",
       "      <td>0.004738</td>\n",
       "      <td>-0.022150</td>\n",
       "      <td>0.012489</td>\n",
       "      <td>-0.012929</td>\n",
       "      <td>-0.016211</td>\n",
       "      <td>0.004575</td>\n",
       "    </tr>\n",
       "  </tbody>\n",
       "</table>\n",
       "<p>1586 rows × 10 columns</p>\n",
       "</div>"
      ],
      "text/plain": [
       "           USA IMI/ENERGY  USA IMI/MATERIALS  USA IMI/INDUSTRIALS  \\\n",
       "Date                                                                \n",
       "3/31/2014        0.005677           0.007885             0.008158   \n",
       "4/1/2014         0.003928           0.006663             0.006216   \n",
       "4/2/2014         0.004530           0.000500             0.000075   \n",
       "4/3/2014        -0.004551          -0.012074            -0.013067   \n",
       "4/4/2014        -0.015514          -0.016891            -0.015580   \n",
       "...                   ...                ...                  ...   \n",
       "4/21/2020        0.033929           0.019723             0.012885   \n",
       "4/22/2020        0.031192           0.008074             0.009100   \n",
       "4/23/2020        0.002963           0.014338             0.008021   \n",
       "4/24/2020        0.020614           0.030340             0.028827   \n",
       "4/27/2020        0.021425           0.018167             0.017788   \n",
       "\n",
       "           USA IMI/CONSUMER DISCR  USA IMI/CONSUMER STAPLES  \\\n",
       "Date                                                          \n",
       "3/31/2014                0.014241                 -0.000488   \n",
       "4/1/2014                 0.006517                  0.001626   \n",
       "4/2/2014                -0.005844                  0.000457   \n",
       "4/3/2014                -0.018252                 -0.005298   \n",
       "4/4/2014                -0.021547                  0.002184   \n",
       "...                           ...                       ...   \n",
       "4/21/2020                0.021194                  0.010983   \n",
       "4/22/2020                0.002443                 -0.008274   \n",
       "4/23/2020                0.016176                  0.011453   \n",
       "4/24/2020                0.020304                  0.004668   \n",
       "4/27/2020               -0.001194                  0.004738   \n",
       "\n",
       "           USA IMI/HEALTH CARE  USA IMI/FINANCIALS  USA IMI/INFORMATION TECH  \\\n",
       "Date                                                                           \n",
       "3/31/2014             0.008189            0.004872                  0.014058   \n",
       "4/1/2014              0.003427            0.001606                 -0.000338   \n",
       "4/2/2014             -0.005096           -0.001645                 -0.007816   \n",
       "4/3/2014             -0.018481           -0.011710                 -0.023505   \n",
       "4/4/2014             -0.010678           -0.013431                 -0.009071   \n",
       "...                        ...                 ...                       ...   \n",
       "4/21/2020             0.016271            0.008319                  0.037332   \n",
       "4/22/2020             0.006202           -0.001833                 -0.005822   \n",
       "4/23/2020             0.015564            0.013755                  0.020109   \n",
       "4/24/2020             0.014145            0.039868                  0.011095   \n",
       "4/27/2020            -0.022150            0.012489                 -0.012929   \n",
       "\n",
       "           USA IMI/COMM SVC 25-50  USA IMI/UTILITIES  \n",
       "Date                                                  \n",
       "3/31/2014                0.010510          -0.005682  \n",
       "4/1/2014                 0.001884          -0.001530  \n",
       "4/2/2014                -0.001996           0.002742  \n",
       "4/3/2014                -0.010985           0.004079  \n",
       "4/4/2014                -0.008267          -0.003139  \n",
       "...                           ...                ...  \n",
       "4/21/2020                0.024110           0.028064  \n",
       "4/22/2020                0.008535          -0.016398  \n",
       "4/23/2020                0.011379           0.006653  \n",
       "4/24/2020                0.009855           0.011648  \n",
       "4/27/2020               -0.016211           0.004575  \n",
       "\n",
       "[1586 rows x 10 columns]"
      ]
     },
     "execution_count": 87,
     "metadata": {},
     "output_type": "execute_result"
    }
   ],
   "source": [
    "returns"
   ]
  },
  {
   "cell_type": "code",
   "execution_count": 88,
   "metadata": {},
   "outputs": [
    {
     "data": {
      "text/plain": [
       "array([ 13.43832945, -15.00345035,  -8.6258243 ,  -7.85307955,\n",
       "       -19.75207919,   6.03817761,  33.88992019,  37.25859708,\n",
       "        36.8068013 ,  23.80260777])"
      ]
     },
     "execution_count": 88,
     "metadata": {},
     "output_type": "execute_result"
    }
   ],
   "source": [
    "x_mvio"
   ]
  },
  {
   "cell_type": "code",
   "execution_count": 89,
   "metadata": {},
   "outputs": [],
   "source": [
    "x_mkt=mkt*100"
   ]
  },
  {
   "cell_type": "code",
   "execution_count": 90,
   "metadata": {},
   "outputs": [
    {
     "data": {
      "text/plain": [
       "(array([ 13.43832945, -15.00345035,  -8.6258243 ,  -7.85307955,\n",
       "        -19.75207919,   6.03817761,  33.88992019,  37.25859708,\n",
       "         36.8068013 ,  23.80260777]),\n",
       " array([[ 2.58188418],\n",
       "        [ 2.75906463],\n",
       "        [ 9.27501837],\n",
       "        [10.54121408],\n",
       "        [ 7.46135222],\n",
       "        [16.11830092],\n",
       "        [11.71799928],\n",
       "        [25.78098764],\n",
       "        [10.11610578],\n",
       "        [ 3.6480729 ]]),\n",
       " array([ 2.64399602,  2.82363594,  8.99973729, 10.73294476,  7.42148344,\n",
       "        16.18740342, 11.73570113, 25.62210578, 10.26516924,  3.56782299]))"
      ]
     },
     "execution_count": 90,
     "metadata": {},
     "output_type": "execute_result"
    }
   ],
   "source": [
    "x_mvio,x_mkt,x_bl"
   ]
  },
  {
   "cell_type": "code",
   "execution_count": 91,
   "metadata": {},
   "outputs": [],
   "source": [
    "mvio_return=np.dot(returns,x_mvio)\n",
    "mkt_return=np.dot(returns,x_mkt)\n",
    "bl_return=np.dot(returns,x_bl)"
   ]
  },
  {
   "cell_type": "code",
   "execution_count": 92,
   "metadata": {},
   "outputs": [
    {
     "data": {
      "text/plain": [
       "array([ 0.89744745,  0.24670715, -0.35802709, ...,  1.44829267,\n",
       "        1.77601519, -0.40298453])"
      ]
     },
     "execution_count": 92,
     "metadata": {},
     "output_type": "execute_result"
    }
   ],
   "source": [
    "bl_return"
   ]
  },
  {
   "cell_type": "code",
   "execution_count": 93,
   "metadata": {},
   "outputs": [
    {
     "data": {
      "text/plain": [
       "array([ 0.7753161 , -0.08862731, -0.29631167, ...,  1.28884   ,\n",
       "        1.81138724, -0.90230907])"
      ]
     },
     "execution_count": 93,
     "metadata": {},
     "output_type": "execute_result"
    }
   ],
   "source": [
    "mvio_return"
   ]
  },
  {
   "cell_type": "code",
   "execution_count": 94,
   "metadata": {},
   "outputs": [
    {
     "data": {
      "text/plain": [
       "array([[ 0.8956403 ],\n",
       "       [ 0.2458368 ],\n",
       "       [-0.35752458],\n",
       "       ...,\n",
       "       [ 1.44745964],\n",
       "       [ 1.77654956],\n",
       "       [-0.39813475]])"
      ]
     },
     "execution_count": 94,
     "metadata": {},
     "output_type": "execute_result"
    }
   ],
   "source": [
    "mkt_return"
   ]
  },
  {
   "cell_type": "code",
   "execution_count": null,
   "metadata": {},
   "outputs": [],
   "source": []
  },
  {
   "cell_type": "code",
   "execution_count": 95,
   "metadata": {},
   "outputs": [
    {
     "data": {
      "text/plain": [
       "[<matplotlib.lines.Line2D at 0x2045288cb88>]"
      ]
     },
     "execution_count": 95,
     "metadata": {},
     "output_type": "execute_result"
    },
    {
     "data": {
      "image/png": "[encoded data removed]",
      "text/plain": [
       "<Figure size 432x288 with 1 Axes>"
      ]
     },
     "metadata": {
      "needs_background": "light"
     },
     "output_type": "display_data"
    }
   ],
   "source": [
    "plt.plot(np.cumsum(mvio_return), color='red')\n",
    "plt.plot(np.cumsum(mkt_return), color='blue')\n",
    "plt.plot(np.cumsum(bl_return), color='green')"
   ]
  },
  {
   "cell_type": "code",
   "execution_count": 96,
   "metadata": {},
   "outputs": [],
   "source": [
    "np.savetxt('new.csv', C_new, delimiter = ',')"
   ]
  },
  {
   "cell_type": "code",
   "execution_count": 97,
   "metadata": {},
   "outputs": [],
   "source": [
    "result = pd.DataFrame([[0,0,0] for i in range(3)], columns = ['mean','std','SR'], index=['mkt','BL','MVIO'])\n",
    "\n",
    "result.iloc[2,0]=mvio_return.mean()*252\n",
    "result.iloc[2,1]=mvio_return.std()*np.sqrt(252)\n",
    "result.iloc[2,2]=mvio_return.mean()/mvio_return.std()*np.sqrt(252)"
   ]
  },
  {
   "cell_type": "code",
   "execution_count": 98,
   "metadata": {},
   "outputs": [],
   "source": [
    "result.iloc[0,0]=mkt_return.mean()*252\n",
    "result.iloc[0,1]=mkt_return.std()*np.sqrt(252)\n",
    "result.iloc[0,2]=mkt_return.mean()/mkt_return.std()*np.sqrt(252)"
   ]
  },
  {
   "cell_type": "code",
   "execution_count": 99,
   "metadata": {},
   "outputs": [],
   "source": [
    "result.iloc[1,0]=bl_return.mean()*252\n",
    "result.iloc[1,1]=bl_return.std()*np.sqrt(252)\n",
    "result.iloc[1,2]=bl_return.mean()/bl_return.std()*np.sqrt(252)"
   ]
  },
  {
   "cell_type": "code",
   "execution_count": null,
   "metadata": {},
   "outputs": [],
   "source": []
  },
  {
   "cell_type": "code",
   "execution_count": 100,
   "metadata": {},
   "outputs": [
    {
     "data": {
      "text/html": [
       "<div>\n",
       "<style scoped>\n",
       "    .dataframe tbody tr th:only-of-type {\n",
       "        vertical-align: middle;\n",
       "    }\n",
       "\n",
       "    .dataframe tbody tr th {\n",
       "        vertical-align: top;\n",
       "    }\n",
       "\n",
       "    .dataframe thead th {\n",
       "        text-align: right;\n",
       "    }\n",
       "</style>\n",
       "<table border=\"1\" class=\"dataframe\">\n",
       "  <thead>\n",
       "    <tr style=\"text-align: right;\">\n",
       "      <th></th>\n",
       "      <th>mean</th>\n",
       "      <th>std</th>\n",
       "      <th>SR</th>\n",
       "    </tr>\n",
       "  </thead>\n",
       "  <tbody>\n",
       "    <tr>\n",
       "      <th>mkt</th>\n",
       "      <td>9.106663</td>\n",
       "      <td>17.742543</td>\n",
       "      <td>0.513267</td>\n",
       "    </tr>\n",
       "    <tr>\n",
       "      <th>BL</th>\n",
       "      <td>9.087677</td>\n",
       "      <td>17.741639</td>\n",
       "      <td>0.512223</td>\n",
       "    </tr>\n",
       "    <tr>\n",
       "      <th>MVIO</th>\n",
       "      <td>7.925212</td>\n",
       "      <td>19.510818</td>\n",
       "      <td>0.406196</td>\n",
       "    </tr>\n",
       "  </tbody>\n",
       "</table>\n",
       "</div>"
      ],
      "text/plain": [
       "          mean        std        SR\n",
       "mkt   9.106663  17.742543  0.513267\n",
       "BL    9.087677  17.741639  0.512223\n",
       "MVIO  7.925212  19.510818  0.406196"
      ]
     },
     "execution_count": 100,
     "metadata": {},
     "output_type": "execute_result"
    }
   ],
   "source": [
    "result"
   ]
  },
  {
   "cell_type": "code",
   "execution_count": 48,
   "metadata": {},
   "outputs": [],
   "source": [
    "def BS_C(S0,K,T,sigma,r):\n",
    "\n",
    "    d1 = (np.log(S0 / K) + (r+sigma ** 2/2)*T) / (sigma * np.sqrt(T))\n",
    "    d2=d1-sigma*np.sqrt(T)\n",
    "    \n",
    "\n",
    "    \n",
    "    c= S0*norm.cdf(d1)-np.exp(-r*T)*K*norm.cdf(d2)\n",
    "    \n",
    "    return c\n",
    "\n",
    "\n",
    "def BS_P(S0,K,T,sigma,r):\n",
    "\n",
    "    d1 = (np.log(S0 / K) + (r+sigma ** 2/2)*T) / (sigma * np.sqrt(T))\n",
    "    d2=d1-sigma*np.sqrt(T)\n",
    "\n",
    "    p = K * np.exp(-r * T) * norm.cdf(sigma*np.sqrt(T)-d1) - S0 * norm.cdf(-d1)\n",
    "   \n",
    "    \n",
    "    return p\n",
    "\n",
    "def BS_C_delta(S0,K,T,sigma,r):\n",
    "\n",
    "    d1 = (np.log(S0 / K) + (r+sigma ** 2/2)*T) / (sigma * np.sqrt(T))\n",
    "    d2=d1-sigma*np.sqrt(T)\n",
    "    \n",
    "\n",
    "    \n",
    "    c= S0*norm.cdf(d1)-np.exp(-r*T)*K*norm.cdf(d2)\n",
    "    \n",
    "    return norm.cdf(d1)\n",
    "\n",
    "\n",
    "def BS_P_delta(S0,K,T,sigma,r):\n",
    "\n",
    "    d1 = (np.log(S0 / K) + (r+sigma ** 2/2)*T) / (sigma * np.sqrt(T))\n",
    "    d2=d1-sigma*np.sqrt(T)\n",
    "\n",
    "    p = K * np.exp(-r * T) * norm.cdf(sigma*np.sqrt(T)-d1) - S0 * norm.cdf(-d1)\n",
    "   \n",
    "    \n",
    "    return norm.cdf(d1)"
   ]
  },
  {
   "cell_type": "code",
   "execution_count": 6,
   "metadata": {},
   "outputs": [],
   "source": [
    "def BSD_C(S0,K,T,sigma,r,q):\n",
    "\n",
    "    d1 = (np.log(S0 / K) + (r-q+sigma ** 2/2)*T) / (sigma * np.sqrt(T))\n",
    "    d2=d1-sigma*np.sqrt(T)\n",
    "    \n",
    "\n",
    "    \n",
    "    c= S0*np.exp(-q*T)*norm.cdf(d1)-np.exp(-r*T)*K*norm.cdf(d2)\n",
    "    \n",
    "    return c\n",
    "\n",
    "\n",
    "def BSD_P(S0,K,T,sigma,r,q):\n",
    "\n",
    "    d1 = (np.log(S0 / K) + (r-q+sigma ** 2/2)*T) / (sigma * np.sqrt(T))\n",
    "    d2=d1-sigma*np.sqrt(T)\n",
    "\n",
    "    p = K * np.exp(-r * T) * norm.cdf(-d2) - S0 *np.exp(-q*T)* norm.cdf(-d1)\n",
    "   \n",
    "    \n",
    "    return p\n"
   ]
  },
  {
   "cell_type": "code",
   "execution_count": null,
   "metadata": {},
   "outputs": [],
   "source": []
  },
  {
   "cell_type": "code",
   "execution_count": null,
   "metadata": {},
   "outputs": [],
   "source": []
  },
  {
   "cell_type": "code",
   "execution_count": 130,
   "metadata": {},
   "outputs": [],
   "source": [
    "K=100\n",
    "S=100\n",
    "T=1/6\n",
    "sigma=15/100\n",
    "q=4/100"
   ]
  },
  {
   "cell_type": "code",
   "execution_count": 131,
   "metadata": {},
   "outputs": [
    {
     "data": {
      "text/plain": [
       "0.03912730194159278"
      ]
     },
     "execution_count": 131,
     "metadata": {},
     "output_type": "execute_result"
    }
   ],
   "source": [
    "r=-1/T*np.log(0.9935)\n",
    "r"
   ]
  },
  {
   "cell_type": "code",
   "execution_count": 132,
   "metadata": {},
   "outputs": [
    {
     "data": {
      "text/plain": [
       "2.4193594746043203"
      ]
     },
     "execution_count": 132,
     "metadata": {},
     "output_type": "execute_result"
    }
   ],
   "source": [
    "BSD_C(S,K,T,sigma,r,q)"
   ]
  },
  {
   "cell_type": "code",
   "execution_count": 102,
   "metadata": {},
   "outputs": [
    {
     "data": {
      "text/plain": [
       "0.8667671338076794"
      ]
     },
     "execution_count": 102,
     "metadata": {},
     "output_type": "execute_result"
    }
   ],
   "source": [
    "BS_C_delta(S,K,T,sigma,r)"
   ]
  },
  {
   "cell_type": "code",
   "execution_count": 103,
   "metadata": {},
   "outputs": [
    {
     "data": {
      "text/plain": [
       "1.1112384327099343"
      ]
     },
     "execution_count": 103,
     "metadata": {},
     "output_type": "execute_result"
    }
   ],
   "source": [
    "d1 = (np.log(S / K) + (r+sigma ** 2/2)*T) / (sigma * np.sqrt(T))\n",
    "d1"
   ]
  },
  {
   "cell_type": "code",
   "execution_count": 108,
   "metadata": {},
   "outputs": [
    {
     "data": {
      "text/plain": [
       "-37.9263"
      ]
     },
     "execution_count": 108,
     "metadata": {},
     "output_type": "execute_result"
    }
   ],
   "source": [
    "3.6801-0.8668*48"
   ]
  },
  {
   "cell_type": "code",
   "execution_count": 105,
   "metadata": {},
   "outputs": [
    {
     "data": {
      "text/plain": [
       "0.8667671338076794"
      ]
     },
     "execution_count": 105,
     "metadata": {},
     "output_type": "execute_result"
    }
   ],
   "source": [
    "norm.cdf(d1)"
   ]
  },
  {
   "cell_type": "code",
   "execution_count": 58,
   "metadata": {},
   "outputs": [],
   "source": [
    "SS=40-np.exp(-2*0.03)*2"
   ]
  },
  {
   "cell_type": "code",
   "execution_count": 59,
   "metadata": {},
   "outputs": [
    {
     "data": {
      "text/plain": [
       "38.116470932831504"
      ]
     },
     "execution_count": 59,
     "metadata": {},
     "output_type": "execute_result"
    }
   ],
   "source": [
    "SS"
   ]
  },
  {
   "cell_type": "code",
   "execution_count": 62,
   "metadata": {},
   "outputs": [
    {
     "data": {
      "text/plain": [
       "0.9057142134221066"
      ]
     },
     "execution_count": 62,
     "metadata": {},
     "output_type": "execute_result"
    }
   ],
   "source": [
    "(np.exp(0.03)-39/44)/(7/44)"
   ]
  },
  {
   "cell_type": "code",
   "execution_count": 63,
   "metadata": {},
   "outputs": [
    {
     "data": {
      "text/plain": [
       "5.27534192036969"
      ]
     },
     "execution_count": 63,
     "metadata": {},
     "output_type": "execute_result"
    }
   ],
   "source": [
    "np.exp(-0.03)*6*0.906"
   ]
  },
  {
   "cell_type": "code",
   "execution_count": 64,
   "metadata": {},
   "outputs": [
    {
     "data": {
      "text/plain": [
       "0.6025973368772394"
      ]
     },
     "execution_count": 64,
     "metadata": {},
     "output_type": "execute_result"
    }
   ],
   "source": [
    "(np.exp(0.03)-37/40)/(7/40)"
   ]
  },
  {
   "cell_type": "code",
   "execution_count": 65,
   "metadata": {},
   "outputs": [
    {
     "data": {
      "text/plain": [
       "3.086817414249434"
      ]
     },
     "execution_count": 65,
     "metadata": {},
     "output_type": "execute_result"
    }
   ],
   "source": [
    "np.exp(-0.03)*5.275*0.603"
   ]
  },
  {
   "cell_type": "code",
   "execution_count": 68,
   "metadata": {},
   "outputs": [
    {
     "data": {
      "text/plain": [
       "54.186700767263424"
      ]
     },
     "execution_count": 68,
     "metadata": {},
     "output_type": "execute_result"
    }
   ],
   "source": [
    "(51+0.99+0.9775)/0.9775"
   ]
  },
  {
   "cell_type": "code",
   "execution_count": 69,
   "metadata": {},
   "outputs": [
    {
     "data": {
      "text/plain": [
       "1.9675"
      ]
     },
     "execution_count": 69,
     "metadata": {},
     "output_type": "execute_result"
    }
   ],
   "source": [
    "0.99+0.9775"
   ]
  },
  {
   "cell_type": "code",
   "execution_count": 70,
   "metadata": {},
   "outputs": [
    {
     "data": {
      "text/plain": [
       "54.186700767263424"
      ]
     },
     "execution_count": 70,
     "metadata": {},
     "output_type": "execute_result"
    }
   ],
   "source": [
    "52.9675/0.9775"
   ]
  },
  {
   "cell_type": "code",
   "execution_count": 71,
   "metadata": {},
   "outputs": [
    {
     "data": {
      "text/plain": [
       "1.7899999999999965"
      ]
     },
     "execution_count": 71,
     "metadata": {},
     "output_type": "execute_result"
    }
   ],
   "source": [
    "16.33-2*10.3+6.06"
   ]
  },
  {
   "cell_type": "code",
   "execution_count": 72,
   "metadata": {},
   "outputs": [
    {
     "data": {
      "text/plain": [
       "0.030459207484708574"
      ]
     },
     "execution_count": 72,
     "metadata": {},
     "output_type": "execute_result"
    }
   ],
   "source": [
    "-np.log((54-5.5)/50)"
   ]
  },
  {
   "cell_type": "code",
   "execution_count": 73,
   "metadata": {},
   "outputs": [
    {
     "data": {
      "text/plain": [
       "48.52227667742541"
      ]
     },
     "execution_count": 73,
     "metadata": {},
     "output_type": "execute_result"
    }
   ],
   "source": [
    "50*np.exp(-0.03)"
   ]
  },
  {
   "cell_type": "code",
   "execution_count": 74,
   "metadata": {},
   "outputs": [
    {
     "data": {
      "text/plain": [
       "49.00993366533776"
      ]
     },
     "execution_count": 74,
     "metadata": {},
     "output_type": "execute_result"
    }
   ],
   "source": [
    "50*np.exp(-0.02)"
   ]
  },
  {
   "cell_type": "code",
   "execution_count": 75,
   "metadata": {},
   "outputs": [
    {
     "data": {
      "text/plain": [
       "100.45949999999999"
      ]
     },
     "execution_count": 75,
     "metadata": {},
     "output_type": "execute_result"
    }
   ],
   "source": [
    "0.997+0.9875+101*0.9750"
   ]
  },
  {
   "cell_type": "code",
   "execution_count": 109,
   "metadata": {},
   "outputs": [
    {
     "data": {
      "text/plain": [
       "101.230625"
      ]
     },
     "execution_count": 109,
     "metadata": {},
     "output_type": "execute_result"
    }
   ],
   "source": [
    "5/4*0.997+5/4*0.9875+100*0.9875"
   ]
  },
  {
   "cell_type": "code",
   "execution_count": 110,
   "metadata": {},
   "outputs": [
    {
     "data": {
      "text/plain": [
       "-0.7711249999999978"
      ]
     },
     "execution_count": 110,
     "metadata": {},
     "output_type": "execute_result"
    }
   ],
   "source": [
    "100.4595-101.230625"
   ]
  },
  {
   "cell_type": "code",
   "execution_count": 111,
   "metadata": {},
   "outputs": [
    {
     "data": {
      "text/plain": [
       "6.005071428571426"
      ]
     },
     "execution_count": 111,
     "metadata": {},
     "output_type": "execute_result"
    }
   ],
   "source": [
    "46*6/7+1.03*(-32.45)"
   ]
  },
  {
   "cell_type": "code",
   "execution_count": 112,
   "metadata": {},
   "outputs": [
    {
     "data": {
      "text/plain": [
       "-32.45492371705964"
      ]
     },
     "execution_count": 112,
     "metadata": {},
     "output_type": "execute_result"
    }
   ],
   "source": [
    "(6-46*6/7)/1.03"
   ]
  },
  {
   "cell_type": "code",
   "execution_count": null,
   "metadata": {},
   "outputs": [],
   "source": []
  }
 ],
 "metadata": {
  "kernelspec": {
   "display_name": "Python 3",
   "language": "python",
   "name": "python3"
  },
  "language_info": {
   "codemirror_mode": {
    "name": "ipython",
    "version": 3
   },
   "file_extension": ".py",
   "mimetype": "text/x-python",
   "name": "python",
   "nbconvert_exporter": "python",
   "pygments_lexer": "ipython3",
   "version": "3.7.7"
  }
 },
 "nbformat": 4,
 "nbformat_minor": 2
}
