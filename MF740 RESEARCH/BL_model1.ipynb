{
 "cells": [
  {
   "cell_type": "code",
   "execution_count": 1,
   "metadata": {},
   "outputs": [
    {
     "name": "stderr",
     "output_type": "stream",
     "text": [
      "E:\\anaconda3\\lib\\site-packages\\pandas_datareader\\compat\\__init__.py:7: FutureWarning: pandas.util.testing is deprecated. Use the functions in the public API at pandas.testing instead.\n",
      "  from pandas.util.testing import assert_frame_equal\n"
     ]
    }
   ],
   "source": [
    "import numpy as np\n",
    "import pandas as pd\n",
    "import matplotlib as mql\n",
    "from pandas_datareader import data as pdr\n",
    "import matplotlib.pyplot as plt\n",
    "from numpy.random import standard_normal as stn\n",
    "from datetime import datetime\n",
    "from sklearn import linear_model\n",
    "import statsmodels.api as sm\n",
    "import scipy.stats as scs\n",
    "from scipy.stats import norm\n",
    "import math\n",
    "from cvxopt import matrix, solvers\n",
    "import scipy.optimize as sco\n",
    "from scipy.fftpack import fft,ifft\n",
    "from sympy import *\n",
    "from sklearn.decomposition import PCA\n",
    "import json\n",
    "from cvxopt import matrix, solvers\n",
    "import scipy.optimize"
   ]
  },
  {
   "cell_type": "markdown",
   "metadata": {},
   "source": [
    "## Bl model\n",
    "\n",
    "先随便用几个ETF数据来做,下面是数据处理得到年化log return"
   ]
  },
  {
   "cell_type": "code",
   "execution_count": 2,
   "metadata": {},
   "outputs": [],
   "source": [
    "icode=['AAPL','BA','TSLA','BABA','GS','GOOG','AMZN','TM','F','JPM']\n",
    "data=pdr.get_data_yahoo(icode,start='2017-01-01',end='2019-01-01')   # For data\n",
    "data_close=data['Adj Close']\n",
    "\n",
    "icode2=['^IRX']\n",
    "risk_free=pdr.get_data_yahoo(icode2,start='2017-01-01',end='2019-01-01')\n",
    "risk_free=risk_free['Adj Close']/100"
   ]
  },
  {
   "cell_type": "code",
   "execution_count": 3,
   "metadata": {},
   "outputs": [
    {
     "data": {
      "text/html": [
       "<div>\n",
       "<style scoped>\n",
       "    .dataframe tbody tr th:only-of-type {\n",
       "        vertical-align: middle;\n",
       "    }\n",
       "\n",
       "    .dataframe tbody tr th {\n",
       "        vertical-align: top;\n",
       "    }\n",
       "\n",
       "    .dataframe thead th {\n",
       "        text-align: right;\n",
       "    }\n",
       "</style>\n",
       "<table border=\"1\" class=\"dataframe\">\n",
       "  <thead>\n",
       "    <tr style=\"text-align: right;\">\n",
       "      <th>Symbols</th>\n",
       "      <th>AAPL</th>\n",
       "      <th>BA</th>\n",
       "      <th>TSLA</th>\n",
       "      <th>BABA</th>\n",
       "      <th>GS</th>\n",
       "      <th>GOOG</th>\n",
       "      <th>AMZN</th>\n",
       "      <th>TM</th>\n",
       "      <th>F</th>\n",
       "      <th>JPM</th>\n",
       "    </tr>\n",
       "    <tr>\n",
       "      <th>Date</th>\n",
       "      <th></th>\n",
       "      <th></th>\n",
       "      <th></th>\n",
       "      <th></th>\n",
       "      <th></th>\n",
       "      <th></th>\n",
       "      <th></th>\n",
       "      <th></th>\n",
       "      <th></th>\n",
       "      <th></th>\n",
       "    </tr>\n",
       "  </thead>\n",
       "  <tbody>\n",
       "    <tr>\n",
       "      <th>2017-01-03</th>\n",
       "      <td>110.691154</td>\n",
       "      <td>145.533676</td>\n",
       "      <td>216.990005</td>\n",
       "      <td>88.599998</td>\n",
       "      <td>229.168716</td>\n",
       "      <td>786.140015</td>\n",
       "      <td>753.669983</td>\n",
       "      <td>109.734962</td>\n",
       "      <td>10.415051</td>\n",
       "      <td>79.052376</td>\n",
       "    </tr>\n",
       "    <tr>\n",
       "      <th>2017-01-04</th>\n",
       "      <td>110.567276</td>\n",
       "      <td>147.063477</td>\n",
       "      <td>226.990005</td>\n",
       "      <td>90.510002</td>\n",
       "      <td>230.648605</td>\n",
       "      <td>786.900024</td>\n",
       "      <td>757.179993</td>\n",
       "      <td>112.178650</td>\n",
       "      <td>10.894855</td>\n",
       "      <td>79.198174</td>\n",
       "    </tr>\n",
       "    <tr>\n",
       "      <th>2017-01-05</th>\n",
       "      <td>111.129562</td>\n",
       "      <td>147.146927</td>\n",
       "      <td>226.750000</td>\n",
       "      <td>94.370003</td>\n",
       "      <td>228.931519</td>\n",
       "      <td>794.020020</td>\n",
       "      <td>780.450012</td>\n",
       "      <td>111.484436</td>\n",
       "      <td>10.563956</td>\n",
       "      <td>78.469170</td>\n",
       "    </tr>\n",
       "    <tr>\n",
       "      <th>2017-01-06</th>\n",
       "      <td>112.368469</td>\n",
       "      <td>147.508514</td>\n",
       "      <td>229.009995</td>\n",
       "      <td>93.889999</td>\n",
       "      <td>232.327744</td>\n",
       "      <td>806.150024</td>\n",
       "      <td>795.989990</td>\n",
       "      <td>111.197479</td>\n",
       "      <td>10.555683</td>\n",
       "      <td>78.478271</td>\n",
       "    </tr>\n",
       "    <tr>\n",
       "      <th>2017-01-09</th>\n",
       "      <td>113.397697</td>\n",
       "      <td>146.785309</td>\n",
       "      <td>231.279999</td>\n",
       "      <td>94.720001</td>\n",
       "      <td>230.420914</td>\n",
       "      <td>806.650024</td>\n",
       "      <td>796.919983</td>\n",
       "      <td>110.836479</td>\n",
       "      <td>10.448141</td>\n",
       "      <td>78.532944</td>\n",
       "    </tr>\n",
       "  </tbody>\n",
       "</table>\n",
       "</div>"
      ],
      "text/plain": [
       "Symbols           AAPL          BA        TSLA       BABA          GS  \\\n",
       "Date                                                                    \n",
       "2017-01-03  110.691154  145.533676  216.990005  88.599998  229.168716   \n",
       "2017-01-04  110.567276  147.063477  226.990005  90.510002  230.648605   \n",
       "2017-01-05  111.129562  147.146927  226.750000  94.370003  228.931519   \n",
       "2017-01-06  112.368469  147.508514  229.009995  93.889999  232.327744   \n",
       "2017-01-09  113.397697  146.785309  231.279999  94.720001  230.420914   \n",
       "\n",
       "Symbols           GOOG        AMZN          TM          F        JPM  \n",
       "Date                                                                  \n",
       "2017-01-03  786.140015  753.669983  109.734962  10.415051  79.052376  \n",
       "2017-01-04  786.900024  757.179993  112.178650  10.894855  79.198174  \n",
       "2017-01-05  794.020020  780.450012  111.484436  10.563956  78.469170  \n",
       "2017-01-06  806.150024  795.989990  111.197479  10.555683  78.478271  \n",
       "2017-01-09  806.650024  796.919983  110.836479  10.448141  78.532944  "
      ]
     },
     "execution_count": 3,
     "metadata": {},
     "output_type": "execute_result"
    }
   ],
   "source": [
    "data_close.head()"
   ]
  },
  {
   "cell_type": "code",
   "execution_count": 4,
   "metadata": {},
   "outputs": [],
   "source": [
    "returns = np.log(data_close.shift(-1)/data_close)\n",
    "returns=returns.dropna(axis=0,how='all')     #kill nan\n",
    "Cov=returns.cov()\n",
    "annual_returns=returns*252"
   ]
  },
  {
   "cell_type": "code",
   "execution_count": 5,
   "metadata": {},
   "outputs": [
    {
     "data": {
      "text/html": [
       "<div>\n",
       "<style scoped>\n",
       "    .dataframe tbody tr th:only-of-type {\n",
       "        vertical-align: middle;\n",
       "    }\n",
       "\n",
       "    .dataframe tbody tr th {\n",
       "        vertical-align: top;\n",
       "    }\n",
       "\n",
       "    .dataframe thead th {\n",
       "        text-align: right;\n",
       "    }\n",
       "</style>\n",
       "<table border=\"1\" class=\"dataframe\">\n",
       "  <thead>\n",
       "    <tr style=\"text-align: right;\">\n",
       "      <th>Symbols</th>\n",
       "      <th>AAPL</th>\n",
       "      <th>BA</th>\n",
       "      <th>TSLA</th>\n",
       "      <th>BABA</th>\n",
       "      <th>GS</th>\n",
       "      <th>GOOG</th>\n",
       "      <th>AMZN</th>\n",
       "      <th>TM</th>\n",
       "      <th>F</th>\n",
       "      <th>JPM</th>\n",
       "    </tr>\n",
       "    <tr>\n",
       "      <th>Date</th>\n",
       "      <th></th>\n",
       "      <th></th>\n",
       "      <th></th>\n",
       "      <th></th>\n",
       "      <th></th>\n",
       "      <th></th>\n",
       "      <th></th>\n",
       "      <th></th>\n",
       "      <th></th>\n",
       "      <th></th>\n",
       "    </tr>\n",
       "  </thead>\n",
       "  <tbody>\n",
       "    <tr>\n",
       "      <th>2017-01-03</th>\n",
       "      <td>-0.282180</td>\n",
       "      <td>2.635113</td>\n",
       "      <td>11.353783</td>\n",
       "      <td>5.374788</td>\n",
       "      <td>1.622093</td>\n",
       "      <td>0.243506</td>\n",
       "      <td>1.170896</td>\n",
       "      <td>5.550215</td>\n",
       "      <td>11.349750</td>\n",
       "      <td>0.464340</td>\n",
       "    </tr>\n",
       "    <tr>\n",
       "      <th>2017-01-04</th>\n",
       "      <td>1.278290</td>\n",
       "      <td>0.142955</td>\n",
       "      <td>-0.266591</td>\n",
       "      <td>10.524248</td>\n",
       "      <td>-1.883057</td>\n",
       "      <td>2.269882</td>\n",
       "      <td>7.627963</td>\n",
       "      <td>-1.564339</td>\n",
       "      <td>-7.772399</td>\n",
       "      <td>-2.330353</td>\n",
       "    </tr>\n",
       "    <tr>\n",
       "      <th>2017-01-05</th>\n",
       "      <td>2.793830</td>\n",
       "      <td>0.618486</td>\n",
       "      <td>2.499225</td>\n",
       "      <td>-1.285043</td>\n",
       "      <td>3.710990</td>\n",
       "      <td>3.820619</td>\n",
       "      <td>4.968411</td>\n",
       "      <td>-0.649475</td>\n",
       "      <td>-0.197430</td>\n",
       "      <td>0.029229</td>\n",
       "    </tr>\n",
       "    <tr>\n",
       "      <th>2017-01-06</th>\n",
       "      <td>2.297663</td>\n",
       "      <td>-1.238546</td>\n",
       "      <td>2.485588</td>\n",
       "      <td>2.217929</td>\n",
       "      <td>-2.076824</td>\n",
       "      <td>0.156250</td>\n",
       "      <td>0.294252</td>\n",
       "      <td>-0.819443</td>\n",
       "      <td>-2.580562</td>\n",
       "      <td>0.175496</td>\n",
       "    </tr>\n",
       "    <tr>\n",
       "      <th>2017-01-09</th>\n",
       "      <td>0.254038</td>\n",
       "      <td>1.190968</td>\n",
       "      <td>-1.541026</td>\n",
       "      <td>5.343697</td>\n",
       "      <td>-0.332206</td>\n",
       "      <td>-0.581755</td>\n",
       "      <td>-0.322735</td>\n",
       "      <td>0.042096</td>\n",
       "      <td>4.351754</td>\n",
       "      <td>0.729936</td>\n",
       "    </tr>\n",
       "  </tbody>\n",
       "</table>\n",
       "</div>"
      ],
      "text/plain": [
       "Symbols         AAPL        BA       TSLA       BABA        GS      GOOG  \\\n",
       "Date                                                                       \n",
       "2017-01-03 -0.282180  2.635113  11.353783   5.374788  1.622093  0.243506   \n",
       "2017-01-04  1.278290  0.142955  -0.266591  10.524248 -1.883057  2.269882   \n",
       "2017-01-05  2.793830  0.618486   2.499225  -1.285043  3.710990  3.820619   \n",
       "2017-01-06  2.297663 -1.238546   2.485588   2.217929 -2.076824  0.156250   \n",
       "2017-01-09  0.254038  1.190968  -1.541026   5.343697 -0.332206 -0.581755   \n",
       "\n",
       "Symbols         AMZN        TM          F       JPM  \n",
       "Date                                                 \n",
       "2017-01-03  1.170896  5.550215  11.349750  0.464340  \n",
       "2017-01-04  7.627963 -1.564339  -7.772399 -2.330353  \n",
       "2017-01-05  4.968411 -0.649475  -0.197430  0.029229  \n",
       "2017-01-06  0.294252 -0.819443  -2.580562  0.175496  \n",
       "2017-01-09 -0.322735  0.042096   4.351754  0.729936  "
      ]
     },
     "execution_count": 5,
     "metadata": {},
     "output_type": "execute_result"
    }
   ],
   "source": [
    "annual_returns.head()"
   ]
  },
  {
   "cell_type": "markdown",
   "metadata": {},
   "source": [
    "### BL model 建立\n",
    "#### $\\mu$"
   ]
  },
  {
   "cell_type": "code",
   "execution_count": 6,
   "metadata": {},
   "outputs": [
    {
     "data": {
      "text/plain": [
       "Symbols\n",
       "AAPL    0.169469\n",
       "BA      0.385788\n",
       "TSLA    0.215126\n",
       "BABA    0.219486\n",
       "GS     -0.172359\n",
       "GOOG    0.138631\n",
       "AMZN    0.346854\n",
       "TM      0.021575\n",
       "F      -0.196012\n",
       "JPM     0.082235\n",
       "dtype: float64"
      ]
     },
     "execution_count": 6,
     "metadata": {},
     "output_type": "execute_result"
    }
   ],
   "source": [
    "mu=np.mean(annual_returns)\n",
    "mu"
   ]
  },
  {
   "cell_type": "markdown",
   "metadata": {},
   "source": [
    "#### $r_f$"
   ]
  },
  {
   "cell_type": "code",
   "execution_count": 7,
   "metadata": {},
   "outputs": [
    {
     "data": {
      "text/plain": [
       "0.014200682729243259"
      ]
     },
     "execution_count": 7,
     "metadata": {},
     "output_type": "execute_result"
    }
   ],
   "source": [
    "rf=risk_free.mean()[0]\n",
    "rf"
   ]
  },
  {
   "cell_type": "markdown",
   "metadata": {},
   "source": [
    "#### $\\Sigma$"
   ]
  },
  {
   "cell_type": "code",
   "execution_count": 8,
   "metadata": {},
   "outputs": [],
   "source": [
    "Cov=Cov*252"
   ]
  },
  {
   "cell_type": "code",
   "execution_count": 9,
   "metadata": {},
   "outputs": [
    {
     "data": {
      "text/html": [
       "<div>\n",
       "<style scoped>\n",
       "    .dataframe tbody tr th:only-of-type {\n",
       "        vertical-align: middle;\n",
       "    }\n",
       "\n",
       "    .dataframe tbody tr th {\n",
       "        vertical-align: top;\n",
       "    }\n",
       "\n",
       "    .dataframe thead th {\n",
       "        text-align: right;\n",
       "    }\n",
       "</style>\n",
       "<table border=\"1\" class=\"dataframe\">\n",
       "  <thead>\n",
       "    <tr style=\"text-align: right;\">\n",
       "      <th>Symbols</th>\n",
       "      <th>AAPL</th>\n",
       "      <th>BA</th>\n",
       "      <th>TSLA</th>\n",
       "      <th>BABA</th>\n",
       "      <th>GS</th>\n",
       "      <th>GOOG</th>\n",
       "      <th>AMZN</th>\n",
       "      <th>TM</th>\n",
       "      <th>F</th>\n",
       "      <th>JPM</th>\n",
       "    </tr>\n",
       "    <tr>\n",
       "      <th>Symbols</th>\n",
       "      <th></th>\n",
       "      <th></th>\n",
       "      <th></th>\n",
       "      <th></th>\n",
       "      <th></th>\n",
       "      <th></th>\n",
       "      <th></th>\n",
       "      <th></th>\n",
       "      <th></th>\n",
       "      <th></th>\n",
       "    </tr>\n",
       "  </thead>\n",
       "  <tbody>\n",
       "    <tr>\n",
       "      <th>AAPL</th>\n",
       "      <td>0.056962</td>\n",
       "      <td>0.026320</td>\n",
       "      <td>0.035018</td>\n",
       "      <td>0.035597</td>\n",
       "      <td>0.025481</td>\n",
       "      <td>0.034471</td>\n",
       "      <td>0.043662</td>\n",
       "      <td>0.015030</td>\n",
       "      <td>0.012213</td>\n",
       "      <td>0.019482</td>\n",
       "    </tr>\n",
       "    <tr>\n",
       "      <th>BA</th>\n",
       "      <td>0.026320</td>\n",
       "      <td>0.064442</td>\n",
       "      <td>0.028154</td>\n",
       "      <td>0.031532</td>\n",
       "      <td>0.028079</td>\n",
       "      <td>0.028681</td>\n",
       "      <td>0.034109</td>\n",
       "      <td>0.017858</td>\n",
       "      <td>0.014637</td>\n",
       "      <td>0.023519</td>\n",
       "    </tr>\n",
       "    <tr>\n",
       "      <th>TSLA</th>\n",
       "      <td>0.035018</td>\n",
       "      <td>0.028154</td>\n",
       "      <td>0.229940</td>\n",
       "      <td>0.041285</td>\n",
       "      <td>0.023631</td>\n",
       "      <td>0.034706</td>\n",
       "      <td>0.045234</td>\n",
       "      <td>0.012347</td>\n",
       "      <td>0.023461</td>\n",
       "      <td>0.019655</td>\n",
       "    </tr>\n",
       "    <tr>\n",
       "      <th>BABA</th>\n",
       "      <td>0.035597</td>\n",
       "      <td>0.031532</td>\n",
       "      <td>0.041285</td>\n",
       "      <td>0.100194</td>\n",
       "      <td>0.027906</td>\n",
       "      <td>0.043376</td>\n",
       "      <td>0.051852</td>\n",
       "      <td>0.017723</td>\n",
       "      <td>0.018471</td>\n",
       "      <td>0.020923</td>\n",
       "    </tr>\n",
       "    <tr>\n",
       "      <th>GS</th>\n",
       "      <td>0.025481</td>\n",
       "      <td>0.028079</td>\n",
       "      <td>0.023631</td>\n",
       "      <td>0.027906</td>\n",
       "      <td>0.052992</td>\n",
       "      <td>0.027371</td>\n",
       "      <td>0.028061</td>\n",
       "      <td>0.017244</td>\n",
       "      <td>0.022015</td>\n",
       "      <td>0.035589</td>\n",
       "    </tr>\n",
       "  </tbody>\n",
       "</table>\n",
       "</div>"
      ],
      "text/plain": [
       "Symbols      AAPL        BA      TSLA      BABA        GS      GOOG      AMZN  \\\n",
       "Symbols                                                                         \n",
       "AAPL     0.056962  0.026320  0.035018  0.035597  0.025481  0.034471  0.043662   \n",
       "BA       0.026320  0.064442  0.028154  0.031532  0.028079  0.028681  0.034109   \n",
       "TSLA     0.035018  0.028154  0.229940  0.041285  0.023631  0.034706  0.045234   \n",
       "BABA     0.035597  0.031532  0.041285  0.100194  0.027906  0.043376  0.051852   \n",
       "GS       0.025481  0.028079  0.023631  0.027906  0.052992  0.027371  0.028061   \n",
       "\n",
       "Symbols        TM         F       JPM  \n",
       "Symbols                                \n",
       "AAPL     0.015030  0.012213  0.019482  \n",
       "BA       0.017858  0.014637  0.023519  \n",
       "TSLA     0.012347  0.023461  0.019655  \n",
       "BABA     0.017723  0.018471  0.020923  \n",
       "GS       0.017244  0.022015  0.035589  "
      ]
     },
     "execution_count": 9,
     "metadata": {},
     "output_type": "execute_result"
    }
   ],
   "source": [
    "Cov.head()"
   ]
  },
  {
   "cell_type": "markdown",
   "metadata": {},
   "source": [
    "#### Investor-specific threshold level of risk L"
   ]
  },
  {
   "cell_type": "code",
   "execution_count": 10,
   "metadata": {},
   "outputs": [],
   "source": [
    "L=1"
   ]
  },
  {
   "cell_type": "markdown",
   "metadata": {},
   "source": [
    "#### $x_{mkt}$"
   ]
  },
  {
   "cell_type": "code",
   "execution_count": 11,
   "metadata": {},
   "outputs": [],
   "source": [
    "mkt=pdr.get_quote_yahoo(icode)['marketCap']\n",
    "mkt=mkt/(np.sum(mkt))"
   ]
  },
  {
   "cell_type": "code",
   "execution_count": 12,
   "metadata": {},
   "outputs": [
    {
     "data": {
      "text/plain": [
       "AAPL    0.268756\n",
       "BA      0.016334\n",
       "TSLA    0.031269\n",
       "BABA    0.120941\n",
       "GS      0.014179\n",
       "GOOG    0.186617\n",
       "AMZN    0.254360\n",
       "TM      0.038819\n",
       "F       0.004717\n",
       "JPM     0.064008\n",
       "Name: marketCap, dtype: float64"
      ]
     },
     "execution_count": 12,
     "metadata": {},
     "output_type": "execute_result"
    }
   ],
   "source": [
    "mkt"
   ]
  },
  {
   "cell_type": "code",
   "execution_count": 13,
   "metadata": {},
   "outputs": [
    {
     "data": {
      "text/plain": [
       "Symbols\n",
       "AAPL    0.169469\n",
       "BA      0.385788\n",
       "TSLA    0.215126\n",
       "BABA    0.219486\n",
       "GS     -0.172359\n",
       "GOOG    0.138631\n",
       "AMZN    0.346854\n",
       "TM      0.021575\n",
       "F      -0.196012\n",
       "JPM     0.082235\n",
       "dtype: float64"
      ]
     },
     "execution_count": 13,
     "metadata": {},
     "output_type": "execute_result"
    }
   ],
   "source": [
    "mu"
   ]
  },
  {
   "cell_type": "markdown",
   "metadata": {},
   "source": [
    "#### Directly $x_{hist}$"
   ]
  },
  {
   "cell_type": "code",
   "execution_count": 14,
   "metadata": {},
   "outputs": [],
   "source": [
    "def opt1(mu,C,rf):\n",
    "    \n",
    "    e=np.zeros(num)+1\n",
    "    \n",
    "    def markowitz(weights,mu,C,rf):\n",
    "    \n",
    "        weights=np.array(weights)\n",
    "    \n",
    "        obj_func = np.dot(mu.T,weights) +  (1-np.dot(e.T,weights))*rf\n",
    "    \n",
    "        #print (-obj_func,weights)\n",
    "        return -obj_func\n",
    "\n",
    "        \n",
    "    cons = ({'type':'eq', 'fun':lambda x: np.sum(x)-1},\n",
    "       {'type':'ineq', 'fun':lambda x: -np.sqrt(np.dot(np.dot(x.T,C),x))+L})\n",
    "\n",
    "    #No short constraint\n",
    "    #bnds = [(0,1)]*num\n",
    "    weights = np.ones(num)/num\n",
    "    res = scipy.optimize.minimize(markowitz, weights,(mu,C,rf), method = 'SLSQP',  constraints = cons)\n",
    "    print(res)\n",
    "    if not res.success: raise BaseException(res.message)\n",
    "    return res"
   ]
  },
  {
   "cell_type": "code",
   "execution_count": 15,
   "metadata": {},
   "outputs": [
    {
     "name": "stdout",
     "output_type": "stream",
     "text": [
      "     fun: -3.031142351161039\n",
      "     jac: array([-0.15526837, -0.37158778, -0.20092502, -0.20528576,  0.18656018,\n",
      "       -0.12443   , -0.33265305, -0.00737458,  0.21021265, -0.06803393])\n",
      " message: 'Optimization terminated successfully.'\n",
      "    nfev: 325\n",
      "     nit: 27\n",
      "    njev: 27\n",
      "  status: 0\n",
      " success: True\n",
      "       x: array([ 0.18646525,  2.34778699,  0.10030026,  0.29286346, -5.25907165,\n",
      "       -0.49518406,  1.34622111, -0.26903583, -1.73543583,  4.4850903 ])\n",
      "[18.647, 234.779, 10.03, 29.286, -525.907, -49.518, 134.622, -26.904, -173.544, 448.509]\n"
     ]
    }
   ],
   "source": [
    "num = 10\n",
    "w = opt1(mu,Cov,rf).x *100\n",
    "w = list(map(lambda x:round(x, 3), w))\n",
    "print (w)"
   ]
  },
  {
   "cell_type": "code",
   "execution_count": 16,
   "metadata": {},
   "outputs": [
    {
     "data": {
      "text/plain": [
       "99.99999999999989"
      ]
     },
     "execution_count": 16,
     "metadata": {},
     "output_type": "execute_result"
    }
   ],
   "source": [
    "sum(w)"
   ]
  },
  {
   "cell_type": "markdown",
   "metadata": {},
   "source": [
    "#### BL model\n",
    "$\\delta$"
   ]
  },
  {
   "cell_type": "code",
   "execution_count": 17,
   "metadata": {},
   "outputs": [],
   "source": [
    "delta=1.25"
   ]
  },
  {
   "cell_type": "markdown",
   "metadata": {},
   "source": [
    "$P$"
   ]
  },
  {
   "cell_type": "code",
   "execution_count": 18,
   "metadata": {},
   "outputs": [],
   "source": [
    "P=[-0.1,0,0,-0.2,0.4,-0.1,0.3,0,-0.4,0.1]\n",
    "P=np.array(P)\n",
    "P.sum()\n",
    "P = -P"
   ]
  },
  {
   "cell_type": "markdown",
   "metadata": {},
   "source": [
    "$\\hat{\\Sigma}$"
   ]
  },
  {
   "cell_type": "code",
   "execution_count": 19,
   "metadata": {},
   "outputs": [],
   "source": [
    "Cov1=Cov"
   ]
  },
  {
   "cell_type": "code",
   "execution_count": 20,
   "metadata": {},
   "outputs": [
    {
     "data": {
      "text/html": [
       "<div>\n",
       "<style scoped>\n",
       "    .dataframe tbody tr th:only-of-type {\n",
       "        vertical-align: middle;\n",
       "    }\n",
       "\n",
       "    .dataframe tbody tr th {\n",
       "        vertical-align: top;\n",
       "    }\n",
       "\n",
       "    .dataframe thead th {\n",
       "        text-align: right;\n",
       "    }\n",
       "</style>\n",
       "<table border=\"1\" class=\"dataframe\">\n",
       "  <thead>\n",
       "    <tr style=\"text-align: right;\">\n",
       "      <th>Symbols</th>\n",
       "      <th>AAPL</th>\n",
       "      <th>BA</th>\n",
       "      <th>TSLA</th>\n",
       "      <th>BABA</th>\n",
       "      <th>GS</th>\n",
       "      <th>GOOG</th>\n",
       "      <th>AMZN</th>\n",
       "      <th>TM</th>\n",
       "      <th>F</th>\n",
       "      <th>JPM</th>\n",
       "    </tr>\n",
       "    <tr>\n",
       "      <th>Symbols</th>\n",
       "      <th></th>\n",
       "      <th></th>\n",
       "      <th></th>\n",
       "      <th></th>\n",
       "      <th></th>\n",
       "      <th></th>\n",
       "      <th></th>\n",
       "      <th></th>\n",
       "      <th></th>\n",
       "      <th></th>\n",
       "    </tr>\n",
       "  </thead>\n",
       "  <tbody>\n",
       "    <tr>\n",
       "      <th>AAPL</th>\n",
       "      <td>0.056962</td>\n",
       "      <td>0.026320</td>\n",
       "      <td>0.035018</td>\n",
       "      <td>0.035597</td>\n",
       "      <td>0.025481</td>\n",
       "      <td>0.034471</td>\n",
       "      <td>0.043662</td>\n",
       "      <td>0.015030</td>\n",
       "      <td>0.012213</td>\n",
       "      <td>0.019482</td>\n",
       "    </tr>\n",
       "    <tr>\n",
       "      <th>BA</th>\n",
       "      <td>0.026320</td>\n",
       "      <td>0.064442</td>\n",
       "      <td>0.028154</td>\n",
       "      <td>0.031532</td>\n",
       "      <td>0.028079</td>\n",
       "      <td>0.028681</td>\n",
       "      <td>0.034109</td>\n",
       "      <td>0.017858</td>\n",
       "      <td>0.014637</td>\n",
       "      <td>0.023519</td>\n",
       "    </tr>\n",
       "    <tr>\n",
       "      <th>TSLA</th>\n",
       "      <td>0.035018</td>\n",
       "      <td>0.028154</td>\n",
       "      <td>0.229940</td>\n",
       "      <td>0.041285</td>\n",
       "      <td>0.023631</td>\n",
       "      <td>0.034706</td>\n",
       "      <td>0.045234</td>\n",
       "      <td>0.012347</td>\n",
       "      <td>0.023461</td>\n",
       "      <td>0.019655</td>\n",
       "    </tr>\n",
       "    <tr>\n",
       "      <th>BABA</th>\n",
       "      <td>0.035597</td>\n",
       "      <td>0.031532</td>\n",
       "      <td>0.041285</td>\n",
       "      <td>0.100194</td>\n",
       "      <td>0.027906</td>\n",
       "      <td>0.043376</td>\n",
       "      <td>0.051852</td>\n",
       "      <td>0.017723</td>\n",
       "      <td>0.018471</td>\n",
       "      <td>0.020923</td>\n",
       "    </tr>\n",
       "    <tr>\n",
       "      <th>GS</th>\n",
       "      <td>0.025481</td>\n",
       "      <td>0.028079</td>\n",
       "      <td>0.023631</td>\n",
       "      <td>0.027906</td>\n",
       "      <td>0.052992</td>\n",
       "      <td>0.027371</td>\n",
       "      <td>0.028061</td>\n",
       "      <td>0.017244</td>\n",
       "      <td>0.022015</td>\n",
       "      <td>0.035589</td>\n",
       "    </tr>\n",
       "    <tr>\n",
       "      <th>GOOG</th>\n",
       "      <td>0.034471</td>\n",
       "      <td>0.028681</td>\n",
       "      <td>0.034706</td>\n",
       "      <td>0.043376</td>\n",
       "      <td>0.027371</td>\n",
       "      <td>0.051729</td>\n",
       "      <td>0.048904</td>\n",
       "      <td>0.018814</td>\n",
       "      <td>0.015602</td>\n",
       "      <td>0.020515</td>\n",
       "    </tr>\n",
       "    <tr>\n",
       "      <th>AMZN</th>\n",
       "      <td>0.043662</td>\n",
       "      <td>0.034109</td>\n",
       "      <td>0.045234</td>\n",
       "      <td>0.051852</td>\n",
       "      <td>0.028061</td>\n",
       "      <td>0.048904</td>\n",
       "      <td>0.086385</td>\n",
       "      <td>0.017119</td>\n",
       "      <td>0.014872</td>\n",
       "      <td>0.020684</td>\n",
       "    </tr>\n",
       "    <tr>\n",
       "      <th>TM</th>\n",
       "      <td>0.015030</td>\n",
       "      <td>0.017858</td>\n",
       "      <td>0.012347</td>\n",
       "      <td>0.017723</td>\n",
       "      <td>0.017244</td>\n",
       "      <td>0.018814</td>\n",
       "      <td>0.017119</td>\n",
       "      <td>0.026472</td>\n",
       "      <td>0.014425</td>\n",
       "      <td>0.014592</td>\n",
       "    </tr>\n",
       "    <tr>\n",
       "      <th>F</th>\n",
       "      <td>0.012213</td>\n",
       "      <td>0.014637</td>\n",
       "      <td>0.023461</td>\n",
       "      <td>0.018471</td>\n",
       "      <td>0.022015</td>\n",
       "      <td>0.015602</td>\n",
       "      <td>0.014872</td>\n",
       "      <td>0.014425</td>\n",
       "      <td>0.053109</td>\n",
       "      <td>0.020259</td>\n",
       "    </tr>\n",
       "    <tr>\n",
       "      <th>JPM</th>\n",
       "      <td>0.019482</td>\n",
       "      <td>0.023519</td>\n",
       "      <td>0.019655</td>\n",
       "      <td>0.020923</td>\n",
       "      <td>0.035589</td>\n",
       "      <td>0.020515</td>\n",
       "      <td>0.020684</td>\n",
       "      <td>0.014592</td>\n",
       "      <td>0.020259</td>\n",
       "      <td>0.037703</td>\n",
       "    </tr>\n",
       "  </tbody>\n",
       "</table>\n",
       "</div>"
      ],
      "text/plain": [
       "Symbols      AAPL        BA      TSLA      BABA        GS      GOOG      AMZN  \\\n",
       "Symbols                                                                         \n",
       "AAPL     0.056962  0.026320  0.035018  0.035597  0.025481  0.034471  0.043662   \n",
       "BA       0.026320  0.064442  0.028154  0.031532  0.028079  0.028681  0.034109   \n",
       "TSLA     0.035018  0.028154  0.229940  0.041285  0.023631  0.034706  0.045234   \n",
       "BABA     0.035597  0.031532  0.041285  0.100194  0.027906  0.043376  0.051852   \n",
       "GS       0.025481  0.028079  0.023631  0.027906  0.052992  0.027371  0.028061   \n",
       "GOOG     0.034471  0.028681  0.034706  0.043376  0.027371  0.051729  0.048904   \n",
       "AMZN     0.043662  0.034109  0.045234  0.051852  0.028061  0.048904  0.086385   \n",
       "TM       0.015030  0.017858  0.012347  0.017723  0.017244  0.018814  0.017119   \n",
       "F        0.012213  0.014637  0.023461  0.018471  0.022015  0.015602  0.014872   \n",
       "JPM      0.019482  0.023519  0.019655  0.020923  0.035589  0.020515  0.020684   \n",
       "\n",
       "Symbols        TM         F       JPM  \n",
       "Symbols                                \n",
       "AAPL     0.015030  0.012213  0.019482  \n",
       "BA       0.017858  0.014637  0.023519  \n",
       "TSLA     0.012347  0.023461  0.019655  \n",
       "BABA     0.017723  0.018471  0.020923  \n",
       "GS       0.017244  0.022015  0.035589  \n",
       "GOOG     0.018814  0.015602  0.020515  \n",
       "AMZN     0.017119  0.014872  0.020684  \n",
       "TM       0.026472  0.014425  0.014592  \n",
       "F        0.014425  0.053109  0.020259  \n",
       "JPM      0.014592  0.020259  0.037703  "
      ]
     },
     "execution_count": 20,
     "metadata": {},
     "output_type": "execute_result"
    }
   ],
   "source": [
    "Cov1"
   ]
  },
  {
   "cell_type": "markdown",
   "metadata": {},
   "source": [
    "$\\hat{r}$"
   ]
  },
  {
   "cell_type": "code",
   "execution_count": 21,
   "metadata": {},
   "outputs": [
    {
     "data": {
      "text/plain": [
       "AAPL    0.268756\n",
       "BA      0.016334\n",
       "TSLA    0.031269\n",
       "BABA    0.120941\n",
       "GS      0.014179\n",
       "GOOG    0.186617\n",
       "AMZN    0.254360\n",
       "TM      0.038819\n",
       "F       0.004717\n",
       "JPM     0.064008\n",
       "Name: marketCap, dtype: float64"
      ]
     },
     "execution_count": 21,
     "metadata": {},
     "output_type": "execute_result"
    }
   ],
   "source": [
    "mkt"
   ]
  },
  {
   "cell_type": "code",
   "execution_count": 22,
   "metadata": {},
   "outputs": [
    {
     "data": {
      "text/plain": [
       "(10,)"
      ]
     },
     "execution_count": 22,
     "metadata": {},
     "output_type": "execute_result"
    }
   ],
   "source": [
    "(2*delta*np.dot(Cov,mkt)).shape"
   ]
  },
  {
   "cell_type": "code",
   "execution_count": 23,
   "metadata": {},
   "outputs": [],
   "source": [
    "e = np.ones(10)\n",
    "r_hat=rf*e+2*delta*np.dot(Cov,mkt)"
   ]
  },
  {
   "cell_type": "code",
   "execution_count": 24,
   "metadata": {},
   "outputs": [
    {
     "data": {
      "text/plain": [
       "array([1., 1., 1., 1., 1., 1., 1., 1., 1., 1.])"
      ]
     },
     "execution_count": 24,
     "metadata": {},
     "output_type": "execute_result"
    }
   ],
   "source": [
    "e"
   ]
  },
  {
   "cell_type": "code",
   "execution_count": 25,
   "metadata": {},
   "outputs": [
    {
     "data": {
      "text/plain": [
       "array([0.11651814, 0.08798639, 0.11975029, 0.13241186, 0.08287265,\n",
       "       0.11585523, 0.14803261, 0.05670152, 0.05320767, 0.06778732])"
      ]
     },
     "execution_count": 25,
     "metadata": {},
     "output_type": "execute_result"
    }
   ],
   "source": [
    "r_hat"
   ]
  },
  {
   "cell_type": "markdown",
   "metadata": {},
   "source": [
    "$q$"
   ]
  },
  {
   "cell_type": "code",
   "execution_count": 26,
   "metadata": {},
   "outputs": [],
   "source": [
    "q=np.dot(P.T,r_hat)\n",
    "q=np.array([q])"
   ]
  },
  {
   "cell_type": "code",
   "execution_count": 27,
   "metadata": {},
   "outputs": [
    {
     "data": {
      "text/plain": [
       "array([-0.0133348])"
      ]
     },
     "execution_count": 27,
     "metadata": {},
     "output_type": "execute_result"
    }
   ],
   "source": [
    "q"
   ]
  },
  {
   "cell_type": "markdown",
   "metadata": {},
   "source": [
    "$\\Omega$"
   ]
  },
  {
   "cell_type": "code",
   "execution_count": 28,
   "metadata": {},
   "outputs": [],
   "source": [
    "mm=1\n",
    "r0=1/24\n",
    "r1=0.02*r0\n",
    "rr=[r1]"
   ]
  },
  {
   "cell_type": "code",
   "execution_count": 29,
   "metadata": {},
   "outputs": [
    {
     "data": {
      "text/html": [
       "<div>\n",
       "<style scoped>\n",
       "    .dataframe tbody tr th:only-of-type {\n",
       "        vertical-align: middle;\n",
       "    }\n",
       "\n",
       "    .dataframe tbody tr th {\n",
       "        vertical-align: top;\n",
       "    }\n",
       "\n",
       "    .dataframe thead th {\n",
       "        text-align: right;\n",
       "    }\n",
       "</style>\n",
       "<table border=\"1\" class=\"dataframe\">\n",
       "  <thead>\n",
       "    <tr style=\"text-align: right;\">\n",
       "      <th>Symbols</th>\n",
       "      <th>AAPL</th>\n",
       "      <th>BA</th>\n",
       "      <th>TSLA</th>\n",
       "      <th>BABA</th>\n",
       "      <th>GS</th>\n",
       "      <th>GOOG</th>\n",
       "      <th>AMZN</th>\n",
       "      <th>TM</th>\n",
       "      <th>F</th>\n",
       "      <th>JPM</th>\n",
       "    </tr>\n",
       "    <tr>\n",
       "      <th>Symbols</th>\n",
       "      <th></th>\n",
       "      <th></th>\n",
       "      <th></th>\n",
       "      <th></th>\n",
       "      <th></th>\n",
       "      <th></th>\n",
       "      <th></th>\n",
       "      <th></th>\n",
       "      <th></th>\n",
       "      <th></th>\n",
       "    </tr>\n",
       "  </thead>\n",
       "  <tbody>\n",
       "    <tr>\n",
       "      <th>AAPL</th>\n",
       "      <td>0.056962</td>\n",
       "      <td>0.026320</td>\n",
       "      <td>0.035018</td>\n",
       "      <td>0.035597</td>\n",
       "      <td>0.025481</td>\n",
       "      <td>0.034471</td>\n",
       "      <td>0.043662</td>\n",
       "      <td>0.015030</td>\n",
       "      <td>0.012213</td>\n",
       "      <td>0.019482</td>\n",
       "    </tr>\n",
       "    <tr>\n",
       "      <th>BA</th>\n",
       "      <td>0.026320</td>\n",
       "      <td>0.064442</td>\n",
       "      <td>0.028154</td>\n",
       "      <td>0.031532</td>\n",
       "      <td>0.028079</td>\n",
       "      <td>0.028681</td>\n",
       "      <td>0.034109</td>\n",
       "      <td>0.017858</td>\n",
       "      <td>0.014637</td>\n",
       "      <td>0.023519</td>\n",
       "    </tr>\n",
       "    <tr>\n",
       "      <th>TSLA</th>\n",
       "      <td>0.035018</td>\n",
       "      <td>0.028154</td>\n",
       "      <td>0.229940</td>\n",
       "      <td>0.041285</td>\n",
       "      <td>0.023631</td>\n",
       "      <td>0.034706</td>\n",
       "      <td>0.045234</td>\n",
       "      <td>0.012347</td>\n",
       "      <td>0.023461</td>\n",
       "      <td>0.019655</td>\n",
       "    </tr>\n",
       "    <tr>\n",
       "      <th>BABA</th>\n",
       "      <td>0.035597</td>\n",
       "      <td>0.031532</td>\n",
       "      <td>0.041285</td>\n",
       "      <td>0.100194</td>\n",
       "      <td>0.027906</td>\n",
       "      <td>0.043376</td>\n",
       "      <td>0.051852</td>\n",
       "      <td>0.017723</td>\n",
       "      <td>0.018471</td>\n",
       "      <td>0.020923</td>\n",
       "    </tr>\n",
       "    <tr>\n",
       "      <th>GS</th>\n",
       "      <td>0.025481</td>\n",
       "      <td>0.028079</td>\n",
       "      <td>0.023631</td>\n",
       "      <td>0.027906</td>\n",
       "      <td>0.052992</td>\n",
       "      <td>0.027371</td>\n",
       "      <td>0.028061</td>\n",
       "      <td>0.017244</td>\n",
       "      <td>0.022015</td>\n",
       "      <td>0.035589</td>\n",
       "    </tr>\n",
       "    <tr>\n",
       "      <th>GOOG</th>\n",
       "      <td>0.034471</td>\n",
       "      <td>0.028681</td>\n",
       "      <td>0.034706</td>\n",
       "      <td>0.043376</td>\n",
       "      <td>0.027371</td>\n",
       "      <td>0.051729</td>\n",
       "      <td>0.048904</td>\n",
       "      <td>0.018814</td>\n",
       "      <td>0.015602</td>\n",
       "      <td>0.020515</td>\n",
       "    </tr>\n",
       "    <tr>\n",
       "      <th>AMZN</th>\n",
       "      <td>0.043662</td>\n",
       "      <td>0.034109</td>\n",
       "      <td>0.045234</td>\n",
       "      <td>0.051852</td>\n",
       "      <td>0.028061</td>\n",
       "      <td>0.048904</td>\n",
       "      <td>0.086385</td>\n",
       "      <td>0.017119</td>\n",
       "      <td>0.014872</td>\n",
       "      <td>0.020684</td>\n",
       "    </tr>\n",
       "    <tr>\n",
       "      <th>TM</th>\n",
       "      <td>0.015030</td>\n",
       "      <td>0.017858</td>\n",
       "      <td>0.012347</td>\n",
       "      <td>0.017723</td>\n",
       "      <td>0.017244</td>\n",
       "      <td>0.018814</td>\n",
       "      <td>0.017119</td>\n",
       "      <td>0.026472</td>\n",
       "      <td>0.014425</td>\n",
       "      <td>0.014592</td>\n",
       "    </tr>\n",
       "    <tr>\n",
       "      <th>F</th>\n",
       "      <td>0.012213</td>\n",
       "      <td>0.014637</td>\n",
       "      <td>0.023461</td>\n",
       "      <td>0.018471</td>\n",
       "      <td>0.022015</td>\n",
       "      <td>0.015602</td>\n",
       "      <td>0.014872</td>\n",
       "      <td>0.014425</td>\n",
       "      <td>0.053109</td>\n",
       "      <td>0.020259</td>\n",
       "    </tr>\n",
       "    <tr>\n",
       "      <th>JPM</th>\n",
       "      <td>0.019482</td>\n",
       "      <td>0.023519</td>\n",
       "      <td>0.019655</td>\n",
       "      <td>0.020923</td>\n",
       "      <td>0.035589</td>\n",
       "      <td>0.020515</td>\n",
       "      <td>0.020684</td>\n",
       "      <td>0.014592</td>\n",
       "      <td>0.020259</td>\n",
       "      <td>0.037703</td>\n",
       "    </tr>\n",
       "  </tbody>\n",
       "</table>\n",
       "</div>"
      ],
      "text/plain": [
       "Symbols      AAPL        BA      TSLA      BABA        GS      GOOG      AMZN  \\\n",
       "Symbols                                                                         \n",
       "AAPL     0.056962  0.026320  0.035018  0.035597  0.025481  0.034471  0.043662   \n",
       "BA       0.026320  0.064442  0.028154  0.031532  0.028079  0.028681  0.034109   \n",
       "TSLA     0.035018  0.028154  0.229940  0.041285  0.023631  0.034706  0.045234   \n",
       "BABA     0.035597  0.031532  0.041285  0.100194  0.027906  0.043376  0.051852   \n",
       "GS       0.025481  0.028079  0.023631  0.027906  0.052992  0.027371  0.028061   \n",
       "GOOG     0.034471  0.028681  0.034706  0.043376  0.027371  0.051729  0.048904   \n",
       "AMZN     0.043662  0.034109  0.045234  0.051852  0.028061  0.048904  0.086385   \n",
       "TM       0.015030  0.017858  0.012347  0.017723  0.017244  0.018814  0.017119   \n",
       "F        0.012213  0.014637  0.023461  0.018471  0.022015  0.015602  0.014872   \n",
       "JPM      0.019482  0.023519  0.019655  0.020923  0.035589  0.020515  0.020684   \n",
       "\n",
       "Symbols        TM         F       JPM  \n",
       "Symbols                                \n",
       "AAPL     0.015030  0.012213  0.019482  \n",
       "BA       0.017858  0.014637  0.023519  \n",
       "TSLA     0.012347  0.023461  0.019655  \n",
       "BABA     0.017723  0.018471  0.020923  \n",
       "GS       0.017244  0.022015  0.035589  \n",
       "GOOG     0.018814  0.015602  0.020515  \n",
       "AMZN     0.017119  0.014872  0.020684  \n",
       "TM       0.026472  0.014425  0.014592  \n",
       "F        0.014425  0.053109  0.020259  \n",
       "JPM      0.014592  0.020259  0.037703  "
      ]
     },
     "execution_count": 29,
     "metadata": {},
     "output_type": "execute_result"
    }
   ],
   "source": [
    "Cov"
   ]
  },
  {
   "cell_type": "code",
   "execution_count": 30,
   "metadata": {},
   "outputs": [],
   "source": [
    "num = 10"
   ]
  },
  {
   "cell_type": "code",
   "execution_count": 31,
   "metadata": {},
   "outputs": [
    {
     "data": {
      "text/plain": [
       "array([[0.00237342, 0.00109666, 0.00145909, 0.00148323, 0.00106172,\n",
       "        0.00143629, 0.00181924, 0.00062627, 0.00050889, 0.00081174,\n",
       "        0.        ],\n",
       "       [0.00109666, 0.00268507, 0.00117308, 0.00131383, 0.00116996,\n",
       "        0.00119506, 0.00142122, 0.00074406, 0.00060987, 0.00097996,\n",
       "        0.        ],\n",
       "       [0.00145909, 0.00117308, 0.00958084, 0.00172022, 0.00098462,\n",
       "        0.00144608, 0.00188477, 0.00051444, 0.00097755, 0.00081895,\n",
       "        0.        ],\n",
       "       [0.00148323, 0.00131383, 0.00172022, 0.00417473, 0.00116273,\n",
       "        0.00180734, 0.00216052, 0.00073845, 0.00076964, 0.00087181,\n",
       "        0.        ],\n",
       "       [0.00106172, 0.00116996, 0.00098462, 0.00116273, 0.002208  ,\n",
       "        0.00114047, 0.0011692 , 0.00071848, 0.00091728, 0.00148288,\n",
       "        0.        ],\n",
       "       [0.00143629, 0.00119506, 0.00144608, 0.00180734, 0.00114047,\n",
       "        0.00215536, 0.00203767, 0.00078392, 0.00065009, 0.00085481,\n",
       "        0.        ],\n",
       "       [0.00181924, 0.00142122, 0.00188477, 0.00216052, 0.0011692 ,\n",
       "        0.00203767, 0.00359939, 0.00071331, 0.00061965, 0.00086182,\n",
       "        0.        ],\n",
       "       [0.00062627, 0.00074406, 0.00051444, 0.00073845, 0.00071848,\n",
       "        0.00078392, 0.00071331, 0.00110299, 0.00060105, 0.000608  ,\n",
       "        0.        ],\n",
       "       [0.00050889, 0.00060987, 0.00097755, 0.00076964, 0.00091728,\n",
       "        0.00065009, 0.00061965, 0.00060105, 0.00221286, 0.00084411,\n",
       "        0.        ],\n",
       "       [0.00081174, 0.00097996, 0.00081895, 0.00087181, 0.00148288,\n",
       "        0.00085481, 0.00086182, 0.000608  , 0.00084411, 0.00157097,\n",
       "        0.        ],\n",
       "       [0.        , 0.        , 0.        , 0.        , 0.        ,\n",
       "        0.        , 0.        , 0.        , 0.        , 0.        ,\n",
       "        0.00083333]])"
      ]
     },
     "execution_count": 31,
     "metadata": {},
     "output_type": "execute_result"
    }
   ],
   "source": [
    "mm=1\n",
    "r0=1/24\n",
    "r1=0.02*r0\n",
    "rr=[r1]\n",
    "\n",
    "num = 10\n",
    "A1=Cov*r0\n",
    "A2=np.zeros((num,mm))\n",
    "A3=np.zeros((mm,num))\n",
    "A4=np.diag(rr)\n",
    "\n",
    "Omega1=np.concatenate((A1,A2),axis=1)\n",
    "Omega2=np.concatenate((A3,A4),axis=1)\n",
    "Omega=np.concatenate((Omega1,Omega2),axis=0)\n",
    "Omega\n",
    "# A1=np.insert(Cov*r0,-1)"
   ]
  },
  {
   "cell_type": "markdown",
   "metadata": {},
   "source": [
    "$\\Sigma^{BL}$"
   ]
  },
  {
   "cell_type": "code",
   "execution_count": 32,
   "metadata": {},
   "outputs": [
    {
     "data": {
      "text/plain": [
       "(11, 10)"
      ]
     },
     "execution_count": 32,
     "metadata": {},
     "output_type": "execute_result"
    }
   ],
   "source": [
    "B1=np.eye(num,num)\n",
    "P=P.reshape(1,num)\n",
    "B=np.concatenate((B1,P),axis=0)\n",
    "B.shape"
   ]
  },
  {
   "cell_type": "code",
   "execution_count": 33,
   "metadata": {},
   "outputs": [],
   "source": [
    "Cov2=np.dot(np.dot(B.T,np.linalg.inv(Omega)),B)\n",
    "Cov2 = np.linalg.inv(Cov2)"
   ]
  },
  {
   "cell_type": "code",
   "execution_count": 34,
   "metadata": {},
   "outputs": [
    {
     "data": {
      "text/plain": [
       "array([[0.0023539 , 0.0010673 , 0.0014573 , 0.0015143 , 0.00099731,\n",
       "        0.00141657, 0.0017542 , 0.00062248, 0.00056816, 0.00077394],\n",
       "       [0.0010673 , 0.0026409 , 0.00117039, 0.00136058, 0.00107306,\n",
       "        0.00116538, 0.00132338, 0.00073837, 0.00069906, 0.0009231 ],\n",
       "       [0.0014573 , 0.00117039, 0.00958068, 0.00172307, 0.00097873,\n",
       "        0.00144427, 0.00187882, 0.00051409, 0.00098297, 0.00081549],\n",
       "       [0.0015143 , 0.00136058, 0.00172307, 0.00412525, 0.00126529,\n",
       "        0.00183875, 0.00226407, 0.00074447, 0.00067525, 0.00093199],\n",
       "       [0.00099731, 0.00107306, 0.00097873, 0.00126529, 0.00199543,\n",
       "        0.00107536, 0.00095458, 0.00070599, 0.00111291, 0.00135814],\n",
       "       [0.00141657, 0.00116538, 0.00144427, 0.00183875, 0.00107536,\n",
       "        0.00213542, 0.00197194, 0.0007801 , 0.00071001, 0.0008166 ],\n",
       "       [0.0017542 , 0.00132338, 0.00187882, 0.00226407, 0.00095458,\n",
       "        0.00197194, 0.00338268, 0.0007007 , 0.00081718, 0.00073588],\n",
       "       [0.00062248, 0.00073837, 0.00051409, 0.00074447, 0.00070599,\n",
       "        0.0007801 , 0.0007007 , 0.00110226, 0.00061255, 0.00060067],\n",
       "       [0.00056816, 0.00069906, 0.00098297, 0.00067525, 0.00111291,\n",
       "        0.00071001, 0.00081718, 0.00061255, 0.00203282, 0.00095891],\n",
       "       [0.00077394, 0.0009231 , 0.00081549, 0.00093199, 0.00135814,\n",
       "        0.0008166 , 0.00073588, 0.00060067, 0.00095891, 0.00149777]])"
      ]
     },
     "execution_count": 34,
     "metadata": {},
     "output_type": "execute_result"
    }
   ],
   "source": [
    "Cov2"
   ]
  },
  {
   "cell_type": "code",
   "execution_count": 35,
   "metadata": {},
   "outputs": [],
   "source": [
    "Cov_BL=Cov1+Cov2"
   ]
  },
  {
   "cell_type": "code",
   "execution_count": 36,
   "metadata": {},
   "outputs": [
    {
     "data": {
      "text/html": [
       "<div>\n",
       "<style scoped>\n",
       "    .dataframe tbody tr th:only-of-type {\n",
       "        vertical-align: middle;\n",
       "    }\n",
       "\n",
       "    .dataframe tbody tr th {\n",
       "        vertical-align: top;\n",
       "    }\n",
       "\n",
       "    .dataframe thead th {\n",
       "        text-align: right;\n",
       "    }\n",
       "</style>\n",
       "<table border=\"1\" class=\"dataframe\">\n",
       "  <thead>\n",
       "    <tr style=\"text-align: right;\">\n",
       "      <th>Symbols</th>\n",
       "      <th>AAPL</th>\n",
       "      <th>BA</th>\n",
       "      <th>TSLA</th>\n",
       "      <th>BABA</th>\n",
       "      <th>GS</th>\n",
       "      <th>GOOG</th>\n",
       "      <th>AMZN</th>\n",
       "      <th>TM</th>\n",
       "      <th>F</th>\n",
       "      <th>JPM</th>\n",
       "    </tr>\n",
       "    <tr>\n",
       "      <th>Symbols</th>\n",
       "      <th></th>\n",
       "      <th></th>\n",
       "      <th></th>\n",
       "      <th></th>\n",
       "      <th></th>\n",
       "      <th></th>\n",
       "      <th></th>\n",
       "      <th></th>\n",
       "      <th></th>\n",
       "      <th></th>\n",
       "    </tr>\n",
       "  </thead>\n",
       "  <tbody>\n",
       "    <tr>\n",
       "      <th>AAPL</th>\n",
       "      <td>0.059316</td>\n",
       "      <td>0.027387</td>\n",
       "      <td>0.036475</td>\n",
       "      <td>0.037112</td>\n",
       "      <td>0.026478</td>\n",
       "      <td>0.035888</td>\n",
       "      <td>0.045416</td>\n",
       "      <td>0.015653</td>\n",
       "      <td>0.012781</td>\n",
       "      <td>0.020256</td>\n",
       "    </tr>\n",
       "    <tr>\n",
       "      <th>BA</th>\n",
       "      <td>0.027387</td>\n",
       "      <td>0.067083</td>\n",
       "      <td>0.029324</td>\n",
       "      <td>0.032892</td>\n",
       "      <td>0.029152</td>\n",
       "      <td>0.029847</td>\n",
       "      <td>0.035433</td>\n",
       "      <td>0.018596</td>\n",
       "      <td>0.015336</td>\n",
       "      <td>0.024442</td>\n",
       "    </tr>\n",
       "    <tr>\n",
       "      <th>TSLA</th>\n",
       "      <td>0.036475</td>\n",
       "      <td>0.029324</td>\n",
       "      <td>0.239521</td>\n",
       "      <td>0.043008</td>\n",
       "      <td>0.024610</td>\n",
       "      <td>0.036150</td>\n",
       "      <td>0.047113</td>\n",
       "      <td>0.012861</td>\n",
       "      <td>0.024444</td>\n",
       "      <td>0.020470</td>\n",
       "    </tr>\n",
       "    <tr>\n",
       "      <th>BABA</th>\n",
       "      <td>0.037112</td>\n",
       "      <td>0.032892</td>\n",
       "      <td>0.043008</td>\n",
       "      <td>0.104319</td>\n",
       "      <td>0.029171</td>\n",
       "      <td>0.045215</td>\n",
       "      <td>0.054116</td>\n",
       "      <td>0.018467</td>\n",
       "      <td>0.019147</td>\n",
       "      <td>0.021855</td>\n",
       "    </tr>\n",
       "    <tr>\n",
       "      <th>GS</th>\n",
       "      <td>0.026478</td>\n",
       "      <td>0.029152</td>\n",
       "      <td>0.024610</td>\n",
       "      <td>0.029171</td>\n",
       "      <td>0.054987</td>\n",
       "      <td>0.028447</td>\n",
       "      <td>0.029015</td>\n",
       "      <td>0.017950</td>\n",
       "      <td>0.023128</td>\n",
       "      <td>0.036947</td>\n",
       "    </tr>\n",
       "    <tr>\n",
       "      <th>GOOG</th>\n",
       "      <td>0.035888</td>\n",
       "      <td>0.029847</td>\n",
       "      <td>0.036150</td>\n",
       "      <td>0.045215</td>\n",
       "      <td>0.028447</td>\n",
       "      <td>0.053864</td>\n",
       "      <td>0.050876</td>\n",
       "      <td>0.019594</td>\n",
       "      <td>0.016312</td>\n",
       "      <td>0.021332</td>\n",
       "    </tr>\n",
       "    <tr>\n",
       "      <th>AMZN</th>\n",
       "      <td>0.045416</td>\n",
       "      <td>0.035433</td>\n",
       "      <td>0.047113</td>\n",
       "      <td>0.054116</td>\n",
       "      <td>0.029015</td>\n",
       "      <td>0.050876</td>\n",
       "      <td>0.089768</td>\n",
       "      <td>0.017820</td>\n",
       "      <td>0.015689</td>\n",
       "      <td>0.021420</td>\n",
       "    </tr>\n",
       "    <tr>\n",
       "      <th>TM</th>\n",
       "      <td>0.015653</td>\n",
       "      <td>0.018596</td>\n",
       "      <td>0.012861</td>\n",
       "      <td>0.018467</td>\n",
       "      <td>0.017950</td>\n",
       "      <td>0.019594</td>\n",
       "      <td>0.017820</td>\n",
       "      <td>0.027574</td>\n",
       "      <td>0.015038</td>\n",
       "      <td>0.015193</td>\n",
       "    </tr>\n",
       "    <tr>\n",
       "      <th>F</th>\n",
       "      <td>0.012781</td>\n",
       "      <td>0.015336</td>\n",
       "      <td>0.024444</td>\n",
       "      <td>0.019147</td>\n",
       "      <td>0.023128</td>\n",
       "      <td>0.016312</td>\n",
       "      <td>0.015689</td>\n",
       "      <td>0.015038</td>\n",
       "      <td>0.055141</td>\n",
       "      <td>0.021218</td>\n",
       "    </tr>\n",
       "    <tr>\n",
       "      <th>JPM</th>\n",
       "      <td>0.020256</td>\n",
       "      <td>0.024442</td>\n",
       "      <td>0.020470</td>\n",
       "      <td>0.021855</td>\n",
       "      <td>0.036947</td>\n",
       "      <td>0.021332</td>\n",
       "      <td>0.021420</td>\n",
       "      <td>0.015193</td>\n",
       "      <td>0.021218</td>\n",
       "      <td>0.039201</td>\n",
       "    </tr>\n",
       "  </tbody>\n",
       "</table>\n",
       "</div>"
      ],
      "text/plain": [
       "Symbols      AAPL        BA      TSLA      BABA        GS      GOOG      AMZN  \\\n",
       "Symbols                                                                         \n",
       "AAPL     0.059316  0.027387  0.036475  0.037112  0.026478  0.035888  0.045416   \n",
       "BA       0.027387  0.067083  0.029324  0.032892  0.029152  0.029847  0.035433   \n",
       "TSLA     0.036475  0.029324  0.239521  0.043008  0.024610  0.036150  0.047113   \n",
       "BABA     0.037112  0.032892  0.043008  0.104319  0.029171  0.045215  0.054116   \n",
       "GS       0.026478  0.029152  0.024610  0.029171  0.054987  0.028447  0.029015   \n",
       "GOOG     0.035888  0.029847  0.036150  0.045215  0.028447  0.053864  0.050876   \n",
       "AMZN     0.045416  0.035433  0.047113  0.054116  0.029015  0.050876  0.089768   \n",
       "TM       0.015653  0.018596  0.012861  0.018467  0.017950  0.019594  0.017820   \n",
       "F        0.012781  0.015336  0.024444  0.019147  0.023128  0.016312  0.015689   \n",
       "JPM      0.020256  0.024442  0.020470  0.021855  0.036947  0.021332  0.021420   \n",
       "\n",
       "Symbols        TM         F       JPM  \n",
       "Symbols                                \n",
       "AAPL     0.015653  0.012781  0.020256  \n",
       "BA       0.018596  0.015336  0.024442  \n",
       "TSLA     0.012861  0.024444  0.020470  \n",
       "BABA     0.018467  0.019147  0.021855  \n",
       "GS       0.017950  0.023128  0.036947  \n",
       "GOOG     0.019594  0.016312  0.021332  \n",
       "AMZN     0.017820  0.015689  0.021420  \n",
       "TM       0.027574  0.015038  0.015193  \n",
       "F        0.015038  0.055141  0.021218  \n",
       "JPM      0.015193  0.021218  0.039201  "
      ]
     },
     "execution_count": 36,
     "metadata": {},
     "output_type": "execute_result"
    }
   ],
   "source": [
    "Cov_BL"
   ]
  },
  {
   "cell_type": "code",
   "execution_count": 37,
   "metadata": {},
   "outputs": [],
   "source": [
    "# B1=np.eye(1,1)\n",
    "# P=P.reshape(-1,1)\n",
    "# B=np.concatenate((B1,P),axis=0)\n",
    "# # B.shape\n",
    "# # Cov2=np.dot(np.dot(B.T,np.linalg.inv(Omega)),B)\n",
    "# # Cov2"
   ]
  },
  {
   "cell_type": "code",
   "execution_count": null,
   "metadata": {},
   "outputs": [],
   "source": []
  },
  {
   "cell_type": "markdown",
   "metadata": {},
   "source": [
    "$\\mu^{BL}$"
   ]
  },
  {
   "cell_type": "code",
   "execution_count": 38,
   "metadata": {},
   "outputs": [
    {
     "data": {
      "text/plain": [
       "array([ 0.11651814,  0.08798639,  0.11975029,  0.13241186,  0.08287265,\n",
       "        0.11585523,  0.14803261,  0.05670152,  0.05320767,  0.06778732,\n",
       "       -0.0133348 ])"
      ]
     },
     "execution_count": 38,
     "metadata": {},
     "output_type": "execute_result"
    }
   ],
   "source": [
    "C3=np.concatenate((r_hat,q),axis=0)\n",
    "C3"
   ]
  },
  {
   "cell_type": "code",
   "execution_count": 39,
   "metadata": {},
   "outputs": [],
   "source": [
    "C1=np.dot(np.linalg.inv(Cov2),B.T)\n",
    "C2=np.dot(np.linalg.inv(Omega),C3)\n",
    "mu_BL=np.dot(C1,C2)\n",
    "\n",
    "C1=np.dot(np.linalg.inv(Cov2),B.T)\n",
    "C2=np.dot(Omega,C3)\n",
    "mu_BL=np.dot(C1,C2)\n",
    "\n",
    "C1=np.dot(Cov2,B.T)\n",
    "C2=np.dot(np.linalg.inv(Omega),C3)\n",
    "mu_BL=np.dot(C1,C2)"
   ]
  },
  {
   "cell_type": "code",
   "execution_count": 40,
   "metadata": {},
   "outputs": [
    {
     "data": {
      "text/plain": [
       "array([0.11651814, 0.08798639, 0.11975029, 0.13241186, 0.08287265,\n",
       "       0.11585523, 0.14803261, 0.05670152, 0.05320767, 0.06778732])"
      ]
     },
     "execution_count": 40,
     "metadata": {},
     "output_type": "execute_result"
    }
   ],
   "source": [
    "mu_BL"
   ]
  },
  {
   "cell_type": "code",
   "execution_count": 41,
   "metadata": {},
   "outputs": [
    {
     "data": {
      "text/plain": [
       "Symbols\n",
       "AAPL    0.169469\n",
       "BA      0.385788\n",
       "TSLA    0.215126\n",
       "BABA    0.219486\n",
       "GS     -0.172359\n",
       "GOOG    0.138631\n",
       "AMZN    0.346854\n",
       "TM      0.021575\n",
       "F      -0.196012\n",
       "JPM     0.082235\n",
       "dtype: float64"
      ]
     },
     "execution_count": 41,
     "metadata": {},
     "output_type": "execute_result"
    }
   ],
   "source": [
    "mu"
   ]
  },
  {
   "cell_type": "markdown",
   "metadata": {},
   "source": [
    "#### BL result"
   ]
  },
  {
   "cell_type": "code",
   "execution_count": 42,
   "metadata": {},
   "outputs": [
    {
     "data": {
      "text/plain": [
       "10"
      ]
     },
     "execution_count": 42,
     "metadata": {},
     "output_type": "execute_result"
    }
   ],
   "source": [
    "num"
   ]
  },
  {
   "cell_type": "code",
   "execution_count": 43,
   "metadata": {},
   "outputs": [],
   "source": [
    "def opt1(mu,C,rf):\n",
    "    \n",
    "    e=np.zeros(num)+1\n",
    "    \n",
    "    def markowitz(weights, mu, C, rf):\n",
    "    \n",
    "        weights=np.array(weights)\n",
    "    \n",
    "        obj_func = np.dot(mu.T,weights) +  (1-np.dot(e.T,weights))*rf\n",
    "    \n",
    "#         print (-obj_func,weights)\n",
    "        return -obj_func\n",
    "\n",
    "        \n",
    "    cons = ({'type':'eq', 'fun':lambda x: np.sum(x)-1},\n",
    "       {'type':'ineq', 'fun':lambda x: -np.sqrt(np.dot(np.dot(x.T,C),x))+L})\n",
    "\n",
    "    #No short constraint\n",
    "#     bnds = [(0,1)]*num\n",
    "    weights = np.ones(num)/num\n",
    "    res = scipy.optimize.minimize(markowitz, weights, (mu, C, rf), method = 'SLSQP',  constraints = cons,options={'maxiter':10000})\n",
    "    print(res)\n",
    "    if not res.success: raise BaseException(res.message)\n",
    "    return res"
   ]
  },
  {
   "cell_type": "code",
   "execution_count": 44,
   "metadata": {},
   "outputs": [
    {
     "name": "stdout",
     "output_type": "stream",
     "text": [
      "     fun: -0.4225501732940823\n",
      "     jac: array([-0.10231746, -0.0737857 , -0.10554961, -0.11821118, -0.06867196,\n",
      "       -0.10165454, -0.13383194, -0.04250083, -0.03900699, -0.05358664])\n",
      " message: 'Optimization terminated successfully.'\n",
      "    nfev: 372\n",
      "     nit: 31\n",
      "    njev: 31\n",
      "  status: 0\n",
      " success: True\n",
      "       x: array([ 1.0775885 , -0.08416369,  0.14103334,  0.7889395 ,  0.71358406,\n",
      "        1.15308114,  1.7338777 , -2.62436893, -0.76943764, -1.13013399])\n"
     ]
    },
    {
     "data": {
      "text/plain": [
       "     fun: -0.4225501732940823\n",
       "     jac: array([-0.10231746, -0.0737857 , -0.10554961, -0.11821118, -0.06867196,\n",
       "       -0.10165454, -0.13383194, -0.04250083, -0.03900699, -0.05358664])\n",
       " message: 'Optimization terminated successfully.'\n",
       "    nfev: 372\n",
       "     nit: 31\n",
       "    njev: 31\n",
       "  status: 0\n",
       " success: True\n",
       "       x: array([ 1.0775885 , -0.08416369,  0.14103334,  0.7889395 ,  0.71358406,\n",
       "        1.15308114,  1.7338777 , -2.62436893, -0.76943764, -1.13013399])"
      ]
     },
     "execution_count": 44,
     "metadata": {},
     "output_type": "execute_result"
    }
   ],
   "source": [
    "opt1(mu_BL,Cov_BL,rf)"
   ]
  },
  {
   "cell_type": "code",
   "execution_count": 45,
   "metadata": {},
   "outputs": [
    {
     "name": "stdout",
     "output_type": "stream",
     "text": [
      "     fun: -0.4225501732940823\n",
      "     jac: array([-0.10231746, -0.0737857 , -0.10554961, -0.11821118, -0.06867196,\n",
      "       -0.10165454, -0.13383194, -0.04250083, -0.03900699, -0.05358664])\n",
      " message: 'Optimization terminated successfully.'\n",
      "    nfev: 372\n",
      "     nit: 31\n",
      "    njev: 31\n",
      "  status: 0\n",
      " success: True\n",
      "       x: array([ 1.0775885 , -0.08416369,  0.14103334,  0.7889395 ,  0.71358406,\n",
      "        1.15308114,  1.7338777 , -2.62436893, -0.76943764, -1.13013399])\n",
      "[107.759, -8.416, 14.103, 78.894, 71.358, 115.308, 173.388, -262.437, -76.944, -113.013]\n"
     ]
    }
   ],
   "source": [
    "\n",
    "w = opt1(mu_BL,Cov_BL,rf).x *100\n",
    "w = list(map(lambda x:round(x, 3), w))\n",
    "print (w)"
   ]
  },
  {
   "cell_type": "code",
   "execution_count": null,
   "metadata": {},
   "outputs": [],
   "source": []
  },
  {
   "cell_type": "markdown",
   "metadata": {},
   "source": [
    "### MVIO"
   ]
  },
  {
   "cell_type": "code",
   "execution_count": null,
   "metadata": {},
   "outputs": [],
   "source": []
  },
  {
   "cell_type": "code",
   "execution_count": 46,
   "metadata": {},
   "outputs": [],
   "source": [
    "from cvxpy import *"
   ]
  },
  {
   "cell_type": "code",
   "execution_count": null,
   "metadata": {},
   "outputs": [],
   "source": []
  },
  {
   "cell_type": "code",
   "execution_count": null,
   "metadata": {},
   "outputs": [],
   "source": []
  },
  {
   "cell_type": "code",
   "execution_count": 47,
   "metadata": {},
   "outputs": [
    {
     "data": {
      "text/plain": [
       "(11, 11)"
      ]
     },
     "execution_count": 47,
     "metadata": {},
     "output_type": "execute_result"
    }
   ],
   "source": [
    "mm=1\n",
    "r0=1/24\n",
    "r1=0.02*r0\n",
    "rr=[r1]\n",
    "\n",
    "num = 10\n",
    "A1=Cov*r0\n",
    "A2=np.zeros((num,mm))\n",
    "A3=np.zeros((mm,num))\n",
    "A4=np.diag(rr)\n",
    "\n",
    "Omega1=np.concatenate((A1,A2),axis=1)\n",
    "Omega2=np.concatenate((A3,A4),axis=1)\n",
    "Omega=np.concatenate((Omega1,Omega2),axis=0)\n",
    "Omega.shape\n",
    "# A1=np.insert(Cov*r0,-1)"
   ]
  },
  {
   "cell_type": "code",
   "execution_count": 53,
   "metadata": {},
   "outputs": [
    {
     "name": "stdout",
     "output_type": "stream",
     "text": [
      "status: optimal\n",
      "optimal value -2.0491421059976034e-17\n",
      "[[0.11651814]\n",
      " [0.08798639]\n",
      " [0.11975029]\n",
      " [0.13241186]\n",
      " [0.08287265]\n",
      " [0.11585523]\n",
      " [0.14803261]\n",
      " [0.05670152]\n",
      " [0.05320767]\n",
      " [0.06778732]]\n"
     ]
    }
   ],
   "source": [
    "##### special case with sigma = 0.5 * delta * sigma : BL\n",
    "import cvxpy as cvx\n",
    "mu_io = cvx.Variable((10,1))\n",
    "sigma_bar = cvx.Variable((10,10))\n",
    "t = cvx.Variable((1,1))\n",
    "u = cvx.Variable((11,1))\n",
    "rf = rf\n",
    "Omega = Omega \n",
    "x_mkt = np.array(mkt).reshape(-1,1)\n",
    "# x = cp.Variable((10,1))\n",
    "e = e.reshape(-1,1)\n",
    "I = np.identity(11)\n",
    "q = q.reshape(-1,1)\n",
    "\n",
    "\n",
    "tmp = 1.25*2*np.array(Cov).dot(np.array(x_mkt).reshape(-1,1))\n",
    "# sigma_bar.dot(x_mkt)\n",
    "Cons = [\n",
    "    u - np.linalg.inv(np.sqrt(Omega)) @ cvx.vstack([mu_io - rf*e - tmp, \\\n",
    "                                                          P@mu_io - q]) == 0,\n",
    "    cvx.vstack([ cvx.hstack([t, u.T]), cvx.hstack([u, I]) ]) >> 0,\n",
    "    sigma_bar >= 0\n",
    "]\n",
    "objective = cvx.Minimize(t)\n",
    "prob = cvx.Problem(objective, Cons)\n",
    "prob.solve(solver='CVXOPT')  # Returns the optimal value.\n",
    "print(\"status:\", prob.status)\n",
    "print(\"optimal value\", prob.value)\n",
    "# print(\"optimal var\", x.value, y.value)\n",
    "print(mu_io.value)\n"
   ]
  },
  {
   "cell_type": "code",
   "execution_count": null,
   "metadata": {},
   "outputs": [],
   "source": []
  },
  {
   "cell_type": "code",
   "execution_count": 49,
   "metadata": {},
   "outputs": [
    {
     "name": "stdout",
     "output_type": "stream",
     "text": [
      "status: optimal\n",
      "optimal value -3.7786285416747996e-10\n",
      "[[0.56484187]\n",
      " [0.56760807]\n",
      " [0.56760806]\n",
      " [0.56209261]\n",
      " [0.578844  ]\n",
      " [0.56484187]\n",
      " [0.57600918]\n",
      " [0.56760805]\n",
      " [0.55664457]\n",
      " [0.57039129]]\n",
      "[[0.54956637 0.55317311 0.55295904 0.55167549 0.55320401 0.55073735\n",
      "  0.54977142 0.55285086 0.55333969 0.55249006]\n",
      " [0.55340735 0.55340735 0.55340735 0.55340735 0.55340735 0.55340735\n",
      "  0.55340735 0.55340735 0.55340735 0.55340735]\n",
      " [0.55340735 0.55340735 0.55340735 0.55340735 0.55340735 0.55340735\n",
      "  0.55340735 0.55340735 0.55340735 0.55340735]\n",
      " [0.54575288 0.55293898 0.55251111 0.54994922 0.55300076 0.54808064\n",
      "  0.54616013 0.55229495 0.55327204 0.55157433]\n",
      " [0.5690492  0.55434529 0.5552043  0.56039088 0.55422144 0.5642211\n",
      "  0.56819993 0.55563907 0.55367805 0.5570922 ]\n",
      " [0.54956637 0.55317311 0.55295904 0.55167549 0.55320401 0.55073735\n",
      "  0.54977142 0.55285086 0.55333969 0.55249006]\n",
      " [0.56509674 0.55411065 0.5547545  0.55863655 0.5540178  0.56149749\n",
      "  0.56446419 0.55508027 0.55361036 0.55616863]\n",
      " [0.55340735 0.55340735 0.55340735 0.55340735 0.55340735 0.55340735\n",
      "  0.55340735 0.55340735 0.55340735 0.55340735]\n",
      " [0.53820776 0.55247103 0.55161638 0.54651337 0.55259448 0.54280683\n",
      "  0.53901091 0.55118485 0.55313678 0.54974757]\n",
      " [0.55727596 0.55364168 0.55385602 0.5551448  0.55361075 0.55609067\n",
      "  0.55706803 0.55396441 0.55347501 0.5543262 ]]\n"
     ]
    }
   ],
   "source": [
    "##### general case with sigma as vriable.\n",
    "import cvxpy as cvx\n",
    "mu_io = cvx.Variable((10,1))\n",
    "sigma_bar = cvx.Variable((10,10))\n",
    "t = cvx.Variable((1,1))\n",
    "u = cvx.Variable((11,1))\n",
    "rf = rf\n",
    "Omega = Omega \n",
    "x_mkt = np.array(mkt).reshape(-1,1)\n",
    "e = e.reshape(-1,1)\n",
    "I = np.identity(11)\n",
    "q = q.reshape(-1,1)\n",
    "\n",
    "# sigma_bar.dot(x_mkt)\n",
    "Cons = [\n",
    "    u - np.linalg.inv(np.sqrt(Omega)) @ cvx.vstack([mu_io - rf*e - sigma_bar@x_mkt, \\\n",
    "                                                          P @ mu_io - q]) == 0,\n",
    "    cvx.vstack([ cvx.hstack([t, u.T]), cvx.hstack([u, I]) ]) >> 0,\n",
    "    sigma_bar >= 0\n",
    "]\n",
    "\n",
    "objective = cvx.Minimize(t)\n",
    "prob = cvx.Problem(objective, Cons)\n",
    "prob.solve(solver='CVXOPT')  # Returns the optimal value.\n",
    "print(\"status:\", prob.status)\n",
    "print(\"optimal value\", prob.value)\n",
    "# print(\"optimal var\", x.value, y.value)\n",
    "print(mu_io.value)\n",
    "print(sigma_bar.value)"
   ]
  },
  {
   "cell_type": "code",
   "execution_count": null,
   "metadata": {},
   "outputs": [],
   "source": []
  },
  {
   "cell_type": "code",
   "execution_count": null,
   "metadata": {},
   "outputs": [],
   "source": []
  },
  {
   "cell_type": "code",
   "execution_count": 58,
   "metadata": {},
   "outputs": [
    {
     "data": {
      "text/html": [
       "<div>\n",
       "<style scoped>\n",
       "    .dataframe tbody tr th:only-of-type {\n",
       "        vertical-align: middle;\n",
       "    }\n",
       "\n",
       "    .dataframe tbody tr th {\n",
       "        vertical-align: top;\n",
       "    }\n",
       "\n",
       "    .dataframe thead th {\n",
       "        text-align: right;\n",
       "    }\n",
       "</style>\n",
       "<table border=\"1\" class=\"dataframe\">\n",
       "  <thead>\n",
       "    <tr style=\"text-align: right;\">\n",
       "      <th>Symbols</th>\n",
       "      <th>AAPL</th>\n",
       "      <th>BA</th>\n",
       "      <th>TSLA</th>\n",
       "      <th>BABA</th>\n",
       "      <th>GS</th>\n",
       "      <th>GOOG</th>\n",
       "      <th>AMZN</th>\n",
       "      <th>TM</th>\n",
       "      <th>F</th>\n",
       "      <th>JPM</th>\n",
       "    </tr>\n",
       "    <tr>\n",
       "      <th>Symbols</th>\n",
       "      <th></th>\n",
       "      <th></th>\n",
       "      <th></th>\n",
       "      <th></th>\n",
       "      <th></th>\n",
       "      <th></th>\n",
       "      <th></th>\n",
       "      <th></th>\n",
       "      <th></th>\n",
       "      <th></th>\n",
       "    </tr>\n",
       "  </thead>\n",
       "  <tbody>\n",
       "    <tr>\n",
       "      <th>AAPL</th>\n",
       "      <td>0.056962</td>\n",
       "      <td>0.026320</td>\n",
       "      <td>0.035018</td>\n",
       "      <td>0.035597</td>\n",
       "      <td>0.025481</td>\n",
       "      <td>0.034471</td>\n",
       "      <td>0.043662</td>\n",
       "      <td>0.015030</td>\n",
       "      <td>0.012213</td>\n",
       "      <td>0.019482</td>\n",
       "    </tr>\n",
       "    <tr>\n",
       "      <th>BA</th>\n",
       "      <td>0.026320</td>\n",
       "      <td>0.064442</td>\n",
       "      <td>0.028154</td>\n",
       "      <td>0.031532</td>\n",
       "      <td>0.028079</td>\n",
       "      <td>0.028681</td>\n",
       "      <td>0.034109</td>\n",
       "      <td>0.017858</td>\n",
       "      <td>0.014637</td>\n",
       "      <td>0.023519</td>\n",
       "    </tr>\n",
       "    <tr>\n",
       "      <th>TSLA</th>\n",
       "      <td>0.035018</td>\n",
       "      <td>0.028154</td>\n",
       "      <td>0.229940</td>\n",
       "      <td>0.041285</td>\n",
       "      <td>0.023631</td>\n",
       "      <td>0.034706</td>\n",
       "      <td>0.045234</td>\n",
       "      <td>0.012347</td>\n",
       "      <td>0.023461</td>\n",
       "      <td>0.019655</td>\n",
       "    </tr>\n",
       "    <tr>\n",
       "      <th>BABA</th>\n",
       "      <td>0.035597</td>\n",
       "      <td>0.031532</td>\n",
       "      <td>0.041285</td>\n",
       "      <td>0.100194</td>\n",
       "      <td>0.027906</td>\n",
       "      <td>0.043376</td>\n",
       "      <td>0.051852</td>\n",
       "      <td>0.017723</td>\n",
       "      <td>0.018471</td>\n",
       "      <td>0.020923</td>\n",
       "    </tr>\n",
       "    <tr>\n",
       "      <th>GS</th>\n",
       "      <td>0.025481</td>\n",
       "      <td>0.028079</td>\n",
       "      <td>0.023631</td>\n",
       "      <td>0.027906</td>\n",
       "      <td>0.052992</td>\n",
       "      <td>0.027371</td>\n",
       "      <td>0.028061</td>\n",
       "      <td>0.017244</td>\n",
       "      <td>0.022015</td>\n",
       "      <td>0.035589</td>\n",
       "    </tr>\n",
       "    <tr>\n",
       "      <th>GOOG</th>\n",
       "      <td>0.034471</td>\n",
       "      <td>0.028681</td>\n",
       "      <td>0.034706</td>\n",
       "      <td>0.043376</td>\n",
       "      <td>0.027371</td>\n",
       "      <td>0.051729</td>\n",
       "      <td>0.048904</td>\n",
       "      <td>0.018814</td>\n",
       "      <td>0.015602</td>\n",
       "      <td>0.020515</td>\n",
       "    </tr>\n",
       "    <tr>\n",
       "      <th>AMZN</th>\n",
       "      <td>0.043662</td>\n",
       "      <td>0.034109</td>\n",
       "      <td>0.045234</td>\n",
       "      <td>0.051852</td>\n",
       "      <td>0.028061</td>\n",
       "      <td>0.048904</td>\n",
       "      <td>0.086385</td>\n",
       "      <td>0.017119</td>\n",
       "      <td>0.014872</td>\n",
       "      <td>0.020684</td>\n",
       "    </tr>\n",
       "    <tr>\n",
       "      <th>TM</th>\n",
       "      <td>0.015030</td>\n",
       "      <td>0.017858</td>\n",
       "      <td>0.012347</td>\n",
       "      <td>0.017723</td>\n",
       "      <td>0.017244</td>\n",
       "      <td>0.018814</td>\n",
       "      <td>0.017119</td>\n",
       "      <td>0.026472</td>\n",
       "      <td>0.014425</td>\n",
       "      <td>0.014592</td>\n",
       "    </tr>\n",
       "    <tr>\n",
       "      <th>F</th>\n",
       "      <td>0.012213</td>\n",
       "      <td>0.014637</td>\n",
       "      <td>0.023461</td>\n",
       "      <td>0.018471</td>\n",
       "      <td>0.022015</td>\n",
       "      <td>0.015602</td>\n",
       "      <td>0.014872</td>\n",
       "      <td>0.014425</td>\n",
       "      <td>0.053109</td>\n",
       "      <td>0.020259</td>\n",
       "    </tr>\n",
       "    <tr>\n",
       "      <th>JPM</th>\n",
       "      <td>0.019482</td>\n",
       "      <td>0.023519</td>\n",
       "      <td>0.019655</td>\n",
       "      <td>0.020923</td>\n",
       "      <td>0.035589</td>\n",
       "      <td>0.020515</td>\n",
       "      <td>0.020684</td>\n",
       "      <td>0.014592</td>\n",
       "      <td>0.020259</td>\n",
       "      <td>0.037703</td>\n",
       "    </tr>\n",
       "  </tbody>\n",
       "</table>\n",
       "</div>"
      ],
      "text/plain": [
       "Symbols      AAPL        BA      TSLA      BABA        GS      GOOG      AMZN  \\\n",
       "Symbols                                                                         \n",
       "AAPL     0.056962  0.026320  0.035018  0.035597  0.025481  0.034471  0.043662   \n",
       "BA       0.026320  0.064442  0.028154  0.031532  0.028079  0.028681  0.034109   \n",
       "TSLA     0.035018  0.028154  0.229940  0.041285  0.023631  0.034706  0.045234   \n",
       "BABA     0.035597  0.031532  0.041285  0.100194  0.027906  0.043376  0.051852   \n",
       "GS       0.025481  0.028079  0.023631  0.027906  0.052992  0.027371  0.028061   \n",
       "GOOG     0.034471  0.028681  0.034706  0.043376  0.027371  0.051729  0.048904   \n",
       "AMZN     0.043662  0.034109  0.045234  0.051852  0.028061  0.048904  0.086385   \n",
       "TM       0.015030  0.017858  0.012347  0.017723  0.017244  0.018814  0.017119   \n",
       "F        0.012213  0.014637  0.023461  0.018471  0.022015  0.015602  0.014872   \n",
       "JPM      0.019482  0.023519  0.019655  0.020923  0.035589  0.020515  0.020684   \n",
       "\n",
       "Symbols        TM         F       JPM  \n",
       "Symbols                                \n",
       "AAPL     0.015030  0.012213  0.019482  \n",
       "BA       0.017858  0.014637  0.023519  \n",
       "TSLA     0.012347  0.023461  0.019655  \n",
       "BABA     0.017723  0.018471  0.020923  \n",
       "GS       0.017244  0.022015  0.035589  \n",
       "GOOG     0.018814  0.015602  0.020515  \n",
       "AMZN     0.017119  0.014872  0.020684  \n",
       "TM       0.026472  0.014425  0.014592  \n",
       "F        0.014425  0.053109  0.020259  \n",
       "JPM      0.014592  0.020259  0.037703  "
      ]
     },
     "execution_count": 58,
     "metadata": {},
     "output_type": "execute_result"
    }
   ],
   "source": [
    "Cov"
   ]
  },
  {
   "cell_type": "markdown",
   "metadata": {},
   "source": [
    "# Robust Model MVIO"
   ]
  },
  {
   "cell_type": "markdown",
   "metadata": {},
   "source": [
    "## 1. first solve my the L_mkt"
   ]
  },
  {
   "cell_type": "code",
   "execution_count": 59,
   "metadata": {},
   "outputs": [
    {
     "name": "stdout",
     "output_type": "stream",
     "text": [
      "status: optimal\n",
      "optimal value -0.2824129023347122\n",
      "[[-0.26583645]\n",
      " [ 0.00352759]\n",
      " [-0.01166402]\n",
      " [-0.14166809]\n",
      " [-0.1280051 ]\n",
      " [-0.42897682]\n",
      " [-0.38254552]\n",
      " [-0.05895652]\n",
      " [-0.00280482]\n",
      " [-0.18828525]]\n"
     ]
    },
    {
     "data": {
      "text/plain": [
       "0.2824129023347123"
      ]
     },
     "execution_count": 59,
     "metadata": {},
     "output_type": "execute_result"
    }
   ],
   "source": [
    "\n",
    "alpha = 0.5\n",
    "k = 5\n",
    "epsilon = 0.1\n",
    "\n",
    "sigma = np.array(Cov)\n",
    "w, v = np.linalg.eig(sigma)\n",
    "\n",
    "w = w[:k]\n",
    "sum_of_w = 1/alpha * np.sum(w)\n",
    "v = v[:k]\n",
    "\n",
    "rf = rf\n",
    "e = np.ones(10).reshape(-1,1)\n",
    "\n",
    "r = cvx.Variable((10,1))\n",
    "\n",
    "sigma_0 = cvx.Variable((10,10), nonneg=True)\n",
    "\n",
    "x_mkt = x_mkt\n",
    "\n",
    "x = r - rf * e\n",
    "\n",
    "# Solving for L\n",
    "Cons = [\n",
    "    matrix_frac(x, sigma_0) <= 1,\n",
    "    cvx.trace(sigma_0) <= sum_of_w\n",
    "]\n",
    "for i in range(k):\n",
    "    Cons = Cons + [cvx.norm(sigma_0 @ v[i].reshape(-1,1) - w[i] * v[i].reshape(-1,1)) <= epsilon]\n",
    "\n",
    "objective = cvx.Minimize( r.T @ x_mkt)\n",
    "prob = cvx.Problem(objective, Cons)\n",
    "prob.solve(solver='CVXOPT')  # Returns the optimal value.\n",
    "print(\"status:\", prob.status)\n",
    "print(\"optimal value\", prob.value)\n",
    "# print(\"optimal var\", x.value, y.value)\n",
    "print(r.value)\n",
    "L_mkt = -r.value.T.dot(x_mkt)[0][0]\n",
    "L_mkt"
   ]
  },
  {
   "cell_type": "markdown",
   "metadata": {},
   "source": [
    "## 2. then solve for the optimal mu"
   ]
  },
  {
   "cell_type": "code",
   "execution_count": 51,
   "metadata": {},
   "outputs": [
    {
     "name": "stdout",
     "output_type": "stream",
     "text": [
      "status: optimal\n",
      "optimal value -1.0475359662513901e-07\n",
      "[[0.02708712]\n",
      " [0.0157586 ]\n",
      " [0.02070638]\n",
      " [0.02241175]\n",
      " [0.01855324]\n",
      " [0.01964929]\n",
      " [0.06385291]\n",
      " [0.01605797]\n",
      " [0.01423246]\n",
      " [0.01606613]]\n"
     ]
    }
   ],
   "source": [
    "alpha = 0.5\n",
    "k = 5\n",
    "epsilon = 0.1\n",
    "\n",
    "sigma = np.array(Cov)\n",
    "w, v = np.linalg.eig(sigma)\n",
    "\n",
    "w = w[:k]\n",
    "sum_of_w = 1/alpha * np.sum(w)\n",
    "v = v[:k]\n",
    "\n",
    "rf = rf\n",
    "e = np.ones(10).reshape(-1,1)\n",
    "\n",
    "P = P\n",
    "q = q\n",
    "\n",
    "mu_0 = cvx.Variable((10,1))\n",
    "z = cvx.Variable((1,1))\n",
    "t = cvx.Variable((1,1))\n",
    "mu_eq = cvx.Variable((10,1))\n",
    "sigma_0 = cvx.Variable((10,10), nonneg=True)\n",
    "\n",
    "x_mkt = x_mkt\n",
    "\n",
    "\n",
    "# Solving for L\n",
    "Cons = [\n",
    "    (mu_eq - rf * e).T @ x_mkt == z * L_mkt,\n",
    "    cvx.vstack([cvx.hstack([sigma_0, mu_eq]), cvx.hstack([mu_eq.T, z])]) >= 0,\n",
    "    cvx.trace(sigma_0) <= sum_of_w,\n",
    "    cvx.matrix_frac(cvx.vstack([mu_0-rf*e-mu_eq, P @ mu_0 - q]), Omega) <= t,\n",
    "]\n",
    "for i in range(k):\n",
    "    Cons = Cons + [cvx.norm(sigma_0 @ v[i].reshape(-1,1) - z * w[i] * v[i].reshape(-1,1)) <= epsilon]\n",
    "\n",
    "objective = cvx.Minimize(t[0,0])\n",
    "prob = cvx.Problem(objective, Cons)\n",
    "prob.solve(solver='SCS')  # Returns the optimal value.\n",
    "print(\"status:\", prob.status)\n",
    "print(\"optimal value\", prob.value)\n",
    "# print(\"optimal var\", x.value, y.value)\n",
    "print(mu_0.value)\n"
   ]
  },
  {
   "cell_type": "code",
   "execution_count": null,
   "metadata": {},
   "outputs": [],
   "source": []
  }
 ],
 "metadata": {
  "kernelspec": {
   "display_name": "Python 3",
   "language": "python",
   "name": "python3"
  },
  "language_info": {
   "codemirror_mode": {
    "name": "ipython",
    "version": 3
   },
   "file_extension": ".py",
   "mimetype": "text/x-python",
   "name": "python",
   "nbconvert_exporter": "python",
   "pygments_lexer": "ipython3",
   "version": "3.7.7"
  }
 },
 "nbformat": 4,
 "nbformat_minor": 2
}
