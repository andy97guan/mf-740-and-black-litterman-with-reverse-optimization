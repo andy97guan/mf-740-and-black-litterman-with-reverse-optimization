{
 "cells": [
  {
   "cell_type": "code",
   "execution_count": 1,
   "metadata": {},
   "outputs": [
    {
     "name": "stderr",
     "output_type": "stream",
     "text": [
      "E:\\anaconda3\\lib\\site-packages\\pandas_datareader\\compat\\__init__.py:7: FutureWarning: pandas.util.testing is deprecated. Use the functions in the public API at pandas.testing instead.\n",
      "  from pandas.util.testing import assert_frame_equal\n"
     ]
    }
   ],
   "source": [
    "import numpy as np\n",
    "import pandas as pd\n",
    "import matplotlib as mql\n",
    "from pandas_datareader import data as pdr\n",
    "import matplotlib.pyplot as plt\n",
    "from numpy.random import standard_normal as stn\n",
    "from datetime import datetime\n",
    "from sklearn import linear_model\n",
    "import statsmodels.api as sm\n",
    "import scipy.stats as scs\n",
    "from scipy.stats import norm\n",
    "import math\n",
    "from cvxopt import matrix, solvers\n",
    "import scipy.optimize as sco\n",
    "from scipy.fftpack import fft,ifft\n",
    "from sympy import *\n",
    "from sklearn.decomposition import PCA\n",
    "import json\n",
    "from cvxopt import matrix, solvers"
   ]
  },
  {
   "cell_type": "code",
   "execution_count": 2,
   "metadata": {},
   "outputs": [
    {
     "name": "stdout",
     "output_type": "stream",
     "text": [
      "1.0.3\n"
     ]
    }
   ],
   "source": [
    "import pandas as pd\n",
    "print(pd.__version__)"
   ]
  },
  {
   "cell_type": "markdown",
   "metadata": {},
   "source": [
    "## Bl model\n",
    "\n",
    "先随便用几个ETF数据来做,下面是数据处理得到年化log return"
   ]
  },
  {
   "cell_type": "code",
   "execution_count": 3,
   "metadata": {},
   "outputs": [],
   "source": [
    "a=1"
   ]
  },
  {
   "cell_type": "code",
   "execution_count": null,
   "metadata": {},
   "outputs": [],
   "source": []
  },
  {
   "cell_type": "code",
   "execution_count": null,
   "metadata": {},
   "outputs": [],
   "source": []
  },
  {
   "cell_type": "code",
   "execution_count": null,
   "metadata": {},
   "outputs": [],
   "source": []
  },
  {
   "cell_type": "code",
   "execution_count": 4,
   "metadata": {},
   "outputs": [],
   "source": [
    "# icode=['AAPL','BA','TSLA','BABA','GS','GOOG','AMZN','TM','F','JPM']\n",
    "# data=pdr.get_data_yahoo(icode,start='2017-01-01',end='2019-01-01')   # For data\n",
    "# data_close=data['Adj Close']\n",
    "\n",
    "# icode2=['^IRX']\n",
    "# risk_free=pdr.get_data_yahoo(icode2,start='2017-01-01',end='2019-01-01')\n",
    "# risk_free=risk_free['Adj Close']\n",
    "\n",
    "energy=pd.read_csv('ENERGY.csv',index_col=0)\n",
    "material=pd.read_csv('MATERIALS.csv',index_col=0)\n",
    "industrial=pd.read_csv('INDUSTRIALS.csv',index_col=0)\n",
    "consumer_discretionary=pd.read_csv(\"CONSUMER DISCR.csv\",index_col=0)\n",
    "consumer_staples=pd.read_csv('CONSUMER STAPLES.csv',index_col=0)\n",
    "health_care=pd.read_csv('HEALTH CARE.csv',index_col=0)\n",
    "financial=pd.read_csv('FINANCIALS.csv',index_col=0)\n",
    "it=pd.read_csv('INFORMATION TECH.csv',index_col=0)\n",
    "real_estate=pd.read_csv('REAL ESTATE.csv',index_col=0)\n",
    "ut=pd.read_csv('UTILITIES.csv',index_col=0)\n",
    "svc=pd.read_csv('COMM SVC 25-50.csv',index_col=0)\n",
    "\n",
    "\n",
    "\n",
    "\n",
    "\n",
    "\n"
   ]
  },
  {
   "cell_type": "code",
   "execution_count": null,
   "metadata": {},
   "outputs": [],
   "source": []
  },
  {
   "cell_type": "code",
   "execution_count": 5,
   "metadata": {
    "scrolled": true
   },
   "outputs": [
    {
     "data": {
      "text/html": [
       "<div>\n",
       "<style scoped>\n",
       "    .dataframe tbody tr th:only-of-type {\n",
       "        vertical-align: middle;\n",
       "    }\n",
       "\n",
       "    .dataframe tbody tr th {\n",
       "        vertical-align: top;\n",
       "    }\n",
       "\n",
       "    .dataframe thead th {\n",
       "        text-align: right;\n",
       "    }\n",
       "</style>\n",
       "<table border=\"1\" class=\"dataframe\">\n",
       "  <thead>\n",
       "    <tr style=\"text-align: right;\">\n",
       "      <th></th>\n",
       "      <th>USA IMI/ENERGY</th>\n",
       "      <th>USA IMI/MATERIALS</th>\n",
       "      <th>USA IMI/INDUSTRIALS</th>\n",
       "      <th>USA IMI/CONSUMER DISCR</th>\n",
       "      <th>USA IMI/CONSUMER STAPLES</th>\n",
       "      <th>USA IMI/HEALTH CARE</th>\n",
       "      <th>USA IMI/FINANCIALS</th>\n",
       "      <th>USA IMI/INFORMATION TECH</th>\n",
       "      <th>USA IMI/COMM SVC 25-50</th>\n",
       "      <th>USA IMI/UTILITIES</th>\n",
       "    </tr>\n",
       "    <tr>\n",
       "      <th>Date</th>\n",
       "      <th></th>\n",
       "      <th></th>\n",
       "      <th></th>\n",
       "      <th></th>\n",
       "      <th></th>\n",
       "      <th></th>\n",
       "      <th></th>\n",
       "      <th></th>\n",
       "      <th></th>\n",
       "      <th></th>\n",
       "    </tr>\n",
       "  </thead>\n",
       "  <tbody>\n",
       "    <tr>\n",
       "      <th>11/30/1998</th>\n",
       "      <td>262.528572</td>\n",
       "      <td>430.640078</td>\n",
       "      <td>489.061696</td>\n",
       "      <td>627.030511</td>\n",
       "      <td>673.914402</td>\n",
       "      <td>663.038024</td>\n",
       "      <td>460.948412</td>\n",
       "      <td>941.351459</td>\n",
       "      <td>1277.928576</td>\n",
       "      <td>501.549209</td>\n",
       "    </tr>\n",
       "    <tr>\n",
       "      <th>12/1/1998</th>\n",
       "      <td>255.294784</td>\n",
       "      <td>426.496795</td>\n",
       "      <td>492.100870</td>\n",
       "      <td>629.963326</td>\n",
       "      <td>678.336046</td>\n",
       "      <td>668.762468</td>\n",
       "      <td>460.407430</td>\n",
       "      <td>978.074370</td>\n",
       "      <td>1289.952771</td>\n",
       "      <td>505.125254</td>\n",
       "    </tr>\n",
       "    <tr>\n",
       "      <th>12/2/1998</th>\n",
       "      <td>251.244968</td>\n",
       "      <td>423.514039</td>\n",
       "      <td>486.392520</td>\n",
       "      <td>626.169290</td>\n",
       "      <td>677.989331</td>\n",
       "      <td>677.122553</td>\n",
       "      <td>461.648400</td>\n",
       "      <td>974.320010</td>\n",
       "      <td>1286.622797</td>\n",
       "      <td>505.152571</td>\n",
       "    </tr>\n",
       "    <tr>\n",
       "      <th>12/3/1998</th>\n",
       "      <td>249.543814</td>\n",
       "      <td>415.947275</td>\n",
       "      <td>477.427863</td>\n",
       "      <td>615.561059</td>\n",
       "      <td>669.705815</td>\n",
       "      <td>659.225084</td>\n",
       "      <td>453.248151</td>\n",
       "      <td>955.366770</td>\n",
       "      <td>1291.679416</td>\n",
       "      <td>503.335765</td>\n",
       "    </tr>\n",
       "    <tr>\n",
       "      <th>12/4/1998</th>\n",
       "      <td>253.186141</td>\n",
       "      <td>417.516124</td>\n",
       "      <td>485.756444</td>\n",
       "      <td>624.100846</td>\n",
       "      <td>677.561272</td>\n",
       "      <td>673.047274</td>\n",
       "      <td>463.513232</td>\n",
       "      <td>988.104411</td>\n",
       "      <td>1316.290439</td>\n",
       "      <td>510.873489</td>\n",
       "    </tr>\n",
       "  </tbody>\n",
       "</table>\n",
       "</div>"
      ],
      "text/plain": [
       "            USA IMI/ENERGY  USA IMI/MATERIALS  USA IMI/INDUSTRIALS  \\\n",
       "Date                                                                 \n",
       "11/30/1998      262.528572         430.640078           489.061696   \n",
       "12/1/1998       255.294784         426.496795           492.100870   \n",
       "12/2/1998       251.244968         423.514039           486.392520   \n",
       "12/3/1998       249.543814         415.947275           477.427863   \n",
       "12/4/1998       253.186141         417.516124           485.756444   \n",
       "\n",
       "            USA IMI/CONSUMER DISCR  USA IMI/CONSUMER STAPLES  \\\n",
       "Date                                                           \n",
       "11/30/1998              627.030511                673.914402   \n",
       "12/1/1998               629.963326                678.336046   \n",
       "12/2/1998               626.169290                677.989331   \n",
       "12/3/1998               615.561059                669.705815   \n",
       "12/4/1998               624.100846                677.561272   \n",
       "\n",
       "            USA IMI/HEALTH CARE  USA IMI/FINANCIALS  USA IMI/INFORMATION TECH  \\\n",
       "Date                                                                            \n",
       "11/30/1998           663.038024          460.948412                941.351459   \n",
       "12/1/1998            668.762468          460.407430                978.074370   \n",
       "12/2/1998            677.122553          461.648400                974.320010   \n",
       "12/3/1998            659.225084          453.248151                955.366770   \n",
       "12/4/1998            673.047274          463.513232                988.104411   \n",
       "\n",
       "            USA IMI/COMM SVC 25-50  USA IMI/UTILITIES  \n",
       "Date                                                   \n",
       "11/30/1998             1277.928576         501.549209  \n",
       "12/1/1998              1289.952771         505.125254  \n",
       "12/2/1998              1286.622797         505.152571  \n",
       "12/3/1998              1291.679416         503.335765  \n",
       "12/4/1998              1316.290439         510.873489  "
      ]
     },
     "execution_count": 5,
     "metadata": {},
     "output_type": "execute_result"
    }
   ],
   "source": [
    "data=pd.merge(energy,material,on='Date',how='left')\n",
    "data=pd.merge(data,industrial,on='Date',how='left')\n",
    "data=pd.merge(data,consumer_discretionary,on='Date',how='left')\n",
    "data=pd.merge(data,consumer_staples,on='Date',how='left')\n",
    "data=pd.merge(data,health_care,on='Date',how='left')\n",
    "data=pd.merge(data,financial,on='Date',how='left')\n",
    "data=pd.merge(data,it,on='Date',how='left')\n",
    "data=pd.merge(data,svc,on='Date',how='right')\n",
    "data=pd.merge(data,ut,on='Date',how='left')\n",
    "data.head()"
   ]
  },
  {
   "cell_type": "code",
   "execution_count": 6,
   "metadata": {},
   "outputs": [],
   "source": [
    "icode=data.columns.values"
   ]
  },
  {
   "cell_type": "code",
   "execution_count": 7,
   "metadata": {},
   "outputs": [
    {
     "data": {
      "text/html": [
       "<div>\n",
       "<style scoped>\n",
       "    .dataframe tbody tr th:only-of-type {\n",
       "        vertical-align: middle;\n",
       "    }\n",
       "\n",
       "    .dataframe tbody tr th {\n",
       "        vertical-align: top;\n",
       "    }\n",
       "\n",
       "    .dataframe thead th {\n",
       "        text-align: right;\n",
       "    }\n",
       "</style>\n",
       "<table border=\"1\" class=\"dataframe\">\n",
       "  <thead>\n",
       "    <tr style=\"text-align: right;\">\n",
       "      <th></th>\n",
       "      <th>USA IMI/ENERGY</th>\n",
       "      <th>USA IMI/MATERIALS</th>\n",
       "      <th>USA IMI/INDUSTRIALS</th>\n",
       "      <th>USA IMI/CONSUMER DISCR</th>\n",
       "      <th>USA IMI/CONSUMER STAPLES</th>\n",
       "      <th>USA IMI/HEALTH CARE</th>\n",
       "      <th>USA IMI/FINANCIALS</th>\n",
       "      <th>USA IMI/INFORMATION TECH</th>\n",
       "      <th>USA IMI/COMM SVC 25-50</th>\n",
       "      <th>USA IMI/UTILITIES</th>\n",
       "    </tr>\n",
       "    <tr>\n",
       "      <th>Date</th>\n",
       "      <th></th>\n",
       "      <th></th>\n",
       "      <th></th>\n",
       "      <th></th>\n",
       "      <th></th>\n",
       "      <th></th>\n",
       "      <th></th>\n",
       "      <th></th>\n",
       "      <th></th>\n",
       "      <th></th>\n",
       "    </tr>\n",
       "  </thead>\n",
       "  <tbody>\n",
       "    <tr>\n",
       "      <th>3/31/2014</th>\n",
       "      <td>1439.147440</td>\n",
       "      <td>1474.814890</td>\n",
       "      <td>1544.869866</td>\n",
       "      <td>1807.220740</td>\n",
       "      <td>1902.381996</td>\n",
       "      <td>1951.875552</td>\n",
       "      <td>787.531517</td>\n",
       "      <td>1701.531213</td>\n",
       "      <td>1587.714945</td>\n",
       "      <td>1352.638331</td>\n",
       "    </tr>\n",
       "    <tr>\n",
       "      <th>4/1/2014</th>\n",
       "      <td>1447.340138</td>\n",
       "      <td>1486.489119</td>\n",
       "      <td>1557.524141</td>\n",
       "      <td>1833.141917</td>\n",
       "      <td>1901.453531</td>\n",
       "      <td>1967.924915</td>\n",
       "      <td>791.377595</td>\n",
       "      <td>1725.619914</td>\n",
       "      <td>1604.489108</td>\n",
       "      <td>1344.973763</td>\n",
       "    </tr>\n",
       "    <tr>\n",
       "      <th>4/2/2014</th>\n",
       "      <td>1453.037162</td>\n",
       "      <td>1496.426704</td>\n",
       "      <td>1567.236146</td>\n",
       "      <td>1845.126918</td>\n",
       "      <td>1904.547505</td>\n",
       "      <td>1974.681542</td>\n",
       "      <td>792.649458</td>\n",
       "      <td>1725.036875</td>\n",
       "      <td>1607.515438</td>\n",
       "      <td>1342.916988</td>\n",
       "    </tr>\n",
       "    <tr>\n",
       "      <th>4/3/2014</th>\n",
       "      <td>1459.633988</td>\n",
       "      <td>1497.174462</td>\n",
       "      <td>1567.353300</td>\n",
       "      <td>1834.376346</td>\n",
       "      <td>1905.417428</td>\n",
       "      <td>1964.644411</td>\n",
       "      <td>791.346491</td>\n",
       "      <td>1711.606611</td>\n",
       "      <td>1604.310834</td>\n",
       "      <td>1346.604535</td>\n",
       "    </tr>\n",
       "    <tr>\n",
       "      <th>4/4/2014</th>\n",
       "      <td>1453.006857</td>\n",
       "      <td>1479.206324</td>\n",
       "      <td>1547.005795</td>\n",
       "      <td>1801.198911</td>\n",
       "      <td>1895.350064</td>\n",
       "      <td>1928.669947</td>\n",
       "      <td>782.133887</td>\n",
       "      <td>1671.845129</td>\n",
       "      <td>1586.783756</td>\n",
       "      <td>1352.108457</td>\n",
       "    </tr>\n",
       "    <tr>\n",
       "      <th>...</th>\n",
       "      <td>...</td>\n",
       "      <td>...</td>\n",
       "      <td>...</td>\n",
       "      <td>...</td>\n",
       "      <td>...</td>\n",
       "      <td>...</td>\n",
       "      <td>...</td>\n",
       "      <td>...</td>\n",
       "      <td>...</td>\n",
       "      <td>...</td>\n",
       "    </tr>\n",
       "    <tr>\n",
       "      <th>4/22/2020</th>\n",
       "      <td>594.745358</td>\n",
       "      <td>1620.318572</td>\n",
       "      <td>1982.409516</td>\n",
       "      <td>3219.279224</td>\n",
       "      <td>2998.538464</td>\n",
       "      <td>3707.082578</td>\n",
       "      <td>1024.544822</td>\n",
       "      <td>4541.457520</td>\n",
       "      <td>2324.130000</td>\n",
       "      <td>2355.349841</td>\n",
       "    </tr>\n",
       "    <tr>\n",
       "      <th>4/23/2020</th>\n",
       "      <td>613.589009</td>\n",
       "      <td>1633.454087</td>\n",
       "      <td>2000.532542</td>\n",
       "      <td>3227.153593</td>\n",
       "      <td>2973.829548</td>\n",
       "      <td>3730.146867</td>\n",
       "      <td>1022.668316</td>\n",
       "      <td>4515.091879</td>\n",
       "      <td>2344.051013</td>\n",
       "      <td>2317.042590</td>\n",
       "    </tr>\n",
       "    <tr>\n",
       "      <th>4/24/2020</th>\n",
       "      <td>615.409847</td>\n",
       "      <td>1657.043448</td>\n",
       "      <td>2016.643835</td>\n",
       "      <td>3279.781764</td>\n",
       "      <td>3008.084920</td>\n",
       "      <td>3788.658488</td>\n",
       "      <td>1036.832744</td>\n",
       "      <td>4606.805892</td>\n",
       "      <td>2370.876897</td>\n",
       "      <td>2332.509681</td>\n",
       "    </tr>\n",
       "    <tr>\n",
       "      <th>4/27/2020</th>\n",
       "      <td>628.227613</td>\n",
       "      <td>1708.088838</td>\n",
       "      <td>2075.622765</td>\n",
       "      <td>3347.055899</td>\n",
       "      <td>3022.159583</td>\n",
       "      <td>3842.631669</td>\n",
       "      <td>1079.004474</td>\n",
       "      <td>4658.200735</td>\n",
       "      <td>2394.356559</td>\n",
       "      <td>2359.837846</td>\n",
       "    </tr>\n",
       "    <tr>\n",
       "      <th>4/28/2020</th>\n",
       "      <td>641.832692</td>\n",
       "      <td>1739.402693</td>\n",
       "      <td>2112.874127</td>\n",
       "      <td>3343.060805</td>\n",
       "      <td>3036.513060</td>\n",
       "      <td>3758.451236</td>\n",
       "      <td>1092.564297</td>\n",
       "      <td>4598.360791</td>\n",
       "      <td>2355.854024</td>\n",
       "      <td>2370.659487</td>\n",
       "    </tr>\n",
       "  </tbody>\n",
       "</table>\n",
       "<p>1587 rows × 10 columns</p>\n",
       "</div>"
      ],
      "text/plain": [
       "           USA IMI/ENERGY  USA IMI/MATERIALS  USA IMI/INDUSTRIALS  \\\n",
       "Date                                                                \n",
       "3/31/2014     1439.147440        1474.814890          1544.869866   \n",
       "4/1/2014      1447.340138        1486.489119          1557.524141   \n",
       "4/2/2014      1453.037162        1496.426704          1567.236146   \n",
       "4/3/2014      1459.633988        1497.174462          1567.353300   \n",
       "4/4/2014      1453.006857        1479.206324          1547.005795   \n",
       "...                   ...                ...                  ...   \n",
       "4/22/2020      594.745358        1620.318572          1982.409516   \n",
       "4/23/2020      613.589009        1633.454087          2000.532542   \n",
       "4/24/2020      615.409847        1657.043448          2016.643835   \n",
       "4/27/2020      628.227613        1708.088838          2075.622765   \n",
       "4/28/2020      641.832692        1739.402693          2112.874127   \n",
       "\n",
       "           USA IMI/CONSUMER DISCR  USA IMI/CONSUMER STAPLES  \\\n",
       "Date                                                          \n",
       "3/31/2014             1807.220740               1902.381996   \n",
       "4/1/2014              1833.141917               1901.453531   \n",
       "4/2/2014              1845.126918               1904.547505   \n",
       "4/3/2014              1834.376346               1905.417428   \n",
       "4/4/2014              1801.198911               1895.350064   \n",
       "...                           ...                       ...   \n",
       "4/22/2020             3219.279224               2998.538464   \n",
       "4/23/2020             3227.153593               2973.829548   \n",
       "4/24/2020             3279.781764               3008.084920   \n",
       "4/27/2020             3347.055899               3022.159583   \n",
       "4/28/2020             3343.060805               3036.513060   \n",
       "\n",
       "           USA IMI/HEALTH CARE  USA IMI/FINANCIALS  USA IMI/INFORMATION TECH  \\\n",
       "Date                                                                           \n",
       "3/31/2014          1951.875552          787.531517               1701.531213   \n",
       "4/1/2014           1967.924915          791.377595               1725.619914   \n",
       "4/2/2014           1974.681542          792.649458               1725.036875   \n",
       "4/3/2014           1964.644411          791.346491               1711.606611   \n",
       "4/4/2014           1928.669947          782.133887               1671.845129   \n",
       "...                        ...                 ...                       ...   \n",
       "4/22/2020          3707.082578         1024.544822               4541.457520   \n",
       "4/23/2020          3730.146867         1022.668316               4515.091879   \n",
       "4/24/2020          3788.658488         1036.832744               4606.805892   \n",
       "4/27/2020          3842.631669         1079.004474               4658.200735   \n",
       "4/28/2020          3758.451236         1092.564297               4598.360791   \n",
       "\n",
       "           USA IMI/COMM SVC 25-50  USA IMI/UTILITIES  \n",
       "Date                                                  \n",
       "3/31/2014             1587.714945        1352.638331  \n",
       "4/1/2014              1604.489108        1344.973763  \n",
       "4/2/2014              1607.515438        1342.916988  \n",
       "4/3/2014              1604.310834        1346.604535  \n",
       "4/4/2014              1586.783756        1352.108457  \n",
       "...                           ...                ...  \n",
       "4/22/2020             2324.130000        2355.349841  \n",
       "4/23/2020             2344.051013        2317.042590  \n",
       "4/24/2020             2370.876897        2332.509681  \n",
       "4/27/2020             2394.356559        2359.837846  \n",
       "4/28/2020             2355.854024        2370.659487  \n",
       "\n",
       "[1587 rows x 10 columns]"
      ]
     },
     "execution_count": 7,
     "metadata": {},
     "output_type": "execute_result"
    }
   ],
   "source": [
    "data=data.iloc[4000:,:]\n",
    "data"
   ]
  },
  {
   "cell_type": "code",
   "execution_count": 8,
   "metadata": {},
   "outputs": [],
   "source": [
    "returns = np.log(data.shift(-1)/data)\n",
    "returns=returns.dropna(axis=0,how='all')     #kill nan\n",
    "Cov=returns.cov()*252\n",
    "annual_returns=returns*252"
   ]
  },
  {
   "cell_type": "code",
   "execution_count": 9,
   "metadata": {},
   "outputs": [
    {
     "data": {
      "text/plain": [
       "(1586, 10)"
      ]
     },
     "execution_count": 9,
     "metadata": {},
     "output_type": "execute_result"
    }
   ],
   "source": [
    "returns.shape"
   ]
  },
  {
   "cell_type": "code",
   "execution_count": 10,
   "metadata": {},
   "outputs": [
    {
     "data": {
      "text/plain": [
       "(1586, 10)"
      ]
     },
     "execution_count": 10,
     "metadata": {},
     "output_type": "execute_result"
    }
   ],
   "source": [
    "annual_returns.shape"
   ]
  },
  {
   "cell_type": "code",
   "execution_count": 11,
   "metadata": {},
   "outputs": [],
   "source": [
    "risk_free=0"
   ]
  },
  {
   "cell_type": "code",
   "execution_count": 12,
   "metadata": {},
   "outputs": [],
   "source": [
    "b1=np.array([2,3,4,5,1,0,0,-1,2,3])\n",
    "b2=np.array([-2,2,1,6,1,2,0,-3,1,1])"
   ]
  },
  {
   "cell_type": "code",
   "execution_count": 13,
   "metadata": {},
   "outputs": [],
   "source": [
    "np.random.seed(42)\n",
    "rr=[0.6,0.2,0.3,0.4,0.5,0,-0.3,-0.2,-0.3,-0.1]\n",
    "returns_new=np.random.multivariate_normal(rr,Cov,(1000), 'raise')"
   ]
  },
  {
   "cell_type": "code",
   "execution_count": 14,
   "metadata": {},
   "outputs": [],
   "source": [
    "returns_new=pd.DataFrame(returns_new)"
   ]
  },
  {
   "cell_type": "code",
   "execution_count": 15,
   "metadata": {},
   "outputs": [
    {
     "data": {
      "text/html": [
       "<div>\n",
       "<style scoped>\n",
       "    .dataframe tbody tr th:only-of-type {\n",
       "        vertical-align: middle;\n",
       "    }\n",
       "\n",
       "    .dataframe tbody tr th {\n",
       "        vertical-align: top;\n",
       "    }\n",
       "\n",
       "    .dataframe thead th {\n",
       "        text-align: right;\n",
       "    }\n",
       "</style>\n",
       "<table border=\"1\" class=\"dataframe\">\n",
       "  <thead>\n",
       "    <tr style=\"text-align: right;\">\n",
       "      <th></th>\n",
       "      <th>0</th>\n",
       "      <th>1</th>\n",
       "      <th>2</th>\n",
       "      <th>3</th>\n",
       "      <th>4</th>\n",
       "      <th>5</th>\n",
       "      <th>6</th>\n",
       "      <th>7</th>\n",
       "      <th>8</th>\n",
       "      <th>9</th>\n",
       "    </tr>\n",
       "  </thead>\n",
       "  <tbody>\n",
       "    <tr>\n",
       "      <th>0</th>\n",
       "      <td>0.489932</td>\n",
       "      <td>0.050784</td>\n",
       "      <td>0.236885</td>\n",
       "      <td>0.268305</td>\n",
       "      <td>0.498745</td>\n",
       "      <td>-0.108825</td>\n",
       "      <td>-0.296003</td>\n",
       "      <td>-0.284394</td>\n",
       "      <td>-0.542355</td>\n",
       "      <td>-0.065976</td>\n",
       "    </tr>\n",
       "    <tr>\n",
       "      <th>1</th>\n",
       "      <td>0.727455</td>\n",
       "      <td>0.288251</td>\n",
       "      <td>0.249477</td>\n",
       "      <td>0.477809</td>\n",
       "      <td>0.634903</td>\n",
       "      <td>0.129795</td>\n",
       "      <td>-0.413666</td>\n",
       "      <td>0.008191</td>\n",
       "      <td>-0.130679</td>\n",
       "      <td>0.007618</td>\n",
       "    </tr>\n",
       "    <tr>\n",
       "      <th>2</th>\n",
       "      <td>0.259545</td>\n",
       "      <td>-0.071328</td>\n",
       "      <td>-0.025880</td>\n",
       "      <td>0.131100</td>\n",
       "      <td>0.387108</td>\n",
       "      <td>-0.191059</td>\n",
       "      <td>-0.721103</td>\n",
       "      <td>-0.457526</td>\n",
       "      <td>-0.415047</td>\n",
       "      <td>-0.287439</td>\n",
       "    </tr>\n",
       "    <tr>\n",
       "      <th>3</th>\n",
       "      <td>0.993447</td>\n",
       "      <td>0.361687</td>\n",
       "      <td>0.416670</td>\n",
       "      <td>0.431376</td>\n",
       "      <td>0.340496</td>\n",
       "      <td>-0.085996</td>\n",
       "      <td>-0.199503</td>\n",
       "      <td>-0.055673</td>\n",
       "      <td>-0.129710</td>\n",
       "      <td>-0.146153</td>\n",
       "    </tr>\n",
       "    <tr>\n",
       "      <th>4</th>\n",
       "      <td>0.481518</td>\n",
       "      <td>0.094515</td>\n",
       "      <td>0.065035</td>\n",
       "      <td>0.335605</td>\n",
       "      <td>0.473847</td>\n",
       "      <td>-0.092284</td>\n",
       "      <td>-0.548636</td>\n",
       "      <td>-0.278165</td>\n",
       "      <td>-0.483224</td>\n",
       "      <td>-0.232882</td>\n",
       "    </tr>\n",
       "    <tr>\n",
       "      <th>...</th>\n",
       "      <td>...</td>\n",
       "      <td>...</td>\n",
       "      <td>...</td>\n",
       "      <td>...</td>\n",
       "      <td>...</td>\n",
       "      <td>...</td>\n",
       "      <td>...</td>\n",
       "      <td>...</td>\n",
       "      <td>...</td>\n",
       "      <td>...</td>\n",
       "    </tr>\n",
       "    <tr>\n",
       "      <th>995</th>\n",
       "      <td>0.392053</td>\n",
       "      <td>-0.023944</td>\n",
       "      <td>0.142972</td>\n",
       "      <td>0.307881</td>\n",
       "      <td>0.290625</td>\n",
       "      <td>-0.090411</td>\n",
       "      <td>-0.465947</td>\n",
       "      <td>-0.359310</td>\n",
       "      <td>-0.328253</td>\n",
       "      <td>-0.314484</td>\n",
       "    </tr>\n",
       "    <tr>\n",
       "      <th>996</th>\n",
       "      <td>0.748788</td>\n",
       "      <td>0.434538</td>\n",
       "      <td>0.478301</td>\n",
       "      <td>0.561463</td>\n",
       "      <td>0.693179</td>\n",
       "      <td>0.127506</td>\n",
       "      <td>-0.034799</td>\n",
       "      <td>-0.093531</td>\n",
       "      <td>-0.014238</td>\n",
       "      <td>0.160858</td>\n",
       "    </tr>\n",
       "    <tr>\n",
       "      <th>997</th>\n",
       "      <td>0.924340</td>\n",
       "      <td>0.399279</td>\n",
       "      <td>0.403244</td>\n",
       "      <td>0.489425</td>\n",
       "      <td>0.517432</td>\n",
       "      <td>-0.030639</td>\n",
       "      <td>0.050705</td>\n",
       "      <td>-0.061512</td>\n",
       "      <td>-0.183180</td>\n",
       "      <td>0.085102</td>\n",
       "    </tr>\n",
       "    <tr>\n",
       "      <th>998</th>\n",
       "      <td>0.671335</td>\n",
       "      <td>0.331450</td>\n",
       "      <td>0.330431</td>\n",
       "      <td>0.419762</td>\n",
       "      <td>0.498329</td>\n",
       "      <td>0.140226</td>\n",
       "      <td>-0.277291</td>\n",
       "      <td>-0.038741</td>\n",
       "      <td>-0.270182</td>\n",
       "      <td>0.108418</td>\n",
       "    </tr>\n",
       "    <tr>\n",
       "      <th>999</th>\n",
       "      <td>0.314283</td>\n",
       "      <td>-0.031997</td>\n",
       "      <td>0.050546</td>\n",
       "      <td>0.105709</td>\n",
       "      <td>0.316112</td>\n",
       "      <td>-0.212511</td>\n",
       "      <td>-0.669458</td>\n",
       "      <td>-0.656806</td>\n",
       "      <td>-0.311928</td>\n",
       "      <td>-0.257379</td>\n",
       "    </tr>\n",
       "  </tbody>\n",
       "</table>\n",
       "<p>1000 rows × 10 columns</p>\n",
       "</div>"
      ],
      "text/plain": [
       "            0         1         2         3         4         5         6  \\\n",
       "0    0.489932  0.050784  0.236885  0.268305  0.498745 -0.108825 -0.296003   \n",
       "1    0.727455  0.288251  0.249477  0.477809  0.634903  0.129795 -0.413666   \n",
       "2    0.259545 -0.071328 -0.025880  0.131100  0.387108 -0.191059 -0.721103   \n",
       "3    0.993447  0.361687  0.416670  0.431376  0.340496 -0.085996 -0.199503   \n",
       "4    0.481518  0.094515  0.065035  0.335605  0.473847 -0.092284 -0.548636   \n",
       "..        ...       ...       ...       ...       ...       ...       ...   \n",
       "995  0.392053 -0.023944  0.142972  0.307881  0.290625 -0.090411 -0.465947   \n",
       "996  0.748788  0.434538  0.478301  0.561463  0.693179  0.127506 -0.034799   \n",
       "997  0.924340  0.399279  0.403244  0.489425  0.517432 -0.030639  0.050705   \n",
       "998  0.671335  0.331450  0.330431  0.419762  0.498329  0.140226 -0.277291   \n",
       "999  0.314283 -0.031997  0.050546  0.105709  0.316112 -0.212511 -0.669458   \n",
       "\n",
       "            7         8         9  \n",
       "0   -0.284394 -0.542355 -0.065976  \n",
       "1    0.008191 -0.130679  0.007618  \n",
       "2   -0.457526 -0.415047 -0.287439  \n",
       "3   -0.055673 -0.129710 -0.146153  \n",
       "4   -0.278165 -0.483224 -0.232882  \n",
       "..        ...       ...       ...  \n",
       "995 -0.359310 -0.328253 -0.314484  \n",
       "996 -0.093531 -0.014238  0.160858  \n",
       "997 -0.061512 -0.183180  0.085102  \n",
       "998 -0.038741 -0.270182  0.108418  \n",
       "999 -0.656806 -0.311928 -0.257379  \n",
       "\n",
       "[1000 rows x 10 columns]"
      ]
     },
     "execution_count": 15,
     "metadata": {},
     "output_type": "execute_result"
    }
   ],
   "source": [
    "returns_new"
   ]
  },
  {
   "cell_type": "code",
   "execution_count": null,
   "metadata": {},
   "outputs": [],
   "source": []
  },
  {
   "cell_type": "code",
   "execution_count": 16,
   "metadata": {},
   "outputs": [
    {
     "data": {
      "text/html": [
       "<div>\n",
       "<style scoped>\n",
       "    .dataframe tbody tr th:only-of-type {\n",
       "        vertical-align: middle;\n",
       "    }\n",
       "\n",
       "    .dataframe tbody tr th {\n",
       "        vertical-align: top;\n",
       "    }\n",
       "\n",
       "    .dataframe thead th {\n",
       "        text-align: right;\n",
       "    }\n",
       "</style>\n",
       "<table border=\"1\" class=\"dataframe\">\n",
       "  <thead>\n",
       "    <tr style=\"text-align: right;\">\n",
       "      <th></th>\n",
       "      <th>0</th>\n",
       "      <th>1</th>\n",
       "      <th>2</th>\n",
       "      <th>3</th>\n",
       "      <th>4</th>\n",
       "      <th>5</th>\n",
       "      <th>6</th>\n",
       "      <th>7</th>\n",
       "      <th>8</th>\n",
       "      <th>9</th>\n",
       "    </tr>\n",
       "  </thead>\n",
       "  <tbody>\n",
       "    <tr>\n",
       "      <th>0</th>\n",
       "      <td>0.079860</td>\n",
       "      <td>0.044643</td>\n",
       "      <td>0.042781</td>\n",
       "      <td>0.036441</td>\n",
       "      <td>0.021890</td>\n",
       "      <td>0.030491</td>\n",
       "      <td>0.045241</td>\n",
       "      <td>0.039486</td>\n",
       "      <td>0.033602</td>\n",
       "      <td>0.021698</td>\n",
       "    </tr>\n",
       "    <tr>\n",
       "      <th>1</th>\n",
       "      <td>0.044643</td>\n",
       "      <td>0.040784</td>\n",
       "      <td>0.036862</td>\n",
       "      <td>0.031988</td>\n",
       "      <td>0.021348</td>\n",
       "      <td>0.028443</td>\n",
       "      <td>0.037785</td>\n",
       "      <td>0.035208</td>\n",
       "      <td>0.028195</td>\n",
       "      <td>0.020619</td>\n",
       "    </tr>\n",
       "    <tr>\n",
       "      <th>2</th>\n",
       "      <td>0.042781</td>\n",
       "      <td>0.036862</td>\n",
       "      <td>0.039008</td>\n",
       "      <td>0.032960</td>\n",
       "      <td>0.021957</td>\n",
       "      <td>0.029044</td>\n",
       "      <td>0.039003</td>\n",
       "      <td>0.036343</td>\n",
       "      <td>0.028899</td>\n",
       "      <td>0.021419</td>\n",
       "    </tr>\n",
       "    <tr>\n",
       "      <th>3</th>\n",
       "      <td>0.036441</td>\n",
       "      <td>0.031988</td>\n",
       "      <td>0.032960</td>\n",
       "      <td>0.035297</td>\n",
       "      <td>0.020369</td>\n",
       "      <td>0.027829</td>\n",
       "      <td>0.034981</td>\n",
       "      <td>0.036782</td>\n",
       "      <td>0.028383</td>\n",
       "      <td>0.018396</td>\n",
       "    </tr>\n",
       "    <tr>\n",
       "      <th>4</th>\n",
       "      <td>0.021890</td>\n",
       "      <td>0.021348</td>\n",
       "      <td>0.021957</td>\n",
       "      <td>0.020369</td>\n",
       "      <td>0.022785</td>\n",
       "      <td>0.020517</td>\n",
       "      <td>0.023236</td>\n",
       "      <td>0.023425</td>\n",
       "      <td>0.020422</td>\n",
       "      <td>0.021053</td>\n",
       "    </tr>\n",
       "    <tr>\n",
       "      <th>5</th>\n",
       "      <td>0.030491</td>\n",
       "      <td>0.028443</td>\n",
       "      <td>0.029044</td>\n",
       "      <td>0.027829</td>\n",
       "      <td>0.020517</td>\n",
       "      <td>0.034715</td>\n",
       "      <td>0.031190</td>\n",
       "      <td>0.032735</td>\n",
       "      <td>0.025142</td>\n",
       "      <td>0.019941</td>\n",
       "    </tr>\n",
       "    <tr>\n",
       "      <th>6</th>\n",
       "      <td>0.045241</td>\n",
       "      <td>0.037785</td>\n",
       "      <td>0.039003</td>\n",
       "      <td>0.034981</td>\n",
       "      <td>0.023236</td>\n",
       "      <td>0.031190</td>\n",
       "      <td>0.047720</td>\n",
       "      <td>0.038211</td>\n",
       "      <td>0.031355</td>\n",
       "      <td>0.022768</td>\n",
       "    </tr>\n",
       "    <tr>\n",
       "      <th>7</th>\n",
       "      <td>0.039486</td>\n",
       "      <td>0.035208</td>\n",
       "      <td>0.036343</td>\n",
       "      <td>0.036782</td>\n",
       "      <td>0.023425</td>\n",
       "      <td>0.032735</td>\n",
       "      <td>0.038211</td>\n",
       "      <td>0.047524</td>\n",
       "      <td>0.031673</td>\n",
       "      <td>0.021999</td>\n",
       "    </tr>\n",
       "    <tr>\n",
       "      <th>8</th>\n",
       "      <td>0.033602</td>\n",
       "      <td>0.028195</td>\n",
       "      <td>0.028899</td>\n",
       "      <td>0.028383</td>\n",
       "      <td>0.020422</td>\n",
       "      <td>0.025142</td>\n",
       "      <td>0.031355</td>\n",
       "      <td>0.031673</td>\n",
       "      <td>0.036339</td>\n",
       "      <td>0.020519</td>\n",
       "    </tr>\n",
       "    <tr>\n",
       "      <th>9</th>\n",
       "      <td>0.021698</td>\n",
       "      <td>0.020619</td>\n",
       "      <td>0.021419</td>\n",
       "      <td>0.018396</td>\n",
       "      <td>0.021053</td>\n",
       "      <td>0.019941</td>\n",
       "      <td>0.022768</td>\n",
       "      <td>0.021999</td>\n",
       "      <td>0.020519</td>\n",
       "      <td>0.036704</td>\n",
       "    </tr>\n",
       "  </tbody>\n",
       "</table>\n",
       "</div>"
      ],
      "text/plain": [
       "          0         1         2         3         4         5         6  \\\n",
       "0  0.079860  0.044643  0.042781  0.036441  0.021890  0.030491  0.045241   \n",
       "1  0.044643  0.040784  0.036862  0.031988  0.021348  0.028443  0.037785   \n",
       "2  0.042781  0.036862  0.039008  0.032960  0.021957  0.029044  0.039003   \n",
       "3  0.036441  0.031988  0.032960  0.035297  0.020369  0.027829  0.034981   \n",
       "4  0.021890  0.021348  0.021957  0.020369  0.022785  0.020517  0.023236   \n",
       "5  0.030491  0.028443  0.029044  0.027829  0.020517  0.034715  0.031190   \n",
       "6  0.045241  0.037785  0.039003  0.034981  0.023236  0.031190  0.047720   \n",
       "7  0.039486  0.035208  0.036343  0.036782  0.023425  0.032735  0.038211   \n",
       "8  0.033602  0.028195  0.028899  0.028383  0.020422  0.025142  0.031355   \n",
       "9  0.021698  0.020619  0.021419  0.018396  0.021053  0.019941  0.022768   \n",
       "\n",
       "          7         8         9  \n",
       "0  0.039486  0.033602  0.021698  \n",
       "1  0.035208  0.028195  0.020619  \n",
       "2  0.036343  0.028899  0.021419  \n",
       "3  0.036782  0.028383  0.018396  \n",
       "4  0.023425  0.020422  0.021053  \n",
       "5  0.032735  0.025142  0.019941  \n",
       "6  0.038211  0.031355  0.022768  \n",
       "7  0.047524  0.031673  0.021999  \n",
       "8  0.031673  0.036339  0.020519  \n",
       "9  0.021999  0.020519  0.036704  "
      ]
     },
     "execution_count": 16,
     "metadata": {},
     "output_type": "execute_result"
    }
   ],
   "source": [
    "Cov=returns_new.cov()\n",
    "Cov"
   ]
  },
  {
   "cell_type": "code",
   "execution_count": 17,
   "metadata": {},
   "outputs": [],
   "source": [
    "sigma1=np.dot(np.dot(b1.T,Cov),b1)\n",
    "sigma2=np.dot(np.dot(b2.T,Cov),b2)"
   ]
  },
  {
   "cell_type": "code",
   "execution_count": 18,
   "metadata": {},
   "outputs": [],
   "source": [
    "returns=returns_new"
   ]
  },
  {
   "cell_type": "code",
   "execution_count": null,
   "metadata": {},
   "outputs": [],
   "source": []
  },
  {
   "cell_type": "markdown",
   "metadata": {},
   "source": [
    "### BL model 建立\n",
    "#### $\\mu$"
   ]
  },
  {
   "cell_type": "code",
   "execution_count": 19,
   "metadata": {},
   "outputs": [
    {
     "data": {
      "text/plain": [
       "0    0.601069\n",
       "1    0.197407\n",
       "2    0.299366\n",
       "3    0.398076\n",
       "4    0.496645\n",
       "5   -0.005210\n",
       "6   -0.304088\n",
       "7   -0.200054\n",
       "8   -0.298550\n",
       "9   -0.107006\n",
       "dtype: float64"
      ]
     },
     "execution_count": 19,
     "metadata": {},
     "output_type": "execute_result"
    }
   ],
   "source": [
    "mu=np.mean(returns)\n",
    "mu"
   ]
  },
  {
   "cell_type": "markdown",
   "metadata": {},
   "source": [
    "#### $r_f$"
   ]
  },
  {
   "cell_type": "code",
   "execution_count": 20,
   "metadata": {},
   "outputs": [],
   "source": [
    "rf=0"
   ]
  },
  {
   "cell_type": "markdown",
   "metadata": {},
   "source": [
    "#### $\\Sigma$"
   ]
  },
  {
   "cell_type": "code",
   "execution_count": 21,
   "metadata": {},
   "outputs": [
    {
     "data": {
      "text/html": [
       "<div>\n",
       "<style scoped>\n",
       "    .dataframe tbody tr th:only-of-type {\n",
       "        vertical-align: middle;\n",
       "    }\n",
       "\n",
       "    .dataframe tbody tr th {\n",
       "        vertical-align: top;\n",
       "    }\n",
       "\n",
       "    .dataframe thead th {\n",
       "        text-align: right;\n",
       "    }\n",
       "</style>\n",
       "<table border=\"1\" class=\"dataframe\">\n",
       "  <thead>\n",
       "    <tr style=\"text-align: right;\">\n",
       "      <th></th>\n",
       "      <th>0</th>\n",
       "      <th>1</th>\n",
       "      <th>2</th>\n",
       "      <th>3</th>\n",
       "      <th>4</th>\n",
       "      <th>5</th>\n",
       "      <th>6</th>\n",
       "      <th>7</th>\n",
       "      <th>8</th>\n",
       "      <th>9</th>\n",
       "    </tr>\n",
       "  </thead>\n",
       "  <tbody>\n",
       "    <tr>\n",
       "      <th>0</th>\n",
       "      <td>0.079860</td>\n",
       "      <td>0.044643</td>\n",
       "      <td>0.042781</td>\n",
       "      <td>0.036441</td>\n",
       "      <td>0.021890</td>\n",
       "      <td>0.030491</td>\n",
       "      <td>0.045241</td>\n",
       "      <td>0.039486</td>\n",
       "      <td>0.033602</td>\n",
       "      <td>0.021698</td>\n",
       "    </tr>\n",
       "    <tr>\n",
       "      <th>1</th>\n",
       "      <td>0.044643</td>\n",
       "      <td>0.040784</td>\n",
       "      <td>0.036862</td>\n",
       "      <td>0.031988</td>\n",
       "      <td>0.021348</td>\n",
       "      <td>0.028443</td>\n",
       "      <td>0.037785</td>\n",
       "      <td>0.035208</td>\n",
       "      <td>0.028195</td>\n",
       "      <td>0.020619</td>\n",
       "    </tr>\n",
       "    <tr>\n",
       "      <th>2</th>\n",
       "      <td>0.042781</td>\n",
       "      <td>0.036862</td>\n",
       "      <td>0.039008</td>\n",
       "      <td>0.032960</td>\n",
       "      <td>0.021957</td>\n",
       "      <td>0.029044</td>\n",
       "      <td>0.039003</td>\n",
       "      <td>0.036343</td>\n",
       "      <td>0.028899</td>\n",
       "      <td>0.021419</td>\n",
       "    </tr>\n",
       "    <tr>\n",
       "      <th>3</th>\n",
       "      <td>0.036441</td>\n",
       "      <td>0.031988</td>\n",
       "      <td>0.032960</td>\n",
       "      <td>0.035297</td>\n",
       "      <td>0.020369</td>\n",
       "      <td>0.027829</td>\n",
       "      <td>0.034981</td>\n",
       "      <td>0.036782</td>\n",
       "      <td>0.028383</td>\n",
       "      <td>0.018396</td>\n",
       "    </tr>\n",
       "    <tr>\n",
       "      <th>4</th>\n",
       "      <td>0.021890</td>\n",
       "      <td>0.021348</td>\n",
       "      <td>0.021957</td>\n",
       "      <td>0.020369</td>\n",
       "      <td>0.022785</td>\n",
       "      <td>0.020517</td>\n",
       "      <td>0.023236</td>\n",
       "      <td>0.023425</td>\n",
       "      <td>0.020422</td>\n",
       "      <td>0.021053</td>\n",
       "    </tr>\n",
       "  </tbody>\n",
       "</table>\n",
       "</div>"
      ],
      "text/plain": [
       "          0         1         2         3         4         5         6  \\\n",
       "0  0.079860  0.044643  0.042781  0.036441  0.021890  0.030491  0.045241   \n",
       "1  0.044643  0.040784  0.036862  0.031988  0.021348  0.028443  0.037785   \n",
       "2  0.042781  0.036862  0.039008  0.032960  0.021957  0.029044  0.039003   \n",
       "3  0.036441  0.031988  0.032960  0.035297  0.020369  0.027829  0.034981   \n",
       "4  0.021890  0.021348  0.021957  0.020369  0.022785  0.020517  0.023236   \n",
       "\n",
       "          7         8         9  \n",
       "0  0.039486  0.033602  0.021698  \n",
       "1  0.035208  0.028195  0.020619  \n",
       "2  0.036343  0.028899  0.021419  \n",
       "3  0.036782  0.028383  0.018396  \n",
       "4  0.023425  0.020422  0.021053  "
      ]
     },
     "execution_count": 21,
     "metadata": {},
     "output_type": "execute_result"
    }
   ],
   "source": [
    "Cov.head()"
   ]
  },
  {
   "cell_type": "markdown",
   "metadata": {},
   "source": [
    "#### $x_{mkt}$"
   ]
  },
  {
   "cell_type": "code",
   "execution_count": 22,
   "metadata": {},
   "outputs": [],
   "source": [
    "mktdata=pd.read_csv('Captial.csv',index_col=0)\n",
    "# mktdata=pd.DataFrame(mktdata,dtype=np.float)"
   ]
  },
  {
   "cell_type": "code",
   "execution_count": 23,
   "metadata": {},
   "outputs": [],
   "source": [
    "mkt=mktdata.values\n",
    "mkt=mkt/(np.sum(mkt))"
   ]
  },
  {
   "cell_type": "code",
   "execution_count": 24,
   "metadata": {},
   "outputs": [
    {
     "data": {
      "text/plain": [
       "array([[0.02581884],\n",
       "       [0.02759065],\n",
       "       [0.09275018],\n",
       "       [0.10541214],\n",
       "       [0.07461352],\n",
       "       [0.16118301],\n",
       "       [0.11717999],\n",
       "       [0.25780988],\n",
       "       [0.10116106],\n",
       "       [0.03648073]])"
      ]
     },
     "execution_count": 24,
     "metadata": {},
     "output_type": "execute_result"
    }
   ],
   "source": [
    "mkt"
   ]
  },
  {
   "cell_type": "code",
   "execution_count": 25,
   "metadata": {},
   "outputs": [
    {
     "data": {
      "text/plain": [
       "0    0.601069\n",
       "1    0.197407\n",
       "2    0.299366\n",
       "3    0.398076\n",
       "4    0.496645\n",
       "5   -0.005210\n",
       "6   -0.304088\n",
       "7   -0.200054\n",
       "8   -0.298550\n",
       "9   -0.107006\n",
       "dtype: float64"
      ]
     },
     "execution_count": 25,
     "metadata": {},
     "output_type": "execute_result"
    }
   ],
   "source": [
    "mu"
   ]
  },
  {
   "cell_type": "markdown",
   "metadata": {},
   "source": [
    "#### risk aversion L"
   ]
  },
  {
   "cell_type": "code",
   "execution_count": 26,
   "metadata": {},
   "outputs": [
    {
     "data": {
      "text/plain": [
       "2.845532567747809"
      ]
     },
     "execution_count": 26,
     "metadata": {},
     "output_type": "execute_result"
    }
   ],
   "source": [
    "mkt_return=np.dot(returns,mkt)\n",
    "\n",
    "L=mkt_return.std()*np.sqrt(252)\n",
    "L"
   ]
  },
  {
   "cell_type": "markdown",
   "metadata": {},
   "source": [
    "#### Directly $x_{hist}$"
   ]
  },
  {
   "cell_type": "code",
   "execution_count": 27,
   "metadata": {},
   "outputs": [
    {
     "name": "stdout",
     "output_type": "stream",
     "text": [
      "     fun: -36.39202592894644\n",
      "     jac: array([-0.60106945, -0.19740725, -0.299366  , -0.39807606, -0.49664545,\n",
      "        0.0052104 ,  0.30408812,  0.20005417,  0.29854965,  0.10700655])\n",
      " message: 'Optimization terminated successfully.'\n",
      "    nfev: 540\n",
      "     nit: 45\n",
      "    njev: 45\n",
      "  status: 0\n",
      " success: True\n",
      "       x: array([  4.9770555 ,  -5.03043577,  12.95749144,  22.63081731,\n",
      "        19.66776203,  -1.4604422 , -17.29275819, -14.39252835,\n",
      "       -10.20549106,  -5.09820122])\n"
     ]
    }
   ],
   "source": [
    "#(a)\n",
    "num=len(icode)\n",
    "e=np.ones((num,1))\n",
    "\n",
    "def statistics1(weights):\n",
    "    \n",
    "    weights=np.array(weights)\n",
    "    \n",
    "    Mark1=np.dot(mu.T,weights)\n",
    "    Mark2=(1-np.dot(e.T,weights))*rf\n",
    "\n",
    "    \n",
    "    \n",
    "    return [Mark1+Mark2]\n",
    "\n",
    "def max_Mark(weights):\n",
    "    \n",
    "    return -1*statistics1(weights)[0]\n",
    "\n",
    "cons = (\n",
    "       {'type':'ineq', 'fun':lambda x: -np.dot(np.dot(x.T,Cov),x)+L**2}\n",
    "       )\n",
    "bnds = tuple((0,100) for x in range(num))\n",
    "hist = sco.minimize(max_Mark, num*[1./num,], method = 'SLSQP', constraints = cons)\n",
    "print(hist)"
   ]
  },
  {
   "cell_type": "code",
   "execution_count": 28,
   "metadata": {},
   "outputs": [],
   "source": [
    "# mu=np.array(mu)"
   ]
  },
  {
   "cell_type": "code",
   "execution_count": 29,
   "metadata": {},
   "outputs": [],
   "source": [
    "# import cvxpy as cvx\n",
    "# x = cvx.Variable((10,1))\n",
    "# # sigma_bar = cvx.Variable((10,10))\n",
    "# rf = rf\n",
    "# # x = cp.Variable((10,1))\n",
    "# e = e.reshape(-1,1)\n",
    "# I = np.identity(11)\n",
    "\n",
    "\n",
    "# # sigma_bar.dot(x_mkt)\n",
    "# Cons = [\n",
    "#     cvx.quad_form(x, Cov)<=L**2\n",
    "# ]\n",
    "# objective = cvx.Maximize(mu.T*x+(1-e.T*x)*rf)\n",
    "# prob = cvx.Problem(objective, Cons)\n",
    "# prob.solve(solver='CVXOPT')  # Returns the optimal value.\n",
    "# print(\"status:\", prob.status)\n",
    "# print(\"optimal value\", prob.value)\n",
    "# # print(\"optimal var\", x.value, y.value)\n",
    "# x.value"
   ]
  },
  {
   "cell_type": "code",
   "execution_count": null,
   "metadata": {},
   "outputs": [],
   "source": []
  },
  {
   "cell_type": "code",
   "execution_count": 30,
   "metadata": {},
   "outputs": [
    {
     "data": {
      "text/plain": [
       "array([  73.69845844,  -74.48889445,  191.86990061,  335.10905174,\n",
       "        291.23318851,  -21.62570601, -256.06498068, -213.11941422,\n",
       "       -151.119263  ,  -75.49234095])"
      ]
     },
     "execution_count": 30,
     "metadata": {},
     "output_type": "execute_result"
    }
   ],
   "source": [
    "x_hist=hist.x/np.sum(hist.x)*100\n",
    "x_hist"
   ]
  },
  {
   "cell_type": "code",
   "execution_count": 31,
   "metadata": {},
   "outputs": [],
   "source": [
    "#,options={'maxiter': 100000}"
   ]
  },
  {
   "cell_type": "markdown",
   "metadata": {},
   "source": [
    "#### BL model\n",
    "$\\delta$"
   ]
  },
  {
   "cell_type": "code",
   "execution_count": 32,
   "metadata": {},
   "outputs": [],
   "source": [
    "delta=1.25"
   ]
  },
  {
   "cell_type": "markdown",
   "metadata": {},
   "source": [
    "$P$"
   ]
  },
  {
   "cell_type": "code",
   "execution_count": 33,
   "metadata": {},
   "outputs": [],
   "source": [
    "P=[1,3,6,2,4,-1,3,0,-4,1]\n",
    "P=np.array(P)"
   ]
  },
  {
   "cell_type": "markdown",
   "metadata": {},
   "source": [
    "$\\hat{\\Sigma}$"
   ]
  },
  {
   "cell_type": "code",
   "execution_count": 34,
   "metadata": {},
   "outputs": [],
   "source": [
    "Cov1=Cov"
   ]
  },
  {
   "cell_type": "code",
   "execution_count": 35,
   "metadata": {},
   "outputs": [
    {
     "data": {
      "text/html": [
       "<div>\n",
       "<style scoped>\n",
       "    .dataframe tbody tr th:only-of-type {\n",
       "        vertical-align: middle;\n",
       "    }\n",
       "\n",
       "    .dataframe tbody tr th {\n",
       "        vertical-align: top;\n",
       "    }\n",
       "\n",
       "    .dataframe thead th {\n",
       "        text-align: right;\n",
       "    }\n",
       "</style>\n",
       "<table border=\"1\" class=\"dataframe\">\n",
       "  <thead>\n",
       "    <tr style=\"text-align: right;\">\n",
       "      <th></th>\n",
       "      <th>0</th>\n",
       "      <th>1</th>\n",
       "      <th>2</th>\n",
       "      <th>3</th>\n",
       "      <th>4</th>\n",
       "      <th>5</th>\n",
       "      <th>6</th>\n",
       "      <th>7</th>\n",
       "      <th>8</th>\n",
       "      <th>9</th>\n",
       "    </tr>\n",
       "  </thead>\n",
       "  <tbody>\n",
       "    <tr>\n",
       "      <th>0</th>\n",
       "      <td>0.079860</td>\n",
       "      <td>0.044643</td>\n",
       "      <td>0.042781</td>\n",
       "      <td>0.036441</td>\n",
       "      <td>0.021890</td>\n",
       "      <td>0.030491</td>\n",
       "      <td>0.045241</td>\n",
       "      <td>0.039486</td>\n",
       "      <td>0.033602</td>\n",
       "      <td>0.021698</td>\n",
       "    </tr>\n",
       "    <tr>\n",
       "      <th>1</th>\n",
       "      <td>0.044643</td>\n",
       "      <td>0.040784</td>\n",
       "      <td>0.036862</td>\n",
       "      <td>0.031988</td>\n",
       "      <td>0.021348</td>\n",
       "      <td>0.028443</td>\n",
       "      <td>0.037785</td>\n",
       "      <td>0.035208</td>\n",
       "      <td>0.028195</td>\n",
       "      <td>0.020619</td>\n",
       "    </tr>\n",
       "    <tr>\n",
       "      <th>2</th>\n",
       "      <td>0.042781</td>\n",
       "      <td>0.036862</td>\n",
       "      <td>0.039008</td>\n",
       "      <td>0.032960</td>\n",
       "      <td>0.021957</td>\n",
       "      <td>0.029044</td>\n",
       "      <td>0.039003</td>\n",
       "      <td>0.036343</td>\n",
       "      <td>0.028899</td>\n",
       "      <td>0.021419</td>\n",
       "    </tr>\n",
       "    <tr>\n",
       "      <th>3</th>\n",
       "      <td>0.036441</td>\n",
       "      <td>0.031988</td>\n",
       "      <td>0.032960</td>\n",
       "      <td>0.035297</td>\n",
       "      <td>0.020369</td>\n",
       "      <td>0.027829</td>\n",
       "      <td>0.034981</td>\n",
       "      <td>0.036782</td>\n",
       "      <td>0.028383</td>\n",
       "      <td>0.018396</td>\n",
       "    </tr>\n",
       "    <tr>\n",
       "      <th>4</th>\n",
       "      <td>0.021890</td>\n",
       "      <td>0.021348</td>\n",
       "      <td>0.021957</td>\n",
       "      <td>0.020369</td>\n",
       "      <td>0.022785</td>\n",
       "      <td>0.020517</td>\n",
       "      <td>0.023236</td>\n",
       "      <td>0.023425</td>\n",
       "      <td>0.020422</td>\n",
       "      <td>0.021053</td>\n",
       "    </tr>\n",
       "    <tr>\n",
       "      <th>5</th>\n",
       "      <td>0.030491</td>\n",
       "      <td>0.028443</td>\n",
       "      <td>0.029044</td>\n",
       "      <td>0.027829</td>\n",
       "      <td>0.020517</td>\n",
       "      <td>0.034715</td>\n",
       "      <td>0.031190</td>\n",
       "      <td>0.032735</td>\n",
       "      <td>0.025142</td>\n",
       "      <td>0.019941</td>\n",
       "    </tr>\n",
       "    <tr>\n",
       "      <th>6</th>\n",
       "      <td>0.045241</td>\n",
       "      <td>0.037785</td>\n",
       "      <td>0.039003</td>\n",
       "      <td>0.034981</td>\n",
       "      <td>0.023236</td>\n",
       "      <td>0.031190</td>\n",
       "      <td>0.047720</td>\n",
       "      <td>0.038211</td>\n",
       "      <td>0.031355</td>\n",
       "      <td>0.022768</td>\n",
       "    </tr>\n",
       "    <tr>\n",
       "      <th>7</th>\n",
       "      <td>0.039486</td>\n",
       "      <td>0.035208</td>\n",
       "      <td>0.036343</td>\n",
       "      <td>0.036782</td>\n",
       "      <td>0.023425</td>\n",
       "      <td>0.032735</td>\n",
       "      <td>0.038211</td>\n",
       "      <td>0.047524</td>\n",
       "      <td>0.031673</td>\n",
       "      <td>0.021999</td>\n",
       "    </tr>\n",
       "    <tr>\n",
       "      <th>8</th>\n",
       "      <td>0.033602</td>\n",
       "      <td>0.028195</td>\n",
       "      <td>0.028899</td>\n",
       "      <td>0.028383</td>\n",
       "      <td>0.020422</td>\n",
       "      <td>0.025142</td>\n",
       "      <td>0.031355</td>\n",
       "      <td>0.031673</td>\n",
       "      <td>0.036339</td>\n",
       "      <td>0.020519</td>\n",
       "    </tr>\n",
       "    <tr>\n",
       "      <th>9</th>\n",
       "      <td>0.021698</td>\n",
       "      <td>0.020619</td>\n",
       "      <td>0.021419</td>\n",
       "      <td>0.018396</td>\n",
       "      <td>0.021053</td>\n",
       "      <td>0.019941</td>\n",
       "      <td>0.022768</td>\n",
       "      <td>0.021999</td>\n",
       "      <td>0.020519</td>\n",
       "      <td>0.036704</td>\n",
       "    </tr>\n",
       "  </tbody>\n",
       "</table>\n",
       "</div>"
      ],
      "text/plain": [
       "          0         1         2         3         4         5         6  \\\n",
       "0  0.079860  0.044643  0.042781  0.036441  0.021890  0.030491  0.045241   \n",
       "1  0.044643  0.040784  0.036862  0.031988  0.021348  0.028443  0.037785   \n",
       "2  0.042781  0.036862  0.039008  0.032960  0.021957  0.029044  0.039003   \n",
       "3  0.036441  0.031988  0.032960  0.035297  0.020369  0.027829  0.034981   \n",
       "4  0.021890  0.021348  0.021957  0.020369  0.022785  0.020517  0.023236   \n",
       "5  0.030491  0.028443  0.029044  0.027829  0.020517  0.034715  0.031190   \n",
       "6  0.045241  0.037785  0.039003  0.034981  0.023236  0.031190  0.047720   \n",
       "7  0.039486  0.035208  0.036343  0.036782  0.023425  0.032735  0.038211   \n",
       "8  0.033602  0.028195  0.028899  0.028383  0.020422  0.025142  0.031355   \n",
       "9  0.021698  0.020619  0.021419  0.018396  0.021053  0.019941  0.022768   \n",
       "\n",
       "          7         8         9  \n",
       "0  0.039486  0.033602  0.021698  \n",
       "1  0.035208  0.028195  0.020619  \n",
       "2  0.036343  0.028899  0.021419  \n",
       "3  0.036782  0.028383  0.018396  \n",
       "4  0.023425  0.020422  0.021053  \n",
       "5  0.032735  0.025142  0.019941  \n",
       "6  0.038211  0.031355  0.022768  \n",
       "7  0.047524  0.031673  0.021999  \n",
       "8  0.031673  0.036339  0.020519  \n",
       "9  0.021999  0.020519  0.036704  "
      ]
     },
     "execution_count": 35,
     "metadata": {},
     "output_type": "execute_result"
    }
   ],
   "source": [
    "Cov"
   ]
  },
  {
   "cell_type": "code",
   "execution_count": 36,
   "metadata": {},
   "outputs": [
    {
     "data": {
      "text/plain": [
       "array([[0.02581884],\n",
       "       [0.02759065],\n",
       "       [0.09275018],\n",
       "       [0.10541214],\n",
       "       [0.07461352],\n",
       "       [0.16118301],\n",
       "       [0.11717999],\n",
       "       [0.25780988],\n",
       "       [0.10116106],\n",
       "       [0.03648073]])"
      ]
     },
     "execution_count": 36,
     "metadata": {},
     "output_type": "execute_result"
    }
   ],
   "source": [
    "mkt"
   ]
  },
  {
   "cell_type": "markdown",
   "metadata": {},
   "source": [
    "$\\hat{r}$"
   ]
  },
  {
   "cell_type": "code",
   "execution_count": 37,
   "metadata": {},
   "outputs": [],
   "source": [
    "r_hat=rf*e+2*delta*np.dot(Cov,mkt)"
   ]
  },
  {
   "cell_type": "code",
   "execution_count": 38,
   "metadata": {},
   "outputs": [
    {
     "data": {
      "text/plain": [
       "array([[0.0933067 ],\n",
       "       [0.08088774],\n",
       "       [0.08294562],\n",
       "       [0.07932655],\n",
       "       [0.05485226],\n",
       "       [0.07422684],\n",
       "       [0.08930509],\n",
       "       [0.09249859],\n",
       "       [0.07289621],\n",
       "       [0.05398521]])"
      ]
     },
     "execution_count": 38,
     "metadata": {},
     "output_type": "execute_result"
    }
   ],
   "source": [
    "r_hat"
   ]
  },
  {
   "cell_type": "markdown",
   "metadata": {},
   "source": [
    "$q$"
   ]
  },
  {
   "cell_type": "code",
   "execution_count": 39,
   "metadata": {},
   "outputs": [
    {
     "data": {
      "text/plain": [
       "array([1.16779458])"
      ]
     },
     "execution_count": 39,
     "metadata": {},
     "output_type": "execute_result"
    }
   ],
   "source": [
    "q=np.dot(P.T,r_hat)\n",
    "q"
   ]
  },
  {
   "cell_type": "code",
   "execution_count": 40,
   "metadata": {},
   "outputs": [],
   "source": [
    "q=np.dot(P.T,r_hat)\n",
    "q=q[0]\n",
    "q=np.array([[q-1]])"
   ]
  },
  {
   "cell_type": "code",
   "execution_count": 41,
   "metadata": {},
   "outputs": [
    {
     "data": {
      "text/plain": [
       "array([[0.16779458]])"
      ]
     },
     "execution_count": 41,
     "metadata": {},
     "output_type": "execute_result"
    }
   ],
   "source": [
    "q"
   ]
  },
  {
   "cell_type": "markdown",
   "metadata": {},
   "source": [
    "$\\Omega$"
   ]
  },
  {
   "cell_type": "code",
   "execution_count": 42,
   "metadata": {},
   "outputs": [],
   "source": [
    "mm=1\n",
    "r0=1/24\n",
    "r1=0.02*r0\n",
    "rr=[r1]"
   ]
  },
  {
   "cell_type": "code",
   "execution_count": 43,
   "metadata": {},
   "outputs": [
    {
     "data": {
      "text/html": [
       "<div>\n",
       "<style scoped>\n",
       "    .dataframe tbody tr th:only-of-type {\n",
       "        vertical-align: middle;\n",
       "    }\n",
       "\n",
       "    .dataframe tbody tr th {\n",
       "        vertical-align: top;\n",
       "    }\n",
       "\n",
       "    .dataframe thead th {\n",
       "        text-align: right;\n",
       "    }\n",
       "</style>\n",
       "<table border=\"1\" class=\"dataframe\">\n",
       "  <thead>\n",
       "    <tr style=\"text-align: right;\">\n",
       "      <th></th>\n",
       "      <th>0</th>\n",
       "      <th>1</th>\n",
       "      <th>2</th>\n",
       "      <th>3</th>\n",
       "      <th>4</th>\n",
       "      <th>5</th>\n",
       "      <th>6</th>\n",
       "      <th>7</th>\n",
       "      <th>8</th>\n",
       "      <th>9</th>\n",
       "    </tr>\n",
       "  </thead>\n",
       "  <tbody>\n",
       "    <tr>\n",
       "      <th>0</th>\n",
       "      <td>0.079860</td>\n",
       "      <td>0.044643</td>\n",
       "      <td>0.042781</td>\n",
       "      <td>0.036441</td>\n",
       "      <td>0.021890</td>\n",
       "      <td>0.030491</td>\n",
       "      <td>0.045241</td>\n",
       "      <td>0.039486</td>\n",
       "      <td>0.033602</td>\n",
       "      <td>0.021698</td>\n",
       "    </tr>\n",
       "    <tr>\n",
       "      <th>1</th>\n",
       "      <td>0.044643</td>\n",
       "      <td>0.040784</td>\n",
       "      <td>0.036862</td>\n",
       "      <td>0.031988</td>\n",
       "      <td>0.021348</td>\n",
       "      <td>0.028443</td>\n",
       "      <td>0.037785</td>\n",
       "      <td>0.035208</td>\n",
       "      <td>0.028195</td>\n",
       "      <td>0.020619</td>\n",
       "    </tr>\n",
       "    <tr>\n",
       "      <th>2</th>\n",
       "      <td>0.042781</td>\n",
       "      <td>0.036862</td>\n",
       "      <td>0.039008</td>\n",
       "      <td>0.032960</td>\n",
       "      <td>0.021957</td>\n",
       "      <td>0.029044</td>\n",
       "      <td>0.039003</td>\n",
       "      <td>0.036343</td>\n",
       "      <td>0.028899</td>\n",
       "      <td>0.021419</td>\n",
       "    </tr>\n",
       "    <tr>\n",
       "      <th>3</th>\n",
       "      <td>0.036441</td>\n",
       "      <td>0.031988</td>\n",
       "      <td>0.032960</td>\n",
       "      <td>0.035297</td>\n",
       "      <td>0.020369</td>\n",
       "      <td>0.027829</td>\n",
       "      <td>0.034981</td>\n",
       "      <td>0.036782</td>\n",
       "      <td>0.028383</td>\n",
       "      <td>0.018396</td>\n",
       "    </tr>\n",
       "    <tr>\n",
       "      <th>4</th>\n",
       "      <td>0.021890</td>\n",
       "      <td>0.021348</td>\n",
       "      <td>0.021957</td>\n",
       "      <td>0.020369</td>\n",
       "      <td>0.022785</td>\n",
       "      <td>0.020517</td>\n",
       "      <td>0.023236</td>\n",
       "      <td>0.023425</td>\n",
       "      <td>0.020422</td>\n",
       "      <td>0.021053</td>\n",
       "    </tr>\n",
       "    <tr>\n",
       "      <th>5</th>\n",
       "      <td>0.030491</td>\n",
       "      <td>0.028443</td>\n",
       "      <td>0.029044</td>\n",
       "      <td>0.027829</td>\n",
       "      <td>0.020517</td>\n",
       "      <td>0.034715</td>\n",
       "      <td>0.031190</td>\n",
       "      <td>0.032735</td>\n",
       "      <td>0.025142</td>\n",
       "      <td>0.019941</td>\n",
       "    </tr>\n",
       "    <tr>\n",
       "      <th>6</th>\n",
       "      <td>0.045241</td>\n",
       "      <td>0.037785</td>\n",
       "      <td>0.039003</td>\n",
       "      <td>0.034981</td>\n",
       "      <td>0.023236</td>\n",
       "      <td>0.031190</td>\n",
       "      <td>0.047720</td>\n",
       "      <td>0.038211</td>\n",
       "      <td>0.031355</td>\n",
       "      <td>0.022768</td>\n",
       "    </tr>\n",
       "    <tr>\n",
       "      <th>7</th>\n",
       "      <td>0.039486</td>\n",
       "      <td>0.035208</td>\n",
       "      <td>0.036343</td>\n",
       "      <td>0.036782</td>\n",
       "      <td>0.023425</td>\n",
       "      <td>0.032735</td>\n",
       "      <td>0.038211</td>\n",
       "      <td>0.047524</td>\n",
       "      <td>0.031673</td>\n",
       "      <td>0.021999</td>\n",
       "    </tr>\n",
       "    <tr>\n",
       "      <th>8</th>\n",
       "      <td>0.033602</td>\n",
       "      <td>0.028195</td>\n",
       "      <td>0.028899</td>\n",
       "      <td>0.028383</td>\n",
       "      <td>0.020422</td>\n",
       "      <td>0.025142</td>\n",
       "      <td>0.031355</td>\n",
       "      <td>0.031673</td>\n",
       "      <td>0.036339</td>\n",
       "      <td>0.020519</td>\n",
       "    </tr>\n",
       "    <tr>\n",
       "      <th>9</th>\n",
       "      <td>0.021698</td>\n",
       "      <td>0.020619</td>\n",
       "      <td>0.021419</td>\n",
       "      <td>0.018396</td>\n",
       "      <td>0.021053</td>\n",
       "      <td>0.019941</td>\n",
       "      <td>0.022768</td>\n",
       "      <td>0.021999</td>\n",
       "      <td>0.020519</td>\n",
       "      <td>0.036704</td>\n",
       "    </tr>\n",
       "  </tbody>\n",
       "</table>\n",
       "</div>"
      ],
      "text/plain": [
       "          0         1         2         3         4         5         6  \\\n",
       "0  0.079860  0.044643  0.042781  0.036441  0.021890  0.030491  0.045241   \n",
       "1  0.044643  0.040784  0.036862  0.031988  0.021348  0.028443  0.037785   \n",
       "2  0.042781  0.036862  0.039008  0.032960  0.021957  0.029044  0.039003   \n",
       "3  0.036441  0.031988  0.032960  0.035297  0.020369  0.027829  0.034981   \n",
       "4  0.021890  0.021348  0.021957  0.020369  0.022785  0.020517  0.023236   \n",
       "5  0.030491  0.028443  0.029044  0.027829  0.020517  0.034715  0.031190   \n",
       "6  0.045241  0.037785  0.039003  0.034981  0.023236  0.031190  0.047720   \n",
       "7  0.039486  0.035208  0.036343  0.036782  0.023425  0.032735  0.038211   \n",
       "8  0.033602  0.028195  0.028899  0.028383  0.020422  0.025142  0.031355   \n",
       "9  0.021698  0.020619  0.021419  0.018396  0.021053  0.019941  0.022768   \n",
       "\n",
       "          7         8         9  \n",
       "0  0.039486  0.033602  0.021698  \n",
       "1  0.035208  0.028195  0.020619  \n",
       "2  0.036343  0.028899  0.021419  \n",
       "3  0.036782  0.028383  0.018396  \n",
       "4  0.023425  0.020422  0.021053  \n",
       "5  0.032735  0.025142  0.019941  \n",
       "6  0.038211  0.031355  0.022768  \n",
       "7  0.047524  0.031673  0.021999  \n",
       "8  0.031673  0.036339  0.020519  \n",
       "9  0.021999  0.020519  0.036704  "
      ]
     },
     "execution_count": 43,
     "metadata": {},
     "output_type": "execute_result"
    }
   ],
   "source": [
    "Cov"
   ]
  },
  {
   "cell_type": "code",
   "execution_count": 44,
   "metadata": {},
   "outputs": [],
   "source": [
    "A1=Cov*r0\n",
    "A2=np.zeros((num,mm))\n",
    "A3=np.zeros((mm,num))\n",
    "A4=np.diag(rr)\n",
    "\n",
    "Omega1=np.concatenate((A1,A2),axis=1)\n",
    "Omega2=np.concatenate((A3,A4),axis=1)\n",
    "Omega=np.concatenate((Omega1,Omega2),axis=0)\n",
    "# A1=np.insert(Cov*r0,-1)"
   ]
  },
  {
   "cell_type": "code",
   "execution_count": 45,
   "metadata": {},
   "outputs": [
    {
     "data": {
      "text/plain": [
       "array([[0.00332749, 0.00186015, 0.00178255, 0.00151836, 0.0009121 ,\n",
       "        0.00127046, 0.00188502, 0.00164523, 0.00140009, 0.00090407,\n",
       "        0.        ],\n",
       "       [0.00186015, 0.00169934, 0.00153593, 0.00133283, 0.00088949,\n",
       "        0.00118513, 0.00157436, 0.00146699, 0.00117478, 0.00085911,\n",
       "        0.        ],\n",
       "       [0.00178255, 0.00153593, 0.00162532, 0.00137332, 0.00091486,\n",
       "        0.00121015, 0.00162511, 0.00151429, 0.00120412, 0.00089244,\n",
       "        0.        ],\n",
       "       [0.00151836, 0.00133283, 0.00137332, 0.00147071, 0.00084873,\n",
       "        0.00115954, 0.00145754, 0.00153256, 0.00118262, 0.00076652,\n",
       "        0.        ],\n",
       "       [0.0009121 , 0.00088949, 0.00091486, 0.00084873, 0.00094939,\n",
       "        0.00085487, 0.00096819, 0.00097605, 0.00085091, 0.00087719,\n",
       "        0.        ],\n",
       "       [0.00127046, 0.00118513, 0.00121015, 0.00115954, 0.00085487,\n",
       "        0.00144647, 0.00129957, 0.00136395, 0.0010476 , 0.00083088,\n",
       "        0.        ],\n",
       "       [0.00188502, 0.00157436, 0.00162511, 0.00145754, 0.00096819,\n",
       "        0.00129957, 0.00198831, 0.00159213, 0.00130647, 0.00094866,\n",
       "        0.        ],\n",
       "       [0.00164523, 0.00146699, 0.00151429, 0.00153256, 0.00097605,\n",
       "        0.00136395, 0.00159213, 0.00198017, 0.0013197 , 0.00091663,\n",
       "        0.        ],\n",
       "       [0.00140009, 0.00117478, 0.00120412, 0.00118262, 0.00085091,\n",
       "        0.0010476 , 0.00130647, 0.0013197 , 0.00151413, 0.00085496,\n",
       "        0.        ],\n",
       "       [0.00090407, 0.00085911, 0.00089244, 0.00076652, 0.00087719,\n",
       "        0.00083088, 0.00094866, 0.00091663, 0.00085496, 0.00152935,\n",
       "        0.        ],\n",
       "       [0.        , 0.        , 0.        , 0.        , 0.        ,\n",
       "        0.        , 0.        , 0.        , 0.        , 0.        ,\n",
       "        0.00083333]])"
      ]
     },
     "execution_count": 45,
     "metadata": {},
     "output_type": "execute_result"
    }
   ],
   "source": [
    "Omega"
   ]
  },
  {
   "cell_type": "code",
   "execution_count": null,
   "metadata": {},
   "outputs": [],
   "source": []
  },
  {
   "cell_type": "markdown",
   "metadata": {},
   "source": [
    "$\\Sigma^{BL}$"
   ]
  },
  {
   "cell_type": "code",
   "execution_count": 46,
   "metadata": {},
   "outputs": [],
   "source": [
    "B1=np.eye(num,num)\n",
    "P=P.reshape(1,num)\n",
    "B=np.concatenate((B1,P),axis=0)"
   ]
  },
  {
   "cell_type": "code",
   "execution_count": 47,
   "metadata": {},
   "outputs": [
    {
     "data": {
      "text/plain": [
       "array([[ 1.,  0.,  0.,  0.,  0.,  0.,  0.,  0.,  0.,  0.],\n",
       "       [ 0.,  1.,  0.,  0.,  0.,  0.,  0.,  0.,  0.,  0.],\n",
       "       [ 0.,  0.,  1.,  0.,  0.,  0.,  0.,  0.,  0.,  0.],\n",
       "       [ 0.,  0.,  0.,  1.,  0.,  0.,  0.,  0.,  0.,  0.],\n",
       "       [ 0.,  0.,  0.,  0.,  1.,  0.,  0.,  0.,  0.,  0.],\n",
       "       [ 0.,  0.,  0.,  0.,  0.,  1.,  0.,  0.,  0.,  0.],\n",
       "       [ 0.,  0.,  0.,  0.,  0.,  0.,  1.,  0.,  0.,  0.],\n",
       "       [ 0.,  0.,  0.,  0.,  0.,  0.,  0.,  1.,  0.,  0.],\n",
       "       [ 0.,  0.,  0.,  0.,  0.,  0.,  0.,  0.,  1.,  0.],\n",
       "       [ 0.,  0.,  0.,  0.,  0.,  0.,  0.,  0.,  0.,  1.],\n",
       "       [ 1.,  3.,  6.,  2.,  4., -1.,  3.,  0., -4.,  1.]])"
      ]
     },
     "execution_count": 47,
     "metadata": {},
     "output_type": "execute_result"
    }
   ],
   "source": [
    "B"
   ]
  },
  {
   "cell_type": "code",
   "execution_count": 48,
   "metadata": {},
   "outputs": [
    {
     "data": {
      "text/plain": [
       "array([[ 8.50574584e+02, -5.99776631e+02, -3.21146757e+02,\n",
       "         4.62176624e+01,  2.36318232e+02,  1.12790587e+02,\n",
       "        -2.12707759e+02,  2.38964987e+01, -1.52482219e+02,\n",
       "         4.39042120e+00,  0.00000000e+00],\n",
       "       [-5.99776631e+02,  4.58702269e+03, -2.97119061e+03,\n",
       "        -2.87294469e+02, -2.52473775e+02, -2.42116210e+02,\n",
       "        -1.64534781e+02, -1.63723774e+01,  3.47454989e+01,\n",
       "         2.44088918e+01,  0.00000000e+00],\n",
       "       [-3.21146757e+02, -2.97119061e+03,  7.57445228e+03,\n",
       "        -1.37630961e+03, -3.83708643e+02, -1.71582822e+02,\n",
       "        -1.81478676e+03, -4.25287059e+02,  3.60777075e+01,\n",
       "        -1.97556806e+02,  0.00000000e+00],\n",
       "       [ 4.62176624e+01, -2.87294469e+02, -1.37630961e+03,\n",
       "         5.63468586e+03, -2.65767292e+02, -2.37310676e+02,\n",
       "        -6.10859083e+02, -2.05363407e+03, -7.27931137e+02,\n",
       "         4.11165076e+02,  0.00000000e+00],\n",
       "       [ 2.36318232e+02, -2.52473775e+02, -3.83708643e+02,\n",
       "        -2.65767292e+02,  3.89700742e+03, -5.76011080e+02,\n",
       "        -6.72576204e+01, -1.16151058e+02, -4.71159285e+02,\n",
       "        -1.18828986e+03,  0.00000000e+00],\n",
       "       [ 1.12790587e+02, -2.42116210e+02, -1.71582822e+02,\n",
       "        -2.37310676e+02, -5.76011080e+02,  2.51473160e+03,\n",
       "        -2.95559385e+02, -7.12267070e+02, -8.40761204e+01,\n",
       "        -9.01987480e+01,  0.00000000e+00],\n",
       "       [-2.12707759e+02, -1.64534781e+02, -1.81478676e+03,\n",
       "        -6.10859083e+02, -6.72576204e+01, -2.95559385e+02,\n",
       "         3.11190185e+03,  7.55837432e+01, -2.26454279e+02,\n",
       "        -6.65379749e+01,  0.00000000e+00],\n",
       "       [ 2.38964987e+01, -1.63723774e+01, -4.25287059e+02,\n",
       "        -2.05363407e+03, -1.16151058e+02, -7.12267070e+02,\n",
       "         7.55837432e+01,  3.06595131e+03, -2.29643658e+02,\n",
       "        -2.99883070e+01,  0.00000000e+00],\n",
       "       [-1.52482219e+02,  3.47454989e+01,  3.60777075e+01,\n",
       "        -7.27931137e+02, -4.71159285e+02, -8.40761204e+01,\n",
       "        -2.26454279e+02, -2.29643658e+02,  2.13846150e+03,\n",
       "        -1.87034287e+02,  0.00000000e+00],\n",
       "       [ 4.39042120e+00,  2.44088918e+01, -1.97556806e+02,\n",
       "         4.11165076e+02, -1.18828986e+03, -9.01987480e+01,\n",
       "        -6.65379749e+01, -2.99883070e+01, -1.87034287e+02,\n",
       "         1.44114787e+03,  0.00000000e+00],\n",
       "       [ 0.00000000e+00,  0.00000000e+00,  0.00000000e+00,\n",
       "         0.00000000e+00,  0.00000000e+00,  0.00000000e+00,\n",
       "         0.00000000e+00,  0.00000000e+00,  0.00000000e+00,\n",
       "         0.00000000e+00,  1.20000000e+03]])"
      ]
     },
     "execution_count": 48,
     "metadata": {},
     "output_type": "execute_result"
    }
   ],
   "source": [
    "np.linalg.inv(Omega)"
   ]
  },
  {
   "cell_type": "code",
   "execution_count": 49,
   "metadata": {},
   "outputs": [
    {
     "data": {
      "text/html": [
       "<div>\n",
       "<style scoped>\n",
       "    .dataframe tbody tr th:only-of-type {\n",
       "        vertical-align: middle;\n",
       "    }\n",
       "\n",
       "    .dataframe tbody tr th {\n",
       "        vertical-align: top;\n",
       "    }\n",
       "\n",
       "    .dataframe thead th {\n",
       "        text-align: right;\n",
       "    }\n",
       "</style>\n",
       "<table border=\"1\" class=\"dataframe\">\n",
       "  <thead>\n",
       "    <tr style=\"text-align: right;\">\n",
       "      <th></th>\n",
       "      <th>0</th>\n",
       "      <th>1</th>\n",
       "      <th>2</th>\n",
       "      <th>3</th>\n",
       "      <th>4</th>\n",
       "      <th>5</th>\n",
       "      <th>6</th>\n",
       "      <th>7</th>\n",
       "      <th>8</th>\n",
       "      <th>9</th>\n",
       "    </tr>\n",
       "  </thead>\n",
       "  <tbody>\n",
       "    <tr>\n",
       "      <th>0</th>\n",
       "      <td>0.079860</td>\n",
       "      <td>0.044643</td>\n",
       "      <td>0.042781</td>\n",
       "      <td>0.036441</td>\n",
       "      <td>0.021890</td>\n",
       "      <td>0.030491</td>\n",
       "      <td>0.045241</td>\n",
       "      <td>0.039486</td>\n",
       "      <td>0.033602</td>\n",
       "      <td>0.021698</td>\n",
       "    </tr>\n",
       "    <tr>\n",
       "      <th>1</th>\n",
       "      <td>0.044643</td>\n",
       "      <td>0.040784</td>\n",
       "      <td>0.036862</td>\n",
       "      <td>0.031988</td>\n",
       "      <td>0.021348</td>\n",
       "      <td>0.028443</td>\n",
       "      <td>0.037785</td>\n",
       "      <td>0.035208</td>\n",
       "      <td>0.028195</td>\n",
       "      <td>0.020619</td>\n",
       "    </tr>\n",
       "    <tr>\n",
       "      <th>2</th>\n",
       "      <td>0.042781</td>\n",
       "      <td>0.036862</td>\n",
       "      <td>0.039008</td>\n",
       "      <td>0.032960</td>\n",
       "      <td>0.021957</td>\n",
       "      <td>0.029044</td>\n",
       "      <td>0.039003</td>\n",
       "      <td>0.036343</td>\n",
       "      <td>0.028899</td>\n",
       "      <td>0.021419</td>\n",
       "    </tr>\n",
       "    <tr>\n",
       "      <th>3</th>\n",
       "      <td>0.036441</td>\n",
       "      <td>0.031988</td>\n",
       "      <td>0.032960</td>\n",
       "      <td>0.035297</td>\n",
       "      <td>0.020369</td>\n",
       "      <td>0.027829</td>\n",
       "      <td>0.034981</td>\n",
       "      <td>0.036782</td>\n",
       "      <td>0.028383</td>\n",
       "      <td>0.018396</td>\n",
       "    </tr>\n",
       "    <tr>\n",
       "      <th>4</th>\n",
       "      <td>0.021890</td>\n",
       "      <td>0.021348</td>\n",
       "      <td>0.021957</td>\n",
       "      <td>0.020369</td>\n",
       "      <td>0.022785</td>\n",
       "      <td>0.020517</td>\n",
       "      <td>0.023236</td>\n",
       "      <td>0.023425</td>\n",
       "      <td>0.020422</td>\n",
       "      <td>0.021053</td>\n",
       "    </tr>\n",
       "    <tr>\n",
       "      <th>5</th>\n",
       "      <td>0.030491</td>\n",
       "      <td>0.028443</td>\n",
       "      <td>0.029044</td>\n",
       "      <td>0.027829</td>\n",
       "      <td>0.020517</td>\n",
       "      <td>0.034715</td>\n",
       "      <td>0.031190</td>\n",
       "      <td>0.032735</td>\n",
       "      <td>0.025142</td>\n",
       "      <td>0.019941</td>\n",
       "    </tr>\n",
       "    <tr>\n",
       "      <th>6</th>\n",
       "      <td>0.045241</td>\n",
       "      <td>0.037785</td>\n",
       "      <td>0.039003</td>\n",
       "      <td>0.034981</td>\n",
       "      <td>0.023236</td>\n",
       "      <td>0.031190</td>\n",
       "      <td>0.047720</td>\n",
       "      <td>0.038211</td>\n",
       "      <td>0.031355</td>\n",
       "      <td>0.022768</td>\n",
       "    </tr>\n",
       "    <tr>\n",
       "      <th>7</th>\n",
       "      <td>0.039486</td>\n",
       "      <td>0.035208</td>\n",
       "      <td>0.036343</td>\n",
       "      <td>0.036782</td>\n",
       "      <td>0.023425</td>\n",
       "      <td>0.032735</td>\n",
       "      <td>0.038211</td>\n",
       "      <td>0.047524</td>\n",
       "      <td>0.031673</td>\n",
       "      <td>0.021999</td>\n",
       "    </tr>\n",
       "    <tr>\n",
       "      <th>8</th>\n",
       "      <td>0.033602</td>\n",
       "      <td>0.028195</td>\n",
       "      <td>0.028899</td>\n",
       "      <td>0.028383</td>\n",
       "      <td>0.020422</td>\n",
       "      <td>0.025142</td>\n",
       "      <td>0.031355</td>\n",
       "      <td>0.031673</td>\n",
       "      <td>0.036339</td>\n",
       "      <td>0.020519</td>\n",
       "    </tr>\n",
       "    <tr>\n",
       "      <th>9</th>\n",
       "      <td>0.021698</td>\n",
       "      <td>0.020619</td>\n",
       "      <td>0.021419</td>\n",
       "      <td>0.018396</td>\n",
       "      <td>0.021053</td>\n",
       "      <td>0.019941</td>\n",
       "      <td>0.022768</td>\n",
       "      <td>0.021999</td>\n",
       "      <td>0.020519</td>\n",
       "      <td>0.036704</td>\n",
       "    </tr>\n",
       "  </tbody>\n",
       "</table>\n",
       "</div>"
      ],
      "text/plain": [
       "          0         1         2         3         4         5         6  \\\n",
       "0  0.079860  0.044643  0.042781  0.036441  0.021890  0.030491  0.045241   \n",
       "1  0.044643  0.040784  0.036862  0.031988  0.021348  0.028443  0.037785   \n",
       "2  0.042781  0.036862  0.039008  0.032960  0.021957  0.029044  0.039003   \n",
       "3  0.036441  0.031988  0.032960  0.035297  0.020369  0.027829  0.034981   \n",
       "4  0.021890  0.021348  0.021957  0.020369  0.022785  0.020517  0.023236   \n",
       "5  0.030491  0.028443  0.029044  0.027829  0.020517  0.034715  0.031190   \n",
       "6  0.045241  0.037785  0.039003  0.034981  0.023236  0.031190  0.047720   \n",
       "7  0.039486  0.035208  0.036343  0.036782  0.023425  0.032735  0.038211   \n",
       "8  0.033602  0.028195  0.028899  0.028383  0.020422  0.025142  0.031355   \n",
       "9  0.021698  0.020619  0.021419  0.018396  0.021053  0.019941  0.022768   \n",
       "\n",
       "          7         8         9  \n",
       "0  0.039486  0.033602  0.021698  \n",
       "1  0.035208  0.028195  0.020619  \n",
       "2  0.036343  0.028899  0.021419  \n",
       "3  0.036782  0.028383  0.018396  \n",
       "4  0.023425  0.020422  0.021053  \n",
       "5  0.032735  0.025142  0.019941  \n",
       "6  0.038211  0.031355  0.022768  \n",
       "7  0.047524  0.031673  0.021999  \n",
       "8  0.031673  0.036339  0.020519  \n",
       "9  0.021999  0.020519  0.036704  "
      ]
     },
     "execution_count": 49,
     "metadata": {},
     "output_type": "execute_result"
    }
   ],
   "source": [
    "Cov1"
   ]
  },
  {
   "cell_type": "code",
   "execution_count": 50,
   "metadata": {},
   "outputs": [
    {
     "data": {
      "text/plain": [
       "array([[ 1.26521876e-03,  1.06009719e-04,  1.29991617e-05,\n",
       "        -1.72042372e-05, -2.06344466e-04, -7.26537586e-05,\n",
       "         1.66110925e-05, -3.39760670e-05,  1.62551819e-04,\n",
       "        -2.07578421e-04],\n",
       "       [ 1.06009719e-04,  2.07301614e-04,  3.07782298e-05,\n",
       "         2.67040928e-05, -6.18394207e-05,  4.27036811e-05,\n",
       "        -1.48813066e-05,  3.86851670e-05,  1.22144289e-04,\n",
       "        -8.64368995e-05],\n",
       "       [ 1.29991617e-05,  3.07782298e-05,  1.06936806e-04,\n",
       "         5.57110630e-05, -4.48262300e-05,  5.76794935e-05,\n",
       "         2.19064685e-05,  7.34270872e-05,  1.42231709e-04,\n",
       "        -6.14175422e-05],\n",
       "       [-1.72042372e-05,  2.67040928e-05,  5.57110630e-05,\n",
       "         3.27323729e-04,  1.59382303e-05,  1.59457822e-04,\n",
       "         6.63199124e-05,  2.82227310e-04,  2.61149207e-04,\n",
       "        -6.12187715e-05],\n",
       "       [-2.06344466e-04, -6.18394207e-05, -4.48262300e-05,\n",
       "         1.59382303e-05,  3.42826742e-04,  1.26451692e-04,\n",
       "        -4.51168036e-05,  6.53586100e-05,  1.79746088e-04,\n",
       "         2.74302772e-04],\n",
       "       [-7.26537586e-05,  4.27036811e-05,  5.76794935e-05,\n",
       "         1.59457822e-04,  1.26451692e-04,  5.71734520e-04,\n",
       "         8.27222769e-05,  2.70320202e-04,  2.41621661e-04,\n",
       "         1.06884771e-04],\n",
       "       [ 1.66110925e-05, -1.48813066e-05,  2.19064685e-05,\n",
       "         6.63199124e-05, -4.51168036e-05,  8.27222769e-05,\n",
       "         2.95542910e-04,  7.07791606e-05,  1.85264722e-04,\n",
       "        -5.84874130e-05],\n",
       "       [-3.39760670e-05,  3.86851670e-05,  7.34270872e-05,\n",
       "         2.82227310e-04,  6.53586100e-05,  2.70320202e-04,\n",
       "         7.07791606e-05,  6.12875795e-04,  3.12036185e-04,\n",
       "         1.14655601e-05],\n",
       "       [ 1.62551819e-04,  1.22144289e-04,  1.42231709e-04,\n",
       "         2.61149207e-04,  1.79746088e-04,  2.41621661e-04,\n",
       "         1.85264722e-04,  3.12036185e-04,  7.71500919e-04,\n",
       "         1.87873847e-04],\n",
       "       [-2.07578421e-04, -8.64368995e-05, -6.14175422e-05,\n",
       "        -6.12187715e-05,  2.74302772e-04,  1.06884771e-04,\n",
       "        -5.84874130e-05,  1.14655601e-05,  1.87873847e-04,\n",
       "         9.30125032e-04]])"
      ]
     },
     "execution_count": 50,
     "metadata": {},
     "output_type": "execute_result"
    }
   ],
   "source": [
    "Cov2=np.linalg.inv(np.dot(np.dot(B.T,np.linalg.inv(Omega)),B))\n",
    "Cov2"
   ]
  },
  {
   "cell_type": "code",
   "execution_count": 51,
   "metadata": {},
   "outputs": [
    {
     "data": {
      "text/html": [
       "<div>\n",
       "<style scoped>\n",
       "    .dataframe tbody tr th:only-of-type {\n",
       "        vertical-align: middle;\n",
       "    }\n",
       "\n",
       "    .dataframe tbody tr th {\n",
       "        vertical-align: top;\n",
       "    }\n",
       "\n",
       "    .dataframe thead th {\n",
       "        text-align: right;\n",
       "    }\n",
       "</style>\n",
       "<table border=\"1\" class=\"dataframe\">\n",
       "  <thead>\n",
       "    <tr style=\"text-align: right;\">\n",
       "      <th></th>\n",
       "      <th>0</th>\n",
       "      <th>1</th>\n",
       "      <th>2</th>\n",
       "      <th>3</th>\n",
       "      <th>4</th>\n",
       "      <th>5</th>\n",
       "      <th>6</th>\n",
       "      <th>7</th>\n",
       "      <th>8</th>\n",
       "      <th>9</th>\n",
       "    </tr>\n",
       "  </thead>\n",
       "  <tbody>\n",
       "    <tr>\n",
       "      <th>0</th>\n",
       "      <td>0.081125</td>\n",
       "      <td>0.044750</td>\n",
       "      <td>0.042794</td>\n",
       "      <td>0.036424</td>\n",
       "      <td>0.021684</td>\n",
       "      <td>0.030418</td>\n",
       "      <td>0.045257</td>\n",
       "      <td>0.039452</td>\n",
       "      <td>0.033765</td>\n",
       "      <td>0.021490</td>\n",
       "    </tr>\n",
       "    <tr>\n",
       "      <th>1</th>\n",
       "      <td>0.044750</td>\n",
       "      <td>0.040991</td>\n",
       "      <td>0.036893</td>\n",
       "      <td>0.032015</td>\n",
       "      <td>0.021286</td>\n",
       "      <td>0.028486</td>\n",
       "      <td>0.037770</td>\n",
       "      <td>0.035246</td>\n",
       "      <td>0.028317</td>\n",
       "      <td>0.020532</td>\n",
       "    </tr>\n",
       "    <tr>\n",
       "      <th>2</th>\n",
       "      <td>0.042794</td>\n",
       "      <td>0.036893</td>\n",
       "      <td>0.039115</td>\n",
       "      <td>0.033015</td>\n",
       "      <td>0.021912</td>\n",
       "      <td>0.029101</td>\n",
       "      <td>0.039025</td>\n",
       "      <td>0.036416</td>\n",
       "      <td>0.029041</td>\n",
       "      <td>0.021357</td>\n",
       "    </tr>\n",
       "    <tr>\n",
       "      <th>3</th>\n",
       "      <td>0.036424</td>\n",
       "      <td>0.032015</td>\n",
       "      <td>0.033015</td>\n",
       "      <td>0.035624</td>\n",
       "      <td>0.020385</td>\n",
       "      <td>0.027988</td>\n",
       "      <td>0.035047</td>\n",
       "      <td>0.037064</td>\n",
       "      <td>0.028644</td>\n",
       "      <td>0.018335</td>\n",
       "    </tr>\n",
       "    <tr>\n",
       "      <th>4</th>\n",
       "      <td>0.021684</td>\n",
       "      <td>0.021286</td>\n",
       "      <td>0.021912</td>\n",
       "      <td>0.020385</td>\n",
       "      <td>0.023128</td>\n",
       "      <td>0.020643</td>\n",
       "      <td>0.023191</td>\n",
       "      <td>0.023491</td>\n",
       "      <td>0.020601</td>\n",
       "      <td>0.021327</td>\n",
       "    </tr>\n",
       "    <tr>\n",
       "      <th>5</th>\n",
       "      <td>0.030418</td>\n",
       "      <td>0.028486</td>\n",
       "      <td>0.029101</td>\n",
       "      <td>0.027988</td>\n",
       "      <td>0.020643</td>\n",
       "      <td>0.035287</td>\n",
       "      <td>0.031273</td>\n",
       "      <td>0.033005</td>\n",
       "      <td>0.025384</td>\n",
       "      <td>0.020048</td>\n",
       "    </tr>\n",
       "    <tr>\n",
       "      <th>6</th>\n",
       "      <td>0.045257</td>\n",
       "      <td>0.037770</td>\n",
       "      <td>0.039025</td>\n",
       "      <td>0.035047</td>\n",
       "      <td>0.023191</td>\n",
       "      <td>0.031273</td>\n",
       "      <td>0.048015</td>\n",
       "      <td>0.038282</td>\n",
       "      <td>0.031541</td>\n",
       "      <td>0.022709</td>\n",
       "    </tr>\n",
       "    <tr>\n",
       "      <th>7</th>\n",
       "      <td>0.039452</td>\n",
       "      <td>0.035246</td>\n",
       "      <td>0.036416</td>\n",
       "      <td>0.037064</td>\n",
       "      <td>0.023491</td>\n",
       "      <td>0.033005</td>\n",
       "      <td>0.038282</td>\n",
       "      <td>0.048137</td>\n",
       "      <td>0.031985</td>\n",
       "      <td>0.022011</td>\n",
       "    </tr>\n",
       "    <tr>\n",
       "      <th>8</th>\n",
       "      <td>0.033765</td>\n",
       "      <td>0.028317</td>\n",
       "      <td>0.029041</td>\n",
       "      <td>0.028644</td>\n",
       "      <td>0.020601</td>\n",
       "      <td>0.025384</td>\n",
       "      <td>0.031541</td>\n",
       "      <td>0.031985</td>\n",
       "      <td>0.037111</td>\n",
       "      <td>0.020707</td>\n",
       "    </tr>\n",
       "    <tr>\n",
       "      <th>9</th>\n",
       "      <td>0.021490</td>\n",
       "      <td>0.020532</td>\n",
       "      <td>0.021357</td>\n",
       "      <td>0.018335</td>\n",
       "      <td>0.021327</td>\n",
       "      <td>0.020048</td>\n",
       "      <td>0.022709</td>\n",
       "      <td>0.022011</td>\n",
       "      <td>0.020707</td>\n",
       "      <td>0.037635</td>\n",
       "    </tr>\n",
       "  </tbody>\n",
       "</table>\n",
       "</div>"
      ],
      "text/plain": [
       "          0         1         2         3         4         5         6  \\\n",
       "0  0.081125  0.044750  0.042794  0.036424  0.021684  0.030418  0.045257   \n",
       "1  0.044750  0.040991  0.036893  0.032015  0.021286  0.028486  0.037770   \n",
       "2  0.042794  0.036893  0.039115  0.033015  0.021912  0.029101  0.039025   \n",
       "3  0.036424  0.032015  0.033015  0.035624  0.020385  0.027988  0.035047   \n",
       "4  0.021684  0.021286  0.021912  0.020385  0.023128  0.020643  0.023191   \n",
       "5  0.030418  0.028486  0.029101  0.027988  0.020643  0.035287  0.031273   \n",
       "6  0.045257  0.037770  0.039025  0.035047  0.023191  0.031273  0.048015   \n",
       "7  0.039452  0.035246  0.036416  0.037064  0.023491  0.033005  0.038282   \n",
       "8  0.033765  0.028317  0.029041  0.028644  0.020601  0.025384  0.031541   \n",
       "9  0.021490  0.020532  0.021357  0.018335  0.021327  0.020048  0.022709   \n",
       "\n",
       "          7         8         9  \n",
       "0  0.039452  0.033765  0.021490  \n",
       "1  0.035246  0.028317  0.020532  \n",
       "2  0.036416  0.029041  0.021357  \n",
       "3  0.037064  0.028644  0.018335  \n",
       "4  0.023491  0.020601  0.021327  \n",
       "5  0.033005  0.025384  0.020048  \n",
       "6  0.038282  0.031541  0.022709  \n",
       "7  0.048137  0.031985  0.022011  \n",
       "8  0.031985  0.037111  0.020707  \n",
       "9  0.022011  0.020707  0.037635  "
      ]
     },
     "execution_count": 51,
     "metadata": {},
     "output_type": "execute_result"
    }
   ],
   "source": [
    "Cov_BL=Cov1+Cov2\n",
    "Cov_BL"
   ]
  },
  {
   "cell_type": "code",
   "execution_count": 52,
   "metadata": {},
   "outputs": [
    {
     "data": {
      "text/plain": [
       "(10, 1)"
      ]
     },
     "execution_count": 52,
     "metadata": {},
     "output_type": "execute_result"
    }
   ],
   "source": [
    "r_hat.shape"
   ]
  },
  {
   "cell_type": "markdown",
   "metadata": {},
   "source": [
    "$\\mu^{BL}$"
   ]
  },
  {
   "cell_type": "code",
   "execution_count": 53,
   "metadata": {},
   "outputs": [
    {
     "data": {
      "text/plain": [
       "array([[0.0933067 ],\n",
       "       [0.08088774],\n",
       "       [0.08294562],\n",
       "       [0.07932655],\n",
       "       [0.05485226],\n",
       "       [0.07422684],\n",
       "       [0.08930509],\n",
       "       [0.09249859],\n",
       "       [0.07289621],\n",
       "       [0.05398521],\n",
       "       [0.16779458]])"
      ]
     },
     "execution_count": 53,
     "metadata": {},
     "output_type": "execute_result"
    }
   ],
   "source": [
    "C3=np.concatenate((r_hat,q),axis=0)\n",
    "C3"
   ]
  },
  {
   "cell_type": "code",
   "execution_count": 54,
   "metadata": {},
   "outputs": [],
   "source": [
    "C1=np.dot(Cov2,B.T)\n",
    "C2=np.dot(np.linalg.inv(Omega),C3)\n",
    "mu_BL=np.dot(C1,C2)"
   ]
  },
  {
   "cell_type": "code",
   "execution_count": 55,
   "metadata": {},
   "outputs": [
    {
     "data": {
      "text/plain": [
       "array([[0.01391724],\n",
       "       [0.0133604 ],\n",
       "       [0.01482471],\n",
       "       [0.02021322],\n",
       "       [0.0117967 ],\n",
       "       [0.02252232],\n",
       "       [0.0173786 ],\n",
       "       [0.02785565],\n",
       "       [0.02525575],\n",
       "       [0.01119105]])"
      ]
     },
     "execution_count": 55,
     "metadata": {},
     "output_type": "execute_result"
    }
   ],
   "source": [
    "mu_BL"
   ]
  },
  {
   "cell_type": "code",
   "execution_count": 56,
   "metadata": {},
   "outputs": [
    {
     "data": {
      "text/plain": [
       "array([ 0.60106923,  0.19740684,  0.29936594,  0.3980757 ,  0.49664529,\n",
       "       -0.00521037, -0.30408813, -0.20005411, -0.29854962, -0.1070064 ])"
      ]
     },
     "execution_count": 56,
     "metadata": {},
     "output_type": "execute_result"
    }
   ],
   "source": [
    "mu=np.array(mu)\n",
    "mu"
   ]
  },
  {
   "cell_type": "code",
   "execution_count": 57,
   "metadata": {},
   "outputs": [
    {
     "data": {
      "text/html": [
       "<div>\n",
       "<style scoped>\n",
       "    .dataframe tbody tr th:only-of-type {\n",
       "        vertical-align: middle;\n",
       "    }\n",
       "\n",
       "    .dataframe tbody tr th {\n",
       "        vertical-align: top;\n",
       "    }\n",
       "\n",
       "    .dataframe thead th {\n",
       "        text-align: right;\n",
       "    }\n",
       "</style>\n",
       "<table border=\"1\" class=\"dataframe\">\n",
       "  <thead>\n",
       "    <tr style=\"text-align: right;\">\n",
       "      <th></th>\n",
       "      <th>0</th>\n",
       "      <th>1</th>\n",
       "      <th>2</th>\n",
       "      <th>3</th>\n",
       "      <th>4</th>\n",
       "      <th>5</th>\n",
       "      <th>6</th>\n",
       "      <th>7</th>\n",
       "      <th>8</th>\n",
       "      <th>9</th>\n",
       "    </tr>\n",
       "  </thead>\n",
       "  <tbody>\n",
       "    <tr>\n",
       "      <th>0</th>\n",
       "      <td>0.081125</td>\n",
       "      <td>0.044750</td>\n",
       "      <td>0.042794</td>\n",
       "      <td>0.036424</td>\n",
       "      <td>0.021684</td>\n",
       "      <td>0.030418</td>\n",
       "      <td>0.045257</td>\n",
       "      <td>0.039452</td>\n",
       "      <td>0.033765</td>\n",
       "      <td>0.021490</td>\n",
       "    </tr>\n",
       "    <tr>\n",
       "      <th>1</th>\n",
       "      <td>0.044750</td>\n",
       "      <td>0.040991</td>\n",
       "      <td>0.036893</td>\n",
       "      <td>0.032015</td>\n",
       "      <td>0.021286</td>\n",
       "      <td>0.028486</td>\n",
       "      <td>0.037770</td>\n",
       "      <td>0.035246</td>\n",
       "      <td>0.028317</td>\n",
       "      <td>0.020532</td>\n",
       "    </tr>\n",
       "    <tr>\n",
       "      <th>2</th>\n",
       "      <td>0.042794</td>\n",
       "      <td>0.036893</td>\n",
       "      <td>0.039115</td>\n",
       "      <td>0.033015</td>\n",
       "      <td>0.021912</td>\n",
       "      <td>0.029101</td>\n",
       "      <td>0.039025</td>\n",
       "      <td>0.036416</td>\n",
       "      <td>0.029041</td>\n",
       "      <td>0.021357</td>\n",
       "    </tr>\n",
       "    <tr>\n",
       "      <th>3</th>\n",
       "      <td>0.036424</td>\n",
       "      <td>0.032015</td>\n",
       "      <td>0.033015</td>\n",
       "      <td>0.035624</td>\n",
       "      <td>0.020385</td>\n",
       "      <td>0.027988</td>\n",
       "      <td>0.035047</td>\n",
       "      <td>0.037064</td>\n",
       "      <td>0.028644</td>\n",
       "      <td>0.018335</td>\n",
       "    </tr>\n",
       "    <tr>\n",
       "      <th>4</th>\n",
       "      <td>0.021684</td>\n",
       "      <td>0.021286</td>\n",
       "      <td>0.021912</td>\n",
       "      <td>0.020385</td>\n",
       "      <td>0.023128</td>\n",
       "      <td>0.020643</td>\n",
       "      <td>0.023191</td>\n",
       "      <td>0.023491</td>\n",
       "      <td>0.020601</td>\n",
       "      <td>0.021327</td>\n",
       "    </tr>\n",
       "    <tr>\n",
       "      <th>5</th>\n",
       "      <td>0.030418</td>\n",
       "      <td>0.028486</td>\n",
       "      <td>0.029101</td>\n",
       "      <td>0.027988</td>\n",
       "      <td>0.020643</td>\n",
       "      <td>0.035287</td>\n",
       "      <td>0.031273</td>\n",
       "      <td>0.033005</td>\n",
       "      <td>0.025384</td>\n",
       "      <td>0.020048</td>\n",
       "    </tr>\n",
       "    <tr>\n",
       "      <th>6</th>\n",
       "      <td>0.045257</td>\n",
       "      <td>0.037770</td>\n",
       "      <td>0.039025</td>\n",
       "      <td>0.035047</td>\n",
       "      <td>0.023191</td>\n",
       "      <td>0.031273</td>\n",
       "      <td>0.048015</td>\n",
       "      <td>0.038282</td>\n",
       "      <td>0.031541</td>\n",
       "      <td>0.022709</td>\n",
       "    </tr>\n",
       "    <tr>\n",
       "      <th>7</th>\n",
       "      <td>0.039452</td>\n",
       "      <td>0.035246</td>\n",
       "      <td>0.036416</td>\n",
       "      <td>0.037064</td>\n",
       "      <td>0.023491</td>\n",
       "      <td>0.033005</td>\n",
       "      <td>0.038282</td>\n",
       "      <td>0.048137</td>\n",
       "      <td>0.031985</td>\n",
       "      <td>0.022011</td>\n",
       "    </tr>\n",
       "    <tr>\n",
       "      <th>8</th>\n",
       "      <td>0.033765</td>\n",
       "      <td>0.028317</td>\n",
       "      <td>0.029041</td>\n",
       "      <td>0.028644</td>\n",
       "      <td>0.020601</td>\n",
       "      <td>0.025384</td>\n",
       "      <td>0.031541</td>\n",
       "      <td>0.031985</td>\n",
       "      <td>0.037111</td>\n",
       "      <td>0.020707</td>\n",
       "    </tr>\n",
       "    <tr>\n",
       "      <th>9</th>\n",
       "      <td>0.021490</td>\n",
       "      <td>0.020532</td>\n",
       "      <td>0.021357</td>\n",
       "      <td>0.018335</td>\n",
       "      <td>0.021327</td>\n",
       "      <td>0.020048</td>\n",
       "      <td>0.022709</td>\n",
       "      <td>0.022011</td>\n",
       "      <td>0.020707</td>\n",
       "      <td>0.037635</td>\n",
       "    </tr>\n",
       "  </tbody>\n",
       "</table>\n",
       "</div>"
      ],
      "text/plain": [
       "          0         1         2         3         4         5         6  \\\n",
       "0  0.081125  0.044750  0.042794  0.036424  0.021684  0.030418  0.045257   \n",
       "1  0.044750  0.040991  0.036893  0.032015  0.021286  0.028486  0.037770   \n",
       "2  0.042794  0.036893  0.039115  0.033015  0.021912  0.029101  0.039025   \n",
       "3  0.036424  0.032015  0.033015  0.035624  0.020385  0.027988  0.035047   \n",
       "4  0.021684  0.021286  0.021912  0.020385  0.023128  0.020643  0.023191   \n",
       "5  0.030418  0.028486  0.029101  0.027988  0.020643  0.035287  0.031273   \n",
       "6  0.045257  0.037770  0.039025  0.035047  0.023191  0.031273  0.048015   \n",
       "7  0.039452  0.035246  0.036416  0.037064  0.023491  0.033005  0.038282   \n",
       "8  0.033765  0.028317  0.029041  0.028644  0.020601  0.025384  0.031541   \n",
       "9  0.021490  0.020532  0.021357  0.018335  0.021327  0.020048  0.022709   \n",
       "\n",
       "          7         8         9  \n",
       "0  0.039452  0.033765  0.021490  \n",
       "1  0.035246  0.028317  0.020532  \n",
       "2  0.036416  0.029041  0.021357  \n",
       "3  0.037064  0.028644  0.018335  \n",
       "4  0.023491  0.020601  0.021327  \n",
       "5  0.033005  0.025384  0.020048  \n",
       "6  0.038282  0.031541  0.022709  \n",
       "7  0.048137  0.031985  0.022011  \n",
       "8  0.031985  0.037111  0.020707  \n",
       "9  0.022011  0.020707  0.037635  "
      ]
     },
     "execution_count": 57,
     "metadata": {},
     "output_type": "execute_result"
    }
   ],
   "source": [
    "Cov_BL"
   ]
  },
  {
   "cell_type": "code",
   "execution_count": 58,
   "metadata": {},
   "outputs": [
    {
     "data": {
      "text/html": [
       "<div>\n",
       "<style scoped>\n",
       "    .dataframe tbody tr th:only-of-type {\n",
       "        vertical-align: middle;\n",
       "    }\n",
       "\n",
       "    .dataframe tbody tr th {\n",
       "        vertical-align: top;\n",
       "    }\n",
       "\n",
       "    .dataframe thead th {\n",
       "        text-align: right;\n",
       "    }\n",
       "</style>\n",
       "<table border=\"1\" class=\"dataframe\">\n",
       "  <thead>\n",
       "    <tr style=\"text-align: right;\">\n",
       "      <th></th>\n",
       "      <th>0</th>\n",
       "      <th>1</th>\n",
       "      <th>2</th>\n",
       "      <th>3</th>\n",
       "      <th>4</th>\n",
       "      <th>5</th>\n",
       "      <th>6</th>\n",
       "      <th>7</th>\n",
       "      <th>8</th>\n",
       "      <th>9</th>\n",
       "    </tr>\n",
       "  </thead>\n",
       "  <tbody>\n",
       "    <tr>\n",
       "      <th>0</th>\n",
       "      <td>0.079860</td>\n",
       "      <td>0.044643</td>\n",
       "      <td>0.042781</td>\n",
       "      <td>0.036441</td>\n",
       "      <td>0.021890</td>\n",
       "      <td>0.030491</td>\n",
       "      <td>0.045241</td>\n",
       "      <td>0.039486</td>\n",
       "      <td>0.033602</td>\n",
       "      <td>0.021698</td>\n",
       "    </tr>\n",
       "    <tr>\n",
       "      <th>1</th>\n",
       "      <td>0.044643</td>\n",
       "      <td>0.040784</td>\n",
       "      <td>0.036862</td>\n",
       "      <td>0.031988</td>\n",
       "      <td>0.021348</td>\n",
       "      <td>0.028443</td>\n",
       "      <td>0.037785</td>\n",
       "      <td>0.035208</td>\n",
       "      <td>0.028195</td>\n",
       "      <td>0.020619</td>\n",
       "    </tr>\n",
       "    <tr>\n",
       "      <th>2</th>\n",
       "      <td>0.042781</td>\n",
       "      <td>0.036862</td>\n",
       "      <td>0.039008</td>\n",
       "      <td>0.032960</td>\n",
       "      <td>0.021957</td>\n",
       "      <td>0.029044</td>\n",
       "      <td>0.039003</td>\n",
       "      <td>0.036343</td>\n",
       "      <td>0.028899</td>\n",
       "      <td>0.021419</td>\n",
       "    </tr>\n",
       "    <tr>\n",
       "      <th>3</th>\n",
       "      <td>0.036441</td>\n",
       "      <td>0.031988</td>\n",
       "      <td>0.032960</td>\n",
       "      <td>0.035297</td>\n",
       "      <td>0.020369</td>\n",
       "      <td>0.027829</td>\n",
       "      <td>0.034981</td>\n",
       "      <td>0.036782</td>\n",
       "      <td>0.028383</td>\n",
       "      <td>0.018396</td>\n",
       "    </tr>\n",
       "    <tr>\n",
       "      <th>4</th>\n",
       "      <td>0.021890</td>\n",
       "      <td>0.021348</td>\n",
       "      <td>0.021957</td>\n",
       "      <td>0.020369</td>\n",
       "      <td>0.022785</td>\n",
       "      <td>0.020517</td>\n",
       "      <td>0.023236</td>\n",
       "      <td>0.023425</td>\n",
       "      <td>0.020422</td>\n",
       "      <td>0.021053</td>\n",
       "    </tr>\n",
       "    <tr>\n",
       "      <th>5</th>\n",
       "      <td>0.030491</td>\n",
       "      <td>0.028443</td>\n",
       "      <td>0.029044</td>\n",
       "      <td>0.027829</td>\n",
       "      <td>0.020517</td>\n",
       "      <td>0.034715</td>\n",
       "      <td>0.031190</td>\n",
       "      <td>0.032735</td>\n",
       "      <td>0.025142</td>\n",
       "      <td>0.019941</td>\n",
       "    </tr>\n",
       "    <tr>\n",
       "      <th>6</th>\n",
       "      <td>0.045241</td>\n",
       "      <td>0.037785</td>\n",
       "      <td>0.039003</td>\n",
       "      <td>0.034981</td>\n",
       "      <td>0.023236</td>\n",
       "      <td>0.031190</td>\n",
       "      <td>0.047720</td>\n",
       "      <td>0.038211</td>\n",
       "      <td>0.031355</td>\n",
       "      <td>0.022768</td>\n",
       "    </tr>\n",
       "    <tr>\n",
       "      <th>7</th>\n",
       "      <td>0.039486</td>\n",
       "      <td>0.035208</td>\n",
       "      <td>0.036343</td>\n",
       "      <td>0.036782</td>\n",
       "      <td>0.023425</td>\n",
       "      <td>0.032735</td>\n",
       "      <td>0.038211</td>\n",
       "      <td>0.047524</td>\n",
       "      <td>0.031673</td>\n",
       "      <td>0.021999</td>\n",
       "    </tr>\n",
       "    <tr>\n",
       "      <th>8</th>\n",
       "      <td>0.033602</td>\n",
       "      <td>0.028195</td>\n",
       "      <td>0.028899</td>\n",
       "      <td>0.028383</td>\n",
       "      <td>0.020422</td>\n",
       "      <td>0.025142</td>\n",
       "      <td>0.031355</td>\n",
       "      <td>0.031673</td>\n",
       "      <td>0.036339</td>\n",
       "      <td>0.020519</td>\n",
       "    </tr>\n",
       "    <tr>\n",
       "      <th>9</th>\n",
       "      <td>0.021698</td>\n",
       "      <td>0.020619</td>\n",
       "      <td>0.021419</td>\n",
       "      <td>0.018396</td>\n",
       "      <td>0.021053</td>\n",
       "      <td>0.019941</td>\n",
       "      <td>0.022768</td>\n",
       "      <td>0.021999</td>\n",
       "      <td>0.020519</td>\n",
       "      <td>0.036704</td>\n",
       "    </tr>\n",
       "  </tbody>\n",
       "</table>\n",
       "</div>"
      ],
      "text/plain": [
       "          0         1         2         3         4         5         6  \\\n",
       "0  0.079860  0.044643  0.042781  0.036441  0.021890  0.030491  0.045241   \n",
       "1  0.044643  0.040784  0.036862  0.031988  0.021348  0.028443  0.037785   \n",
       "2  0.042781  0.036862  0.039008  0.032960  0.021957  0.029044  0.039003   \n",
       "3  0.036441  0.031988  0.032960  0.035297  0.020369  0.027829  0.034981   \n",
       "4  0.021890  0.021348  0.021957  0.020369  0.022785  0.020517  0.023236   \n",
       "5  0.030491  0.028443  0.029044  0.027829  0.020517  0.034715  0.031190   \n",
       "6  0.045241  0.037785  0.039003  0.034981  0.023236  0.031190  0.047720   \n",
       "7  0.039486  0.035208  0.036343  0.036782  0.023425  0.032735  0.038211   \n",
       "8  0.033602  0.028195  0.028899  0.028383  0.020422  0.025142  0.031355   \n",
       "9  0.021698  0.020619  0.021419  0.018396  0.021053  0.019941  0.022768   \n",
       "\n",
       "          7         8         9  \n",
       "0  0.039486  0.033602  0.021698  \n",
       "1  0.035208  0.028195  0.020619  \n",
       "2  0.036343  0.028899  0.021419  \n",
       "3  0.036782  0.028383  0.018396  \n",
       "4  0.023425  0.020422  0.021053  \n",
       "5  0.032735  0.025142  0.019941  \n",
       "6  0.038211  0.031355  0.022768  \n",
       "7  0.047524  0.031673  0.021999  \n",
       "8  0.031673  0.036339  0.020519  \n",
       "9  0.021999  0.020519  0.036704  "
      ]
     },
     "execution_count": 58,
     "metadata": {},
     "output_type": "execute_result"
    }
   ],
   "source": [
    "Cov"
   ]
  },
  {
   "cell_type": "markdown",
   "metadata": {},
   "source": [
    "#### BL result"
   ]
  },
  {
   "cell_type": "code",
   "execution_count": 59,
   "metadata": {},
   "outputs": [
    {
     "name": "stdout",
     "output_type": "stream",
     "text": [
      "     fun: -0.00017831561859312102\n",
      "     jac: array([-0.00013917, -0.0001336 , -0.00014825, -0.00020213, -0.00011797,\n",
      "       -0.00022522, -0.00017379, -0.00027856, -0.00025256, -0.00011191])\n",
      " message: 'Optimization terminated successfully.'\n",
      "    nfev: 12\n",
      "     nit: 1\n",
      "    njev: 1\n",
      "  status: 0\n",
      " success: True\n",
      "       x: array([0.1, 0.1, 0.1, 0.1, 0.1, 0.1, 0.1, 0.1, 0.1, 0.1])\n"
     ]
    }
   ],
   "source": [
    "num=len(icode)\n",
    "e=np.zeros(num)+1\n",
    "\n",
    "def statistics2(weights):\n",
    "    \n",
    "    weights=np.array(weights)\n",
    "    \n",
    "    Mark1=np.dot(mu_BL.T,weights)\n",
    "    Mark2=(1-np.dot(e.T,weights))*rf\n",
    "\n",
    "    \n",
    "    \n",
    "    return [Mark1+Mark2]\n",
    "\n",
    "def max_Mark1(weights):\n",
    "    \n",
    "    return -1/100*statistics2(weights)[0]\n",
    "\n",
    "cons = (\n",
    "       {'type':'ineq', 'fun':lambda x: -np.dot(np.dot(x.T,Cov_BL),x)+L**2}\n",
    "       )\n",
    "bnds = tuple((0,20) for x in range(num))\n",
    "bl = sco.minimize(max_Mark1, num*[1./num,], method = 'SLSQP',  constraints = cons)\n",
    "print(bl)"
   ]
  },
  {
   "cell_type": "code",
   "execution_count": null,
   "metadata": {},
   "outputs": [],
   "source": []
  },
  {
   "cell_type": "code",
   "execution_count": null,
   "metadata": {},
   "outputs": [],
   "source": []
  },
  {
   "cell_type": "code",
   "execution_count": 60,
   "metadata": {},
   "outputs": [
    {
     "data": {
      "text/plain": [
       "array([10., 10., 10., 10., 10., 10., 10., 10., 10., 10.])"
      ]
     },
     "execution_count": 60,
     "metadata": {},
     "output_type": "execute_result"
    }
   ],
   "source": [
    "x_bl=bl.x/np.sum(bl.x)*100\n",
    "x_bl"
   ]
  },
  {
   "cell_type": "code",
   "execution_count": 61,
   "metadata": {},
   "outputs": [
    {
     "data": {
      "text/plain": [
       "array([[ 2.58188418],\n",
       "       [ 2.75906463],\n",
       "       [ 9.27501837],\n",
       "       [10.54121408],\n",
       "       [ 7.46135222],\n",
       "       [16.11830092],\n",
       "       [11.71799928],\n",
       "       [25.78098764],\n",
       "       [10.11610578],\n",
       "       [ 3.6480729 ]])"
      ]
     },
     "execution_count": 61,
     "metadata": {},
     "output_type": "execute_result"
    }
   ],
   "source": [
    "x_mkt=mkt/np.sum(mkt)*100\n",
    "x_mkt=np.array(x_mkt)\n",
    "x_mkt"
   ]
  },
  {
   "cell_type": "markdown",
   "metadata": {},
   "source": [
    "## MVIO model"
   ]
  },
  {
   "cell_type": "code",
   "execution_count": 62,
   "metadata": {},
   "outputs": [
    {
     "data": {
      "text/plain": [
       "1.25"
      ]
     },
     "execution_count": 62,
     "metadata": {},
     "output_type": "execute_result"
    }
   ],
   "source": [
    "delta"
   ]
  },
  {
   "cell_type": "markdown",
   "metadata": {},
   "source": [
    "$\\bar{\\Sigma}$"
   ]
  },
  {
   "cell_type": "code",
   "execution_count": 63,
   "metadata": {},
   "outputs": [],
   "source": [
    "C_new=2*delta*Cov"
   ]
  },
  {
   "cell_type": "code",
   "execution_count": 64,
   "metadata": {},
   "outputs": [
    {
     "data": {
      "text/plain": [
       "array([[0.01391724],\n",
       "       [0.0133604 ],\n",
       "       [0.01482471],\n",
       "       [0.02021322],\n",
       "       [0.0117967 ],\n",
       "       [0.02252232],\n",
       "       [0.0173786 ],\n",
       "       [0.02785565],\n",
       "       [0.02525575],\n",
       "       [0.01119105]])"
      ]
     },
     "execution_count": 64,
     "metadata": {},
     "output_type": "execute_result"
    }
   ],
   "source": [
    "mu_BL"
   ]
  },
  {
   "cell_type": "code",
   "execution_count": 65,
   "metadata": {},
   "outputs": [
    {
     "data": {
      "text/plain": [
       "array([[0.02581884],\n",
       "       [0.02759065],\n",
       "       [0.09275018],\n",
       "       [0.10541214],\n",
       "       [0.07461352],\n",
       "       [0.16118301],\n",
       "       [0.11717999],\n",
       "       [0.25780988],\n",
       "       [0.10116106],\n",
       "       [0.03648073]])"
      ]
     },
     "execution_count": 65,
     "metadata": {},
     "output_type": "execute_result"
    }
   ],
   "source": [
    "mkt"
   ]
  },
  {
   "cell_type": "code",
   "execution_count": 66,
   "metadata": {},
   "outputs": [
    {
     "name": "stdout",
     "output_type": "stream",
     "text": [
      "status: optimal\n",
      "optimal value 0.34648950500104525\n"
     ]
    }
   ],
   "source": [
    "##### special case with sigma = 0.5 * delta * sigma : BL\n",
    "import cvxpy as cvx\n",
    "mu_io = cvx.Variable((10,1))\n",
    "# sigma_bar = cvx.Variable((10,10))\n",
    "t = cvx.Variable((1,1))\n",
    "u = cvx.Variable((11,1))\n",
    "rf = rf\n",
    "Omega = Omega \n",
    "x_mkt = np.array(mkt).reshape(-1,1)\n",
    "# x = cp.Variable((10,1))\n",
    "e = e.reshape(-1,1)\n",
    "I = np.identity(11)\n",
    "q = q.reshape(-1,1)\n",
    "\n",
    "\n",
    "tmp = 1.25*2*np.array(Cov).dot(np.array(x_mkt).reshape(-1,1))\n",
    "# sigma_bar.dot(x_mkt)\n",
    "Cons = [\n",
    "    u - np.linalg.inv(np.sqrt(Omega)) @ cvx.vstack([mu_io - rf*e - tmp, \\\n",
    "                                                          P@mu_io - q]) == 0,\n",
    "    cvx.vstack([ cvx.hstack([t, u.T]), cvx.hstack([u, I]) ]) >> 0,\n",
    "#     sigma_bar >= 0\n",
    "]\n",
    "objective = cvx.Minimize(t)\n",
    "prob = cvx.Problem(objective, Cons)\n",
    "prob.solve(solver='CVXOPT')  # Returns the optimal value.\n",
    "print(\"status:\", prob.status)\n",
    "print(\"optimal value\", prob.value)\n",
    "# print(\"optimal var\", x.value, y.value)"
   ]
  },
  {
   "cell_type": "code",
   "execution_count": 67,
   "metadata": {},
   "outputs": [
    {
     "data": {
      "text/plain": [
       "array([[ 0.01810928],\n",
       "       [ 0.01234254],\n",
       "       [ 0.01413144],\n",
       "       [ 0.01323832],\n",
       "       [-0.00087175],\n",
       "       [ 0.01081921],\n",
       "       [ 0.01812143],\n",
       "       [ 0.02223736],\n",
       "       [ 0.00902767],\n",
       "       [-0.00226625]])"
      ]
     },
     "execution_count": 67,
     "metadata": {},
     "output_type": "execute_result"
    }
   ],
   "source": [
    "mu_io.value"
   ]
  },
  {
   "cell_type": "code",
   "execution_count": 68,
   "metadata": {},
   "outputs": [
    {
     "data": {
      "text/html": [
       "<div>\n",
       "<style scoped>\n",
       "    .dataframe tbody tr th:only-of-type {\n",
       "        vertical-align: middle;\n",
       "    }\n",
       "\n",
       "    .dataframe tbody tr th {\n",
       "        vertical-align: top;\n",
       "    }\n",
       "\n",
       "    .dataframe thead th {\n",
       "        text-align: right;\n",
       "    }\n",
       "</style>\n",
       "<table border=\"1\" class=\"dataframe\">\n",
       "  <thead>\n",
       "    <tr style=\"text-align: right;\">\n",
       "      <th></th>\n",
       "      <th>0</th>\n",
       "      <th>1</th>\n",
       "      <th>2</th>\n",
       "      <th>3</th>\n",
       "      <th>4</th>\n",
       "      <th>5</th>\n",
       "      <th>6</th>\n",
       "      <th>7</th>\n",
       "      <th>8</th>\n",
       "      <th>9</th>\n",
       "    </tr>\n",
       "  </thead>\n",
       "  <tbody>\n",
       "    <tr>\n",
       "      <th>0</th>\n",
       "      <td>0.079860</td>\n",
       "      <td>0.044643</td>\n",
       "      <td>0.042781</td>\n",
       "      <td>0.036441</td>\n",
       "      <td>0.021890</td>\n",
       "      <td>0.030491</td>\n",
       "      <td>0.045241</td>\n",
       "      <td>0.039486</td>\n",
       "      <td>0.033602</td>\n",
       "      <td>0.021698</td>\n",
       "    </tr>\n",
       "    <tr>\n",
       "      <th>1</th>\n",
       "      <td>0.044643</td>\n",
       "      <td>0.040784</td>\n",
       "      <td>0.036862</td>\n",
       "      <td>0.031988</td>\n",
       "      <td>0.021348</td>\n",
       "      <td>0.028443</td>\n",
       "      <td>0.037785</td>\n",
       "      <td>0.035208</td>\n",
       "      <td>0.028195</td>\n",
       "      <td>0.020619</td>\n",
       "    </tr>\n",
       "    <tr>\n",
       "      <th>2</th>\n",
       "      <td>0.042781</td>\n",
       "      <td>0.036862</td>\n",
       "      <td>0.039008</td>\n",
       "      <td>0.032960</td>\n",
       "      <td>0.021957</td>\n",
       "      <td>0.029044</td>\n",
       "      <td>0.039003</td>\n",
       "      <td>0.036343</td>\n",
       "      <td>0.028899</td>\n",
       "      <td>0.021419</td>\n",
       "    </tr>\n",
       "    <tr>\n",
       "      <th>3</th>\n",
       "      <td>0.036441</td>\n",
       "      <td>0.031988</td>\n",
       "      <td>0.032960</td>\n",
       "      <td>0.035297</td>\n",
       "      <td>0.020369</td>\n",
       "      <td>0.027829</td>\n",
       "      <td>0.034981</td>\n",
       "      <td>0.036782</td>\n",
       "      <td>0.028383</td>\n",
       "      <td>0.018396</td>\n",
       "    </tr>\n",
       "    <tr>\n",
       "      <th>4</th>\n",
       "      <td>0.021890</td>\n",
       "      <td>0.021348</td>\n",
       "      <td>0.021957</td>\n",
       "      <td>0.020369</td>\n",
       "      <td>0.022785</td>\n",
       "      <td>0.020517</td>\n",
       "      <td>0.023236</td>\n",
       "      <td>0.023425</td>\n",
       "      <td>0.020422</td>\n",
       "      <td>0.021053</td>\n",
       "    </tr>\n",
       "    <tr>\n",
       "      <th>5</th>\n",
       "      <td>0.030491</td>\n",
       "      <td>0.028443</td>\n",
       "      <td>0.029044</td>\n",
       "      <td>0.027829</td>\n",
       "      <td>0.020517</td>\n",
       "      <td>0.034715</td>\n",
       "      <td>0.031190</td>\n",
       "      <td>0.032735</td>\n",
       "      <td>0.025142</td>\n",
       "      <td>0.019941</td>\n",
       "    </tr>\n",
       "    <tr>\n",
       "      <th>6</th>\n",
       "      <td>0.045241</td>\n",
       "      <td>0.037785</td>\n",
       "      <td>0.039003</td>\n",
       "      <td>0.034981</td>\n",
       "      <td>0.023236</td>\n",
       "      <td>0.031190</td>\n",
       "      <td>0.047720</td>\n",
       "      <td>0.038211</td>\n",
       "      <td>0.031355</td>\n",
       "      <td>0.022768</td>\n",
       "    </tr>\n",
       "    <tr>\n",
       "      <th>7</th>\n",
       "      <td>0.039486</td>\n",
       "      <td>0.035208</td>\n",
       "      <td>0.036343</td>\n",
       "      <td>0.036782</td>\n",
       "      <td>0.023425</td>\n",
       "      <td>0.032735</td>\n",
       "      <td>0.038211</td>\n",
       "      <td>0.047524</td>\n",
       "      <td>0.031673</td>\n",
       "      <td>0.021999</td>\n",
       "    </tr>\n",
       "    <tr>\n",
       "      <th>8</th>\n",
       "      <td>0.033602</td>\n",
       "      <td>0.028195</td>\n",
       "      <td>0.028899</td>\n",
       "      <td>0.028383</td>\n",
       "      <td>0.020422</td>\n",
       "      <td>0.025142</td>\n",
       "      <td>0.031355</td>\n",
       "      <td>0.031673</td>\n",
       "      <td>0.036339</td>\n",
       "      <td>0.020519</td>\n",
       "    </tr>\n",
       "    <tr>\n",
       "      <th>9</th>\n",
       "      <td>0.021698</td>\n",
       "      <td>0.020619</td>\n",
       "      <td>0.021419</td>\n",
       "      <td>0.018396</td>\n",
       "      <td>0.021053</td>\n",
       "      <td>0.019941</td>\n",
       "      <td>0.022768</td>\n",
       "      <td>0.021999</td>\n",
       "      <td>0.020519</td>\n",
       "      <td>0.036704</td>\n",
       "    </tr>\n",
       "  </tbody>\n",
       "</table>\n",
       "</div>"
      ],
      "text/plain": [
       "          0         1         2         3         4         5         6  \\\n",
       "0  0.079860  0.044643  0.042781  0.036441  0.021890  0.030491  0.045241   \n",
       "1  0.044643  0.040784  0.036862  0.031988  0.021348  0.028443  0.037785   \n",
       "2  0.042781  0.036862  0.039008  0.032960  0.021957  0.029044  0.039003   \n",
       "3  0.036441  0.031988  0.032960  0.035297  0.020369  0.027829  0.034981   \n",
       "4  0.021890  0.021348  0.021957  0.020369  0.022785  0.020517  0.023236   \n",
       "5  0.030491  0.028443  0.029044  0.027829  0.020517  0.034715  0.031190   \n",
       "6  0.045241  0.037785  0.039003  0.034981  0.023236  0.031190  0.047720   \n",
       "7  0.039486  0.035208  0.036343  0.036782  0.023425  0.032735  0.038211   \n",
       "8  0.033602  0.028195  0.028899  0.028383  0.020422  0.025142  0.031355   \n",
       "9  0.021698  0.020619  0.021419  0.018396  0.021053  0.019941  0.022768   \n",
       "\n",
       "          7         8         9  \n",
       "0  0.039486  0.033602  0.021698  \n",
       "1  0.035208  0.028195  0.020619  \n",
       "2  0.036343  0.028899  0.021419  \n",
       "3  0.036782  0.028383  0.018396  \n",
       "4  0.023425  0.020422  0.021053  \n",
       "5  0.032735  0.025142  0.019941  \n",
       "6  0.038211  0.031355  0.022768  \n",
       "7  0.047524  0.031673  0.021999  \n",
       "8  0.031673  0.036339  0.020519  \n",
       "9  0.021999  0.020519  0.036704  "
      ]
     },
     "execution_count": 68,
     "metadata": {},
     "output_type": "execute_result"
    }
   ],
   "source": [
    "Cov"
   ]
  },
  {
   "cell_type": "code",
   "execution_count": 69,
   "metadata": {},
   "outputs": [
    {
     "data": {
      "text/plain": [
       "array([[ 0.01810928],\n",
       "       [ 0.01234254],\n",
       "       [ 0.01413144],\n",
       "       [ 0.01323832],\n",
       "       [-0.00087175],\n",
       "       [ 0.01081921],\n",
       "       [ 0.01812143],\n",
       "       [ 0.02223736],\n",
       "       [ 0.00902767],\n",
       "       [-0.00226625]])"
      ]
     },
     "execution_count": 69,
     "metadata": {},
     "output_type": "execute_result"
    }
   ],
   "source": [
    "mu_io.value"
   ]
  },
  {
   "cell_type": "code",
   "execution_count": 70,
   "metadata": {},
   "outputs": [
    {
     "data": {
      "text/plain": [
       "['CVXOPT', 'ECOS', 'ECOS_BB', 'GLPK', 'GLPK_MI', 'OSQP', 'SCS']"
      ]
     },
     "execution_count": 70,
     "metadata": {},
     "output_type": "execute_result"
    }
   ],
   "source": [
    "from cvxpy.reductions.solvers.defines import INSTALLED_SOLVERS\n",
    "INSTALLED_SOLVERS"
   ]
  },
  {
   "cell_type": "code",
   "execution_count": 71,
   "metadata": {},
   "outputs": [
    {
     "data": {
      "text/plain": [
       "array([[0.16779458]])"
      ]
     },
     "execution_count": 71,
     "metadata": {},
     "output_type": "execute_result"
    }
   ],
   "source": [
    "q"
   ]
  },
  {
   "cell_type": "code",
   "execution_count": 72,
   "metadata": {},
   "outputs": [],
   "source": [
    "np.savetxt('Omega.csv', Omega, delimiter = ',')\n",
    "np.savetxt('xmkt.csv', x_mkt, delimiter = ',')\n",
    "np.savetxt('Cov.csv', Cov, delimiter = ',')"
   ]
  },
  {
   "cell_type": "code",
   "execution_count": 73,
   "metadata": {},
   "outputs": [],
   "source": [
    "# ##### general case with sigma as vriable.\n",
    "# import cvxpy as cvx\n",
    "# mu_io = cvx.Variable((10,1))\n",
    "# sigma_bar = cvx.Variable((10,10))\n",
    "# t = cvx.Variable((1,1))\n",
    "# u = cvx.Variable((11,1))\n",
    "# rf = rf\n",
    "# Omega = Omega \n",
    "# x_mkt = np.array(mkt).reshape(-1,1)\n",
    "# e = e.reshape(-1,1)\n",
    "# I = np.identity(11)\n",
    "# q = q.reshape(-1,1)\n",
    "\n",
    "# # sigma_bar.dot(x_mkt)\n",
    "# Cons = [\n",
    "#     u - np.linalg.inv(np.sqrt(Omega)) @ cvx.vstack([mu_io - rf*e - sigma_bar@x_mkt, \\\n",
    "#                                                           P @ mu_io - q]) == 0,\n",
    "#     cvx.vstack([ cvx.hstack([t, u.T]), cvx.hstack([u, I])]) >> 0,\n",
    "#     sigma_bar >= 0\n",
    "# ]\n",
    "\n",
    "# objective = cvx.Minimize(t)\n",
    "# prob = cvx.Problem(objective, Cons)\n",
    "# prob.solve(solver='CVXOPT')  # Returns the optimal value.\n",
    "# print(\"status:\", prob.status)\n",
    "# print(\"optimal value\", prob.value)\n",
    "# # print(\"optimal var\", x.value, y.value)"
   ]
  },
  {
   "cell_type": "code",
   "execution_count": 74,
   "metadata": {},
   "outputs": [
    {
     "data": {
      "text/plain": [
       "array([[0.16779458]])"
      ]
     },
     "execution_count": 74,
     "metadata": {},
     "output_type": "execute_result"
    }
   ],
   "source": [
    "q"
   ]
  },
  {
   "cell_type": "code",
   "execution_count": 75,
   "metadata": {},
   "outputs": [
    {
     "name": "stdout",
     "output_type": "stream",
     "text": [
      "['CVXOPT', 'ECOS', 'ECOS_BB', 'GLPK', 'GLPK_MI', 'OSQP', 'SCS']\n"
     ]
    }
   ],
   "source": [
    "print(cvx.installed_solvers())"
   ]
  },
  {
   "cell_type": "code",
   "execution_count": 76,
   "metadata": {},
   "outputs": [
    {
     "data": {
      "text/plain": [
       "array([[ 0.01810928],\n",
       "       [ 0.01234254],\n",
       "       [ 0.01413144],\n",
       "       [ 0.01323832],\n",
       "       [-0.00087175],\n",
       "       [ 0.01081921],\n",
       "       [ 0.01812143],\n",
       "       [ 0.02223736],\n",
       "       [ 0.00902767],\n",
       "       [-0.00226625]])"
      ]
     },
     "execution_count": 76,
     "metadata": {},
     "output_type": "execute_result"
    }
   ],
   "source": [
    "mu_io.value"
   ]
  },
  {
   "cell_type": "code",
   "execution_count": 77,
   "metadata": {},
   "outputs": [
    {
     "data": {
      "text/plain": [
       "array([[0.16779458]])"
      ]
     },
     "execution_count": 77,
     "metadata": {},
     "output_type": "execute_result"
    }
   ],
   "source": [
    "q"
   ]
  },
  {
   "cell_type": "code",
   "execution_count": 78,
   "metadata": {},
   "outputs": [
    {
     "data": {
      "text/html": [
       "<div>\n",
       "<style scoped>\n",
       "    .dataframe tbody tr th:only-of-type {\n",
       "        vertical-align: middle;\n",
       "    }\n",
       "\n",
       "    .dataframe tbody tr th {\n",
       "        vertical-align: top;\n",
       "    }\n",
       "\n",
       "    .dataframe thead th {\n",
       "        text-align: right;\n",
       "    }\n",
       "</style>\n",
       "<table border=\"1\" class=\"dataframe\">\n",
       "  <thead>\n",
       "    <tr style=\"text-align: right;\">\n",
       "      <th></th>\n",
       "      <th>0</th>\n",
       "      <th>1</th>\n",
       "      <th>2</th>\n",
       "      <th>3</th>\n",
       "      <th>4</th>\n",
       "      <th>5</th>\n",
       "      <th>6</th>\n",
       "      <th>7</th>\n",
       "      <th>8</th>\n",
       "      <th>9</th>\n",
       "    </tr>\n",
       "  </thead>\n",
       "  <tbody>\n",
       "    <tr>\n",
       "      <th>0</th>\n",
       "      <td>0.199650</td>\n",
       "      <td>0.111609</td>\n",
       "      <td>0.106953</td>\n",
       "      <td>0.091102</td>\n",
       "      <td>0.054726</td>\n",
       "      <td>0.076227</td>\n",
       "      <td>0.113101</td>\n",
       "      <td>0.098714</td>\n",
       "      <td>0.084006</td>\n",
       "      <td>0.054244</td>\n",
       "    </tr>\n",
       "    <tr>\n",
       "      <th>1</th>\n",
       "      <td>0.111609</td>\n",
       "      <td>0.101960</td>\n",
       "      <td>0.092156</td>\n",
       "      <td>0.079970</td>\n",
       "      <td>0.053369</td>\n",
       "      <td>0.071108</td>\n",
       "      <td>0.094461</td>\n",
       "      <td>0.088020</td>\n",
       "      <td>0.070487</td>\n",
       "      <td>0.051547</td>\n",
       "    </tr>\n",
       "    <tr>\n",
       "      <th>2</th>\n",
       "      <td>0.106953</td>\n",
       "      <td>0.092156</td>\n",
       "      <td>0.097519</td>\n",
       "      <td>0.082399</td>\n",
       "      <td>0.054892</td>\n",
       "      <td>0.072609</td>\n",
       "      <td>0.097507</td>\n",
       "      <td>0.090857</td>\n",
       "      <td>0.072247</td>\n",
       "      <td>0.053547</td>\n",
       "    </tr>\n",
       "    <tr>\n",
       "      <th>3</th>\n",
       "      <td>0.091102</td>\n",
       "      <td>0.079970</td>\n",
       "      <td>0.082399</td>\n",
       "      <td>0.088242</td>\n",
       "      <td>0.050924</td>\n",
       "      <td>0.069572</td>\n",
       "      <td>0.087452</td>\n",
       "      <td>0.091954</td>\n",
       "      <td>0.070957</td>\n",
       "      <td>0.045991</td>\n",
       "    </tr>\n",
       "    <tr>\n",
       "      <th>4</th>\n",
       "      <td>0.054726</td>\n",
       "      <td>0.053369</td>\n",
       "      <td>0.054892</td>\n",
       "      <td>0.050924</td>\n",
       "      <td>0.056964</td>\n",
       "      <td>0.051292</td>\n",
       "      <td>0.058091</td>\n",
       "      <td>0.058563</td>\n",
       "      <td>0.051054</td>\n",
       "      <td>0.052631</td>\n",
       "    </tr>\n",
       "    <tr>\n",
       "      <th>5</th>\n",
       "      <td>0.076227</td>\n",
       "      <td>0.071108</td>\n",
       "      <td>0.072609</td>\n",
       "      <td>0.069572</td>\n",
       "      <td>0.051292</td>\n",
       "      <td>0.086788</td>\n",
       "      <td>0.077974</td>\n",
       "      <td>0.081837</td>\n",
       "      <td>0.062856</td>\n",
       "      <td>0.049853</td>\n",
       "    </tr>\n",
       "    <tr>\n",
       "      <th>6</th>\n",
       "      <td>0.113101</td>\n",
       "      <td>0.094461</td>\n",
       "      <td>0.097507</td>\n",
       "      <td>0.087452</td>\n",
       "      <td>0.058091</td>\n",
       "      <td>0.077974</td>\n",
       "      <td>0.119299</td>\n",
       "      <td>0.095528</td>\n",
       "      <td>0.078388</td>\n",
       "      <td>0.056920</td>\n",
       "    </tr>\n",
       "    <tr>\n",
       "      <th>7</th>\n",
       "      <td>0.098714</td>\n",
       "      <td>0.088020</td>\n",
       "      <td>0.090857</td>\n",
       "      <td>0.091954</td>\n",
       "      <td>0.058563</td>\n",
       "      <td>0.081837</td>\n",
       "      <td>0.095528</td>\n",
       "      <td>0.118810</td>\n",
       "      <td>0.079182</td>\n",
       "      <td>0.054998</td>\n",
       "    </tr>\n",
       "    <tr>\n",
       "      <th>8</th>\n",
       "      <td>0.084006</td>\n",
       "      <td>0.070487</td>\n",
       "      <td>0.072247</td>\n",
       "      <td>0.070957</td>\n",
       "      <td>0.051054</td>\n",
       "      <td>0.062856</td>\n",
       "      <td>0.078388</td>\n",
       "      <td>0.079182</td>\n",
       "      <td>0.090848</td>\n",
       "      <td>0.051298</td>\n",
       "    </tr>\n",
       "    <tr>\n",
       "      <th>9</th>\n",
       "      <td>0.054244</td>\n",
       "      <td>0.051547</td>\n",
       "      <td>0.053547</td>\n",
       "      <td>0.045991</td>\n",
       "      <td>0.052631</td>\n",
       "      <td>0.049853</td>\n",
       "      <td>0.056920</td>\n",
       "      <td>0.054998</td>\n",
       "      <td>0.051298</td>\n",
       "      <td>0.091761</td>\n",
       "    </tr>\n",
       "  </tbody>\n",
       "</table>\n",
       "</div>"
      ],
      "text/plain": [
       "          0         1         2         3         4         5         6  \\\n",
       "0  0.199650  0.111609  0.106953  0.091102  0.054726  0.076227  0.113101   \n",
       "1  0.111609  0.101960  0.092156  0.079970  0.053369  0.071108  0.094461   \n",
       "2  0.106953  0.092156  0.097519  0.082399  0.054892  0.072609  0.097507   \n",
       "3  0.091102  0.079970  0.082399  0.088242  0.050924  0.069572  0.087452   \n",
       "4  0.054726  0.053369  0.054892  0.050924  0.056964  0.051292  0.058091   \n",
       "5  0.076227  0.071108  0.072609  0.069572  0.051292  0.086788  0.077974   \n",
       "6  0.113101  0.094461  0.097507  0.087452  0.058091  0.077974  0.119299   \n",
       "7  0.098714  0.088020  0.090857  0.091954  0.058563  0.081837  0.095528   \n",
       "8  0.084006  0.070487  0.072247  0.070957  0.051054  0.062856  0.078388   \n",
       "9  0.054244  0.051547  0.053547  0.045991  0.052631  0.049853  0.056920   \n",
       "\n",
       "          7         8         9  \n",
       "0  0.098714  0.084006  0.054244  \n",
       "1  0.088020  0.070487  0.051547  \n",
       "2  0.090857  0.072247  0.053547  \n",
       "3  0.091954  0.070957  0.045991  \n",
       "4  0.058563  0.051054  0.052631  \n",
       "5  0.081837  0.062856  0.049853  \n",
       "6  0.095528  0.078388  0.056920  \n",
       "7  0.118810  0.079182  0.054998  \n",
       "8  0.079182  0.090848  0.051298  \n",
       "9  0.054998  0.051298  0.091761  "
      ]
     },
     "execution_count": 78,
     "metadata": {},
     "output_type": "execute_result"
    }
   ],
   "source": [
    "C_new"
   ]
  },
  {
   "cell_type": "code",
   "execution_count": 79,
   "metadata": {},
   "outputs": [],
   "source": [
    "alpha=0.87\n",
    "ee=10**(-8)\n",
    "value,vector=np.linalg.eig(C_new)"
   ]
  },
  {
   "cell_type": "code",
   "execution_count": 80,
   "metadata": {},
   "outputs": [
    {
     "data": {
      "text/plain": [
       "array([0.789304  , 0.09141169, 0.05554288, 0.02827846, 0.02429298,\n",
       "       0.01980068, 0.01564572, 0.01289508, 0.00863909, 0.00603108])"
      ]
     },
     "execution_count": 80,
     "metadata": {},
     "output_type": "execute_result"
    }
   ],
   "source": [
    "value"
   ]
  },
  {
   "cell_type": "code",
   "execution_count": 81,
   "metadata": {
    "scrolled": true
   },
   "outputs": [
    {
     "data": {
      "text/plain": [
       "array([[ 4.16621700e-01,  7.53630431e-01, -3.82179754e-01,\n",
       "        -1.45464124e-01,  2.67846454e-01,  2.62370746e-02,\n",
       "        -8.94673878e-02, -1.00538251e-01,  2.64277168e-02,\n",
       "        -2.33944824e-03],\n",
       "       [ 3.34324779e-01,  9.49528241e-02,  4.31025166e-02,\n",
       "         3.00309870e-01, -2.10985052e-01, -3.18145592e-02,\n",
       "         6.44792384e-01,  2.91855252e-01, -1.99158321e-01,\n",
       "         4.48374236e-01],\n",
       "       [ 3.35731528e-01,  1.86529551e-02,  8.72916225e-02,\n",
       "         2.46007677e-01, -2.26672132e-01, -6.77857570e-02,\n",
       "         1.97088178e-01,  8.83741563e-02,  8.53642448e-02,\n",
       "        -8.41950619e-01],\n",
       "       [ 3.09250672e-01, -7.37044808e-02,  2.82945881e-01,\n",
       "        -6.09466556e-02,  1.25696505e-02, -2.63502422e-01,\n",
       "        -1.95053108e-02, -6.30012572e-02,  8.31251184e-01,\n",
       "         2.24140884e-01],\n",
       "       [ 2.14008187e-01, -2.94572953e-01, -1.79069837e-01,\n",
       "        -6.63486619e-04,  1.86467707e-02,  1.16194746e-01,\n",
       "         3.05074913e-01, -8.50268408e-01, -7.11280717e-02,\n",
       "         2.06308767e-02],\n",
       "       [ 2.81733369e-01, -2.25208161e-01,  1.79970517e-01,\n",
       "         1.62103400e-01,  5.18255868e-01,  7.06137480e-01,\n",
       "        -5.81101124e-02,  1.92818132e-01,  5.79285745e-02,\n",
       "        -1.04914673e-02],\n",
       "       [ 3.59875101e-01,  1.00779208e-02,  1.13460854e-01,\n",
       "         3.05326591e-01, -5.15356564e-01,  1.41196022e-01,\n",
       "        -6.26843422e-01, -1.34727950e-01, -1.73791780e-01,\n",
       "         1.93582207e-01],\n",
       "       [ 3.49216030e-01, -1.67921684e-01,  3.59422423e-01,\n",
       "        -1.13727319e-01,  4.27833543e-01, -5.44766084e-01,\n",
       "        -1.42800691e-01, -8.04187693e-03, -4.55318657e-01,\n",
       "        -1.21932883e-02],\n",
       "       [ 2.86946232e-01, -1.52526972e-01,  4.01988362e-02,\n",
       "        -8.27616255e-01, -3.33364420e-01,  2.27034379e-01,\n",
       "         7.13730294e-02,  1.73771792e-01, -9.47503130e-02,\n",
       "        -2.97986119e-02],\n",
       "       [ 2.17550924e-01, -4.77691510e-01, -7.45837400e-01,\n",
       "         8.38751968e-02,  5.91837940e-02, -2.09496163e-01,\n",
       "        -1.48821542e-01,  2.90491474e-01,  8.03787731e-02,\n",
       "         2.80834958e-02]])"
      ]
     },
     "execution_count": 81,
     "metadata": {},
     "output_type": "execute_result"
    }
   ],
   "source": [
    "vector"
   ]
  },
  {
   "cell_type": "code",
   "execution_count": 82,
   "metadata": {},
   "outputs": [
    {
     "data": {
      "text/plain": [
       "array([0.4166217 , 0.33432478, 0.33573153, 0.30925067, 0.21400819,\n",
       "       0.28173337, 0.3598751 , 0.34921603, 0.28694623, 0.21755092])"
      ]
     },
     "execution_count": 82,
     "metadata": {},
     "output_type": "execute_result"
    }
   ],
   "source": [
    "vector[:,0]"
   ]
  },
  {
   "cell_type": "code",
   "execution_count": 83,
   "metadata": {},
   "outputs": [
    {
     "data": {
      "text/plain": [
       "array([ 0.4166217 ,  0.75363043, -0.38217975, -0.14546412,  0.26784645,\n",
       "        0.02623707, -0.08946739, -0.10053825,  0.02642772, -0.00233945])"
      ]
     },
     "execution_count": 83,
     "metadata": {},
     "output_type": "execute_result"
    }
   ],
   "source": [
    "vector[0]"
   ]
  },
  {
   "cell_type": "code",
   "execution_count": 84,
   "metadata": {},
   "outputs": [
    {
     "name": "stdout",
     "output_type": "stream",
     "text": [
      "['CVXOPT', 'ECOS', 'ECOS_BB', 'GLPK', 'GLPK_MI', 'OSQP', 'SCS']\n"
     ]
    }
   ],
   "source": [
    "print(cvx.installed_solvers())"
   ]
  },
  {
   "cell_type": "code",
   "execution_count": 85,
   "metadata": {},
   "outputs": [
    {
     "data": {
      "text/plain": [
       "array([0.789304  , 0.09141169, 0.05554288])"
      ]
     },
     "execution_count": 85,
     "metadata": {},
     "output_type": "execute_result"
    }
   ],
   "source": [
    "value[0:3]"
   ]
  },
  {
   "cell_type": "code",
   "execution_count": 86,
   "metadata": {},
   "outputs": [
    {
     "name": "stdout",
     "output_type": "stream",
     "text": [
      "status: optimal\n",
      "optimal value -2.364064655812782e-10\n"
     ]
    }
   ],
   "source": [
    "##### general case with sigma as vriable.\n",
    "alpha=0.87\n",
    "ee=10**(-8)\n",
    "value,vector=np.linalg.eig(C_new)\n",
    "\n",
    "\n",
    "import cvxpy as cvx\n",
    "if a==1:\n",
    "    mu_io = cvx.Variable((10,1))\n",
    "    sigma_bar = cvx.Variable((10,10))\n",
    "    t = cvx.Variable((1,1))\n",
    "    u = cvx.Variable((11,1))\n",
    "    rf = rf\n",
    "    Omega = Omega \n",
    "    x_mkt = np.array(mkt).reshape(-1,1)\n",
    "    e = e.reshape(-1,1)\n",
    "    I = np.identity(11)\n",
    "    q = q.reshape(-1,1)\n",
    "\n",
    "    # sigma_bar.dot(x_mkt)\n",
    "    Cons = [\n",
    "        u - np.linalg.inv(np.sqrt(Omega)) @ cvx.vstack([mu_io - rf*e - sigma_bar@x_mkt, \\\n",
    "                                                              P @ mu_io - q]) == 0,\n",
    "        cvx.vstack([ cvx.hstack([t, u.T]), cvx.hstack([u, I])]) >> 0,\n",
    "        value[0:3].sum()>=alpha*cvx.trace(sigma_bar),\n",
    "        cvx.norm(-sigma_bar@vector[:,0]+value[0]*vector[:,0],p=2)<=ee,\n",
    "        cvx.norm(-sigma_bar@vector[:,1]+value[1]*vector[:,1],p=2)<=ee,\n",
    "        cvx.norm(-sigma_bar@vector[:,2]+value[2]*vector[:,2],p=2)<=ee,\n",
    "        sigma_bar >= 0\n",
    "    ]\n",
    "\n",
    "    objective = cvx.Minimize(t)\n",
    "    prob = cvx.Problem(objective, Cons)\n",
    "    prob.solve(solver='CVXOPT')  # Returns the optimal value.\n",
    "    print(\"status:\", prob.status)\n",
    "    print(\"optimal value\", prob.value)\n",
    "    # print(\"optimal var\", x.value, y.value)\n",
    "    \n",
    "else:\n",
    "    \n",
    "    mu_io = cvx.Variable((10,1))\n",
    "    sigma_bar = cvx.Variable((10,10))\n",
    "    t = cvx.Variable((1,1))\n",
    "    u = cvx.Variable((11,1))\n",
    "    rf = rf\n",
    "    Omega = Omega \n",
    "    x_mkt = np.array(mkt).reshape(-1,1)\n",
    "    e = e.reshape(-1,1)\n",
    "    I = np.identity(11)\n",
    "    q = q.reshape(-1,1)\n",
    "\n",
    "    # sigma_bar.dot(x_mkt)\n",
    "    Cons = [\n",
    "        u - np.linalg.inv(np.sqrt(Omega)) @ cvx.vstack([mu_io - rf*e - sigma_bar@x_mkt, \\\n",
    "                                                              P @ mu_io - q]) == 0,\n",
    "        cvx.vstack([ cvx.hstack([t, u.T]), cvx.hstack([u, I])]) >> 0,\n",
    "        cvx.norm(np.dot(np.dot(b1.T,sigma_bar),b1)-sigma1*10.,p=2)<=ee,\n",
    "#         cvx.norm(np.dot(np.dot(b2.T,sigma_bar),b2)-sigma2,p=2)<=ee,\n",
    "#         cvx.norm(-sigma_bar@vector[:,0]+value[0]*vector[:,0],p=2)<=ee,\n",
    "#         cvx.norm(-sigma_bar@vector[:,1]+value[1]*vector[:,1],p=2)<=ee,\n",
    "#         cvx.norm(-sigma_bar@vector[:,2]+value[2]*vector[:,2],p=2)<=ee,\n",
    "        sigma_bar >= 0\n",
    "    ]\n",
    "\n",
    "    objective = cvx.Minimize(t)\n",
    "    prob = cvx.Problem(objective, Cons)\n",
    "    prob.solve(solver='CVXOPT')  # Returns the optimal value.\n",
    "    print(\"status:\", prob.status)\n",
    "    print(\"optimal value\", prob.value)\n",
    "    # print(\"optimal var\", x.value, y.value)\n",
    "    "
   ]
  },
  {
   "cell_type": "code",
   "execution_count": 87,
   "metadata": {},
   "outputs": [
    {
     "data": {
      "text/plain": [
       "10.901391751495465"
      ]
     },
     "execution_count": 87,
     "metadata": {},
     "output_type": "execute_result"
    }
   ],
   "source": [
    "sigma1"
   ]
  },
  {
   "cell_type": "code",
   "execution_count": 88,
   "metadata": {},
   "outputs": [
    {
     "data": {
      "text/plain": [
       "array([[0.03468979],\n",
       "       [0.03576249],\n",
       "       [0.03685929],\n",
       "       [0.03982528],\n",
       "       [0.0294699 ],\n",
       "       [0.10632043],\n",
       "       [0.04084955],\n",
       "       [0.08544029],\n",
       "       [0.11029931],\n",
       "       [0.03210046]])"
      ]
     },
     "execution_count": 88,
     "metadata": {},
     "output_type": "execute_result"
    }
   ],
   "source": [
    "mu_io.value"
   ]
  },
  {
   "cell_type": "code",
   "execution_count": 89,
   "metadata": {},
   "outputs": [
    {
     "data": {
      "text/plain": [
       "array([[0.01391724],\n",
       "       [0.0133604 ],\n",
       "       [0.01482471],\n",
       "       [0.02021322],\n",
       "       [0.0117967 ],\n",
       "       [0.02252232],\n",
       "       [0.0173786 ],\n",
       "       [0.02785565],\n",
       "       [0.02525575],\n",
       "       [0.01119105]])"
      ]
     },
     "execution_count": 89,
     "metadata": {},
     "output_type": "execute_result"
    }
   ],
   "source": [
    "mu_BL"
   ]
  },
  {
   "cell_type": "code",
   "execution_count": 90,
   "metadata": {},
   "outputs": [
    {
     "data": {
      "text/plain": [
       "array([ 0.60106923,  0.19740684,  0.29936594,  0.3980757 ,  0.49664529,\n",
       "       -0.00521037, -0.30408813, -0.20005411, -0.29854962, -0.1070064 ])"
      ]
     },
     "execution_count": 90,
     "metadata": {},
     "output_type": "execute_result"
    }
   ],
   "source": [
    "mu"
   ]
  },
  {
   "cell_type": "code",
   "execution_count": 91,
   "metadata": {},
   "outputs": [
    {
     "data": {
      "text/plain": [
       "array([[4.10606036e-02, 8.22028037e-01, 1.41220991e-02, 1.22384157e-02,\n",
       "        1.85708129e-02, 6.92654736e-03, 1.05500933e-02, 4.10723390e-03,\n",
       "        1.25054373e-02, 6.26931857e-02],\n",
       "       [2.31238815e-03, 6.13442570e-01, 7.78682248e-03, 6.83638276e-02,\n",
       "        6.58657364e-02, 7.63101791e-03, 5.62511988e-03, 2.68235782e-03,\n",
       "        1.62196419e-02, 4.69529328e-02],\n",
       "       [6.89341265e-04, 6.09930539e-01, 3.67666868e-03, 7.61106505e-02,\n",
       "        1.12794763e-01, 3.71875716e-03, 2.67496179e-03, 1.22367285e-03,\n",
       "        7.93826317e-03, 3.29392883e-02],\n",
       "       [2.29507817e-03, 4.99970650e-01, 1.13085957e-02, 1.00937854e-01,\n",
       "        8.79639452e-02, 1.23015428e-02, 8.20961957e-03, 4.03351284e-03,\n",
       "        2.51389320e-02, 3.26590129e-02],\n",
       "       [1.09557365e-03, 3.07846320e-01, 5.55296427e-03, 9.57956035e-02,\n",
       "        7.02287163e-02, 5.68264374e-03, 4.02971631e-03, 1.91869235e-03,\n",
       "        1.21838499e-02, 5.42604537e-02],\n",
       "       [1.27990907e-01, 6.64916959e-03, 1.02593616e-02, 8.10577312e-03,\n",
       "        2.22032362e-02, 1.93854548e-02, 1.11920889e-02, 3.49642326e-01,\n",
       "        1.27875698e-02, 9.59057754e-02],\n",
       "       [1.66643332e-03, 6.36016154e-01, 7.46851058e-03, 9.26081295e-02,\n",
       "        9.45248050e-02, 7.48001963e-03, 5.31559571e-03, 2.58689834e-03,\n",
       "        1.57804846e-02, 4.54750648e-02],\n",
       "       [9.18060568e-02, 9.95886947e-02, 9.81256387e-02, 1.22258961e-01,\n",
       "        7.16177089e-02, 9.77075229e-02, 9.64256334e-02, 5.98532051e-02,\n",
       "        8.78776665e-02, 4.44420797e-02],\n",
       "       [1.43463329e-01, 1.71470634e-03, 2.64177661e-03, 2.07706107e-03,\n",
       "        5.65879719e-03, 5.45818590e-03, 2.87406317e-03, 3.87969197e-01,\n",
       "        3.25026246e-03, 1.12224516e-01],\n",
       "       [3.39298544e-03, 2.84380513e-01, 2.05384775e-02, 4.46409699e-02,\n",
       "        7.34280809e-02, 1.56330907e-02, 1.48818000e-02, 6.71140635e-03,\n",
       "        3.02572485e-02, 8.28496139e-02]])"
      ]
     },
     "execution_count": 91,
     "metadata": {},
     "output_type": "execute_result"
    }
   ],
   "source": [
    "sigma_bar.value"
   ]
  },
  {
   "cell_type": "code",
   "execution_count": 92,
   "metadata": {},
   "outputs": [
    {
     "data": {
      "text/html": [
       "<div>\n",
       "<style scoped>\n",
       "    .dataframe tbody tr th:only-of-type {\n",
       "        vertical-align: middle;\n",
       "    }\n",
       "\n",
       "    .dataframe tbody tr th {\n",
       "        vertical-align: top;\n",
       "    }\n",
       "\n",
       "    .dataframe thead th {\n",
       "        text-align: right;\n",
       "    }\n",
       "</style>\n",
       "<table border=\"1\" class=\"dataframe\">\n",
       "  <thead>\n",
       "    <tr style=\"text-align: right;\">\n",
       "      <th></th>\n",
       "      <th>0</th>\n",
       "      <th>1</th>\n",
       "      <th>2</th>\n",
       "      <th>3</th>\n",
       "      <th>4</th>\n",
       "      <th>5</th>\n",
       "      <th>6</th>\n",
       "      <th>7</th>\n",
       "      <th>8</th>\n",
       "      <th>9</th>\n",
       "    </tr>\n",
       "  </thead>\n",
       "  <tbody>\n",
       "    <tr>\n",
       "      <th>0</th>\n",
       "      <td>0.079860</td>\n",
       "      <td>0.044643</td>\n",
       "      <td>0.042781</td>\n",
       "      <td>0.036441</td>\n",
       "      <td>0.021890</td>\n",
       "      <td>0.030491</td>\n",
       "      <td>0.045241</td>\n",
       "      <td>0.039486</td>\n",
       "      <td>0.033602</td>\n",
       "      <td>0.021698</td>\n",
       "    </tr>\n",
       "    <tr>\n",
       "      <th>1</th>\n",
       "      <td>0.044643</td>\n",
       "      <td>0.040784</td>\n",
       "      <td>0.036862</td>\n",
       "      <td>0.031988</td>\n",
       "      <td>0.021348</td>\n",
       "      <td>0.028443</td>\n",
       "      <td>0.037785</td>\n",
       "      <td>0.035208</td>\n",
       "      <td>0.028195</td>\n",
       "      <td>0.020619</td>\n",
       "    </tr>\n",
       "    <tr>\n",
       "      <th>2</th>\n",
       "      <td>0.042781</td>\n",
       "      <td>0.036862</td>\n",
       "      <td>0.039008</td>\n",
       "      <td>0.032960</td>\n",
       "      <td>0.021957</td>\n",
       "      <td>0.029044</td>\n",
       "      <td>0.039003</td>\n",
       "      <td>0.036343</td>\n",
       "      <td>0.028899</td>\n",
       "      <td>0.021419</td>\n",
       "    </tr>\n",
       "    <tr>\n",
       "      <th>3</th>\n",
       "      <td>0.036441</td>\n",
       "      <td>0.031988</td>\n",
       "      <td>0.032960</td>\n",
       "      <td>0.035297</td>\n",
       "      <td>0.020369</td>\n",
       "      <td>0.027829</td>\n",
       "      <td>0.034981</td>\n",
       "      <td>0.036782</td>\n",
       "      <td>0.028383</td>\n",
       "      <td>0.018396</td>\n",
       "    </tr>\n",
       "    <tr>\n",
       "      <th>4</th>\n",
       "      <td>0.021890</td>\n",
       "      <td>0.021348</td>\n",
       "      <td>0.021957</td>\n",
       "      <td>0.020369</td>\n",
       "      <td>0.022785</td>\n",
       "      <td>0.020517</td>\n",
       "      <td>0.023236</td>\n",
       "      <td>0.023425</td>\n",
       "      <td>0.020422</td>\n",
       "      <td>0.021053</td>\n",
       "    </tr>\n",
       "    <tr>\n",
       "      <th>5</th>\n",
       "      <td>0.030491</td>\n",
       "      <td>0.028443</td>\n",
       "      <td>0.029044</td>\n",
       "      <td>0.027829</td>\n",
       "      <td>0.020517</td>\n",
       "      <td>0.034715</td>\n",
       "      <td>0.031190</td>\n",
       "      <td>0.032735</td>\n",
       "      <td>0.025142</td>\n",
       "      <td>0.019941</td>\n",
       "    </tr>\n",
       "    <tr>\n",
       "      <th>6</th>\n",
       "      <td>0.045241</td>\n",
       "      <td>0.037785</td>\n",
       "      <td>0.039003</td>\n",
       "      <td>0.034981</td>\n",
       "      <td>0.023236</td>\n",
       "      <td>0.031190</td>\n",
       "      <td>0.047720</td>\n",
       "      <td>0.038211</td>\n",
       "      <td>0.031355</td>\n",
       "      <td>0.022768</td>\n",
       "    </tr>\n",
       "    <tr>\n",
       "      <th>7</th>\n",
       "      <td>0.039486</td>\n",
       "      <td>0.035208</td>\n",
       "      <td>0.036343</td>\n",
       "      <td>0.036782</td>\n",
       "      <td>0.023425</td>\n",
       "      <td>0.032735</td>\n",
       "      <td>0.038211</td>\n",
       "      <td>0.047524</td>\n",
       "      <td>0.031673</td>\n",
       "      <td>0.021999</td>\n",
       "    </tr>\n",
       "    <tr>\n",
       "      <th>8</th>\n",
       "      <td>0.033602</td>\n",
       "      <td>0.028195</td>\n",
       "      <td>0.028899</td>\n",
       "      <td>0.028383</td>\n",
       "      <td>0.020422</td>\n",
       "      <td>0.025142</td>\n",
       "      <td>0.031355</td>\n",
       "      <td>0.031673</td>\n",
       "      <td>0.036339</td>\n",
       "      <td>0.020519</td>\n",
       "    </tr>\n",
       "    <tr>\n",
       "      <th>9</th>\n",
       "      <td>0.021698</td>\n",
       "      <td>0.020619</td>\n",
       "      <td>0.021419</td>\n",
       "      <td>0.018396</td>\n",
       "      <td>0.021053</td>\n",
       "      <td>0.019941</td>\n",
       "      <td>0.022768</td>\n",
       "      <td>0.021999</td>\n",
       "      <td>0.020519</td>\n",
       "      <td>0.036704</td>\n",
       "    </tr>\n",
       "  </tbody>\n",
       "</table>\n",
       "</div>"
      ],
      "text/plain": [
       "          0         1         2         3         4         5         6  \\\n",
       "0  0.079860  0.044643  0.042781  0.036441  0.021890  0.030491  0.045241   \n",
       "1  0.044643  0.040784  0.036862  0.031988  0.021348  0.028443  0.037785   \n",
       "2  0.042781  0.036862  0.039008  0.032960  0.021957  0.029044  0.039003   \n",
       "3  0.036441  0.031988  0.032960  0.035297  0.020369  0.027829  0.034981   \n",
       "4  0.021890  0.021348  0.021957  0.020369  0.022785  0.020517  0.023236   \n",
       "5  0.030491  0.028443  0.029044  0.027829  0.020517  0.034715  0.031190   \n",
       "6  0.045241  0.037785  0.039003  0.034981  0.023236  0.031190  0.047720   \n",
       "7  0.039486  0.035208  0.036343  0.036782  0.023425  0.032735  0.038211   \n",
       "8  0.033602  0.028195  0.028899  0.028383  0.020422  0.025142  0.031355   \n",
       "9  0.021698  0.020619  0.021419  0.018396  0.021053  0.019941  0.022768   \n",
       "\n",
       "          7         8         9  \n",
       "0  0.039486  0.033602  0.021698  \n",
       "1  0.035208  0.028195  0.020619  \n",
       "2  0.036343  0.028899  0.021419  \n",
       "3  0.036782  0.028383  0.018396  \n",
       "4  0.023425  0.020422  0.021053  \n",
       "5  0.032735  0.025142  0.019941  \n",
       "6  0.038211  0.031355  0.022768  \n",
       "7  0.047524  0.031673  0.021999  \n",
       "8  0.031673  0.036339  0.020519  \n",
       "9  0.021999  0.020519  0.036704  "
      ]
     },
     "execution_count": 92,
     "metadata": {},
     "output_type": "execute_result"
    }
   ],
   "source": [
    "Cov"
   ]
  },
  {
   "cell_type": "code",
   "execution_count": 93,
   "metadata": {},
   "outputs": [
    {
     "name": "stdout",
     "output_type": "stream",
     "text": [
      "     fun: -184649.20094175945\n",
      "     jac: array([0., 0., 0., 0., 0., 0., 0., 0., 0., 0.])\n",
      " message: 'Optimization terminated successfully.'\n",
      "    nfev: 397\n",
      "     nit: 33\n",
      "    njev: 33\n",
      "  status: 0\n",
      " success: True\n",
      "       x: array([  1842978.01050621, -53970875.17957025,  27733964.20973071,\n",
      "        16725347.09785099,   7404407.99156907,  82653663.12916361,\n",
      "        30934093.58323393, -13746186.52237689,  87719750.9174189 ,\n",
      "        -3981198.83076026])\n"
     ]
    }
   ],
   "source": [
    "num=len(icode)\n",
    "e=np.zeros(num)+1\n",
    "\n",
    "def statistics2(weights):\n",
    "    \n",
    "    weights=np.array(weights)\n",
    "    \n",
    "    Mark1=np.dot(mu_io.value.T,weights)\n",
    "    Mark2=(1-np.dot(e.T,weights))*rf\n",
    "\n",
    "    \n",
    "    \n",
    "    return [Mark1+Mark2]\n",
    "\n",
    "def max_Mark1(weights):\n",
    "    \n",
    "    return -1/100*statistics2(weights)[0]\n",
    "\n",
    "cons = (\n",
    "       {'type':'ineq', 'fun':lambda x: -np.dot(np.dot(x.T,sigma_bar.value/2.5),x)+L**2}\n",
    "       )\n",
    "bnds = tuple((0,1) for x in range(num))\n",
    "mvio = sco.minimize(max_Mark1, num*[1./num,], method = 'SLSQP',  constraints = cons)\n",
    "print(mvio)\n",
    "\n",
    "# x_mvio=np.dot(np.linalg.inv(2*delta*sigma_bar.value),(mu_io.value-rf*e))\n",
    "\n",
    "# x_mvio.shape"
   ]
  },
  {
   "cell_type": "code",
   "execution_count": 94,
   "metadata": {},
   "outputs": [],
   "source": [
    "# import cvxpy as cvx\n",
    "# x = cvx.Variable((10,1))\n",
    "# # sigma_bar = cvx.Variable((10,10))\n",
    "# rf = rf\n",
    "# # x = cp.Variable((10,1))\n",
    "# e = e.reshape(-1,1)\n",
    "# I = np.identity(11)\n",
    "\n",
    "\n",
    "# # sigma_bar.dot(x_mkt)\n",
    "# Cons = [\n",
    "# #     cvx.quad_form(x, sigma_bar.value)<=L**2\n",
    "#     x.T@sigma_bar.value@x<=L**2\n",
    "# ]\n",
    "# objective = cvx.Maximize(mu_io.value.T*x+(1-e.T*x)*rf)\n",
    "# prob = cvx.Problem(objective, Cons)\n",
    "# prob.solve(solver='CVXOPT')  # Returns the optimal value.\n",
    "# print(\"status:\", prob.status)\n",
    "# print(\"optimal value\", prob.value)\n",
    "# # print(\"optimal var\", x.value, y.value)\n",
    "# x.value"
   ]
  },
  {
   "cell_type": "code",
   "execution_count": null,
   "metadata": {},
   "outputs": [],
   "source": []
  },
  {
   "cell_type": "code",
   "execution_count": 95,
   "metadata": {},
   "outputs": [],
   "source": [
    "x_mvio=mvio.x/np.sum(mvio.x)*100\n",
    "# x_mvio=x_mvio/np.sum(x_mvio)*100"
   ]
  },
  {
   "cell_type": "code",
   "execution_count": null,
   "metadata": {},
   "outputs": [],
   "source": []
  },
  {
   "cell_type": "code",
   "execution_count": null,
   "metadata": {},
   "outputs": [],
   "source": []
  },
  {
   "cell_type": "code",
   "execution_count": 96,
   "metadata": {},
   "outputs": [
    {
     "data": {
      "text/html": [
       "<div>\n",
       "<style scoped>\n",
       "    .dataframe tbody tr th:only-of-type {\n",
       "        vertical-align: middle;\n",
       "    }\n",
       "\n",
       "    .dataframe tbody tr th {\n",
       "        vertical-align: top;\n",
       "    }\n",
       "\n",
       "    .dataframe thead th {\n",
       "        text-align: right;\n",
       "    }\n",
       "</style>\n",
       "<table border=\"1\" class=\"dataframe\">\n",
       "  <thead>\n",
       "    <tr style=\"text-align: right;\">\n",
       "      <th></th>\n",
       "      <th>0</th>\n",
       "      <th>1</th>\n",
       "      <th>2</th>\n",
       "      <th>3</th>\n",
       "      <th>4</th>\n",
       "      <th>5</th>\n",
       "      <th>6</th>\n",
       "      <th>7</th>\n",
       "      <th>8</th>\n",
       "      <th>9</th>\n",
       "    </tr>\n",
       "  </thead>\n",
       "  <tbody>\n",
       "    <tr>\n",
       "      <th>0</th>\n",
       "      <td>0.489932</td>\n",
       "      <td>0.050784</td>\n",
       "      <td>0.236885</td>\n",
       "      <td>0.268305</td>\n",
       "      <td>0.498745</td>\n",
       "      <td>-0.108825</td>\n",
       "      <td>-0.296003</td>\n",
       "      <td>-0.284394</td>\n",
       "      <td>-0.542355</td>\n",
       "      <td>-0.065976</td>\n",
       "    </tr>\n",
       "    <tr>\n",
       "      <th>1</th>\n",
       "      <td>0.727455</td>\n",
       "      <td>0.288251</td>\n",
       "      <td>0.249477</td>\n",
       "      <td>0.477809</td>\n",
       "      <td>0.634903</td>\n",
       "      <td>0.129795</td>\n",
       "      <td>-0.413666</td>\n",
       "      <td>0.008191</td>\n",
       "      <td>-0.130679</td>\n",
       "      <td>0.007618</td>\n",
       "    </tr>\n",
       "    <tr>\n",
       "      <th>2</th>\n",
       "      <td>0.259545</td>\n",
       "      <td>-0.071328</td>\n",
       "      <td>-0.025880</td>\n",
       "      <td>0.131100</td>\n",
       "      <td>0.387108</td>\n",
       "      <td>-0.191059</td>\n",
       "      <td>-0.721103</td>\n",
       "      <td>-0.457526</td>\n",
       "      <td>-0.415047</td>\n",
       "      <td>-0.287439</td>\n",
       "    </tr>\n",
       "    <tr>\n",
       "      <th>3</th>\n",
       "      <td>0.993447</td>\n",
       "      <td>0.361687</td>\n",
       "      <td>0.416670</td>\n",
       "      <td>0.431376</td>\n",
       "      <td>0.340496</td>\n",
       "      <td>-0.085996</td>\n",
       "      <td>-0.199503</td>\n",
       "      <td>-0.055673</td>\n",
       "      <td>-0.129710</td>\n",
       "      <td>-0.146153</td>\n",
       "    </tr>\n",
       "    <tr>\n",
       "      <th>4</th>\n",
       "      <td>0.481518</td>\n",
       "      <td>0.094515</td>\n",
       "      <td>0.065035</td>\n",
       "      <td>0.335605</td>\n",
       "      <td>0.473847</td>\n",
       "      <td>-0.092284</td>\n",
       "      <td>-0.548636</td>\n",
       "      <td>-0.278165</td>\n",
       "      <td>-0.483224</td>\n",
       "      <td>-0.232882</td>\n",
       "    </tr>\n",
       "    <tr>\n",
       "      <th>...</th>\n",
       "      <td>...</td>\n",
       "      <td>...</td>\n",
       "      <td>...</td>\n",
       "      <td>...</td>\n",
       "      <td>...</td>\n",
       "      <td>...</td>\n",
       "      <td>...</td>\n",
       "      <td>...</td>\n",
       "      <td>...</td>\n",
       "      <td>...</td>\n",
       "    </tr>\n",
       "    <tr>\n",
       "      <th>995</th>\n",
       "      <td>0.392053</td>\n",
       "      <td>-0.023944</td>\n",
       "      <td>0.142972</td>\n",
       "      <td>0.307881</td>\n",
       "      <td>0.290625</td>\n",
       "      <td>-0.090411</td>\n",
       "      <td>-0.465947</td>\n",
       "      <td>-0.359310</td>\n",
       "      <td>-0.328253</td>\n",
       "      <td>-0.314484</td>\n",
       "    </tr>\n",
       "    <tr>\n",
       "      <th>996</th>\n",
       "      <td>0.748788</td>\n",
       "      <td>0.434538</td>\n",
       "      <td>0.478301</td>\n",
       "      <td>0.561463</td>\n",
       "      <td>0.693179</td>\n",
       "      <td>0.127506</td>\n",
       "      <td>-0.034799</td>\n",
       "      <td>-0.093531</td>\n",
       "      <td>-0.014238</td>\n",
       "      <td>0.160858</td>\n",
       "    </tr>\n",
       "    <tr>\n",
       "      <th>997</th>\n",
       "      <td>0.924340</td>\n",
       "      <td>0.399279</td>\n",
       "      <td>0.403244</td>\n",
       "      <td>0.489425</td>\n",
       "      <td>0.517432</td>\n",
       "      <td>-0.030639</td>\n",
       "      <td>0.050705</td>\n",
       "      <td>-0.061512</td>\n",
       "      <td>-0.183180</td>\n",
       "      <td>0.085102</td>\n",
       "    </tr>\n",
       "    <tr>\n",
       "      <th>998</th>\n",
       "      <td>0.671335</td>\n",
       "      <td>0.331450</td>\n",
       "      <td>0.330431</td>\n",
       "      <td>0.419762</td>\n",
       "      <td>0.498329</td>\n",
       "      <td>0.140226</td>\n",
       "      <td>-0.277291</td>\n",
       "      <td>-0.038741</td>\n",
       "      <td>-0.270182</td>\n",
       "      <td>0.108418</td>\n",
       "    </tr>\n",
       "    <tr>\n",
       "      <th>999</th>\n",
       "      <td>0.314283</td>\n",
       "      <td>-0.031997</td>\n",
       "      <td>0.050546</td>\n",
       "      <td>0.105709</td>\n",
       "      <td>0.316112</td>\n",
       "      <td>-0.212511</td>\n",
       "      <td>-0.669458</td>\n",
       "      <td>-0.656806</td>\n",
       "      <td>-0.311928</td>\n",
       "      <td>-0.257379</td>\n",
       "    </tr>\n",
       "  </tbody>\n",
       "</table>\n",
       "<p>1000 rows × 10 columns</p>\n",
       "</div>"
      ],
      "text/plain": [
       "            0         1         2         3         4         5         6  \\\n",
       "0    0.489932  0.050784  0.236885  0.268305  0.498745 -0.108825 -0.296003   \n",
       "1    0.727455  0.288251  0.249477  0.477809  0.634903  0.129795 -0.413666   \n",
       "2    0.259545 -0.071328 -0.025880  0.131100  0.387108 -0.191059 -0.721103   \n",
       "3    0.993447  0.361687  0.416670  0.431376  0.340496 -0.085996 -0.199503   \n",
       "4    0.481518  0.094515  0.065035  0.335605  0.473847 -0.092284 -0.548636   \n",
       "..        ...       ...       ...       ...       ...       ...       ...   \n",
       "995  0.392053 -0.023944  0.142972  0.307881  0.290625 -0.090411 -0.465947   \n",
       "996  0.748788  0.434538  0.478301  0.561463  0.693179  0.127506 -0.034799   \n",
       "997  0.924340  0.399279  0.403244  0.489425  0.517432 -0.030639  0.050705   \n",
       "998  0.671335  0.331450  0.330431  0.419762  0.498329  0.140226 -0.277291   \n",
       "999  0.314283 -0.031997  0.050546  0.105709  0.316112 -0.212511 -0.669458   \n",
       "\n",
       "            7         8         9  \n",
       "0   -0.284394 -0.542355 -0.065976  \n",
       "1    0.008191 -0.130679  0.007618  \n",
       "2   -0.457526 -0.415047 -0.287439  \n",
       "3   -0.055673 -0.129710 -0.146153  \n",
       "4   -0.278165 -0.483224 -0.232882  \n",
       "..        ...       ...       ...  \n",
       "995 -0.359310 -0.328253 -0.314484  \n",
       "996 -0.093531 -0.014238  0.160858  \n",
       "997 -0.061512 -0.183180  0.085102  \n",
       "998 -0.038741 -0.270182  0.108418  \n",
       "999 -0.656806 -0.311928 -0.257379  \n",
       "\n",
       "[1000 rows x 10 columns]"
      ]
     },
     "execution_count": 96,
     "metadata": {},
     "output_type": "execute_result"
    }
   ],
   "source": [
    "returns"
   ]
  },
  {
   "cell_type": "code",
   "execution_count": 97,
   "metadata": {},
   "outputs": [
    {
     "data": {
      "text/plain": [
       "array([  1.00535609, -29.44145167,  15.12905181,   9.12378198,\n",
       "         4.0391511 ,  45.0880928 ,  16.8747425 ,  -7.49863116,\n",
       "        47.85167553,  -2.17176899])"
      ]
     },
     "execution_count": 97,
     "metadata": {},
     "output_type": "execute_result"
    }
   ],
   "source": [
    "x_mvio"
   ]
  },
  {
   "cell_type": "code",
   "execution_count": 98,
   "metadata": {},
   "outputs": [],
   "source": [
    "x_mkt=mkt*100"
   ]
  },
  {
   "cell_type": "code",
   "execution_count": 99,
   "metadata": {},
   "outputs": [
    {
     "data": {
      "text/plain": [
       "(array([  1.00535609, -29.44145167,  15.12905181,   9.12378198,\n",
       "          4.0391511 ,  45.0880928 ,  16.8747425 ,  -7.49863116,\n",
       "         47.85167553,  -2.17176899]),\n",
       " array([[ 2.58188418],\n",
       "        [ 2.75906463],\n",
       "        [ 9.27501837],\n",
       "        [10.54121408],\n",
       "        [ 7.46135222],\n",
       "        [16.11830092],\n",
       "        [11.71799928],\n",
       "        [25.78098764],\n",
       "        [10.11610578],\n",
       "        [ 3.6480729 ]]),\n",
       " array([10., 10., 10., 10., 10., 10., 10., 10., 10., 10.]))"
      ]
     },
     "execution_count": 99,
     "metadata": {},
     "output_type": "execute_result"
    }
   ],
   "source": [
    "x_mvio,x_mkt,x_bl"
   ]
  },
  {
   "cell_type": "code",
   "execution_count": 100,
   "metadata": {},
   "outputs": [],
   "source": [
    "mvio_return=np.dot(returns,x_mvio)\n",
    "mkt_return=np.dot(returns,x_mkt)\n",
    "bl_return=np.dot(returns,x_bl)"
   ]
  },
  {
   "cell_type": "code",
   "execution_count": null,
   "metadata": {},
   "outputs": [],
   "source": []
  },
  {
   "cell_type": "code",
   "execution_count": null,
   "metadata": {},
   "outputs": [],
   "source": []
  },
  {
   "cell_type": "code",
   "execution_count": null,
   "metadata": {},
   "outputs": [],
   "source": []
  },
  {
   "cell_type": "code",
   "execution_count": null,
   "metadata": {},
   "outputs": [],
   "source": []
  },
  {
   "cell_type": "code",
   "execution_count": 101,
   "metadata": {},
   "outputs": [
    {
     "data": {
      "text/plain": [
       "[<matplotlib.lines.Line2D at 0x1392a6a35c8>]"
      ]
     },
     "execution_count": 101,
     "metadata": {},
     "output_type": "execute_result"
    },
    {
     "data": {
      "image/png": "[encoded data removed]",
      "text/plain": [
       "<Figure size 432x288 with 1 Axes>"
      ]
     },
     "metadata": {
      "needs_background": "light"
     },
     "output_type": "display_data"
    }
   ],
   "source": [
    "plt.plot(np.cumsum(mvio_return), color='red')\n",
    "plt.plot(np.cumsum(mkt_return), color='blue')\n",
    "plt.plot(np.cumsum(bl_return), color='green')"
   ]
  },
  {
   "cell_type": "code",
   "execution_count": 102,
   "metadata": {},
   "outputs": [],
   "source": [
    "np.savetxt('new.csv', C_new, delimiter = ',')"
   ]
  },
  {
   "cell_type": "code",
   "execution_count": 103,
   "metadata": {},
   "outputs": [],
   "source": [
    "result = pd.DataFrame([[0,0,0] for i in range(3)], columns = ['mean','std','SR'], index=['mkt','BL','MVIO'])\n",
    "\n",
    "result.iloc[2,0]=mvio_return.mean()\n",
    "result.iloc[2,1]=mvio_return.std()\n",
    "result.iloc[2,2]=mvio_return.mean()/mvio_return.std()"
   ]
  },
  {
   "cell_type": "code",
   "execution_count": 104,
   "metadata": {},
   "outputs": [],
   "source": [
    "result.iloc[0,0]=mkt_return.mean()\n",
    "result.iloc[0,1]=mkt_return.std()\n",
    "result.iloc[0,2]=mkt_return.mean()/mkt_return.std()"
   ]
  },
  {
   "cell_type": "code",
   "execution_count": 105,
   "metadata": {},
   "outputs": [],
   "source": [
    "result.iloc[1,0]=bl_return.mean()\n",
    "result.iloc[1,1]=bl_return.std()\n",
    "result.iloc[1,2]=bl_return.mean()/bl_return.std()"
   ]
  },
  {
   "cell_type": "code",
   "execution_count": null,
   "metadata": {},
   "outputs": [],
   "source": []
  },
  {
   "cell_type": "code",
   "execution_count": 106,
   "metadata": {},
   "outputs": [
    {
     "data": {
      "text/html": [
       "<div>\n",
       "<style scoped>\n",
       "    .dataframe tbody tr th:only-of-type {\n",
       "        vertical-align: middle;\n",
       "    }\n",
       "\n",
       "    .dataframe tbody tr th {\n",
       "        vertical-align: top;\n",
       "    }\n",
       "\n",
       "    .dataframe thead th {\n",
       "        text-align: right;\n",
       "    }\n",
       "</style>\n",
       "<table border=\"1\" class=\"dataframe\">\n",
       "  <thead>\n",
       "    <tr style=\"text-align: right;\">\n",
       "      <th></th>\n",
       "      <th>mean</th>\n",
       "      <th>std</th>\n",
       "      <th>SR</th>\n",
       "    </tr>\n",
       "  </thead>\n",
       "  <tbody>\n",
       "    <tr>\n",
       "      <th>mkt</th>\n",
       "      <td>0.559615</td>\n",
       "      <td>17.925170</td>\n",
       "      <td>0.031219</td>\n",
       "    </tr>\n",
       "    <tr>\n",
       "      <th>BL</th>\n",
       "      <td>10.776544</td>\n",
       "      <td>17.470603</td>\n",
       "      <td>0.616839</td>\n",
       "    </tr>\n",
       "    <tr>\n",
       "      <th>MVIO</th>\n",
       "      <td>-12.960460</td>\n",
       "      <td>17.660218</td>\n",
       "      <td>-0.733879</td>\n",
       "    </tr>\n",
       "  </tbody>\n",
       "</table>\n",
       "</div>"
      ],
      "text/plain": [
       "           mean        std        SR\n",
       "mkt    0.559615  17.925170  0.031219\n",
       "BL    10.776544  17.470603  0.616839\n",
       "MVIO -12.960460  17.660218 -0.733879"
      ]
     },
     "execution_count": 106,
     "metadata": {},
     "output_type": "execute_result"
    }
   ],
   "source": [
    "result"
   ]
  },
  {
   "cell_type": "code",
   "execution_count": null,
   "metadata": {},
   "outputs": [],
   "source": []
  },
  {
   "cell_type": "code",
   "execution_count": null,
   "metadata": {},
   "outputs": [],
   "source": []
  },
  {
   "cell_type": "code",
   "execution_count": null,
   "metadata": {},
   "outputs": [],
   "source": []
  },
  {
   "cell_type": "code",
   "execution_count": null,
   "metadata": {},
   "outputs": [],
   "source": []
  },
  {
   "cell_type": "code",
   "execution_count": null,
   "metadata": {},
   "outputs": [],
   "source": []
  }
 ],
 "metadata": {
  "kernelspec": {
   "display_name": "Python 3",
   "language": "python",
   "name": "python3"
  },
  "language_info": {
   "codemirror_mode": {
    "name": "ipython",
    "version": 3
   },
   "file_extension": ".py",
   "mimetype": "text/x-python",
   "name": "python",
   "nbconvert_exporter": "python",
   "pygments_lexer": "ipython3",
   "version": "3.7.7"
  }
 },
 "nbformat": 4,
 "nbformat_minor": 2
}
